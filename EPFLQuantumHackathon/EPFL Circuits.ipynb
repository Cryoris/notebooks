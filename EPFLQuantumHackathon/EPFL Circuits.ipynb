{
 "cells": [
  {
   "cell_type": "markdown",
   "id": "d89b7e71-e597-41d7-b7df-2a65e822f362",
   "metadata": {},
   "source": [
    "# Quantum circuits\n",
    "\n",
    "Circuits are the heart of quantum algorithms, and where their possible advantage is coming from. Quantum circuits are what classical computer cannot do."
   ]
  },
  {
   "cell_type": "code",
   "execution_count": 17,
   "id": "e969ed42-9548-4aec-bd72-af3634de3850",
   "metadata": {},
   "outputs": [
    {
     "data": {
      "image/png": "[encoded data removed]",
      "text/plain": [
       "<Figure size 116.697x204.68 with 1 Axes>"
      ]
     },
     "execution_count": 17,
     "metadata": {},
     "output_type": "execute_result"
    }
   ],
   "source": [
    "from qiskit import QuantumCircuit\n",
    "\n",
    "circuit = QuantumCircuit(3)  # circuit with 3 qubits\n",
    "circuit.draw()"
   ]
  },
  {
   "cell_type": "markdown",
   "id": "9a8b9098-7367-4b97-9e4f-b219f11f0113",
   "metadata": {},
   "source": [
    "Gates can be added with circuit methods, e.g. `QuantumCircuit.h` for the Hadamard gate and `QuantumCircuit.cx` for the CNOT gate."
   ]
  },
  {
   "cell_type": "code",
   "execution_count": 18,
   "id": "997936d2-4252-4e8a-964b-734d77368466",
   "metadata": {},
   "outputs": [
    {
     "data": {
      "image/png": "[encoded data removed]",
      "text/plain": [
       "<Figure size 267.197x204.68 with 1 Axes>"
      ]
     },
     "execution_count": 18,
     "metadata": {},
     "output_type": "execute_result"
    }
   ],
   "source": [
    "circuit.h(0)  # Hadamard on qubit 0\n",
    "circuit.cx(0, 1)  # CNOT gate, controlled on 0 and acting on 1\n",
    "circuit.swap(1, 2)  # SWAP gate on qubits 1 and 2\n",
    "\n",
    "circuit.draw()"
   ]
  },
  {
   "cell_type": "markdown",
   "id": "b694edfb-8204-4194-aa86-25dce844c37d",
   "metadata": {},
   "source": [
    "## Simulating a circuit\n",
    "\n",
    "Circuits can be simulated with a range of Qiskit's built-in simulators."
   ]
  },
  {
   "cell_type": "markdown",
   "id": "f7fab9d5-49aa-4493-bfe6-04f478c7a5bf",
   "metadata": {},
   "source": [
    "### Circuits as unitary matrices\n",
    "\n",
    "If a circuit contains only unitary operations, we can represent it as a unitary matrix. In Qiskit this can be done (for small numbers of qubits!) with the `qiskit.quantum_info.Operator` class."
   ]
  },
  {
   "cell_type": "code",
   "execution_count": 19,
   "id": "31ef2306-302e-4b31-9f27-3ab3683ca373",
   "metadata": {},
   "outputs": [
    {
     "name": "stdout",
     "output_type": "stream",
     "text": [
      "Operator([[ 0.70710678+0.j,  0.70710678+0.j,  0.        +0.j,\n",
      "            0.        +0.j,  0.        +0.j,  0.        +0.j,\n",
      "            0.        +0.j,  0.        +0.j],\n",
      "          [ 0.        +0.j,  0.        +0.j,  0.70710678+0.j,\n",
      "           -0.70710678+0.j,  0.        +0.j,  0.        +0.j,\n",
      "            0.        +0.j,  0.        +0.j],\n",
      "          [ 0.        +0.j,  0.        +0.j,  0.        +0.j,\n",
      "            0.        +0.j,  0.70710678+0.j,  0.70710678+0.j,\n",
      "            0.        +0.j,  0.        +0.j],\n",
      "          [ 0.        +0.j,  0.        +0.j,  0.        +0.j,\n",
      "            0.        +0.j,  0.        +0.j,  0.        +0.j,\n",
      "            0.70710678+0.j, -0.70710678+0.j],\n",
      "          [ 0.        +0.j,  0.        +0.j,  0.70710678+0.j,\n",
      "            0.70710678+0.j,  0.        +0.j,  0.        +0.j,\n",
      "            0.        +0.j,  0.        +0.j],\n",
      "          [ 0.70710678+0.j, -0.70710678+0.j,  0.        +0.j,\n",
      "            0.        +0.j,  0.        +0.j,  0.        +0.j,\n",
      "            0.        +0.j,  0.        +0.j],\n",
      "          [ 0.        +0.j,  0.        +0.j,  0.        +0.j,\n",
      "            0.        +0.j,  0.        +0.j,  0.        +0.j,\n",
      "            0.70710678+0.j,  0.70710678+0.j],\n",
      "          [ 0.        +0.j,  0.        +0.j,  0.        +0.j,\n",
      "            0.        +0.j,  0.70710678+0.j, -0.70710678+0.j,\n",
      "            0.        +0.j,  0.        +0.j]],\n",
      "         input_dims=(2, 2, 2), output_dims=(2, 2, 2))\n"
     ]
    }
   ],
   "source": [
    "from qiskit.quantum_info import Operator\n",
    "\n",
    "u = Operator(circuit)\n",
    "print(u)"
   ]
  },
  {
   "cell_type": "markdown",
   "id": "ab481bb3-a065-4e94-bda8-2a2af0d75065",
   "metadata": {},
   "source": [
    "**Sharp bit:** The tensor order in Qiskit puts qubit 0 on the _leftmost_ side. This is the opposite to many Physics textbooks (such as Nielsen & Chuang)."
   ]
  },
  {
   "cell_type": "markdown",
   "id": "af373e1f-2600-4829-b728-de5b6ff084be",
   "metadata": {},
   "source": [
    "### Simulating the quantum state\n",
    "\n",
    "If the qubits are initially in state $|0\\rangle$, we can obtain the statevector after applying the quantum circuit as"
   ]
  },
  {
   "cell_type": "code",
   "execution_count": 20,
   "id": "4bb463de-8a95-4e4e-bfd0-b11d3338beb0",
   "metadata": {},
   "outputs": [
    {
     "name": "stdout",
     "output_type": "stream",
     "text": [
      "Statevector([0.70710678+0.j, 0.        +0.j, 0.        +0.j,\n",
      "             0.        +0.j, 0.        +0.j, 0.70710678+0.j,\n",
      "             0.        +0.j, 0.        +0.j],\n",
      "            dims=(2, 2, 2))\n"
     ]
    }
   ],
   "source": [
    "from qiskit.quantum_info import Statevector\n",
    "\n",
    "sv = Statevector(circuit)\n",
    "print(sv)"
   ]
  },
  {
   "cell_type": "markdown",
   "id": "6fd4bda5-ceda-419d-ac71-81165b2e75a0",
   "metadata": {},
   "source": [
    "### Simulating a quantum computer\n",
    "\n",
    "So far, we've relied on exact matrix calculations. On a real quantum computer, we only have access to binary qubit measurements. Since measuring qubits projects them on a basis state, each measurement only yields a single bitstring and not a complex statevector as above."
   ]
  },
  {
   "cell_type": "code",
   "execution_count": 21,
   "id": "1fc575da-2e50-40c1-9e14-84ed17573ad9",
   "metadata": {},
   "outputs": [
    {
     "data": {
      "image/png": "[encoded data removed]",
      "text/plain": [
       "<Figure size 538.279x264.88 with 1 Axes>"
      ]
     },
     "execution_count": 21,
     "metadata": {},
     "output_type": "execute_result"
    }
   ],
   "source": [
    "circuit.measure_all()\n",
    "circuit.draw()"
   ]
  },
  {
   "cell_type": "markdown",
   "id": "b5e362cd-1fd3-4774-b02c-d7da369eeb47",
   "metadata": {},
   "source": [
    "We can simulate this behavior with Qiskit's `QasmSimulator`. "
   ]
  },
  {
   "cell_type": "code",
   "execution_count": 22,
   "id": "5cb585cf-8520-40eb-8db1-22d84b968c7c",
   "metadata": {},
   "outputs": [],
   "source": [
    "from qiskit.providers.aer import QasmSimulator\n",
    "\n",
    "sim = QasmSimulator()"
   ]
  },
  {
   "cell_type": "markdown",
   "id": "65c4b881-1efb-4cf5-bab6-57294f295404",
   "metadata": {},
   "source": [
    "But since now we really want to execute the circuit, we have to make sure we only use gates our simulator or backend can use! Similar to a classical computer where you compile your C++ or Python program to machine instructions, we have to compile (or transpile) our circuit to quantum computer instructions."
   ]
  },
  {
   "cell_type": "code",
   "execution_count": 23,
   "id": "2382ed44-1dcd-4efa-859a-dfe5fda581f8",
   "metadata": {},
   "outputs": [],
   "source": [
    "from qiskit import transpile\n",
    "\n",
    "transpiled = transpile(circuit, sim)"
   ]
  },
  {
   "cell_type": "markdown",
   "id": "83be0f80-8868-416e-b681-e82d3080adbc",
   "metadata": {},
   "source": [
    "Now we can execute it:"
   ]
  },
  {
   "cell_type": "code",
   "execution_count": 24,
   "id": "447169b5-067d-44e6-a67a-cc127d74f654",
   "metadata": {},
   "outputs": [
    {
     "name": "stdout",
     "output_type": "stream",
     "text": [
      "Result(backend_name='qasm_simulator', backend_version='0.9.1', qobj_id='24bf6f65-9c0d-45b8-8298-bd6b6d16fc47', job_id='57b9bcfc-e1a5-40a2-be5f-ca9f4279015e', success=True, results=[ExperimentResult(shots=1024, success=True, meas_level=2, data=ExperimentResultData(counts={'0x0': 503, '0x5': 521}), header=QobjExperimentHeader(clbit_labels=[['meas', 0], ['meas', 1], ['meas', 2]], creg_sizes=[['meas', 3]], global_phase=0.0, memory_slots=3, metadata=None, n_qubits=3, name='circuit-113', qreg_sizes=[['q', 3]], qubit_labels=[['q', 0], ['q', 1], ['q', 2]]), status=DONE, seed_simulator=2203892431, metadata={'parallel_state_update': 8, 'noise': 'ideal', 'measure_sampling': True, 'device': 'CPU', 'num_qubits': 3, 'parallel_shots': 1, 'remapped_qubits': False, 'method': 'stabilizer', 'active_input_qubits': [0, 1, 2], 'num_clbits': 3, 'input_qubit_map': [[2, 2], [0, 0], [1, 1]], 'fusion': {'enabled': False}}, time_taken=0.002701006)], date=2021-11-18T16:04:11.210434, status=COMPLETED, status=QobjHeader(backend_name='qasm_simulator', backend_version='0.9.1'), metadata={'time_taken': 0.002991346, 'parallel_experiments': 1, 'omp_enabled': True, 'max_gpu_memory_mb': 0, 'num_mpi_processes': 1, 'max_memory_mb': 32162, 'mpi_rank': 0}, time_taken=0.003172636032104492)\n"
     ]
    }
   ],
   "source": [
    "job = sim.run(transpiled, shots=1024)  # execute the circuit 1024 times and store the binary outcomes\n",
    "result = job.result()\n",
    "print(result)"
   ]
  },
  {
   "cell_type": "markdown",
   "id": "d00aa5eb-0ce2-436c-93c9-a65dda9d4bb5",
   "metadata": {},
   "source": [
    "We are interested in the bitstrings we measured each time:"
   ]
  },
  {
   "cell_type": "code",
   "execution_count": 26,
   "id": "3eaafdb0-fd1c-4775-a6df-4133a0b70d27",
   "metadata": {},
   "outputs": [
    {
     "data": {
      "text/plain": [
       "{'000': 503, '101': 521}"
      ]
     },
     "execution_count": 26,
     "metadata": {},
     "output_type": "execute_result"
    }
   ],
   "source": [
    "counts = result.get_counts()\n",
    "counts"
   ]
  },
  {
   "cell_type": "code",
   "execution_count": 27,
   "id": "5adbd072-4004-483d-b481-00777c1ce565",
   "metadata": {},
   "outputs": [
    {
     "data": {
      "image/png": "[encoded data removed]",
      "text/plain": [
       "<Figure size 504x360 with 1 Axes>"
      ]
     },
     "execution_count": 27,
     "metadata": {},
     "output_type": "execute_result"
    }
   ],
   "source": [
    "from qiskit.visualization import plot_histogram\n",
    "plot_histogram(counts)"
   ]
  },
  {
   "cell_type": "markdown",
   "id": "76d0c781-c49e-4494-b5c2-75d019a67c0b",
   "metadata": {},
   "source": [
    "### On a real backend\n",
    "\n",
    "Let's run this circuit on an actual quantum computer! IBM provides a set of public devices (if you have an IQX account), such as `ibmq_lima`."
   ]
  },
  {
   "cell_type": "code",
   "execution_count": 29,
   "id": "0eae5459-5510-408b-84bb-b16a68f0f866",
   "metadata": {},
   "outputs": [],
   "source": [
    "from qiskit.providers.ibmq import IBMQ\n",
    "\n",
    "IBMQ.load_account()  # you have to enable your account the first time!\n",
    "provider = IBMQ.get_provider(hub='ibm-q', group='open', project='main')\n",
    "backend = provider.get_backend('ibmq_lima')"
   ]
  },
  {
   "cell_type": "markdown",
   "id": "155ea2de-aab2-4e67-9567-cef433a8b795",
   "metadata": {},
   "source": [
    "Now we'll do the same as before: transpile and run the circuit. Now this might take some time since our job queue's on IBM's servers until it's our turn to run the circuit."
   ]
  },
  {
   "cell_type": "code",
   "execution_count": 31,
   "id": "2cbd5315-975f-4f22-a85c-5c351082495d",
   "metadata": {},
   "outputs": [
    {
     "name": "stdout",
     "output_type": "stream",
     "text": [
      "Result(backend_name='ibmq_lima', backend_version='1.0.25', qobj_id='5b22705d-c009-46cc-93d6-b080ba1529e2', job_id='61967b6ddf6b1d8229927894', success=True, results=[ExperimentResult(shots=1024, success=True, meas_level=2, data=ExperimentResultData(counts={'0x0': 469, '0x1': 27, '0x2': 16, '0x4': 34, '0x5': 471, '0x6': 4, '0x7': 3}), header=QobjExperimentHeader(clbit_labels=[['meas', 0], ['meas', 1], ['meas', 2]], creg_sizes=[['meas', 3]], global_phase=0.7853981633974483, memory_slots=3, metadata={}, n_qubits=5, name='circuit-113', qreg_sizes=[['q', 5]], qubit_labels=[['q', 0], ['q', 1], ['q', 2], ['q', 3], ['q', 4]]))], date=2021-11-18 16:23:04+00:00, status=Successful completion, status=QobjHeader(backend_name='ibmq_lima', backend_version='1.0.25'), execution_id='cc8914b0-488b-11ec-94a9-b02628f7f59e', time_taken=3.5796492099761963, error=None, client_version={'qiskit': '0.32.0'})\n"
     ]
    }
   ],
   "source": [
    "transpiled = transpile(circuit, backend)\n",
    "job = backend.run(transpiled, shots=1024) \n",
    "result = job.result()\n",
    "print(result)"
   ]
  },
  {
   "cell_type": "code",
   "execution_count": 32,
   "id": "7a3e95b9-4e66-4b69-a2ec-01dd0a0a74f2",
   "metadata": {},
   "outputs": [
    {
     "data": {
      "image/png": "[encoded data removed]",
      "text/plain": [
       "<Figure size 504x360 with 1 Axes>"
      ]
     },
     "execution_count": 32,
     "metadata": {},
     "output_type": "execute_result"
    }
   ],
   "source": [
    "plot_histogram(result.get_counts())"
   ]
  },
  {
   "cell_type": "markdown",
   "id": "a2aaa767-e3b7-4e4b-9adf-5281a6a3c856",
   "metadata": {},
   "source": [
    "## Parameterized quantum circuits\n",
    "\n",
    "In near-term algorithms, we rely heavily on parameterized quantum circuits. There, we include gates with a continuous free parameters, for instance a parameterized Pauli rotation."
   ]
  },
  {
   "cell_type": "code",
   "execution_count": 33,
   "id": "5ecc79d0-0665-4b7e-a467-fbb0c2706075",
   "metadata": {},
   "outputs": [
    {
     "name": "stderr",
     "output_type": "stream",
     "text": [
      "/opt/conda/lib/python3.8/site-packages/sympy/core/expr.py:3949: SymPyDeprecationWarning: \n",
      "\n",
      "expr_free_symbols method has been deprecated since SymPy 1.9. See\n",
      "https://github.com/sympy/sympy/issues/21494 for more info.\n",
      "\n",
      "  SymPyDeprecationWarning(feature=\"expr_free_symbols method\",\n"
     ]
    },
    {
     "data": {
      "image/png": "[encoded data removed]",
      "text/plain": [
       "<Figure size 267.052x144.48 with 1 Axes>"
      ]
     },
     "execution_count": 33,
     "metadata": {},
     "output_type": "execute_result"
    }
   ],
   "source": [
    "from qiskit.circuit import Parameter\n",
    "\n",
    "x, y = Parameter(\"x\"), Parameter(\"y\")\n",
    "\n",
    "pqc = QuantumCircuit(2)\n",
    "pqc.rx(x, 0)  # rotate over angle \"x\" on qubit 0\n",
    "pqc.cx(0, 1)\n",
    "pqc.ry(y, 1)  # rotate over angle \"y\" on qubit 1\n",
    "\n",
    "pqc.draw()"
   ]
  },
  {
   "cell_type": "markdown",
   "id": "08f0c824-f4bf-433e-812a-560003a46a3d",
   "metadata": {},
   "source": [
    "Before executing the circuit, we now need to bind the free parameters."
   ]
  },
  {
   "cell_type": "code",
   "execution_count": 34,
   "id": "4d18b308-4311-4c75-a156-24d5fcb4d2a6",
   "metadata": {},
   "outputs": [
    {
     "name": "stdout",
     "output_type": "stream",
     "text": [
      "ParameterView([Parameter(x), Parameter(y)])\n"
     ]
    }
   ],
   "source": [
    "print(pqc.parameters)"
   ]
  },
  {
   "cell_type": "code",
   "execution_count": 35,
   "id": "1694e282-8bfc-40fa-a36a-ff7c7fb15aac",
   "metadata": {},
   "outputs": [
    {
     "data": {
      "image/png": "[encoded data removed]",
      "text/plain": [
       "<Figure size 267.052x144.48 with 1 Axes>"
      ]
     },
     "execution_count": 35,
     "metadata": {},
     "output_type": "execute_result"
    }
   ],
   "source": [
    "bound = pqc.bind_parameters([1, 2])  # alternatively you can pass a dictionary: {x: 1, y: 2}\n",
    "bound.draw()"
   ]
  },
  {
   "cell_type": "code",
   "execution_count": 36,
   "id": "3989f053-e388-4fa4-a9a4-06d7df050375",
   "metadata": {},
   "outputs": [
    {
     "name": "stdout",
     "output_type": "stream",
     "text": [
      "Statevector([0.47415988+0.j        , 0.        +0.40342268j,\n",
      "             0.73846026+0.j        , 0.        -0.25903472j],\n",
      "            dims=(2, 2))\n"
     ]
    }
   ],
   "source": [
    "sv = Statevector(bound)\n",
    "print(sv)"
   ]
  },
  {
   "cell_type": "markdown",
   "id": "f6384529-d6c2-44c7-9d83-7906ecf924ac",
   "metadata": {},
   "source": [
    "## Qiskit's circuit library\n",
    "\n",
    "Since the same circuit patterns occur frequently in different algorithms, Qiskit provides a library of valuable circuits: the circuit library.\n",
    "\"Valuable\" here can mean different things; these circuit could be useful ansätze for variational algorithms (like the VQE), they could be difficult to model classically and thus might show a quantum advantage, or they are building blocks of larger algorithms."
   ]
  },
  {
   "cell_type": "code",
   "execution_count": 38,
   "id": "dd53f8bd-524f-403e-873d-f58935550613",
   "metadata": {},
   "outputs": [
    {
     "data": {
      "image/png": "[encoded data removed]",
      "text/plain": [
       "<Figure size 1049.8x204.68 with 1 Axes>"
      ]
     },
     "execution_count": 38,
     "metadata": {},
     "output_type": "execute_result"
    }
   ],
   "source": [
    "from qiskit.circuit.library import EfficientSU2\n",
    "\n",
    "EfficientSU2(3, reps=2, insert_barriers=True).decompose().draw()"
   ]
  },
  {
   "cell_type": "code",
   "execution_count": 39,
   "id": "117d9f02-dc9e-41f2-9346-c119449fc2ad",
   "metadata": {},
   "outputs": [
    {
     "data": {
      "image/png": "[encoded data removed]",
      "text/plain": [
       "<Figure size 1110x264.88 with 1 Axes>"
      ]
     },
     "execution_count": 39,
     "metadata": {},
     "output_type": "execute_result"
    }
   ],
   "source": [
    "from qiskit.circuit.library import QFT\n",
    "\n",
    "QFT(4).decompose().draw()"
   ]
  },
  {
   "cell_type": "code",
   "execution_count": null,
   "id": "93330fd7-d11b-4697-bea2-78ca2549a4f2",
   "metadata": {},
   "outputs": [],
   "source": []
  }
 ],
 "metadata": {
  "kernelspec": {
   "display_name": "Qiskit v0.32.0 (ipykernel)",
   "language": "python",
   "name": "python3"
  },
  "language_info": {
   "codemirror_mode": {
    "name": "ipython",
    "version": 3
   },
   "file_extension": ".py",
   "mimetype": "text/x-python",
   "name": "python",
   "nbconvert_exporter": "python",
   "pygments_lexer": "ipython3",
   "version": "3.8.10"
  },
  "widgets": {
   "application/vnd.jupyter.widget-state+json": {
    "state": {},
    "version_major": 2,
    "version_minor": 0
   }
  }
 },
 "nbformat": 4,
 "nbformat_minor": 5
}
