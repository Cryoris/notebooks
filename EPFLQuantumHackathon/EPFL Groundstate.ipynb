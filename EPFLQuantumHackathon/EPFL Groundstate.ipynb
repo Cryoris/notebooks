{
 "cells": [
  {
   "cell_type": "code",
   "execution_count": 24,
   "id": "3ffdde64-928a-40c5-bcd8-dd776c09c3dd",
   "metadata": {},
   "outputs": [],
   "source": [
    "import numpy as np\n",
    "import warnings\n",
    "from sympy.utilities.exceptions import SymPyDeprecationWarning\n",
    "warnings.filterwarnings(\"ignore\", category=DeprecationWarning)\n",
    "warnings.filterwarnings(\"ignore\", category=SymPyDeprecationWarning)"
   ]
  },
  {
   "cell_type": "markdown",
   "id": "3faf3c89-338a-4b1d-aeff-e14860eeeea3",
   "metadata": {},
   "source": [
    "# Qiskit (Chemistry) tutorial"
   ]
  },
  {
   "cell_type": "markdown",
   "id": "85a1a75f-3f67-4acd-b5c4-341165f0168c",
   "metadata": {},
   "source": [
    "## Obtaining the Qubit Hamiltonian"
   ]
  },
  {
   "cell_type": "markdown",
   "id": "ec9be1a1-84f4-4630-bc55-b92e7003b1c5",
   "metadata": {},
   "source": [
    "### Define the molecule\n",
    "\n",
    "Here we're looking at $H_2$ at a bond distance of $0.735$ Angstrom."
   ]
  },
  {
   "cell_type": "code",
   "execution_count": 2,
   "id": "2fe39f62-032d-4512-8489-eed9682524f7",
   "metadata": {},
   "outputs": [],
   "source": [
    "from qiskit_nature.drivers import Molecule\n",
    "molecule = Molecule(geometry=[['H', [0., 0., 0.]],\n",
    "                              ['H', [0., 0., 0.735]]],\n",
    "                     charge=0, multiplicity=1)"
   ]
  },
  {
   "cell_type": "markdown",
   "id": "d90cde1f-809b-41f8-ad24-c32c96408f74",
   "metadata": {},
   "source": [
    "### Selection of the orbital basis and Chemistry driver\n",
    "\n",
    "Then, we define the basis and the driver we want to use to calculate the one- and two-body integrals. Here we use the STO-3G basis and the PySCF driver."
   ]
  },
  {
   "cell_type": "code",
   "execution_count": 3,
   "id": "43795b8b-8e54-4cd5-8f4b-94fffabbcd79",
   "metadata": {},
   "outputs": [],
   "source": [
    "from qiskit_nature.drivers.second_quantization import ElectronicStructureDriverType, ElectronicStructureMoleculeDriver\n",
    "\n",
    "driver = ElectronicStructureMoleculeDriver(molecule, basis='sto3g', driver_type=ElectronicStructureDriverType.PYSCF)"
   ]
  },
  {
   "cell_type": "markdown",
   "id": "c741119f-7ef2-4568-91c8-16cb4c653f42",
   "metadata": {},
   "source": [
    "### Construction of the _Fermionic_ Hamiltonian\n",
    "\n",
    "Qiskit Nature uses a special class to describe electronic structure problems, the `ElectronicStructureProblem`, which calls the driver and constructs the fermionic Hamiltonian. This class can also be passed into Qiskit Nature's algorithms for ground state search, as we'll see later."
   ]
  },
  {
   "cell_type": "code",
   "execution_count": 4,
   "id": "4f75c178-541b-4e7f-a68d-323487b1c692",
   "metadata": {},
   "outputs": [
    {
     "name": "stdout",
     "output_type": "stream",
     "text": [
      "Fermionic Operator\n",
      "register length=4, number terms=14\n",
      "  (0.18093119978423147+0j) * ( +_0 -_1 +_2 -_3 )\n",
      "+ (-0.18093119978423144+0j) * ( +_0 -_1 -_2 +_3 )\n",
      "+ (-0.18093119978423144+0j) * ( -_0 +_1 +_2 -_3 )\n",
      "+ (0.1809311997842317+0j) * ( -_0 +_1 -_2 +_3 ) ...\n"
     ]
    }
   ],
   "source": [
    "from qiskit_nature.problems.second_quantization import ElectronicStructureProblem\n",
    "\n",
    "es_problem = ElectronicStructureProblem(driver)\n",
    "second_q_op = es_problem.second_q_ops()\n",
    "print(second_q_op[0])"
   ]
  },
  {
   "cell_type": "markdown",
   "id": "860743de-f307-4cf0-a632-bd066e88bf59",
   "metadata": {},
   "source": [
    "### Conversion to a _Qubit_ Hamiltonian\n",
    "\n",
    "Now, we'll first find the ground state \"manually\" by doing the fermionic-to-qubit conversion ourselves and calling a algorithm to find the minimal eigenvalue, such as the VQE."
   ]
  },
  {
   "cell_type": "code",
   "execution_count": 5,
   "id": "d80ca550-144e-4999-8c36-a6b8367dbd6f",
   "metadata": {},
   "outputs": [
    {
     "name": "stdout",
     "output_type": "stream",
     "text": [
      "-0.8105479805373264 * IIII\n",
      "- 0.22575349222402508 * ZIII\n",
      "+ 0.17218393261915543 * IZII\n",
      "+ 0.1209126326177664 * ZZII\n",
      "- 0.22575349222402505 * IIZI\n",
      "+ 0.17464343068300475 * ZIZI\n",
      "+ 0.16614543256382425 * IZZI\n",
      "+ 0.17218393261915552 * IIIZ\n",
      "+ 0.16614543256382425 * ZIIZ\n",
      "+ 0.16892753870087926 * IZIZ\n",
      "+ 0.1209126326177664 * IIZZ\n",
      "+ 0.045232799946057875 * XXXX\n",
      "+ 0.045232799946057875 * YYXX\n",
      "+ 0.045232799946057875 * XXYY\n",
      "+ 0.045232799946057875 * YYYY\n"
     ]
    }
   ],
   "source": [
    "from qiskit_nature.converters.second_quantization import QubitConverter\n",
    "from qiskit_nature.mappers.second_quantization import JordanWignerMapper\n",
    "\n",
    "qubit_converter = QubitConverter(mapper=JordanWignerMapper())\n",
    "qubit_op = qubit_converter.convert(second_q_op[0])\n",
    "print(qubit_op)\n"
   ]
  },
  {
   "cell_type": "markdown",
   "id": "5b1079dc-7700-4d5f-b295-fc4b7d7b2299",
   "metadata": {},
   "source": [
    "There are different ways to construct the qubit Hamiltonian, with different advantages. In the Jordan-Wigner mapping for instance, qubit excitations correspond to electron numbers which allows to construct ansatze that are particle preserving. \n",
    "\n",
    "Other mappings, however, can reduce the number of required qubits to represent the problem and reduce the required qubit connectivities."
   ]
  },
  {
   "cell_type": "code",
   "execution_count": 6,
   "id": "6ab2b794-3c0e-40d1-aeb8-e3ab5368448c",
   "metadata": {},
   "outputs": [
    {
     "name": "stdout",
     "output_type": "stream",
     "text": [
      "-1.0523732457728587 * II\n",
      "+ (-0.3979374248431804+1.3877787807814457e-17j) * ZI\n",
      "+ 0.3979374248431804 * IZ\n",
      "+ (-0.01128010425623549+1.3877787807814457e-17j) * ZZ\n",
      "+ 0.1809311997842315 * XX\n"
     ]
    }
   ],
   "source": [
    "from qiskit_nature.mappers.second_quantization import ParityMapper\n",
    "\n",
    "qubit_converter = QubitConverter(mapper=ParityMapper(), two_qubit_reduction=True)\n",
    "qubit_op = qubit_converter.convert(second_q_op[0], num_particles=es_problem.num_particles)\n",
    "print(qubit_op)"
   ]
  },
  {
   "cell_type": "markdown",
   "id": "eeef2d57-b20e-4256-b3fa-26267322ec40",
   "metadata": {},
   "source": [
    "## Finding the ground state\n",
    "\n",
    "Now that we have the qubit Hamiltonian, let's find its minimum eigenvalue. Qiskit has several algorithms to solve this problem, which all implement the `MinimumEigensolver` interface.\n",
    "\n",
    "To begin, we solve this small problem with matrix diagonalization to have an exact reference solution."
   ]
  },
  {
   "cell_type": "code",
   "execution_count": 7,
   "id": "8d0c9ac8-732f-4a3d-b176-47f4225322cd",
   "metadata": {},
   "outputs": [],
   "source": [
    "from qiskit.algorithms import NumPyMinimumEigensolver\n",
    "\n",
    "classical_solver = NumPyMinimumEigensolver()"
   ]
  },
  {
   "cell_type": "code",
   "execution_count": 8,
   "id": "e3e19c76-cbbe-4a7c-a61f-4cb2abfd6449",
   "metadata": {},
   "outputs": [
    {
     "name": "stdout",
     "output_type": "stream",
     "text": [
      "{   'aux_operator_eigenvalues': None,\n",
      "    'eigenstate': VectorStateFn(Statevector([-5.55111512e-17-4.77048956e-17j,\n",
      "              7.22856695e-01+6.81936898e-01j,\n",
      "             -8.11307233e-02-7.65380388e-02j,\n",
      "              0.00000000e+00+5.55111512e-17j],\n",
      "            dims=(2, 2)), coeff=1.0, is_measurement=False),\n",
      "    'eigenvalue': (-1.857275030202381+2.2391759836979376e-17j)}\n",
      "<class 'qiskit.algorithms.minimum_eigen_solvers.minimum_eigen_solver.MinimumEigensolverResult'>\n"
     ]
    }
   ],
   "source": [
    "result = classical_solver.compute_minimum_eigenvalue(qubit_op)\n",
    "print(result)\n",
    "print(type(result))"
   ]
  },
  {
   "cell_type": "code",
   "execution_count": 9,
   "id": "cc3afba7-e38c-401a-b061-8b68d5a2db20",
   "metadata": {},
   "outputs": [
    {
     "name": "stdout",
     "output_type": "stream",
     "text": [
      "-1.857275030202381\n"
     ]
    }
   ],
   "source": [
    "reference = result.eigenvalue.real\n",
    "print(reference)"
   ]
  },
  {
   "cell_type": "markdown",
   "id": "2c23f863-1e8a-4c4c-a21a-fb527654aa25",
   "metadata": {},
   "source": [
    "### Variational Quantum Eigensolver\n",
    "\n",
    "Let's solve this problem with a quantum algorithm: the VQE. \n",
    "\n",
    "The VQE requires several inputs, firstly a quantum backend or simulator to execute the circuits and calculate expectation values:"
   ]
  },
  {
   "cell_type": "code",
   "execution_count": 10,
   "id": "934f84f6-3565-43d1-93bf-1447e63d6db5",
   "metadata": {},
   "outputs": [],
   "source": [
    "from qiskit.providers.aer import AerSimulator\n",
    "\n",
    "sim = AerSimulator()"
   ]
  },
  {
   "cell_type": "markdown",
   "id": "2b8c6490-3779-4a8f-9c08-e2c7254582ef",
   "metadata": {},
   "source": [
    "then, a classical optimizer for the feedback loop (see `qiskit.algorithm.optimizers` for more options):"
   ]
  },
  {
   "cell_type": "code",
   "execution_count": 11,
   "id": "9aacbb6a-f23f-4f19-a26b-e1db1023bf0e",
   "metadata": {},
   "outputs": [],
   "source": [
    "from qiskit.algorithms.optimizers import SPSA\n",
    "\n",
    "optimizer = SPSA(maxiter=300)"
   ]
  },
  {
   "cell_type": "markdown",
   "id": "d9fa03d7-4dca-4bde-b976-aadaffd66bb0",
   "metadata": {},
   "source": [
    "and finally a parameterized circuit to serve as ansatz for the wave function:"
   ]
  },
  {
   "cell_type": "code",
   "execution_count": 25,
   "id": "f7fcf5f8-81ea-45f7-9b08-3b8d6a40bfa8",
   "metadata": {},
   "outputs": [
    {
     "data": {
      "image/png": "[encoded data removed]",
      "text/plain": [
       "<Figure size 748.652x144.48 with 1 Axes>"
      ]
     },
     "execution_count": 25,
     "metadata": {},
     "output_type": "execute_result"
    }
   ],
   "source": [
    "from qiskit.circuit.library import EfficientSU2\n",
    "\n",
    "ansatz = EfficientSU2(qubit_op.num_qubits)\n",
    "ansatz.decompose().draw('mpl', style='iqx')"
   ]
  },
  {
   "cell_type": "markdown",
   "id": "ab4b484f-ee63-4042-81d4-85c4586302c1",
   "metadata": {},
   "source": [
    "Note that there are many different ways to define the ansatz circuit, check out Qiskit's Circuit Library to see a set of examples!"
   ]
  },
  {
   "cell_type": "markdown",
   "id": "8bc27084-45b3-4e63-b78b-6a99ce5f43fb",
   "metadata": {},
   "source": [
    "With these ingredients we can define the VQE algorithm:"
   ]
  },
  {
   "cell_type": "code",
   "execution_count": 13,
   "id": "0f914fc4-1149-4575-9a56-174144ba7222",
   "metadata": {},
   "outputs": [
    {
     "name": "stderr",
     "output_type": "stream",
     "text": [
      "/opt/conda/lib/python3.8/site-packages/sympy/core/expr.py:3949: SymPyDeprecationWarning: \n",
      "\n",
      "expr_free_symbols method has been deprecated since SymPy 1.9. See\n",
      "https://github.com/sympy/sympy/issues/21494 for more info.\n",
      "\n",
      "  SymPyDeprecationWarning(feature=\"expr_free_symbols method\",\n"
     ]
    }
   ],
   "source": [
    "from qiskit.algorithms import VQE\n",
    "\n",
    "vqe = VQE(\n",
    "    ansatz=ansatz,\n",
    "    optimizer=optimizer,\n",
    "    quantum_instance=sim  # use qiskit.utils.QuantumInstance for error mitigation and other features\n",
    ")"
   ]
  },
  {
   "cell_type": "markdown",
   "id": "565b2992-1b9f-4c3e-9719-c601afb6f024",
   "metadata": {},
   "source": [
    "Since the `VQE` follows the same interface as the `NumPyEigensolver` they both have the `compute_minimum_eigenvalue` method:"
   ]
  },
  {
   "cell_type": "code",
   "execution_count": 14,
   "id": "fcfac3e1-5499-4305-b38c-3cbc173b5982",
   "metadata": {},
   "outputs": [],
   "source": [
    "vqe_result = vqe.compute_minimum_eigenvalue(qubit_op)"
   ]
  },
  {
   "cell_type": "code",
   "execution_count": 15,
   "id": "cf922836-7f60-4aff-9a80-b595149d7292",
   "metadata": {},
   "outputs": [
    {
     "name": "stdout",
     "output_type": "stream",
     "text": [
      "{   'aux_operator_eigenvalues': None,\n",
      "    'cost_function_evals': 600,\n",
      "    'eigenstate': {   '00': 0.03125,\n",
      "                      '01': 0.9926487608917869,\n",
      "                      '10': 0.11692679333668567},\n",
      "    'eigenvalue': (-1.856054923003748+0j),\n",
      "    'optimal_parameters': {   ParameterVectorElement(θ[15]): 2.9403050243413094,\n",
      "                              ParameterVectorElement(θ[13]): -2.8438243548980044,\n",
      "                              ParameterVectorElement(θ[12]): -1.8371360224319708,\n",
      "                              ParameterVectorElement(θ[11]): 0.3212162266006088,\n",
      "                              ParameterVectorElement(θ[10]): 3.8226363573732596,\n",
      "                              ParameterVectorElement(θ[9]): 2.2015436215232405,\n",
      "                              ParameterVectorElement(θ[8]): -0.5316146642309595,\n",
      "                              ParameterVectorElement(θ[7]): 2.0830027513011715,\n",
      "                              ParameterVectorElement(θ[6]): 2.074907088369654,\n",
      "                              ParameterVectorElement(θ[5]): -0.7824980789669685,\n",
      "                              ParameterVectorElement(θ[4]): -2.2722371440560782,\n",
      "                              ParameterVectorElement(θ[3]): -1.49133922502287,\n",
      "                              ParameterVectorElement(θ[2]): 1.9259757524617653,\n",
      "                              ParameterVectorElement(θ[1]): 3.0625028562352665,\n",
      "                              ParameterVectorElement(θ[0]): 1.8494505552928708,\n",
      "                              ParameterVectorElement(θ[14]): 1.3717591147932566},\n",
      "    'optimal_point': array([ 1.84945056,  3.06250286,  1.92597575, -1.49133923, -2.27223714,\n",
      "       -0.78249808,  2.07490709,  2.08300275, -0.53161466,  2.20154362,\n",
      "        3.82263636,  0.32121623, -1.83713602, -2.84382435,  1.37175911,\n",
      "        2.94030502]),\n",
      "    'optimal_value': -1.856054923003748,\n",
      "    'optimizer_evals': None,\n",
      "    'optimizer_time': 94.62261247634888}\n"
     ]
    }
   ],
   "source": [
    "print(vqe_result)"
   ]
  },
  {
   "cell_type": "code",
   "execution_count": 16,
   "id": "4117c0be-0db3-4d51-ba12-4f991f5d0681",
   "metadata": {},
   "outputs": [
    {
     "name": "stdout",
     "output_type": "stream",
     "text": [
      "Absolute error: 0.0012201071986330803\n"
     ]
    }
   ],
   "source": [
    "print(\"Absolute error:\", np.abs(vqe_result.eigenvalue - reference))"
   ]
  },
  {
   "cell_type": "markdown",
   "id": "017cf22e-cd03-4283-aafe-e0e49ec28674",
   "metadata": {},
   "source": [
    "With these result we can also reconstruct the optimal circuit:"
   ]
  },
  {
   "cell_type": "code",
   "execution_count": 17,
   "id": "6cebc8a8-8fac-46ba-bf90-970c4eb92913",
   "metadata": {},
   "outputs": [
    {
     "data": {
      "image/png": "[encoded data removed]",
      "text/plain": [
       "<Figure size 1531.25x144.48 with 1 Axes>"
      ]
     },
     "execution_count": 17,
     "metadata": {},
     "output_type": "execute_result"
    }
   ],
   "source": [
    "optimal_circuit = ansatz.bind_parameters(vqe_result.optimal_parameters)\n",
    "optimal_circuit.decompose().draw(style='iqx')"
   ]
  },
  {
   "cell_type": "markdown",
   "id": "480bd962-b131-4409-9214-02a5fe1390d7",
   "metadata": {},
   "source": [
    "Or get the statevector corresponding to the optimal circuit:"
   ]
  },
  {
   "cell_type": "code",
   "execution_count": 18,
   "id": "f0a7841a-8c35-4927-974a-764c94d3f886",
   "metadata": {},
   "outputs": [
    {
     "name": "stdout",
     "output_type": "stream",
     "text": [
      "Statevector([-0.00709604+0.01975544j,  0.03543836-0.99391591j,\n",
      "              0.00223912+0.10201644j, -0.00372928+0.00289436j],\n",
      "            dims=(2, 2))\n"
     ]
    }
   ],
   "source": [
    "from qiskit.quantum_info import Statevector\n",
    "\n",
    "optimal_sv = Statevector(optimal_circuit)\n",
    "print(optimal_sv)"
   ]
  },
  {
   "cell_type": "markdown",
   "id": "f2749d9a-8dbc-423d-b973-d683d996d948",
   "metadata": {},
   "source": [
    "### Tracking the optimization\n",
    "\n",
    "To get a feeling of whether our optimization is working we can also keep track of the function evaluations with a callback."
   ]
  },
  {
   "cell_type": "code",
   "execution_count": 19,
   "id": "bb26dbce-a5f9-403f-969c-87c59901f109",
   "metadata": {},
   "outputs": [],
   "source": [
    "energies = []\n",
    "nfevs = []\n",
    "def callback(eval_count, params, energy, std):\n",
    "    energies.append(energy)  # store the current energy\n",
    "    nfevs.append(eval_count)  # store the current number of function evaluations\n",
    "    \n",
    "vqe = VQE(ansatz, optimizer, callback=callback, quantum_instance=sim)"
   ]
  },
  {
   "cell_type": "code",
   "execution_count": 20,
   "id": "025e3741-ea81-4ae5-af87-09a6a8ca582b",
   "metadata": {},
   "outputs": [
    {
     "data": {
      "text/plain": [
       "<qiskit.algorithms.minimum_eigen_solvers.vqe.VQEResult at 0x7ff37cb6e250>"
      ]
     },
     "execution_count": 20,
     "metadata": {},
     "output_type": "execute_result"
    }
   ],
   "source": [
    "vqe.compute_minimum_eigenvalue(qubit_op)"
   ]
  },
  {
   "cell_type": "code",
   "execution_count": 21,
   "id": "5959a944-2353-44f9-ac03-fdfe8a6d6352",
   "metadata": {},
   "outputs": [
    {
     "data": {
      "image/png": "[encoded data removed]",
      "text/plain": [
       "<Figure size 432x288 with 1 Axes>"
      ]
     },
     "metadata": {
      "needs_background": "light"
     },
     "output_type": "display_data"
    }
   ],
   "source": [
    "import matplotlib.pyplot as plt\n",
    "\n",
    "plt.plot(nfevs, energies, label=\"VQE energy\")\n",
    "plt.axhline(y=reference, color=\"tab:red\", ls=\"--\", label=\"Reference energy\")\n",
    "plt.xlabel(\"number of energy evaluations\")\n",
    "plt.ylabel(\"energy\")\n",
    "plt.legend(loc=\"best\");"
   ]
  },
  {
   "cell_type": "markdown",
   "id": "181e3b01-819b-410d-92fa-223227d80c8c",
   "metadata": {},
   "source": [
    "## Exploiting Qiskit Nature's workflow\n",
    "\n",
    "Since the above is a very common workflow, Qiskit Nature allows to simplify it a bit and takes care of the fermionic-to-qubit Hamiltonian conversion and calls the `MinimumEigensolver` for you."
   ]
  },
  {
   "cell_type": "markdown",
   "id": "8bd6369e-28c0-45ab-b081-69a0d94a3881",
   "metadata": {},
   "source": [
    "graph!!!"
   ]
  },
  {
   "cell_type": "code",
   "execution_count": 22,
   "id": "22a2170a-6eb0-4552-959e-93b5619289d7",
   "metadata": {},
   "outputs": [
    {
     "name": "stdout",
     "output_type": "stream",
     "text": [
      "=== GROUND STATE ENERGY ===\n",
      " \n",
      "* Electronic ground state energy (Hartree): -1.857275030202\n",
      "  - computed part:      -1.857275030202\n",
      "~ Nuclear repulsion energy (Hartree): 0.719968994449\n",
      "> Total ground state energy (Hartree): -1.137306035753\n",
      " \n",
      "=== MEASURED OBSERVABLES ===\n",
      " \n",
      "  0:  # Particles: 2.000 S: 0.000 S^2: 0.000 M: 0.000\n",
      " \n",
      "=== DIPOLE MOMENTS ===\n",
      " \n",
      "~ Nuclear dipole moment (a.u.): [0.0  0.0  1.3889487]\n",
      " \n",
      "  0: \n",
      "  * Electronic dipole moment (a.u.): [0.0  0.0  1.3889487]\n",
      "    - computed part:      [0.0  0.0  1.3889487]\n",
      "  > Dipole moment (a.u.): [0.0  0.0  0.0]  Total: 0.0\n",
      "                 (debye): [0.0  0.0  0.0]  Total: 0.0\n",
      " \n"
     ]
    }
   ],
   "source": [
    "from qiskit_nature.algorithms import GroundStateEigensolver\n",
    "\n",
    "gss = GroundStateEigensolver(qubit_converter, classical_solver)  # also works with vqe\n",
    "gss_result = gss.solve(es_problem)\n",
    "\n",
    "print(gss_result)"
   ]
  },
  {
   "cell_type": "code",
   "execution_count": 23,
   "id": "0db19329-ff6d-4dfd-b402-13bc146d3dc2",
   "metadata": {},
   "outputs": [
    {
     "name": "stdout",
     "output_type": "stream",
     "text": [
      "=== GROUND STATE ENERGY ===\n",
      " \n",
      "* Electronic ground state energy (Hartree): -1.86354747436\n",
      "  - computed part:      -1.86354747436\n",
      "~ Nuclear repulsion energy (Hartree): 0.719968994449\n",
      "> Total ground state energy (Hartree): -1.143578479911\n",
      " \n",
      "=== MEASURED OBSERVABLES ===\n",
      " \n",
      "  0:  # Particles: 2.000 S: 0.000 S^2: -0.000 M: 0.000\n",
      " \n",
      "=== DIPOLE MOMENTS ===\n",
      " \n",
      "~ Nuclear dipole moment (a.u.): [0.0  0.0  1.3889487]\n",
      " \n",
      "  0: \n",
      "  * Electronic dipole moment (a.u.): [0.0  0.0  1.3889487]\n",
      "    - computed part:      [0.0  0.0  1.3889487]\n",
      "  > Dipole moment (a.u.): [0.0  0.0  0.0]  Total: 0.0\n",
      "                 (debye): [0.0  0.0  0.0]  Total: 0.0\n",
      " \n"
     ]
    }
   ],
   "source": [
    "gss = GroundStateEigensolver(qubit_converter, vqe)  \n",
    "gss_result = gss.solve(es_problem)\n",
    "\n",
    "print(gss_result)"
   ]
  },
  {
   "cell_type": "code",
   "execution_count": null,
   "id": "61cb91dd-03c7-4df9-8615-b010fa301f03",
   "metadata": {},
   "outputs": [],
   "source": []
  }
 ],
 "metadata": {
  "kernelspec": {
   "display_name": "Qiskit v0.32.0 (ipykernel)",
   "language": "python",
   "name": "python3"
  },
  "language_info": {
   "codemirror_mode": {
    "name": "ipython",
    "version": 3
   },
   "file_extension": ".py",
   "mimetype": "text/x-python",
   "name": "python",
   "nbconvert_exporter": "python",
   "pygments_lexer": "ipython3",
   "version": "3.8.10"
  },
  "widgets": {
   "application/vnd.jupyter.widget-state+json": {
    "state": {},
    "version_major": 2,
    "version_minor": 0
   }
  }
 },
 "nbformat": 4,
 "nbformat_minor": 5
}
