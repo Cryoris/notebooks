{
 "cells": [
  {
   "cell_type": "code",
   "execution_count": 1,
   "id": "296dd362",
   "metadata": {},
   "outputs": [],
   "source": [
    "import numpy as np\n",
    "\n",
    "from qiskit.circuit import QuantumCircuit, Parameter\n",
    "from qiskit.quantum_info import SparsePauliOp, Statevector\n",
    "\n",
    "from surfer.gradient import ReverseGradient\n",
    "from surfer.qfi import ReverseQFI"
   ]
  },
  {
   "cell_type": "code",
   "execution_count": 23,
   "id": "12c5ab31",
   "metadata": {},
   "outputs": [],
   "source": [
    "t = 1\n",
    "op = SparsePauliOp([\"I\", \"Z\"], coeffs=[0, t])"
   ]
  },
  {
   "cell_type": "code",
   "execution_count": 24,
   "id": "11933e99",
   "metadata": {},
   "outputs": [
    {
     "data": {
      "text/plain": [
       "<qiskit.circuit.instructionset.InstructionSet at 0x7fdd3130f550>"
      ]
     },
     "execution_count": 24,
     "metadata": {},
     "output_type": "execute_result"
    }
   ],
   "source": [
    "x, y, z = [Parameter(s) for s in \"xyz\"]\n",
    "circuit = QuantumCircuit(1)\n",
    "# circuit.h(0)\n",
    "circuit.rz(x, 0)\n",
    "circuit.ry(y, 0)\n",
    "circuit.rz(z, 0)"
   ]
  },
  {
   "cell_type": "code",
   "execution_count": 25,
   "id": "cab91547",
   "metadata": {},
   "outputs": [],
   "source": [
    "initial_parameters = [0, np.pi/2, 0]\n",
    "final_time = 1\n",
    "timestep = 0.01\n",
    "\n",
    "qfi = ReverseQFI(do_checks=False)\n",
    "gradient = ReverseGradient(do_checks=False, partial_gradient=True)"
   ]
  },
  {
   "cell_type": "code",
   "execution_count": 26,
   "id": "1d89ce73",
   "metadata": {},
   "outputs": [],
   "source": [
    "parameters = [initial_parameters]\n",
    "time = 0\n",
    "while time <= final_time:\n",
    "    op.coeffs[1] = time\n",
    "    energy = Statevector(circuit.bind_parameters(parameters[-1])).expectation_value(op)\n",
    "    \n",
    "    qgt = qfi.compute(circuit, parameters[-1]) / 4\n",
    "    \n",
    "    shifted = op - SparsePauliOp([\"I\"], coeffs=[energy])\n",
    "    b = -np.imag(gradient.compute(shifted, circuit, parameters[-1]))\n",
    "        \n",
    "    derivative = np.linalg.solve(qgt + 0.001 * np.eye(len(initial_parameters)), b)\n",
    "    parameters.append(parameters[-1] + timestep * derivative)\n",
    "    time += timestep"
   ]
  },
  {
   "cell_type": "code",
   "execution_count": 27,
   "id": "7a8ed4f8",
   "metadata": {},
   "outputs": [
    {
     "name": "stdout",
     "output_type": "stream",
     "text": [
      "Statevector([0.62289306-0.33467034j, 0.62289306+0.33467034j],\n",
      "            dims=(2,))\n"
     ]
    }
   ],
   "source": [
    "state = Statevector(circuit.bind_parameters(parameters[-1]))\n",
    "state"
   ]
  },
  {
   "cell_type": "code",
   "execution_count": 34,
   "id": "5a97f5de",
   "metadata": {},
   "outputs": [],
   "source": [
    "evolved = 1 / np.sqrt(2) * np.array([\n",
    "    np.exp(-1j / 2 * final_time ** 2), \n",
    "    np.exp(1j / 2 * final_time ** 2)\n",
    "])"
   ]
  },
  {
   "cell_type": "code",
   "execution_count": 35,
   "id": "413650a8",
   "metadata": {},
   "outputs": [
    {
     "data": {
      "text/plain": [
       "array([0.62054458-0.33900505j, 0.62054458+0.33900505j])"
      ]
     },
     "execution_count": 35,
     "metadata": {},
     "output_type": "execute_result"
    }
   ],
   "source": [
    "evolved"
   ]
  },
  {
   "cell_type": "code",
   "execution_count": 41,
   "id": "4f9a5043",
   "metadata": {},
   "outputs": [
    {
     "data": {
      "text/plain": [
       "True"
      ]
     },
     "execution_count": 41,
     "metadata": {},
     "output_type": "execute_result"
    }
   ],
   "source": [
    "state.equiv(evolved, atol=1e-2)"
   ]
  },
  {
   "cell_type": "code",
   "execution_count": 10,
   "id": "ed2b694d",
   "metadata": {},
   "outputs": [
    {
     "data": {
      "text/plain": [
       "((0.874218650927579-0.48553244008033425j),\n",
       " (0.8742186509275655+0.4855324400803594j))"
      ]
     },
     "execution_count": 10,
     "metadata": {},
     "output_type": "execute_result"
    }
   ],
   "source": [
    "evolved[0] / state.data[0], evolved[1] / state.data[1]"
   ]
  },
  {
   "cell_type": "markdown",
   "id": "bdd52ca5",
   "metadata": {},
   "source": [
    "### Static example"
   ]
  },
  {
   "cell_type": "code",
   "execution_count": 16,
   "id": "6aba9b9b",
   "metadata": {},
   "outputs": [],
   "source": [
    "op = SparsePauliOp([\"Z\"], coeffs=[1])"
   ]
  },
  {
   "cell_type": "code",
   "execution_count": 17,
   "id": "ba3ec118",
   "metadata": {},
   "outputs": [],
   "source": [
    "initial_parameters = [0, np.pi/2, 0]\n",
    "final_time = 1\n",
    "timestep = 0.01\n",
    "\n",
    "qfi = ReverseQFI(do_checks=False)\n",
    "gradient = ReverseGradient(do_checks=False, partial_gradient=True)"
   ]
  },
  {
   "cell_type": "code",
   "execution_count": 18,
   "id": "26574fae",
   "metadata": {},
   "outputs": [],
   "source": [
    "parameters = [initial_parameters]\n",
    "time = 0\n",
    "while time <= final_time:\n",
    "    energy = Statevector(circuit.bind_parameters(parameters[-1])).expectation_value(op)\n",
    "    \n",
    "    qgt = qfi.compute(circuit, parameters[-1]) / 4\n",
    "    \n",
    "    shifted = op - SparsePauliOp([\"I\"], coeffs=[energy])\n",
    "    b = -np.imag(gradient.compute(shifted, circuit, parameters[-1]))\n",
    "        \n",
    "    derivative = np.linalg.solve(qgt + 0.001 * np.eye(len(initial_parameters)), b)\n",
    "    parameters.append(parameters[-1] + timestep * derivative)\n",
    "    time += timestep"
   ]
  },
  {
   "cell_type": "code",
   "execution_count": 20,
   "id": "84e43d1d",
   "metadata": {},
   "outputs": [
    {
     "name": "stdout",
     "output_type": "stream",
     "text": [
      "Statevector([0.38441894-0.593483j, 0.38441894+0.593483j],\n",
      "            dims=(2,))\n"
     ]
    }
   ],
   "source": [
    "state = Statevector(circuit.bind_parameters(parameters[-1]))\n",
    "state"
   ]
  },
  {
   "cell_type": "code",
   "execution_count": 21,
   "id": "10079f38",
   "metadata": {},
   "outputs": [],
   "source": [
    "expected = 1 / np.sqrt(2) * np.array([\n",
    "    np.exp(-1j * final_time),\n",
    "    np.exp(1j * final_time)\n",
    "])"
   ]
  },
  {
   "cell_type": "code",
   "execution_count": 22,
   "id": "34280b82",
   "metadata": {},
   "outputs": [
    {
     "data": {
      "text/plain": [
       "array([0.38205142-0.59500984j, 0.38205142+0.59500984j])"
      ]
     },
     "execution_count": 22,
     "metadata": {},
     "output_type": "execute_result"
    }
   ],
   "source": [
    "expected"
   ]
  },
  {
   "cell_type": "code",
   "execution_count": null,
   "id": "c1fee216",
   "metadata": {},
   "outputs": [],
   "source": []
  }
 ],
 "metadata": {
  "kernelspec": {
   "display_name": "Python 3",
   "language": "python",
   "name": "python3"
  },
  "language_info": {
   "codemirror_mode": {
    "name": "ipython",
    "version": 3
   },
   "file_extension": ".py",
   "mimetype": "text/x-python",
   "name": "python",
   "nbconvert_exporter": "python",
   "pygments_lexer": "ipython3",
   "version": "3.10.4"
  }
 },
 "nbformat": 4,
 "nbformat_minor": 5
}
