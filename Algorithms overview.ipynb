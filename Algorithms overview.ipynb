{
 "cells": [
  {
   "cell_type": "markdown",
   "metadata": {},
   "source": [
    "# Algorithms in Qiskit Core\n",
    "\n",
    "1. [Grover](#grover)\n",
    "1. [Amplitude estimation](#ae)\n",
    "1. [Minimum eigenvalues](#mes)\n",
    "1. [(General) Eigenvalues](#es)\n",
    "1. [Shor](#shor)\n",
    "1. [HHL](#hhl)\n",
    "1. [Phase Estimation](#pe)"
   ]
  },
  {
   "cell_type": "markdown",
   "metadata": {},
   "source": [
    "## Algorithms structure"
   ]
  },
  {
   "cell_type": "markdown",
   "metadata": {},
   "source": [
    "![algorithms flow](algorithmflow.png)"
   ]
  },
  {
   "cell_type": "markdown",
   "metadata": {},
   "source": [
    "Setting the quantum instance/backend for this notebook:"
   ]
  },
  {
   "cell_type": "code",
   "execution_count": 1,
   "metadata": {},
   "outputs": [],
   "source": [
    "from qiskit import Aer\n",
    "from qiskit.utils import QuantumInstance\n",
    "\n",
    "backend = Aer.get_backend('qasm_simulator')\n",
    "qinstance = QuantumInstance(backend, shots=1024)"
   ]
  },
  {
   "cell_type": "markdown",
   "metadata": {},
   "source": [
    "## Grover<a href='#' id='grover'></a>\n",
    "\n",
    "The algorithm instance is decoupled from the problem it solves. This means one instance of `Grover` can be re-used to find good states in several oracles."
   ]
  },
  {
   "cell_type": "code",
   "execution_count": 2,
   "metadata": {},
   "outputs": [],
   "source": [
    "from qiskit.algorithms import Grover\n",
    "\n",
    "grover = Grover(quantum_instance=qinstance)"
   ]
  },
  {
   "cell_type": "markdown",
   "metadata": {},
   "source": [
    "Here's the oracle (as a plain `QuantumCircuit`) and a classical function to identify good states."
   ]
  },
  {
   "cell_type": "code",
   "execution_count": 3,
   "metadata": {},
   "outputs": [],
   "source": [
    "from qiskit.circuit import QuantumCircuit\n",
    "\n",
    "oracle = QuantumCircuit(2)\n",
    "oracle.cz(0, 1)\n",
    "\n",
    "def is_good_state(bitstr):\n",
    "    return sum(map(int, bitstr)) == 2"
   ]
  },
  {
   "cell_type": "markdown",
   "metadata": {},
   "source": [
    "The problem, in this case the oracle and identification of a \"good\" state, is wrapped in an `AmplificationProblem`."
   ]
  },
  {
   "cell_type": "code",
   "execution_count": 4,
   "metadata": {},
   "outputs": [],
   "source": [
    "from qiskit.algorithms import AmplificationProblem\n",
    "\n",
    "problem = AmplificationProblem(oracle=oracle, is_good_state=is_good_state)"
   ]
  },
  {
   "cell_type": "markdown",
   "metadata": {},
   "source": [
    "Running the algorithm returns a `GroverResult`:"
   ]
  },
  {
   "cell_type": "code",
   "execution_count": 5,
   "metadata": {},
   "outputs": [
    {
     "name": "stdout",
     "output_type": "stream",
     "text": [
      "Top bitstring: 11\n",
      "Good state? True\n"
     ]
    }
   ],
   "source": [
    "result = grover.amplify(problem)\n",
    "print('Top bitstring:', result.top_measurement)\n",
    "print('Good state?', result.oracle_evaluation)"
   ]
  },
  {
   "cell_type": "markdown",
   "metadata": {},
   "source": [
    "## Amplitude estimation<a href='#' id='ae'></a>\n",
    "\n",
    "Algorithms have interfaces. All algorithms implementing the same interface can solve the same problem. In amplitude estimation, we have \n",
    "* `AmplitudeEstimation`\n",
    "* `IterativeAmplitudeEstimation`\n",
    "* `MaximumLikelihoodAmplitudeEstimation`, and\n",
    "* `FasterAmplitudeEstimation`\n",
    "\n",
    "that can exchangeably be used to solve an `EstimationProblem`.\n",
    "\n",
    "Here, we'd like to estimate the probability of measuring a $|1\\rangle$ in our single qubit."
   ]
  },
  {
   "cell_type": "code",
   "execution_count": 6,
   "metadata": {},
   "outputs": [
    {
     "name": "stdout",
     "output_type": "stream",
     "text": [
      "Target probability: 0.25\n"
     ]
    }
   ],
   "source": [
    "import numpy as np\n",
    "\n",
    "probability = 0.25\n",
    "rotation_angle = 2 * np.sqrt(np.arcsin(probability))\n",
    "\n",
    "state_preparation = QuantumCircuit(1)\n",
    "state_preparation.ry(rotation_angle, 0)\n",
    "\n",
    "objective_qubits = [0]  # the good states are identified by qubit 0 being in state |1>\n",
    "\n",
    "print('Target probability:', probability)"
   ]
  },
  {
   "cell_type": "markdown",
   "metadata": {},
   "source": [
    "The problem is wrapped in an `EstimationProblem`."
   ]
  },
  {
   "cell_type": "code",
   "execution_count": 7,
   "metadata": {},
   "outputs": [],
   "source": [
    "from qiskit.algorithms import EstimationProblem\n",
    "\n",
    "problem = EstimationProblem(state_preparation=state_preparation, objective_qubits=objective_qubits)"
   ]
  },
  {
   "cell_type": "markdown",
   "metadata": {},
   "source": [
    "Now we can solve it with different amplitude estimation algorithms."
   ]
  },
  {
   "cell_type": "code",
   "execution_count": 8,
   "metadata": {},
   "outputs": [
    {
     "name": "stdout",
     "output_type": "stream",
     "text": [
      "Grid-based estimate: 0.1464466\n",
      "Improved continuous estimate: 0.2364509484624398\n"
     ]
    }
   ],
   "source": [
    "from qiskit.algorithms import AmplitudeEstimation\n",
    "\n",
    "ae = AmplitudeEstimation(num_eval_qubits=3, quantum_instance=qinstance)\n",
    "result = ae.estimate(problem)\n",
    "print('Grid-based estimate:', result.estimation) \n",
    "print('Improved continuous estimate:', result.mle)"
   ]
  },
  {
   "cell_type": "code",
   "execution_count": 9,
   "metadata": {},
   "outputs": [
    {
     "name": "stdout",
     "output_type": "stream",
     "text": [
      "Estimate: 0.2303591705802828\n"
     ]
    }
   ],
   "source": [
    "from qiskit.algorithms import IterativeAmplitudeEstimation\n",
    "\n",
    "iae = IterativeAmplitudeEstimation(epsilon_target=0.01, alpha=0.05, quantum_instance=qinstance)\n",
    "result = iae.estimate(problem)\n",
    "print('Estimate:', result.estimation)"
   ]
  },
  {
   "cell_type": "markdown",
   "metadata": {},
   "source": [
    "Similarly, we can also use `MaximumLikelihoodAmplitudeEstimation` and `FasterAmplitudeEstimation`."
   ]
  },
  {
   "cell_type": "markdown",
   "metadata": {},
   "source": [
    "## Minimum eigenvalues<a href='#' id='mes'></a>\n",
    "\n",
    "All `MinimumEigensolver` algorithms implement a `compute_minimum_eigenvalue` method, that takes an observable and return the minimum eigenvalue. These algorithms can be quantum (VQE) or completely classically (NumPy-based)."
   ]
  },
  {
   "cell_type": "code",
   "execution_count": 10,
   "metadata": {},
   "outputs": [],
   "source": [
    "from qiskit.opflow import Z, I\n",
    "\n",
    "observable = Z ^ I "
   ]
  },
  {
   "cell_type": "markdown",
   "metadata": {},
   "source": [
    "### VQE\n",
    "\n",
    "VQE takes an ansatz (here from the circuit library) and an optimizer."
   ]
  },
  {
   "cell_type": "code",
   "execution_count": 11,
   "metadata": {},
   "outputs": [
    {
     "data": {
      "image/png": "[encoded data removed]",
      "text/plain": [
       "<Figure size 267.052x144.48 with 1 Axes>"
      ]
     },
     "execution_count": 11,
     "metadata": {},
     "output_type": "execute_result"
    }
   ],
   "source": [
    "from qiskit.circuit.library import RealAmplitudes\n",
    "\n",
    "ansatz = RealAmplitudes(2, reps=1)\n",
    "\n",
    "ansatz.draw(output='mpl', style='iqx')"
   ]
  },
  {
   "cell_type": "code",
   "execution_count": 12,
   "metadata": {},
   "outputs": [],
   "source": [
    "from qiskit.algorithms import VQE\n",
    "from qiskit.algorithms.optimizers import SPSA\n",
    "\n",
    "vqe = VQE(ansatz, optimizer=SPSA(), quantum_instance=qinstance)"
   ]
  },
  {
   "cell_type": "markdown",
   "metadata": {},
   "source": [
    "Now we can solve the problem:"
   ]
  },
  {
   "cell_type": "code",
   "execution_count": 13,
   "metadata": {},
   "outputs": [
    {
     "name": "stdout",
     "output_type": "stream",
     "text": [
      "-1.0\n"
     ]
    }
   ],
   "source": [
    "result = vqe.compute_minimum_eigenvalue(observable)\n",
    "print(result.eigenvalue)"
   ]
  },
  {
   "cell_type": "markdown",
   "metadata": {},
   "source": [
    "### NumPy-based\n",
    "\n",
    "Let's verify the result with a classical algorithm."
   ]
  },
  {
   "cell_type": "code",
   "execution_count": 14,
   "metadata": {},
   "outputs": [
    {
     "name": "stdout",
     "output_type": "stream",
     "text": [
      "(-1+0j)\n"
     ]
    }
   ],
   "source": [
    "from qiskit.algorithms import NumPyMinimumEigensolver\n",
    "\n",
    "np_mes = NumPyMinimumEigensolver()\n",
    "result = np_mes.compute_minimum_eigenvalue(observable)\n",
    "print(result.eigenvalue)"
   ]
  },
  {
   "cell_type": "markdown",
   "metadata": {},
   "source": [
    "### QAOA\n",
    "\n",
    "For Hamiltonians from combinatorial optimization (like ours: $Z \\otimes I$) we can use the QAOA algorithm."
   ]
  },
  {
   "cell_type": "code",
   "execution_count": 15,
   "metadata": {},
   "outputs": [
    {
     "name": "stdout",
     "output_type": "stream",
     "text": [
      "-1.0\n"
     ]
    }
   ],
   "source": [
    "from qiskit.algorithms import QAOA\n",
    "\n",
    "qaoa = QAOA(optimizer=SPSA(), quantum_instance=qinstance)\n",
    "result = qaoa.compute_minimum_eigenvalue(observable)\n",
    "print(result.eigenvalue)"
   ]
  },
  {
   "cell_type": "markdown",
   "metadata": {},
   "source": [
    "## (General) Eigenvalues <a href='#' id='es'></a>\n",
    "\n",
    "Currently, only NumPy-based calculations are available, but more algorithms will be available in the chemistry package."
   ]
  },
  {
   "cell_type": "code",
   "execution_count": 16,
   "metadata": {},
   "outputs": [
    {
     "name": "stdout",
     "output_type": "stream",
     "text": [
      "[-1.+0.j -1.+0.j  1.+0.j]\n"
     ]
    }
   ],
   "source": [
    "from qiskit.algorithms import NumPyEigensolver\n",
    "\n",
    "np_mes = NumPyEigensolver(k=3)  # get the lowest 3 eigenvalues\n",
    "result = np_mes.compute_eigenvalues(observable)\n",
    "print(result.eigenvalues)"
   ]
  },
  {
   "cell_type": "markdown",
   "metadata": {},
   "source": [
    "## Shor's algorithm<a href='#' id='shor'></a>\n",
    "\n",
    "Shor's algorithm is currently the only factorization algorithm in Qiskit."
   ]
  },
  {
   "cell_type": "code",
   "execution_count": 17,
   "metadata": {},
   "outputs": [],
   "source": [
    "from qiskit.algorithms import Shor\n",
    "\n",
    "shor = Shor(quantum_instance=qinstance)"
   ]
  },
  {
   "cell_type": "markdown",
   "metadata": {},
   "source": [
    "Assume we want to factor the number 15."
   ]
  },
  {
   "cell_type": "code",
   "execution_count": 18,
   "metadata": {},
   "outputs": [
    {
     "name": "stdout",
     "output_type": "stream",
     "text": [
      "Factors: [[3, 5]]\n"
     ]
    }
   ],
   "source": [
    "N = 15\n",
    "a = 2  # ``a`` is a number with greater than 1 with gcd(N, a) = 1\n",
    "\n",
    "result = shor.factor(N, a)\n",
    "print('Factors:', result.factors)"
   ]
  },
  {
   "cell_type": "markdown",
   "metadata": {},
   "source": [
    "## HHL<a href='#' id='hhl'></a>\n",
    "\n",
    "_Pending pull request: [#5698](https://github.com/Qiskit/qiskit-terra/pull/5698)_"
   ]
  },
  {
   "cell_type": "markdown",
   "metadata": {},
   "source": [
    "## Phase estimation<a href='#' id='pe'></a>\n",
    "\n",
    "_Pending pull request: [#5642](https://github.com/Qiskit/qiskit-terra/pull/5642) (canonical & iterative)_"
   ]
  },
  {
   "cell_type": "code",
   "execution_count": null,
   "metadata": {},
   "outputs": [],
   "source": []
  }
 ],
 "metadata": {
  "kernelspec": {
   "display_name": "Python 3",
   "language": "python",
   "name": "python3"
  },
  "language_info": {
   "codemirror_mode": {
    "name": "ipython",
    "version": 3
   },
   "file_extension": ".py",
   "mimetype": "text/x-python",
   "name": "python",
   "nbconvert_exporter": "python",
   "pygments_lexer": "ipython3",
   "version": "3.7.9"
  }
 },
 "nbformat": 4,
 "nbformat_minor": 4
}
