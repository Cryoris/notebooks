{
 "cells": [
  {
   "cell_type": "markdown",
   "metadata": {},
   "source": [
    "# Setting learning rates in SPSA\n",
    "\n",
    "This tutorial explains how you can select and calibrate learning rates for the SPSA optimizer."
   ]
  },
  {
   "cell_type": "code",
   "execution_count": 1,
   "metadata": {},
   "outputs": [],
   "source": [
    "import numpy as np\n",
    "import matplotlib.pyplot as plt\n",
    "from qiskit.algorithms.optimizers import SPSA"
   ]
  },
  {
   "cell_type": "markdown",
   "metadata": {},
   "source": [
    "Let's define a toy cost function. For simplicity this one is not based on the expectation value of a quantum mechanical observable."
   ]
  },
  {
   "cell_type": "code",
   "execution_count": 2,
   "metadata": {},
   "outputs": [],
   "source": [
    "initial_point = np.array([10, 5])\n",
    "\n",
    "def f(x):\n",
    "    return (np.linalg.norm(x) - 1) ** 2"
   ]
  },
  {
   "cell_type": "markdown",
   "metadata": {},
   "source": [
    "We'll want to keep track of the loss, so let's define a callback to store the values of the loss function."
   ]
  },
  {
   "cell_type": "code",
   "execution_count": 3,
   "metadata": {},
   "outputs": [],
   "source": [
    "losses = []\n",
    "def callback(fnevs, parameters, loss, stepsize, accepted):\n",
    "    losses.append(loss)"
   ]
  },
  {
   "cell_type": "markdown",
   "metadata": {},
   "source": [
    "### Constant learning rates\n",
    "\n",
    "To start off, let's set the learning rates and perturbation to a constant value."
   ]
  },
  {
   "cell_type": "code",
   "execution_count": 4,
   "metadata": {},
   "outputs": [],
   "source": [
    "spsa = SPSA(maxiter=100, learning_rate=0.01, perturbation=0.01, callback=callback)"
   ]
  },
  {
   "cell_type": "code",
   "execution_count": 5,
   "metadata": {},
   "outputs": [
    {
     "name": "stdout",
     "output_type": "stream",
     "text": [
      "Result: (array([2.12049484, 1.15790681]), 2.0051676859414305, 300)\n"
     ]
    },
    {
     "data": {
      "image/png": "[encoded data removed]",
      "text/plain": [
       "<Figure size 432x288 with 1 Axes>"
      ]
     },
     "metadata": {
      "needs_background": "light"
     },
     "output_type": "display_data"
    }
   ],
   "source": [
    "result = spsa.optimize(2, f, initial_point=initial_point)\n",
    "print('Result:', result)\n",
    "plt.plot(losses);"
   ]
  },
  {
   "cell_type": "markdown",
   "metadata": {},
   "source": [
    "### Custom learning rates\n",
    "\n",
    "SPSA also supports arbitrary learning rates passed as iterators. Since we can call `optimize` multiple times and the iterator needs to start at the beginning again, we have to pass a callable that returns an iterator instead of an iterator directly. \n",
    "\n",
    "Typically, SPSA is used with a exponentially decreasing learning rate $\\eta_k$ and perturbation $\\epsilon_k$:\n",
    "\n",
    "$$\n",
    "    \\begin{aligned}\n",
    "    \\forall k \\in \\mathbb N_0:~~ &\\eta_k = a \\frac{\\alpha^k}{1 + A} \\\\\n",
    "    &\\epsilon_k = c \\gamma^k\n",
    "    \\end{aligned}  \n",
    "$$\n",
    "\n",
    "where $a, c \\in \\mathbb R_{>0}$ are scaling coefficents, $\\alpha, \\beta \\in R_{>0}$ determines the decay rate of the learning rate and perturbation and $A \\in \\mathbb N_0$ is a stability constant. The original SPSA paper suggests $\\alpha = 0.602, \\gamma = 0.101$ for optimal theoretic convergence properties.\n",
    "\n",
    "Let's use these powerlaws to define the learning rate and perturbation."
   ]
  },
  {
   "cell_type": "code",
   "execution_count": 6,
   "metadata": {},
   "outputs": [],
   "source": [
    "def powerlaw(scaling, rate, stability_constant=0):\n",
    "    def get_iterator():\n",
    "        k = 0\n",
    "        while True:\n",
    "            yield scaling * rate ** k / (1 + stability_constant)\n",
    "        \n",
    "    return get_iterator     "
   ]
  },
  {
   "cell_type": "code",
   "execution_count": 7,
   "metadata": {},
   "outputs": [],
   "source": [
    "# reset the losses list\n",
    "losses.clear()\n",
    "\n",
    "learning_rate = powerlaw(0.1, 0.602, 1)\n",
    "perturbation = powerlaw(0.2, 0.101)\n",
    "\n",
    "spsa = SPSA(maxiter=100, learning_rate=learning_rate, perturbation=perturbation, callback=callback)"
   ]
  },
  {
   "cell_type": "code",
   "execution_count": 8,
   "metadata": {},
   "outputs": [
    {
     "name": "stdout",
     "output_type": "stream",
     "text": [
      "Result: (array([0.86053708, 0.4970528 ]), 3.877065370174552e-05, 300)\n"
     ]
    },
    {
     "data": {
      "image/png": "[encoded data removed]",
      "text/plain": [
       "<Figure size 432x288 with 1 Axes>"
      ]
     },
     "metadata": {
      "needs_background": "light"
     },
     "output_type": "display_data"
    }
   ],
   "source": [
    "result = spsa.optimize(2, f, initial_point=initial_point)\n",
    "print('Result:', result)\n",
    "plt.plot(losses);"
   ]
  },
  {
   "cell_type": "markdown",
   "metadata": {},
   "source": [
    "### Default learning rates\n",
    "\n",
    "Per default, the SPSA implementation tries to use an optimal learning rate and perturbation. To do this, we select powerlaw sequences for the iterator and perturbation with the theoretically optimal rates $\\alpha$ and $\\gamma$ (see above). Additionally, we calibrate the scalings $a, c$ based on the sensitivity of the loss function at the intial point.\n",
    "\n",
    "Note that this is a heuristic and there's no proof that these automatically calibrated scalings are optimal!"
   ]
  },
  {
   "cell_type": "code",
   "execution_count": 9,
   "metadata": {},
   "outputs": [],
   "source": [
    "# reset the losses list\n",
    "losses.clear()\n",
    "\n",
    "# don't specify learning rate and perturbation\n",
    "spsa = SPSA(maxiter=100, callback=callback)"
   ]
  },
  {
   "cell_type": "code",
   "execution_count": 10,
   "metadata": {},
   "outputs": [
    {
     "name": "stdout",
     "output_type": "stream",
     "text": [
      "Result: (array([4.49306559, 1.8574089 ]), 14.913901949153505, 300)\n"
     ]
    },
    {
     "data": {
      "image/png": "[encoded data removed]",
      "text/plain": [
       "<Figure size 432x288 with 1 Axes>"
      ]
     },
     "metadata": {
      "needs_background": "light"
     },
     "output_type": "display_data"
    }
   ],
   "source": [
    "result = spsa.optimize(2, f, initial_point=initial_point)\n",
    "print('Result:', result)\n",
    "plt.plot(losses);"
   ]
  },
  {
   "cell_type": "markdown",
   "metadata": {},
   "source": [
    "You can also obtain the calibrated learning rate and perturbation using the static `calibrate` method of SPSA."
   ]
  },
  {
   "cell_type": "code",
   "execution_count": 11,
   "metadata": {},
   "outputs": [],
   "source": [
    "# reset the losses list\n",
    "losses.clear()\n",
    "\n",
    "learning_rate, perturbation = SPSA.calibrate(f, initial_point=initial_point)\n",
    "\n",
    "spsa = SPSA(maxiter=100, learning_rate=learning_rate, perturbation=perturbation, callback=callback)"
   ]
  },
  {
   "cell_type": "code",
   "execution_count": 12,
   "metadata": {},
   "outputs": [
    {
     "name": "stdout",
     "output_type": "stream",
     "text": [
      "Result: (array([3.63568175, 0.70168138]), 7.30498966604618, 300)\n"
     ]
    },
    {
     "data": {
      "image/png": "[encoded data removed]",
      "text/plain": [
       "<Figure size 432x288 with 1 Axes>"
      ]
     },
     "metadata": {
      "needs_background": "light"
     },
     "output_type": "display_data"
    }
   ],
   "source": [
    "result = spsa.optimize(2, f, initial_point=initial_point)\n",
    "print('Result:', result)\n",
    "plt.plot(losses);"
   ]
  }
 ],
 "metadata": {
  "kernelspec": {
   "display_name": "Python 3",
   "language": "python",
   "name": "python3"
  },
  "language_info": {
   "codemirror_mode": {
    "name": "ipython",
    "version": 3
   },
   "file_extension": ".py",
   "mimetype": "text/x-python",
   "name": "python",
   "nbconvert_exporter": "python",
   "pygments_lexer": "ipython3",
   "version": "3.7.9"
  }
 },
 "nbformat": 4,
 "nbformat_minor": 4
}
