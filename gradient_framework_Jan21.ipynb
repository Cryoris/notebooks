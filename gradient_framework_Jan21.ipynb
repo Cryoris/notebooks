{
 "cells": [
  {
   "cell_type": "markdown",
   "metadata": {
    "collapsed": true,
    "slideshow": {
     "slide_type": "slide"
    }
   },
   "source": [
    "# Qiskit Gradient Framework\n",
    "\n",
    "The gradient framework enables the evaluation of quantum gradients as well as functions thereof.\n",
    "Besides standard first order gradients of expectation values of the form\n",
    "$$ \\langle\\psi\\left(\\theta\\right)|\\hat{O}\\left(\\omega\\right)|\\psi\\left(\\theta\\right)\\rangle $$\n",
    "<!--- $$ \\frac{\\partial\\langle\\psi\\left(\\theta\\right)|\\hat{O}\\left(\\omega\\right)|\\psi\\left(\\theta\\right)\\rangle}{\\partial\\theta} $$\n",
    "\n",
    "$$ \\frac{\\partial^2\\langle\\psi\\left(\\theta\\right)|\\hat{O}\\left(\\omega\\right)|\\psi\\left(\\theta\\right)\\rangle}{\\partial\\theta^2}, $$\n",
    "--->\n",
    "\n",
    "the gradient also supports the evaluation of second order gradients (Hessians), and the Quantum Fisher Information (QFI) of quantum states $|\\psi\\left(\\theta\\right)\\rangle$."
   ]
  },
  {
   "cell_type": "code",
   "execution_count": 1,
   "metadata": {
    "slideshow": {
     "slide_type": "slide"
    }
   },
   "outputs": [],
   "source": [
    "# from IPython.display import Image \n",
    "\n",
    "# Image(filename='GradientFramework.png')"
   ]
  },
  {
   "cell_type": "markdown",
   "metadata": {},
   "source": [
    "### Imports"
   ]
  },
  {
   "cell_type": "code",
   "execution_count": 2,
   "metadata": {
    "slideshow": {
     "slide_type": "subslide"
    }
   },
   "outputs": [],
   "source": [
    "#General imports\n",
    "import numpy as np\n",
    "\n",
    "#Operator Imports\n",
    "from qiskit.aqua.operators import Z, X, I, StateFn, CircuitStateFn, SummedOp\n",
    "from qiskit.aqua.operators.gradients import Gradient, NaturalGradient, QFI, Hessian\n",
    "\n",
    "#Circuit imports\n",
    "from qiskit.circuit import QuantumCircuit, QuantumRegister, Parameter, ParameterVector, ParameterExpression\n",
    "from qiskit.circuit.library import EfficientSU2"
   ]
  },
  {
   "cell_type": "markdown",
   "metadata": {
    "slideshow": {
     "slide_type": "slide"
    }
   },
   "source": [
    "## First Order Gradients\n",
    "\n",
    "\n",
    "Given a parameterized quantum state $|\\psi\\left(\\theta\\right)\\rangle = V\\left(\\theta\\right)|\\psi\\rangle$ with input state $|\\psi\\rangle$, parametrized Ansatz $V\\left(\\theta\\right)$, and observable $\\hat{O}\\left(\\omega\\right)=\\sum_{i}\\omega_i\\hat{O}_i$, we want to compute...\n",
    "1. Gradient of an expectation value w.r.t. a coefficient of the measurement operator respectively observable $\\hat{O}\\left(\\omega\\right)$, i.e.\n",
    " $ \\frac{\\partial\\langle\\psi\\left(\\theta\\right)|\\hat{O}\\left(\\omega\\right)|\\psi\\left(\\theta\\right)\\rangle}{\\partial\\omega} $\n",
    "2.  Gradient of an expectation value w.r.t. a state $|\\psi\\left(\\theta\\right)\\rangle$ parameter, i.e.\n",
    " $ \\frac{\\partial\\langle\\psi\\left(\\theta\\right)|\\hat{O}\\left(\\omega\\right)|\\psi\\left(\\theta\\right)\\rangle}{\\partial\\theta} $\n",
    "3.  Gradient of sampling probabilities w.r.t. a state $|\\psi\\left(\\theta\\right)\\rangle$ parameter, i.e.\n",
    " $ \\frac{\\partial p_i}{\\partial\\theta} = \\frac{\\partial\\langle\\psi\\left(\\theta\\right)|i\\rangle\\langle i|\\psi\\left(\\theta\\right)\\rangle}{\\partial\\theta} $"
   ]
  },
  {
   "cell_type": "markdown",
   "metadata": {
    "slideshow": {
     "slide_type": "skip"
    }
   },
   "source": [
    "\n",
    "\n",
    "\n",
    "\n",
    "### Gradients w.r.t. Measurement Operator Parameters\n",
    "$$ \\frac{\\partial\\langle\\psi\\left(\\theta\\right)|\\hat{O}\\left(\\omega\\right)|\\psi\\left(\\theta\\right)\\rangle}{\\partial\\omega_i} = \\langle\\psi\\left(\\theta\\right)|\\hat{O}_i\\left(\\omega\\right)|\\psi\\left(\\theta\\right)\\rangle. $$\n",
    "### Gradients w.r.t. State Parameters\n",
    "$$\\frac{\\partial\\langle\\psi\\left(\\theta\\right)|\\hat{O}\\left(\\omega\\right)|\\psi\\left(\\theta\\right)\\rangle}{\\partial\\theta} $$ and\n",
    "$$ \\frac{\\partial p_i}{\\partial\\theta} = \\frac{\\partial\\langle\\psi\\left(\\theta\\right)|i\\rangle\\langle i |\\psi\\left(\\theta\\right)\\rangle}{\\partial\\theta}.$$"
   ]
  },
  {
   "cell_type": "markdown",
   "metadata": {},
   "source": [
    "### Gradients w.r.t. Measurement Operator Parameters\n",
    "\n",
    "First of all, we define a quantum state $|\\psi\\left(\\theta\\right)\\rangle$ and a Hamiltonian $H$ acting as observable. Then, the state and the Hamiltonian are wrapped into an object defining the expectation value $$ \\langle\\psi\\left(\\theta\\right)|H|\\psi\\left(\\theta\\right)\\rangle. $$"
   ]
  },
  {
   "cell_type": "code",
   "execution_count": 3,
   "metadata": {
    "slideshow": {
     "slide_type": "subslide"
    }
   },
   "outputs": [
    {
     "name": "stdout",
     "output_type": "stream",
     "text": [
      "ComposedOp([\n",
      "  OperatorMeasurement(SummedOp([\n",
      "    2.0*conjugate(c_0)**2 * X,\n",
      "    1.0*conjugate(c_1) * Z\n",
      "  ])),\n",
      "  CircuitStateFn(\n",
      "        ┌───┐┌───────┐┌───────┐\n",
      "  q0_0: ┤ H ├┤ RZ(a) ├┤ RX(b) ├\n",
      "        └───┘└───────┘└───────┘\n",
      "  )\n",
      "])\n"
     ]
    }
   ],
   "source": [
    "# Instantiate the quantum state\n",
    "a = Parameter('a')\n",
    "b = Parameter('b')\n",
    "q = QuantumRegister(1)\n",
    "qc = QuantumCircuit(q)\n",
    "qc.h(q)\n",
    "qc.rz(a, q[0])\n",
    "qc.rx(b, q[0])\n",
    "\n",
    "# Instantiate the Hamiltonian observable\n",
    "coeff_0 = Parameter('c_0')\n",
    "coeff_1 = Parameter('c_1')\n",
    "H = (coeff_0*coeff_0*2)*X + coeff_1 * Z\n",
    "\n",
    "# Combine the Hamiltonian observable and the state\n",
    "op = ~StateFn(H) @ CircuitStateFn(primitive=qc, coeff=1.)\n",
    "\n",
    "# Print the operator corresponding to the expectation value\n",
    "print(op)"
   ]
  },
  {
   "cell_type": "markdown",
   "metadata": {},
   "source": [
    "We construct a list of the parameters for which we aim to evaluate the gradient. In this case, the parameters are given as the coefficients of $H$.\n",
    "Now, this list and the expectation value operator are used to generate the operator which represents the gradient."
   ]
  },
  {
   "cell_type": "code",
   "execution_count": 4,
   "metadata": {
    "scrolled": false,
    "slideshow": {
     "slide_type": "subslide"
    }
   },
   "outputs": [
    {
     "name": "stdout",
     "output_type": "stream",
     "text": [
      "ListOp([\n",
      "  4.0*c_0 * ComposedOp([\n",
      "    OperatorMeasurement(1.00000000000000 * Z),\n",
      "    CircuitStateFn(\n",
      "          ┌───┐┌───────┐┌───────┐┌───┐\n",
      "    q0_0: ┤ H ├┤ RZ(a) ├┤ RX(b) ├┤ H ├\n",
      "          └───┘└───────┘└───────┘└───┘\n",
      "    )\n",
      "  ]),\n",
      "  1.00000000000000 * ComposedOp([\n",
      "    OperatorMeasurement(1.00000000000000 * Z),\n",
      "    CircuitStateFn(\n",
      "          ┌───┐┌───────┐┌───────┐\n",
      "    q0_0: ┤ H ├┤ RZ(a) ├┤ RX(b) ├\n",
      "          └───┘└───────┘└───────┘\n",
      "    )\n",
      "  ])\n",
      "])\n"
     ]
    },
    {
     "name": "stderr",
     "output_type": "stream",
     "text": [
      "/Users/ouf/Documents/GitHub/qiskit-terra/qiskit/quantum_info/operators/symplectic/pauli.py:185: DeprecationWarning: Initializing Pauli from `Pauli(z=z, x=x)` kwargs is deprecated as of version 0.17.0 and will be removed no earlier than 3 months after the release date. Use tuple initialization `Pauli((z, x))` instead.\n",
      "  base_z, base_x, base_phase = self._from_array_deprecated(z, x)\n"
     ]
    }
   ],
   "source": [
    "# Define the coefficients w.r.t. we want to compute the gradient\n",
    "obs_coeffs = [coeff_0, coeff_1]\n",
    "\n",
    "# Define the values to be assigned to the parameters\n",
    "value_dict = {coeff_0: 0.5, coeff_1: -1, a: np.pi / 4, b: np.pi}\n",
    "\n",
    "# Convert the operator and the gradient target coefficients into the respective operator\n",
    "grad = Gradient().convert(operator = op, params = obs_coeffs)\n",
    "\n",
    "# Print the operator corresponding to the Gradient\n",
    "print(grad)"
   ]
  },
  {
   "cell_type": "markdown",
   "metadata": {},
   "source": [
    "All that is left to do is to assign values to the pararameters and to evaluate the gradient operators."
   ]
  },
  {
   "cell_type": "code",
   "execution_count": 5,
   "metadata": {
    "slideshow": {
     "slide_type": "subslide"
    }
   },
   "outputs": [
    {
     "name": "stdout",
     "output_type": "stream",
     "text": [
      "Gradient  [(1.414213562373095+1.12e-16j), 0j]\n"
     ]
    }
   ],
   "source": [
    "# Assign the parameters and evaluate the gradient\n",
    "grad_result = grad.assign_parameters(value_dict).eval()\n",
    "print('Gradient ', grad_result)"
   ]
  },
  {
   "cell_type": "markdown",
   "metadata": {
    "slideshow": {
     "slide_type": "slide"
    }
   },
   "source": [
    "### Gradients w.r.t. State Parameters\n",
    "A gradient w.r.t. a state parameter may be evaluated with different methods. Each method has advantages and disadvantages."
   ]
  },
  {
   "cell_type": "code",
   "execution_count": 6,
   "metadata": {
    "slideshow": {
     "slide_type": "subslide"
    }
   },
   "outputs": [
    {
     "name": "stdout",
     "output_type": "stream",
     "text": [
      "ComposedOp([\n",
      "  OperatorMeasurement(0.5 * X\n",
      "  - 1.0 * Z),\n",
      "  CircuitStateFn(\n",
      "        ┌───┐┌───────┐┌───────┐\n",
      "  q0_0: ┤ H ├┤ RZ(a) ├┤ RX(b) ├\n",
      "        └───┘└───────┘└───────┘\n",
      "  )\n",
      "])\n"
     ]
    }
   ],
   "source": [
    "# Define the Hamiltonian with fixed coefficients\n",
    "H = 0.5 * X - 1 * Z\n",
    "# Define the parameters w.r.t. we want to compute the gradients\n",
    "params = [a, b]\n",
    "# Define the values to be assigned to the parameters\n",
    "value_dict = { a: np.pi / 4, b: np.pi}\n",
    "\n",
    "# Combine the Hamiltonian observable and the state into an expectation value operator\n",
    "op = ~StateFn(H) @ CircuitStateFn(primitive=qc, coeff=1.)\n",
    "print(op)"
   ]
  },
  {
   "cell_type": "markdown",
   "metadata": {},
   "source": [
    "#### Parameter Shift Gradients\n",
    "<a id='param_shift_grad'></a>\n",
    "Given a Hermitian operator $g$ with two unique eigenvalues $\\pm r$ which acts as generator for a parameterized quantum gate $$G(\\theta)= e^{-i\\theta g}.$$\n",
    "Then, quantum gradients can be computed by using eigenvalue $r$ dependent shifts to parameters. \n",
    "All [standard, parameterized Qiskit gates](https://github.com/Qiskit/qiskit-terra/tree/master/qiskit/circuit/library/standard_gates) can be shifted with $\\pi/2$, i.e.,\n",
    " $$ \\frac{\\partial\\langle\\psi\\left(\\theta\\right)|\\hat{O}\\left(\\omega\\right)|\\psi\\left(\\theta\\right)\\rangle}{\\partial\\theta} = 2 \\left(\\langle\\psi\\left(\\theta+\\pi/2\\right)|\\hat{O}\\left(\\omega\\right)|\\psi\\left(\\theta+\\pi/2\\right)\\rangle -\\partial\\langle\\psi\\left(\\theta-\\pi/2\\right)|\\hat{O}\\left(\\omega\\right)|\\psi\\left(\\theta-\\pi/2\\right)\\rangle\\right).$$\n",
    " Probability gradients are computed equivalently."
   ]
  },
  {
   "cell_type": "code",
   "execution_count": 7,
   "metadata": {
    "slideshow": {
     "slide_type": "subslide"
    }
   },
   "outputs": [
    {
     "name": "stdout",
     "output_type": "stream",
     "text": [
      "ListOp([\n",
      "  SummedOp([\n",
      "    0.25 * ComposedOp([\n",
      "      OperatorMeasurement(Z),\n",
      "      CircuitStateFn(\n",
      "            ┌───┐┌─────────────────────────┐┌───────┐┌───┐\n",
      "      q0_0: ┤ H ├┤ RZ(a + 1.5707963267949) ├┤ RX(b) ├┤ H ├\n",
      "            └───┘└─────────────────────────┘└───────┘└───┘\n",
      "      )\n",
      "    ]),\n",
      "    -0.25 * ComposedOp([\n",
      "      OperatorMeasurement(Z),\n",
      "      CircuitStateFn(\n",
      "            ┌───┐┌─────────────────────────┐┌───────┐┌───┐\n",
      "      q0_0: ┤ H ├┤ RZ(a - 1.5707963267949) ├┤ RX(b) ├┤ H ├\n",
      "            └───┘└─────────────────────────┘└───────┘└───┘\n",
      "      )\n",
      "    ]),\n",
      "    -0.5 * ComposedOp([\n",
      "      OperatorMeasurement(Z),\n",
      "      CircuitStateFn(\n",
      "            ┌───┐┌─────────────────────────┐┌───────┐\n",
      "      q0_0: ┤ H ├┤ RZ(a + 1.5707963267949) ├┤ RX(b) ├\n",
      "            └───┘└─────────────────────────┘└───────┘\n",
      "      )\n",
      "    ]),\n",
      "    0.5 * ComposedOp([\n",
      "      OperatorMeasurement(Z),\n",
      "      CircuitStateFn(\n",
      "            ┌───┐┌─────────────────────────┐┌───────┐\n",
      "      q0_0: ┤ H ├┤ RZ(a - 1.5707963267949) ├┤ RX(b) ├\n",
      "            └───┘└─────────────────────────┘└───────┘\n",
      "      )\n",
      "    ])\n",
      "  ]),\n",
      "  SummedOp([\n",
      "    0.25 * ComposedOp([\n",
      "      OperatorMeasurement(Z),\n",
      "      CircuitStateFn(\n",
      "            ┌───┐┌───────┐┌─────────────────────────┐┌───┐\n",
      "      q0_0: ┤ H ├┤ RZ(a) ├┤ RX(b + 1.5707963267949) ├┤ H ├\n",
      "            └───┘└───────┘└─────────────────────────┘└───┘\n",
      "      )\n",
      "    ]),\n",
      "    -0.25 * ComposedOp([\n",
      "      OperatorMeasurement(Z),\n",
      "      CircuitStateFn(\n",
      "            ┌───┐┌───────┐┌─────────────────────────┐┌───┐\n",
      "      q0_0: ┤ H ├┤ RZ(a) ├┤ RX(b - 1.5707963267949) ├┤ H ├\n",
      "            └───┘└───────┘└─────────────────────────┘└───┘\n",
      "      )\n",
      "    ]),\n",
      "    -0.5 * ComposedOp([\n",
      "      OperatorMeasurement(Z),\n",
      "      CircuitStateFn(\n",
      "            ┌───┐┌───────┐┌─────────────────────────┐\n",
      "      q0_0: ┤ H ├┤ RZ(a) ├┤ RX(b + 1.5707963267949) ├\n",
      "            └───┘└───────┘└─────────────────────────┘\n",
      "      )\n",
      "    ]),\n",
      "    0.5 * ComposedOp([\n",
      "      OperatorMeasurement(Z),\n",
      "      CircuitStateFn(\n",
      "            ┌───┐┌───────┐┌─────────────────────────┐\n",
      "      q0_0: ┤ H ├┤ RZ(a) ├┤ RX(b - 1.5707963267949) ├\n",
      "            └───┘└───────┘└─────────────────────────┘\n",
      "      )\n",
      "    ])\n",
      "  ])\n",
      "])\n",
      "State gradient computed with parameter shift [(-0.35355339059327373-4.175e-17j), (0.7071067811865475+4.15e-17j)]\n"
     ]
    }
   ],
   "source": [
    "# Convert the expectation value into an operator corresponding to the gradient w.r.t. the state parameters using \n",
    "# the parameter shift method.\n",
    "state_grad = Gradient(grad_method='param_shift').convert(operator=op, params=params)\n",
    "# Print the operator corresponding to the gradient\n",
    "print(state_grad)\n",
    "# Assign the parameters and evaluate the gradient\n",
    "state_grad_result = state_grad.assign_parameters(value_dict).eval()\n",
    "print('State gradient computed with parameter shift', state_grad_result)"
   ]
  },
  {
   "cell_type": "markdown",
   "metadata": {
    "slideshow": {
     "slide_type": "subslide"
    }
   },
   "source": [
    " #### Linear Combination of Unitaries Gradients\n",
    "<a id='lin_comb_grad'></a>\n",
    "Unitaries can be written as $U\\left(\\omega\\right) = e^{iM\\left(\\omega\\right)}$, where $M\\left(\\omega\\right)$ denotes a parameterized Hermitian matrix. \n",
    "Further, Hermitian matrices can be decomposed into weighted sums of Pauli terms, i.e., $M\\left(\\omega\\right) = \\sum_pm_p\\left(\\omega\\right)h_p$ with $m_p\\left(\\omega\\right)\\in\\mathbb{R}$ and $h_p=\\bigotimes\\limits_{j=0}^{n-1}\\sigma_{j, p}$ for $\\sigma_{j, p}\\in\\left\\{I, X, Y, Z\\right\\}$ acting on the $j^{\\text{th}}$ qubit. Thus, the gradients of \n",
    "$U_k\\left(\\omega_k\\right)$ are given by\n",
    "\\begin{equation*}\n",
    "\\frac{\\partial U_k\\left(\\omega_k\\right)}{\\partial\\omega_k} = \\sum\\limits_pi \\frac{\\partial m_{k,p}\\left(\\omega_k\\right)}{\\partial\\omega_k}U_k\\left(\\omega_k\\right)h_{k_p}.\n",
    "\\end{equation*}\n",
    "\n",
    "Combining this observation with a circuit structure presented in [Simulating physical phenomena by quantum networks](https://journals.aps.org/pra/abstract/10.1103/PhysRevA.65.042323) allows us to compute the gradient with the evaluation of a single quantum circuit."
   ]
  },
  {
   "cell_type": "code",
   "execution_count": 8,
   "metadata": {
    "slideshow": {
     "slide_type": "skip"
    }
   },
   "outputs": [
    {
     "name": "stdout",
     "output_type": "stream",
     "text": [
      "ListOp([\n",
      "  SummedOp([\n",
      "    0.5 * ComposedOp([\n",
      "      OperatorMeasurement(ZZ) * 2.0,\n",
      "      CircuitStateFn(\n",
      "             ┌───┐          ┌───────┐┌───────┐┌───┐\n",
      "       q0_0: ┤ H ├────────■─┤ RZ(a) ├┤ RX(b) ├┤ H ├\n",
      "             ├───┤┌─────┐ │ └─┬───┬─┘└───────┘└───┘\n",
      "      q41_0: ┤ H ├┤ SDG ├─■───┤ H ├────────────────\n",
      "             └───┘└─────┘     └───┘                \n",
      "      ) * 0.7071067811865476\n",
      "    ]),\n",
      "    -1.0 * ComposedOp([\n",
      "      OperatorMeasurement(ZZ) * 2.0,\n",
      "      CircuitStateFn(\n",
      "             ┌───┐          ┌───────┐┌───────┐\n",
      "       q0_0: ┤ H ├────────■─┤ RZ(a) ├┤ RX(b) ├\n",
      "             ├───┤┌─────┐ │ └─┬───┬─┘└───────┘\n",
      "      q42_0: ┤ H ├┤ SDG ├─■───┤ H ├───────────\n",
      "             └───┘└─────┘     └───┘           \n",
      "      ) * 0.7071067811865476\n",
      "    ])\n",
      "  ]),\n",
      "  SummedOp([\n",
      "    0.5 * ComposedOp([\n",
      "      OperatorMeasurement(ZZ) * 2.0,\n",
      "      CircuitStateFn(\n",
      "             ┌───┐┌───────┐┌───┐┌───────┐┌───┐\n",
      "       q0_0: ┤ H ├┤ RZ(a) ├┤ X ├┤ RX(b) ├┤ H ├\n",
      "             ├───┤└┬─────┬┘└─┬─┘└─┬───┬─┘└───┘\n",
      "      q43_0: ┤ H ├─┤ SDG ├───■────┤ H ├───────\n",
      "             └───┘ └─────┘        └───┘       \n",
      "      ) * 0.7071067811865476\n",
      "    ]),\n",
      "    -1.0 * ComposedOp([\n",
      "      OperatorMeasurement(ZZ) * 2.0,\n",
      "      CircuitStateFn(\n",
      "             ┌───┐┌───────┐┌───┐┌───────┐\n",
      "       q0_0: ┤ H ├┤ RZ(a) ├┤ X ├┤ RX(b) ├\n",
      "             ├───┤└┬─────┬┘└─┬─┘└─┬───┬─┘\n",
      "      q44_0: ┤ H ├─┤ SDG ├───■────┤ H ├──\n",
      "             └───┘ └─────┘        └───┘  \n",
      "      ) * 0.7071067811865476\n",
      "    ])\n",
      "  ])\n",
      "])\n",
      "State gradient computed with the linear combination method [(-0.3535533905932738-2.39e-16j), (0.7071067811865476+1.64e-16j)]\n"
     ]
    },
    {
     "name": "stderr",
     "output_type": "stream",
     "text": [
      "/Users/ouf/Documents/GitHub/qiskit-aqua/qiskit/aqua/operators/primitive_ops/pauli_op.py:107: DeprecationWarning: `kron` is deprecated and will be removed no earlier than 3 months after the release date of Qiskit Terra 0.17.0. Use `expand` instead, but note this does not change the operator in-place.\n",
      "  return PauliOp(op_copy.kron(self.primitive), coeff=self.coeff * other.coeff)\n"
     ]
    }
   ],
   "source": [
    "# Convert the expectation value into an operator corresponding to the gradient w.r.t. the state parameter using \n",
    "# the linear combination of unitaries method.\n",
    "state_grad = Gradient(grad_method='lin_comb').convert(operator=op, params=params)\n",
    "# Print the operator corresponding to the gradient\n",
    "print(state_grad)\n",
    "# Assign the parameters and evaluate the gradient\n",
    "state_grad_result = state_grad.assign_parameters(value_dict).eval()\n",
    "print('State gradient computed with the linear combination method', state_grad_result)"
   ]
  },
  {
   "cell_type": "markdown",
   "metadata": {
    "slideshow": {
     "slide_type": "subslide"
    }
   },
   "source": [
    " #### Finite Difference Gradients\n",
    "\n",
    "<a id='fin_diff_grad'></a>\n",
    "\n",
    "Unlike the other methods, finite difference gradients are numerical estimations rather than analytical values.\n",
    "This implementation employs a central difference approach with $\\epsilon << 1$\n",
    " $ \\frac{\\partial\\langle\\psi\\left(\\theta\\right)|\\hat{O}\\left(\\omega\\right)|\\psi\\left(\\theta\\right)\\rangle}{\\partial\\theta} \\approx \\frac{1}{2\\epsilon} \\left(\\langle\\psi\\left(\\theta+\\epsilon\\right)|\\hat{O}\\left(\\omega\\right)|\\psi\\left(\\theta+\\epsilon\\right)\\rangle - \\partial\\langle\\psi\\left(\\theta-\\epsilon\\right)|\\hat{O}\\left(\\omega\\right)|\\psi\\left(\\theta-\\epsilon\\right)\\rangle\\right).$\n",
    " Probability gradients are computed equivalently."
   ]
  },
  {
   "cell_type": "code",
   "execution_count": 9,
   "metadata": {
    "slideshow": {
     "slide_type": "skip"
    }
   },
   "outputs": [
    {
     "name": "stdout",
     "output_type": "stream",
     "text": [
      "ListOp([\n",
      "  SummedOp([\n",
      "    250000.0 * ComposedOp([\n",
      "      OperatorMeasurement(Z),\n",
      "      CircuitStateFn(\n",
      "            ┌───┐┌────────────────┐┌───────┐┌───┐\n",
      "      q0_0: ┤ H ├┤ RZ(a + 1.0e-6) ├┤ RX(b) ├┤ H ├\n",
      "            └───┘└────────────────┘└───────┘└───┘\n",
      "      )\n",
      "    ]),\n",
      "    -250000.0 * ComposedOp([\n",
      "      OperatorMeasurement(Z),\n",
      "      CircuitStateFn(\n",
      "            ┌───┐┌────────────────┐┌───────┐┌───┐\n",
      "      q0_0: ┤ H ├┤ RZ(a - 1.0e-6) ├┤ RX(b) ├┤ H ├\n",
      "            └───┘└────────────────┘└───────┘└───┘\n",
      "      )\n",
      "    ]),\n",
      "    -500000.0 * ComposedOp([\n",
      "      OperatorMeasurement(Z),\n",
      "      CircuitStateFn(\n",
      "            ┌───┐┌────────────────┐┌───────┐\n",
      "      q0_0: ┤ H ├┤ RZ(a + 1.0e-6) ├┤ RX(b) ├\n",
      "            └───┘└────────────────┘└───────┘\n",
      "      )\n",
      "    ]),\n",
      "    500000.0 * ComposedOp([\n",
      "      OperatorMeasurement(Z),\n",
      "      CircuitStateFn(\n",
      "            ┌───┐┌────────────────┐┌───────┐\n",
      "      q0_0: ┤ H ├┤ RZ(a - 1.0e-6) ├┤ RX(b) ├\n",
      "            └───┘└────────────────┘└───────┘\n",
      "      )\n",
      "    ])\n",
      "  ]),\n",
      "  SummedOp([\n",
      "    250000.0 * ComposedOp([\n",
      "      OperatorMeasurement(Z),\n",
      "      CircuitStateFn(\n",
      "            ┌───┐┌───────┐┌────────────────┐┌───┐\n",
      "      q0_0: ┤ H ├┤ RZ(a) ├┤ RX(b + 1.0e-6) ├┤ H ├\n",
      "            └───┘└───────┘└────────────────┘└───┘\n",
      "      )\n",
      "    ]),\n",
      "    -250000.0 * ComposedOp([\n",
      "      OperatorMeasurement(Z),\n",
      "      CircuitStateFn(\n",
      "            ┌───┐┌───────┐┌────────────────┐┌───┐\n",
      "      q0_0: ┤ H ├┤ RZ(a) ├┤ RX(b - 1.0e-6) ├┤ H ├\n",
      "            └───┘└───────┘└────────────────┘└───┘\n",
      "      )\n",
      "    ]),\n",
      "    -500000.0 * ComposedOp([\n",
      "      OperatorMeasurement(Z),\n",
      "      CircuitStateFn(\n",
      "            ┌───┐┌───────┐┌────────────────┐\n",
      "      q0_0: ┤ H ├┤ RZ(a) ├┤ RX(b + 1.0e-6) ├\n",
      "            └───┘└───────┘└────────────────┘\n",
      "      )\n",
      "    ]),\n",
      "    500000.0 * ComposedOp([\n",
      "      OperatorMeasurement(Z),\n",
      "      CircuitStateFn(\n",
      "            ┌───┐┌───────┐┌────────────────┐\n",
      "      q0_0: ┤ H ├┤ RZ(a) ├┤ RX(b - 1.0e-6) ├\n",
      "            └───┘└───────┘└────────────────┘\n",
      "      )\n",
      "    ])\n",
      "  ])\n",
      "])\n",
      "State gradient computed with finite difference [(-0.3535533905669581-2.775e-11j), (0.7071067812098961+2.7749999999999998e-11j)]\n"
     ]
    }
   ],
   "source": [
    "# Convert the expectation value into an operator corresponding to the gradient w.r.t. the state parameter using \n",
    "# the finite difference method.\n",
    "state_grad = Gradient(grad_method='fin_diff').convert(operator=op, params=params)\n",
    "# Print the operator corresponding to the gradient\n",
    "print(state_grad)\n",
    "# Assign the parameters and evaluate the gradient\n",
    "state_grad_result = state_grad.assign_parameters(value_dict).eval()\n",
    "print('State gradient computed with finite difference', state_grad_result)"
   ]
  },
  {
   "cell_type": "markdown",
   "metadata": {
    "slideshow": {
     "slide_type": "slide"
    }
   },
   "source": [
    "### Natural Gradient\n",
    "\n",
    "A special type of first order gradient is the natural gradient which has proven itself useful in classical machine learning and is already being studied in the quantum context. This quantity represents a gradient that is 'rescaled' with the inverse [Quantum Fisher Information matrix](#qfi) \n",
    "$$ QFI ^{-1} \\frac{\\partial\\langle\\psi\\left(\\theta\\right)|\\hat{O}\\left(\\omega\\right)|\\psi\\left(\\theta\\right)\\rangle}{\\partial\\theta}.$$"
   ]
  },
  {
   "cell_type": "markdown",
   "metadata": {
    "slideshow": {
     "slide_type": "subslide"
    }
   },
   "source": [
    "Instead of inverting the QFI, one can also use a least-square solver with or without regularization to solve\n",
    "\n",
    "$$ QFI x = \\frac{\\partial\\langle\\psi\\left(\\theta\\right)|\\hat{O}\\left(\\omega\\right)|\\psi\\left(\\theta\\right)\\rangle}{\\partial\\theta}.$$\n",
    "\n",
    "The implementation supports ridge and lasso regularization with automatic search for a good parameter using [L-curve corner search](https://arxiv.org/pdf/1608.04571.pdf) as well as two types of perturbations of the diagonal elements of the QFI.\n",
    "\n",
    "The natural gradient can be used instead of the standard gradient with any gradient-based optimizer and/or ODE solver."
   ]
  },
  {
   "cell_type": "code",
   "execution_count": 10,
   "metadata": {
    "slideshow": {
     "slide_type": "subslide"
    }
   },
   "outputs": [
    {
     "name": "stdout",
     "output_type": "stream",
     "text": [
      "Natural gradient computed with linear combination of unitaries [-2.17411246  1.9023484 ]\n"
     ]
    }
   ],
   "source": [
    "# Besides the method to compute the circuit gradients resp. QFI, a regularization method can be chosen: \n",
    "# `ridge` or `lasso` with automatic parameter search or `perturb_diag_elements` or `perturb_diag` \n",
    "# which perturb the diagonal elements of the QFI.\n",
    "\n",
    "nat_grad = NaturalGradient(grad_method='lin_comb', qfi_method='lin_comb_full', regularization='ridge').convert(\n",
    "                           operator=op, params=params)\n",
    "\n",
    "# Assign the parameters and evaluate the gradient\n",
    "nat_grad_result = nat_grad.assign_parameters(value_dict).eval()\n",
    "print('Natural gradient computed with linear combination of unitaries', nat_grad_result)"
   ]
  },
  {
   "cell_type": "markdown",
   "metadata": {},
   "source": [
    "### Generic Gradient Function\n",
    "\n",
    "Suppose  \n",
    "$$ QFI ^{-1} \\frac{\\partial\\langle\\psi\\left(\\theta\\right)|\\hat{O}\\left(\\omega\\right)|\\psi\\left(\\theta\\right)\\rangle}{\\partial\\theta}.$$"
   ]
  },
  {
   "cell_type": "markdown",
   "metadata": {
    "slideshow": {
     "slide_type": "slide"
    }
   },
   "source": [
    "## Hessians (Second Order Gradients)\n",
    "\n",
    "Four types of second order gradients are supported by the gradient framework.\n",
    "1. Gradient of an expectation value w.r.t. a coefficient of the measurement operator respectively observable $\\hat{O}\\left(\\omega\\right)$, i.e.\n",
    " $ \\frac{\\partial^2\\langle\\psi\\left(\\theta\\right)|\\hat{O}\\left(\\omega\\right)|\\psi\\left(\\theta\\right)\\rangle}{\\partial\\omega^2} $\n",
    "2.  Gradient of an expectation value w.r.t. a state $|\\psi\\left(\\theta\\right)\\rangle$ parameter, i.e.\n",
    " $ \\frac{\\partial^2\\langle\\psi\\left(\\theta\\right)|\\hat{O}\\left(\\omega\\right)|\\psi\\left(\\theta\\right)\\rangle}{\\partial\\theta^2} $\n",
    "3.  Gradient of sampling probabilities w.r.t. a state $|\\psi\\left(\\theta\\right)\\rangle$ parameter, i.e.\n",
    " $ \\frac{\\partial^2 p_i}{\\partial\\theta^2} = \\frac{\\partial^2\\langle\\psi\\left(\\theta\\right)|i\\rangle\\langle i|\\psi\\left(\\theta\\right)\\rangle}{\\partial\\theta^2} $\n",
    "4.  Gradient of an expectation value w.r.t. a state $|\\psi\\left(\\theta\\right)\\rangle$ parameter and a coefficient of the measurement operator respectively observable $\\hat{O}\\left(\\omega\\right)$, i.e.\n",
    " $ \\frac{\\partial^2\\langle\\psi\\left(\\theta\\right)|\\hat{O}\\left(\\omega\\right)|\\psi\\left(\\theta\\right)\\rangle}{\\partial\\theta\\partial\\omega} $"
   ]
  },
  {
   "cell_type": "markdown",
   "metadata": {},
   "source": [
    "### Hessians w.r.t. Measurement Operator Parameters\n",
    "\n",
    "Again, we define a quantum state $|\\psi\\left(\\theta\\right)\\rangle$ and a Hamiltonian $H$ acting as observable. Then, the state and the Hamiltonian are wrapped into an object defining the expectation value $$ \\langle\\psi\\left(\\theta\\right)|H|\\psi\\left(\\theta\\right)\\rangle. $$"
   ]
  },
  {
   "cell_type": "code",
   "execution_count": 11,
   "metadata": {
    "slideshow": {
     "slide_type": "subslide"
    }
   },
   "outputs": [],
   "source": [
    "# Instantiate the Hamiltonian observable\n",
    "coeff_0 = Parameter('c_0')\n",
    "coeff_1 = Parameter('c_1')\n",
    "H = coeff_0*coeff_1*coeff_1*X\n",
    "\n",
    "# Instantiate the quantum state with two parameters\n",
    "a = Parameter('a')\n",
    "b = Parameter('b')\n",
    "\n",
    "q = QuantumRegister(1)\n",
    "qc = QuantumCircuit(q)\n",
    "qc.h(q)\n",
    "qc.rz(a, q[0])\n",
    "qc.rx(b, q[0])\n",
    "\n",
    "# Combine the Hamiltonian observable and the state\n",
    "op = ~StateFn(H) @ CircuitStateFn(primitive=qc, coeff=1.)"
   ]
  },
  {
   "cell_type": "markdown",
   "metadata": {},
   "source": [
    "Next, we can choose the parameters for which we want to compute second order gradients.\n",
    "- Given a tuple, the `Hessian` will evaluate the second order gradient for the two parameters. \n",
    "- Given a list, the `Hessian` will evaluate the second order gradient for all possible combinations of tuples of these parameters.\n",
    "\n",
    "After binding parameter values to the parameters, the Hessian can be evaluated."
   ]
  },
  {
   "cell_type": "code",
   "execution_count": 12,
   "metadata": {},
   "outputs": [
    {
     "name": "stdout",
     "output_type": "stream",
     "text": [
      "Hessian \n",
      " [[ 0.         -1.41421356]\n",
      " [-1.41421356  0.70710678]]\n"
     ]
    }
   ],
   "source": [
    "# Define the coefficient tuple w.r.t. which we want to compute the gradient\n",
    "hessian_coeffs = (coeff_0, coeff_1)\n",
    "\n",
    "# Convert the operator and the hessian target coefficients into the respective operator\n",
    "hessian = Hessian().convert(operator = op, params = [coeff_0, coeff_1])\n",
    "\n",
    "# Define the values to be assigned to the parameters\n",
    "value_dict = {coeff_0: 0.5, coeff_1: -1, a: np.pi / 4, b: np.pi/4}\n",
    "\n",
    "# Assign the parameters and evaluate the Hessian w.r.t. the Hamiltonian coefficients\n",
    "hessian_result = hessian.assign_parameters(value_dict).eval()\n",
    "print('Hessian \\n', np.real(np.array(hessian_result)))"
   ]
  },
  {
   "cell_type": "markdown",
   "metadata": {},
   "source": [
    "### Hessians w.r.t. State Parameters"
   ]
  },
  {
   "cell_type": "code",
   "execution_count": 13,
   "metadata": {
    "slideshow": {
     "slide_type": "skip"
    }
   },
   "outputs": [
    {
     "name": "stdout",
     "output_type": "stream",
     "text": [
      "Hessian computed using the parameter shift method\n",
      " [[-3.53553391e-01  6.93889390e-17]\n",
      " [ 8.32667268e-17  0.00000000e+00]]\n",
      "Hessian computed using the linear combination of unitaries method\n",
      " [[-0.35355339  0.        ]\n",
      " [ 0.          0.        ]]\n",
      "Hessian computed with finite difference\n",
      " [[-3.53546143e-01  1.52587891e-05]\n",
      " [ 1.52587891e-05  4.57763672e-05]]\n"
     ]
    }
   ],
   "source": [
    "params = [a, b]\n",
    "\n",
    "# Get the operator object representing the Hessian\n",
    "state_hess = Hessian(hess_method='param_shift').convert(operator=op, params=params)\n",
    "# Assign the parameters and evaluate the Hessian\n",
    "hessian_result = state_hess.assign_parameters(value_dict).eval()\n",
    "print('Hessian computed using the parameter shift method\\n', np.real(np.array(hessian_result)))\n",
    "\n",
    "# Get the operator object representing the Hessian\n",
    "state_hess = Hessian(hess_method='lin_comb').convert(operator=op, params=params)\n",
    "# Assign the parameters and evaluate the Hessian\n",
    "hessian_result = state_hess.assign_parameters(value_dict).eval()\n",
    "print('Hessian computed using the linear combination of unitaries method\\n', np.real(np.array(hessian_result)))\n",
    "\n",
    "# Get the operator object representing the Hessian using finite difference\n",
    "state_hess = Hessian(hess_method='fin_diff').convert(operator=op, params=params)\n",
    "# Assign the parameters and evaluate the Hessian\n",
    "hessian_result = state_hess.assign_parameters(value_dict).eval()\n",
    "print('Hessian computed with finite difference\\n', np.real(np.array(hessian_result)))"
   ]
  },
  {
   "cell_type": "markdown",
   "metadata": {
    "slideshow": {
     "slide_type": "slide"
    }
   },
   "source": [
    "## <a name=\"qfi\"></a> QFI\n",
    "The Quantum Fisher Information is a metric tensor which is representative for the representation capacity of a \n",
    "parameterized quantum state $|\\psi\\left(\\theta\\right)\\rangle = V\\left(\\theta\\right)|\\psi\\rangle$ with input state $|\\psi\\rangle$, parametrized Ansatz $V\\left(\\theta\\right)$.\n",
    "\n",
    "The entries of the QFI for a pure state reads\n",
    "\n",
    "$$\n",
    "QFI_{kl} = 4 * \\text{Re}\\left[\\langle\\partial_k\\psi|\\partial_l|psi\\rangle-\\langle\\partial_k\\psi|\\psi\\rangle\\langle\\psi|\\partial_l\\psi\\rangle \\right].$$"
   ]
  },
  {
   "cell_type": "markdown",
   "metadata": {
    "slideshow": {
     "slide_type": "slide"
    }
   },
   "source": [
    "### Circuit QFIs\n",
    "\n",
    "The evaluation of the QFI corresponding to a quantum state that is generated by a parameterized quantum circuit can be conducted in different ways.\n",
    "\n",
    "#### Linear Combination Full QFI\n",
    "To compute the full QFI, we use a working qubit as well as intercepting controlled gates. See e.g. [Variational ansatz-based quantum simulation of imaginary time evolution ](https://www.nature.com/articles/s41534-019-0187-2)."
   ]
  },
  {
   "cell_type": "code",
   "execution_count": 14,
   "metadata": {
    "slideshow": {
     "slide_type": "subslide"
    }
   },
   "outputs": [
    {
     "name": "stdout",
     "output_type": "stream",
     "text": [
      "full QFI \n",
      " [[ 1.00000000e+00 -4.10121933e-17]\n",
      " [-4.10121933e-17  5.00000000e-01]]\n"
     ]
    }
   ],
   "source": [
    "# Wrap the quantum circuit into a CircuitStateFn\n",
    "state = CircuitStateFn(primitive=qc, coeff=1.)\n",
    "\n",
    "# Convert the state and the parameters into the operator object that represents the QFI \n",
    "qfi = QFI(qfi_method='lin_comb_full').convert(operator=state, params=params)\n",
    "# Define the values for which the QFI is to be computed\n",
    "values_dict = {a: np.pi / 4, b: 0.1}\n",
    "\n",
    "# Assign the parameters and evaluate the QFI\n",
    "qfi_result = qfi.assign_parameters(values_dict).eval()\n",
    "print('full QFI \\n', np.real(np.array(qfi_result)))"
   ]
  },
  {
   "cell_type": "markdown",
   "metadata": {
    "slideshow": {
     "slide_type": "slide"
    }
   },
   "source": [
    "#### Block-diagonal and Diagonal Approximation\n",
    "A block-diagonal resp. diagonal approximation of the QFI can be computed without additional working qubits.\n",
    "This implementation requires the unrolling into Pauli rotations and unparameterized Gates."
   ]
  },
  {
   "cell_type": "code",
   "execution_count": 15,
   "metadata": {
    "slideshow": {
     "slide_type": "subslide"
    }
   },
   "outputs": [
    {
     "name": "stdout",
     "output_type": "stream",
     "text": [
      "Block-diagonal QFI \n",
      " [[1.  0. ]\n",
      " [0.  0.5]]\n",
      "Diagonal QFI \n",
      " [[1.  0. ]\n",
      " [0.  0.5]]\n"
     ]
    }
   ],
   "source": [
    "# Convert the state and the parameters into the operator object that represents the QFI \n",
    "# and set the approximation to 'block_diagonal'\n",
    "qfi = QFI('overlap_block_diag').convert(operator=state, params=params)\n",
    "\n",
    "# Assign the parameters and evaluate the QFI\n",
    "qfi_result = qfi.assign_parameters(values_dict).eval()\n",
    "print('Block-diagonal QFI \\n', np.real(np.array(qfi_result)))\n",
    "\n",
    "# Convert the state and the parameters into the operator object that represents the QFI \n",
    "# and set the approximation to 'diagonal'\n",
    "qfi = QFI('overlap_diag').convert(operator=state, params=params)\n",
    "\n",
    "# Assign the parameters and evaluate the QFI\n",
    "qfi_result = qfi.assign_parameters(values_dict).eval()\n",
    "print('Diagonal QFI \\n', np.real(np.array(qfi_result)))"
   ]
  },
  {
   "cell_type": "markdown",
   "metadata": {
    "slideshow": {
     "slide_type": "slide"
    }
   },
   "source": [
    "## Application Examples"
   ]
  },
  {
   "cell_type": "markdown",
   "metadata": {},
   "source": [
    "### Additional Imports"
   ]
  },
  {
   "cell_type": "code",
   "execution_count": 16,
   "metadata": {},
   "outputs": [],
   "source": [
    "# Execution Imports\n",
    "from qiskit import Aer\n",
    "from qiskit.aqua import QuantumInstance\n",
    "\n",
    "# Algorithm Imports\n",
    "from qiskit.aqua.algorithms import VQE\n",
    "from qiskit.aqua.components.optimizers import CG"
   ]
  },
  {
   "cell_type": "markdown",
   "metadata": {
    "slideshow": {
     "slide_type": "slide"
    }
   },
   "source": [
    "### VQE with gradient based optimization\n",
    "\n",
    "The Gradient Module can also be used for a gradient-based `VQE`.\n",
    "First, the Hamiltonian and wavefunction ansatz are initialized."
   ]
  },
  {
   "cell_type": "code",
   "execution_count": 17,
   "metadata": {
    "slideshow": {
     "slide_type": "subslide"
    }
   },
   "outputs": [],
   "source": [
    "from qiskit.aqua.operators import I, X, Z\n",
    "from qiskit.circuit import QuantumCircuit, ParameterVector\n",
    "from scipy.optimize import minimize\n",
    "\n",
    "# Instantiate the system Hamiltonian\n",
    "h2_hamiltonian = -1.05 * (I ^ I) + 0.39 * (I ^ Z) - 0.39 * (Z ^ I) - 0.01 * (Z ^ Z) + 0.18 * (X ^ X)\n",
    "# This is the target energy\n",
    "h2_energy = -1.85727503\n",
    "\n",
    "# Define the Ansatz\n",
    "wavefunction = QuantumCircuit(2)\n",
    "params = ParameterVector('theta', length=8)\n",
    "it = iter(params)\n",
    "wavefunction.ry(next(it), 0)\n",
    "wavefunction.ry(next(it), 1)\n",
    "wavefunction.rz(next(it), 0)\n",
    "wavefunction.rz(next(it), 1)\n",
    "wavefunction.cx(0, 1)\n",
    "wavefunction.ry(next(it), 0)\n",
    "wavefunction.ry(next(it), 1)\n",
    "wavefunction.rz(next(it), 0)\n",
    "wavefunction.rz(next(it), 1)\n",
    "\n",
    "# Define the expectation value corresponding to the energy\n",
    "op = ~StateFn(h2_hamiltonian) @ StateFn(wavefunction)"
   ]
  },
  {
   "cell_type": "markdown",
   "metadata": {},
   "source": [
    "Now, we can choose whether the `VQE` should use a `Gradient` or `NaturalGradient`, define a `QuantumInstance` to execute the quantum circuits and run the algorithm."
   ]
  },
  {
   "cell_type": "code",
   "execution_count": 18,
   "metadata": {
    "slideshow": {
     "slide_type": "subslide"
    }
   },
   "outputs": [
    {
     "name": "stdout",
     "output_type": "stream",
     "text": [
      "initial -0.9243482018834598\n",
      "Result: -1.8404998411316864 Reference: -1.85727503\n"
     ]
    }
   ],
   "source": [
    "grad = Gradient(grad_method = 'lin_comb')\n",
    "\n",
    "qi_sv = QuantumInstance(Aer.get_backend('statevector_simulator'),\n",
    "                                             shots=1,\n",
    "                                             seed_simulator=2,\n",
    "                                             seed_transpiler=2)\n",
    "\n",
    "#Conjugate Gradient algorithm\n",
    "optimizer = CG(maxiter=50)\n",
    "\n",
    "# Gradient callable\n",
    "vqe = VQE(h2_hamiltonian, wavefunction, optimizer=optimizer, gradient=grad)\n",
    "\n",
    "result = vqe.run(qi_sv)\n",
    "print('Result:', result['optimal_value'], 'Reference:', h2_energy)"
   ]
  },
  {
   "cell_type": "markdown",
   "metadata": {
    "slideshow": {
     "slide_type": "skip"
    }
   },
   "source": [
    "### Compare VQE optimization using the Hessian & Jacobian, Jacobian or none\n",
    "\n",
    "The `Gradient`, `Hessian`and `QFI` class also have a `gradient_wrapper` method which returns a callable.\n",
    "This callable takes a set of parameter values and returns the corresponding derivative values.\n",
    "\n",
    "Using this `gradient_wrapper` we can explore some optimization routines.\n",
    "In the following we run a `VQE` with different optimizers and compare the results."
   ]
  },
  {
   "cell_type": "code",
   "execution_count": 19,
   "metadata": {
    "slideshow": {
     "slide_type": "skip"
    }
   },
   "outputs": [
    {
     "name": "stderr",
     "output_type": "stream",
     "text": [
      "/Users/ouf/anaconda3/envs/QiskitDevenv/lib/python3.7/site-packages/scipy/optimize/linesearch.py:169: ComplexWarning: Casting complex values to real discards the imaginary part\n",
      "  amin, amax, isave, dsave)\n",
      "/Users/ouf/anaconda3/envs/QiskitDevenv/lib/python3.7/site-packages/scipy/optimize/_differentiable_functions.py:158: ComplexWarning: Casting complex values to real discards the imaginary part\n",
      "  self.x = np.atleast_1d(x).astype(float)\n",
      "/Users/ouf/anaconda3/envs/QiskitDevenv/lib/python3.7/site-packages/scipy/optimize/linesearch.py:499: ComplexWarning: Casting complex values to real discards the imaginary part\n",
      "  d1[0, 0] = dc ** 2\n",
      "/Users/ouf/anaconda3/envs/QiskitDevenv/lib/python3.7/site-packages/scipy/optimize/linesearch.py:500: ComplexWarning: Casting complex values to real discards the imaginary part\n",
      "  d1[0, 1] = -db ** 2\n",
      "/Users/ouf/anaconda3/envs/QiskitDevenv/lib/python3.7/site-packages/scipy/optimize/linesearch.py:501: ComplexWarning: Casting complex values to real discards the imaginary part\n",
      "  d1[1, 0] = -dc ** 3\n",
      "/Users/ouf/anaconda3/envs/QiskitDevenv/lib/python3.7/site-packages/scipy/optimize/linesearch.py:502: ComplexWarning: Casting complex values to real discards the imaginary part\n",
      "  d1[1, 1] = db ** 3\n"
     ]
    },
    {
     "name": "stdout",
     "output_type": "stream",
     "text": [
      "VQE using the gradient and the Hessian: -0.31023656806956673 Reference: -1.85727503\n"
     ]
    },
    {
     "name": "stderr",
     "output_type": "stream",
     "text": [
      "/Users/ouf/anaconda3/envs/QiskitDevenv/lib/python3.7/site-packages/scipy/optimize/linesearch.py:169: ComplexWarning: Casting complex values to real discards the imaginary part\n",
      "  amin, amax, isave, dsave)\n",
      "/Users/ouf/anaconda3/envs/QiskitDevenv/lib/python3.7/site-packages/scipy/optimize/_differentiable_functions.py:158: ComplexWarning: Casting complex values to real discards the imaginary part\n",
      "  self.x = np.atleast_1d(x).astype(float)\n",
      "/Users/ouf/anaconda3/envs/QiskitDevenv/lib/python3.7/site-packages/scipy/optimize/linesearch.py:499: ComplexWarning: Casting complex values to real discards the imaginary part\n",
      "  d1[0, 0] = dc ** 2\n",
      "/Users/ouf/anaconda3/envs/QiskitDevenv/lib/python3.7/site-packages/scipy/optimize/linesearch.py:500: ComplexWarning: Casting complex values to real discards the imaginary part\n",
      "  d1[0, 1] = -db ** 2\n",
      "/Users/ouf/anaconda3/envs/QiskitDevenv/lib/python3.7/site-packages/scipy/optimize/linesearch.py:501: ComplexWarning: Casting complex values to real discards the imaginary part\n",
      "  d1[1, 0] = -dc ** 3\n",
      "/Users/ouf/anaconda3/envs/QiskitDevenv/lib/python3.7/site-packages/scipy/optimize/linesearch.py:502: ComplexWarning: Casting complex values to real discards the imaginary part\n",
      "  d1[1, 1] = db ** 3\n"
     ]
    },
    {
     "name": "stdout",
     "output_type": "stream",
     "text": [
      "VQE using the gradient: -0.6523876540526141 Reference: -1.85727503\n"
     ]
    },
    {
     "name": "stderr",
     "output_type": "stream",
     "text": [
      "/Users/ouf/anaconda3/envs/QiskitDevenv/lib/python3.7/site-packages/ipykernel_launcher.py:24: OptimizeWarning: Unknown solver options: tol\n",
      "/Users/ouf/anaconda3/envs/QiskitDevenv/lib/python3.7/site-packages/scipy/optimize/_numdiff.py:519: ComplexWarning: Casting complex values to real discards the imaginary part\n",
      "  J_transposed[i] = df / dx\n",
      "/Users/ouf/anaconda3/envs/QiskitDevenv/lib/python3.7/site-packages/scipy/optimize/linesearch.py:169: ComplexWarning: Casting complex values to real discards the imaginary part\n",
      "  amin, amax, isave, dsave)\n",
      "/Users/ouf/anaconda3/envs/QiskitDevenv/lib/python3.7/site-packages/scipy/optimize/_differentiable_functions.py:158: ComplexWarning: Casting complex values to real discards the imaginary part\n",
      "  self.x = np.atleast_1d(x).astype(float)\n",
      "/Users/ouf/anaconda3/envs/QiskitDevenv/lib/python3.7/site-packages/scipy/optimize/linesearch.py:499: ComplexWarning: Casting complex values to real discards the imaginary part\n",
      "  d1[0, 0] = dc ** 2\n",
      "/Users/ouf/anaconda3/envs/QiskitDevenv/lib/python3.7/site-packages/scipy/optimize/linesearch.py:500: ComplexWarning: Casting complex values to real discards the imaginary part\n",
      "  d1[0, 1] = -db ** 2\n",
      "/Users/ouf/anaconda3/envs/QiskitDevenv/lib/python3.7/site-packages/scipy/optimize/linesearch.py:501: ComplexWarning: Casting complex values to real discards the imaginary part\n",
      "  d1[1, 0] = -dc ** 3\n",
      "/Users/ouf/anaconda3/envs/QiskitDevenv/lib/python3.7/site-packages/scipy/optimize/linesearch.py:502: ComplexWarning: Casting complex values to real discards the imaginary part\n",
      "  d1[1, 1] = db ** 3\n",
      "/Users/ouf/anaconda3/envs/QiskitDevenv/lib/python3.7/site-packages/scipy/optimize/_numdiff.py:519: ComplexWarning: Casting complex values to real discards the imaginary part\n",
      "  J_transposed[i] = df / dx\n"
     ]
    },
    {
     "name": "stdout",
     "output_type": "stream",
     "text": [
      "gradient-free VQE: (-0.1591319324658298+0j) Reference: -1.85727503\n"
     ]
    }
   ],
   "source": [
    "from qiskit.aqua.operators import CircuitSampler\n",
    "from qiskit import BasicAer\n",
    "def fun(param_values):\n",
    "    param_dict = dict(zip(params, param_values))\n",
    "    param_dict = {k: [v] for k, v in param_dict.items()}\n",
    "    sampler = CircuitSampler(backend=BasicAer.get_backend('qasm_simulator')).convert(op, params=param_dict)\n",
    "    return sampler.eval()[0]\n",
    "\n",
    "# Use the gradient wrapper function to build a callable for the Jacobian\n",
    "jac = Gradient(grad_method = 'param_shift').gradient_wrapper(op, bind_params = params)\n",
    "\n",
    "# Use the gradient wrapper function to build a callable for the Hessian\n",
    "hess = Hessian(hess_method = 'param_shift').gradient_wrapper(op, bind_params = params)\n",
    "\n",
    "# Optimization result using the Hessian and Jacobian\n",
    "result = minimize(fun, np.random.rand(len(params)), method='Newton-CG', jac=jac, hess=hess, options={'maxiter': 10, 'xtol': 1e-8})\n",
    "print('VQE using the gradient and the Hessian:', result['fun'], 'Reference:', h2_energy)\n",
    "\n",
    "# Optimization result using the Jacobian\n",
    "result = minimize(fun, np.random.rand(len(params)), method='Newton-CG', jac=jac, options={'maxiter': 10, 'xtol': 1e-8})\n",
    "print('VQE using the gradient:', result['fun'], 'Reference:', h2_energy)\n",
    "\n",
    "# Gradient-free ptimization result\n",
    "result = minimize(fun, np.random.rand(len(params)), method='CG', options={'maxiter': 10, 'tol': 1e-8})\n",
    "print('gradient-free VQE:', result['fun'], 'Reference:', h2_energy)"
   ]
  },
  {
   "cell_type": "markdown",
   "metadata": {
    "slideshow": {
     "slide_type": "skip"
    }
   },
   "source": [
    "### Gibbs state preparation using Variational Quantum Imaginary Time Evolution (VarQITE)\n",
    "\n",
    "The Gradient Module also facilitates some sophisticated algorithms such as VarQITE for Gibbs state preparation.\n",
    "\n",
    "For further information on Gibbs state preparation using VarQITE, we would like to refer you to the following work [Variational Quantum Boltzmann Machines](https://arxiv.org/abs/2006.06004).\n",
    "\n",
    "The core of this Gibbs state preparation routine is a parameter propagation that uses a `NaturalGradient`."
   ]
  },
  {
   "cell_type": "markdown",
   "metadata": {},
   "source": [
    "First, the system parameters and operators are defined."
   ]
  },
  {
   "cell_type": "code",
   "execution_count": 20,
   "metadata": {
    "slideshow": {
     "slide_type": "skip"
    }
   },
   "outputs": [],
   "source": [
    "from qiskit.circuit.library import RealAmplitudes\n",
    "\n",
    "# Set the system temperature...\n",
    "T = 5\n",
    "\n",
    "# and the evolution time accordingly.\n",
    "t =  1/(2*T)\n",
    "\n",
    "# Define the model Hamiltonian\n",
    "H = SummedOp([0.3 * Z^Z^ I^I, 0.2 * Z^I^ I^I, - 0.5 * I ^ Z^ I^I])\n",
    "\n",
    "# Instantiate the model ansatz\n",
    "depth = 1\n",
    "entangler_map = [[i+1, i] for i in range(H.num_qubits - 1)]\n",
    "ansatz = EfficientSU2(4, reps=depth, entanglement = entangler_map)\n",
    "qr = ansatz.qregs[0]\n",
    "for i in range(int(len(qr)/2)):\n",
    "    ansatz.cx(qr[i], qr[i+int(len(qr)/2)])\n",
    "    \n",
    "# Initialize the Ansatz parameters\n",
    "param_values_init = np.zeros(2* H.num_qubits * (depth + 1))\n",
    "for j in range(2 * H.num_qubits * depth, int(len(param_values_init) - H.num_qubits - 2)):\n",
    "    param_values_init[int(j)] = np.pi/2.\n",
    "    \n",
    "# Define the Hamiltonian as observable w.r.t. the wavefunction generated by the Ansatz    \n",
    "op = ~StateFn(H) @ CircuitStateFn(ansatz)\n",
    "\n",
    "# Define the discretization grid of the time steps\n",
    "num_time_steps = 10\n",
    "time_steps = np.linspace(0, t, num_time_steps)"
   ]
  },
  {
   "cell_type": "markdown",
   "metadata": {},
   "source": [
    "Now, we can set up the `NaturalGradient` and use it to propagate the Ansatz parameters."
   ]
  },
  {
   "cell_type": "code",
   "execution_count": 21,
   "metadata": {
    "slideshow": {
     "slide_type": "subslide"
    }
   },
   "outputs": [],
   "source": [
    "# Convert the operator that holds the Hamiltonian and ansatz into a NaturalGradient operator \n",
    "nat_grad = NaturalGradient(grad_method = 'lin_comb', regularization = 'ridge').convert(op, ansatz.ordered_parameters)\n",
    "\n",
    "param_values = param_values_init\n",
    "# Propagate the Ansatz parameters step by step according to the explicit Euler method\n",
    "for step in time_steps:\n",
    "    param_dict = dict(zip(ansatz.ordered_parameters, param_values))\n",
    "    nat_grad_result = np.real(nat_grad.assign_parameters(param_dict).eval())\n",
    "    param_values = list(np.subtract(param_values, t/num_time_steps * np.real(nat_grad_result)))\n",
    "\n",
    "param_dict_final = dict(zip(ansatz.ordered_parameters, param_values))"
   ]
  },
  {
   "cell_type": "markdown",
   "metadata": {},
   "source": [
    "Print the quantum circuit and respective parameters that prepare the approximate Gibbs state"
   ]
  },
  {
   "cell_type": "code",
   "execution_count": 22,
   "metadata": {
    "slideshow": {
     "slide_type": "notes"
    }
   },
   "outputs": [
    {
     "name": "stdout",
     "output_type": "stream",
     "text": [
      "CircuitStateFn(\n",
      "     ┌─────────────────────────┐┌─────────────────────────┐┌───┐»\n",
      "q_0: ┤ RY(-0.0956420306865894) ├┤ RZ(0.00290696125949448) ├┤ X ├»\n",
      "     ├─────────────────────────┤├─────────────────────────┤└─┬─┘»\n",
      "q_1: ┤ RY(-0.0935354349530483) ├┤ RZ(0.00349085198862544) ├──■──»\n",
      "     └┬────────────────────────┤├─────────────────────────┤     »\n",
      "q_2: ─┤ RY(0.0136726186940122) ├┤ RZ(0.00345796906027280) ├─────»\n",
      "      ├────────────────────────┤├─────────────────────────┤     »\n",
      "q_3: ─┤ RY(0.0138916782785726) ├┤ RZ(0.00345800475791131) ├─────»\n",
      "      └────────────────────────┘└─────────────────────────┘     »\n",
      "«     ┌──────────────────────┐┌────────────────────────┐»\n",
      "«q_0: ┤ RY(1.47920202341531) ├┤ RZ(0.0137522547764177) ├»\n",
      "«     └────────┬───┬─────────┘└┬──────────────────────┬┘»\n",
      "«q_1: ─────────┤ X ├───────────┤ RY(1.66619024303395) ├─»\n",
      "«              └─┬─┘           └────────┬───┬─────────┘ »\n",
      "«q_2: ───────────■──────────────────────┤ X ├───────────»\n",
      "«                                       └─┬─┘           »\n",
      "«q_3: ────────────────────────────────────■─────────────»\n",
      "«                                                       »\n",
      "«                                                                    \n",
      "«q_0: ───────────────────────────────────────────────────────■───────\n",
      "«     ┌────────────────────────┐                             │       \n",
      "«q_1: ┤ RZ(0.0151015064958354) ├─────────────────────────────┼────■──\n",
      "«     ├────────────────────────┤┌─────────────────────────┐┌─┴─┐  │  \n",
      "«q_2: ┤ RY(0.0142818929621714) ├┤ RZ(0.00345855997523378) ├┤ X ├──┼──\n",
      "«     ├────────────────────────┤├─────────────────────────┤└───┘┌─┴─┐\n",
      "«q_3: ┤ RY(0.0140520972508201) ├┤ RZ(0.00345788694496599) ├─────┤ X ├\n",
      "«     └────────────────────────┘└─────────────────────────┘     └───┘\n",
      ")\n",
      "[-0.09564203068658937, -0.09353543495304832, 0.013672618694012224, 0.013891678278572569, 0.002906961259494483, 0.0034908519886254355, 0.0034579690602727997, 0.0034580047579113116, 1.4792020234153143, 1.6661902430339481, 0.014281892962171402, 0.01405209725082014, 0.013752254776417722, 0.015101506495835394, 0.0034585599752337826, 0.00345788694496599]\n"
     ]
    }
   ],
   "source": [
    "# Print the quantum circuit that integrates the approximate Gibbs state preparation\n",
    "print(CircuitStateFn(ansatz).assign_parameters(param_dict_final))  \n",
    "# Print the parameter values which prepare the Gibbs state for the given Ansatz\n",
    "print(param_values)"
   ]
  },
  {
   "cell_type": "code",
   "execution_count": null,
   "metadata": {
    "slideshow": {
     "slide_type": "notes"
    }
   },
   "outputs": [],
   "source": []
  },
  {
   "cell_type": "code",
   "execution_count": null,
   "metadata": {
    "slideshow": {
     "slide_type": "notes"
    }
   },
   "outputs": [],
   "source": []
  }
 ],
 "metadata": {
  "kernelspec": {
   "display_name": "Python 3",
   "language": "python",
   "name": "python3"
  },
  "language_info": {
   "codemirror_mode": {
    "name": "ipython",
    "version": 3
   },
   "file_extension": ".py",
   "mimetype": "text/x-python",
   "name": "python",
   "nbconvert_exporter": "python",
   "pygments_lexer": "ipython3",
   "version": "3.7.9"
  }
 },
 "nbformat": 4,
 "nbformat_minor": 1
}
