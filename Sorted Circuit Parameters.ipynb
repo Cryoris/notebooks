{
 "cells": [
  {
   "cell_type": "markdown",
   "metadata": {
    "slideshow": {
     "slide_type": "slide"
    }
   },
   "source": [
    "# Sorted circuit parameters\n",
    "\n",
    "Two main changes:\n",
    "\n",
    "* Circuit parameters are returned in a fixed order (sorted by insertion)\n",
    "* Circuit parameters can be assigned by a list of values (instead of a dict only)"
   ]
  },
  {
   "cell_type": "markdown",
   "metadata": {
    "slideshow": {
     "slide_type": "slide"
    }
   },
   "source": [
    "Let's start with a simple parameterized circuit..."
   ]
  },
  {
   "cell_type": "code",
   "execution_count": 31,
   "metadata": {
    "slideshow": {
     "slide_type": "fragment"
    }
   },
   "outputs": [
    {
     "data": {
      "text/html": [
       "<pre style=\"word-wrap: normal;white-space: pre;background: #fff0;line-height: 1.1;font-family: &quot;Courier New&quot;,Courier,monospace\">     ┌───┐┌───────┐              \n",
       "q_0: ┤ H ├┤ RZ(a) ├──■───────────\n",
       "     ├───┤├───────┤┌─┴─┐┌───────┐\n",
       "q_1: ┤ H ├┤ RX(b) ├┤ X ├┤ RY(c) ├\n",
       "     └───┘└───────┘└───┘└───────┘</pre>"
      ],
      "text/plain": [
       "     ┌───┐┌───────┐              \n",
       "q_0: ┤ H ├┤ RZ(a) ├──■───────────\n",
       "     ├───┤├───────┤┌─┴─┐┌───────┐\n",
       "q_1: ┤ H ├┤ RX(b) ├┤ X ├┤ RY(c) ├\n",
       "     └───┘└───────┘└───┘└───────┘"
      ]
     },
     "execution_count": 31,
     "metadata": {},
     "output_type": "execute_result"
    }
   ],
   "source": [
    "from qiskit.circuit import QuantumCircuit, Parameter, ParameterVector\n",
    "\n",
    "a, b, c = [Parameter(name) for name in 'abc']\n",
    "circuit = QuantumCircuit(2)\n",
    "circuit.h([0, 1])\n",
    "circuit.rz(a, 0)\n",
    "circuit.rx(b, 1)\n",
    "circuit.cx(0, 1)\n",
    "circuit.ry(c, 1)\n",
    "\n",
    "circuit.draw()"
   ]
  },
  {
   "cell_type": "markdown",
   "metadata": {
    "slideshow": {
     "slide_type": "slide"
    }
   },
   "source": [
    "Instead of a set of unordered parameters, the return type is now a ``ParameterView``."
   ]
  },
  {
   "cell_type": "code",
   "execution_count": 2,
   "metadata": {
    "slideshow": {
     "slide_type": "fragment"
    }
   },
   "outputs": [
    {
     "data": {
      "text/plain": [
       "ParameterView([Parameter(a), Parameter(b), Parameter(c)])"
      ]
     },
     "execution_count": 2,
     "metadata": {},
     "output_type": "execute_result"
    }
   ],
   "source": [
    "circuit.parameters"
   ]
  },
  {
   "cell_type": "markdown",
   "metadata": {
    "slideshow": {
     "slide_type": "fragment"
    }
   },
   "source": [
    "This is similar to the ``KeysView`` object of a dictionary, except it allows indexing. This allows to treat numeric parameter-arrays and symbolic parameter-arrays more similarly."
   ]
  },
  {
   "cell_type": "code",
   "execution_count": 3,
   "metadata": {
    "slideshow": {
     "slide_type": "fragment"
    }
   },
   "outputs": [
    {
     "name": "stdout",
     "output_type": "stream",
     "text": [
      "a\n",
      "[Parameter(b), Parameter(c)]\n"
     ]
    }
   ],
   "source": [
    "print(circuit.parameters[0])\n",
    "print(circuit.parameters[1:])"
   ]
  },
  {
   "cell_type": "markdown",
   "metadata": {
    "slideshow": {
     "slide_type": "slide"
    }
   },
   "source": [
    "An order allows us to assign parameter values by an array instead of a `{parameter: value}` dictionary."
   ]
  },
  {
   "cell_type": "code",
   "execution_count": 4,
   "metadata": {
    "slideshow": {
     "slide_type": "fragment"
    }
   },
   "outputs": [
    {
     "data": {
      "text/html": [
       "<pre style=\"word-wrap: normal;white-space: pre;background: #fff0;line-height: 1.1;font-family: &quot;Courier New&quot;,Courier,monospace\">     ┌───┐┌───────┐              \n",
       "q_0: ┤ H ├┤ RZ(1) ├──■───────────\n",
       "     ├───┤├───────┤┌─┴─┐┌───────┐\n",
       "q_1: ┤ H ├┤ RX(2) ├┤ X ├┤ RY(3) ├\n",
       "     └───┘└───────┘└───┘└───────┘</pre>"
      ],
      "text/plain": [
       "     ┌───┐┌───────┐              \n",
       "q_0: ┤ H ├┤ RZ(1) ├──■───────────\n",
       "     ├───┤├───────┤┌─┴─┐┌───────┐\n",
       "q_1: ┤ H ├┤ RX(2) ├┤ X ├┤ RY(3) ├\n",
       "     └───┘└───────┘└───┘└───────┘"
      ]
     },
     "execution_count": 4,
     "metadata": {},
     "output_type": "execute_result"
    }
   ],
   "source": [
    "values = [1, 2, 3]\n",
    "circuit.assign_parameters(values).draw()"
   ]
  },
  {
   "cell_type": "markdown",
   "metadata": {
    "slideshow": {
     "slide_type": "slide"
    }
   },
   "source": [
    "Partial binding still requires to pass the dictionary."
   ]
  },
  {
   "cell_type": "code",
   "execution_count": 5,
   "metadata": {
    "slideshow": {
     "slide_type": "fragment"
    }
   },
   "outputs": [],
   "source": [
    "# values = [1, 2]\n",
    "# circuit.assign_parameters(values).draw()  # error mismatching dims"
   ]
  },
  {
   "cell_type": "code",
   "execution_count": 6,
   "metadata": {
    "slideshow": {
     "slide_type": "fragment"
    }
   },
   "outputs": [
    {
     "data": {
      "text/html": [
       "<pre style=\"word-wrap: normal;white-space: pre;background: #fff0;line-height: 1.1;font-family: &quot;Courier New&quot;,Courier,monospace\">     ┌───┐┌───────┐              \n",
       "q_0: ┤ H ├┤ RZ(1) ├──■───────────\n",
       "     ├───┤├───────┤┌─┴─┐┌───────┐\n",
       "q_1: ┤ H ├┤ RX(2) ├┤ X ├┤ RY(c) ├\n",
       "     └───┘└───────┘└───┘└───────┘</pre>"
      ],
      "text/plain": [
       "     ┌───┐┌───────┐              \n",
       "q_0: ┤ H ├┤ RZ(1) ├──■───────────\n",
       "     ├───┤├───────┤┌─┴─┐┌───────┐\n",
       "q_1: ┤ H ├┤ RX(2) ├┤ X ├┤ RY(c) ├\n",
       "     └───┘└───────┘└───┘└───────┘"
      ]
     },
     "execution_count": 6,
     "metadata": {},
     "output_type": "execute_result"
    }
   ],
   "source": [
    "circuit.assign_parameters({a: 1, b: 2}).draw()"
   ]
  },
  {
   "cell_type": "markdown",
   "metadata": {
    "slideshow": {
     "slide_type": "slide"
    }
   },
   "source": [
    "### Anonymous binding in action\n",
    "\n",
    "Anonymous binding (aka binding with an array) is especially useful if circuits are passed around or constructed for you (e.g. from the circuit library)."
   ]
  },
  {
   "cell_type": "code",
   "execution_count": 7,
   "metadata": {
    "slideshow": {
     "slide_type": "slide"
    }
   },
   "outputs": [
    {
     "data": {
      "text/html": [
       "<pre style=\"word-wrap: normal;white-space: pre;background: #fff0;line-height: 1.1;font-family: &quot;Courier New&quot;,Courier,monospace\">        ┌───┐                                                        ┌───┐\n",
       "q_0: ───┤ H ├─────■───────────────■───────────────■───────────────■──┤ H ├\n",
       "     ┌──┴───┴──┐┌─┴─┐┌─────────┐┌─┴─┐┌─────────┐┌─┴─┐┌─────────┐┌─┴─┐└───┘\n",
       "q_1: ┤ P(p[0]) ├┤ X ├┤ P(p[1]) ├┤ X ├┤ P(p[2]) ├┤ X ├┤ P(p[3]) ├┤ X ├─────\n",
       "     └─────────┘└───┘└─────────┘└───┘└─────────┘└───┘└─────────┘└───┘     </pre>"
      ],
      "text/plain": [
       "        ┌───┐                                                        ┌───┐\n",
       "q_0: ───┤ H ├─────■───────────────■───────────────■───────────────■──┤ H ├\n",
       "     ┌──┴───┴──┐┌─┴─┐┌─────────┐┌─┴─┐┌─────────┐┌─┴─┐┌─────────┐┌─┴─┐└───┘\n",
       "q_1: ┤ P(p[0]) ├┤ X ├┤ P(p[1]) ├┤ X ├┤ P(p[2]) ├┤ X ├┤ P(p[3]) ├┤ X ├─────\n",
       "     └─────────┘└───┘└─────────┘└───┘└─────────┘└───┘└─────────┘└───┘     "
      ]
     },
     "execution_count": 7,
     "metadata": {},
     "output_type": "execute_result"
    }
   ],
   "source": [
    "def secret_circuit():\n",
    "    params = ParameterVector('p', 4)\n",
    "    circuit = QuantumCircuit(2)\n",
    "    circuit.h(0)\n",
    "    for param in params:\n",
    "        circuit.p(param, 1)\n",
    "        circuit.cx(0, 1)\n",
    "    circuit.h(0)\n",
    "    \n",
    "    return circuit\n",
    "\n",
    "circuit = secret_circuit()\n",
    "circuit.draw()"
   ]
  },
  {
   "cell_type": "markdown",
   "metadata": {
    "slideshow": {
     "slide_type": "slide"
    }
   },
   "source": [
    "Let's try to assign some values."
   ]
  },
  {
   "cell_type": "code",
   "execution_count": 8,
   "metadata": {
    "slideshow": {
     "slide_type": "fragment"
    }
   },
   "outputs": [],
   "source": [
    "import numpy as np\n",
    "\n",
    "values = np.arange(circuit.num_parameters)"
   ]
  },
  {
   "cell_type": "markdown",
   "metadata": {
    "slideshow": {
     "slide_type": "fragment"
    }
   },
   "source": [
    "We previously had to pass a dictionary of values. But how do we create this dictionary?"
   ]
  },
  {
   "cell_type": "markdown",
   "metadata": {
    "slideshow": {
     "slide_type": "slide"
    }
   },
   "source": [
    "Attempt 1: Just call `list(circuit.parameters)` and use that."
   ]
  },
  {
   "cell_type": "code",
   "execution_count": 9,
   "metadata": {
    "slideshow": {
     "slide_type": "fragment"
    }
   },
   "outputs": [],
   "source": [
    "param_dict = dict(zip(list(circuit.parameters), values))  "
   ]
  },
  {
   "cell_type": "markdown",
   "metadata": {
    "slideshow": {
     "slide_type": "fragment"
    }
   },
   "source": [
    "Problem: Not consistent! Every time you run this script the values are mapped in a different order."
   ]
  },
  {
   "cell_type": "markdown",
   "metadata": {
    "slideshow": {
     "slide_type": "slide"
    }
   },
   "source": [
    "Attempt 2: Impose some order and sort the parameters manually."
   ]
  },
  {
   "cell_type": "code",
   "execution_count": 10,
   "metadata": {
    "slideshow": {
     "slide_type": "fragment"
    }
   },
   "outputs": [],
   "source": [
    "sorted_params = sorted(circuit.parameters, key=lambda p: p.name)\n",
    "param_dict = dict(zip(sorted_params, values))"
   ]
  },
  {
   "cell_type": "markdown",
   "metadata": {
    "slideshow": {
     "slide_type": "fragment"
    }
   },
   "source": [
    "Works, but is this really intuitive sorting? "
   ]
  },
  {
   "cell_type": "code",
   "execution_count": 11,
   "metadata": {
    "slideshow": {
     "slide_type": "slide"
    }
   },
   "outputs": [
    {
     "name": "stdout",
     "output_type": "stream",
     "text": [
      "0: theta[0]\n",
      "1: theta[10]\n",
      "2: theta[1]\n",
      "3: theta[2]\n",
      "4: theta[3]\n",
      "5: theta[4]\n",
      "6: theta[5]\n",
      "7: theta[6]\n",
      "8: theta[7]\n",
      "9: theta[8]\n",
      "10: theta[9]\n"
     ]
    }
   ],
   "source": [
    "params = ParameterVector('theta', 11)\n",
    "sorted_params = sorted(params, key=lambda p: p.name)\n",
    "for i, sorted_param in enumerate(sorted_params):\n",
    "    print(f'{i}: {sorted_param}')"
   ]
  },
  {
   "cell_type": "markdown",
   "metadata": {
    "slideshow": {
     "slide_type": "slide"
    }
   },
   "source": [
    "#### Note\n",
    "\n",
    "All our built-in algorithms handling parameters currently do the above to ensure reproducibility. But the cost is that the assignment can be non-intuitive."
   ]
  },
  {
   "cell_type": "markdown",
   "metadata": {
    "slideshow": {
     "slide_type": "slide"
    }
   },
   "source": [
    "Now, we already have an order and can just do."
   ]
  },
  {
   "cell_type": "code",
   "execution_count": 12,
   "metadata": {
    "slideshow": {
     "slide_type": "fragment"
    }
   },
   "outputs": [
    {
     "data": {
      "text/plain": [
       "<qiskit.circuit.quantumcircuit.QuantumCircuit at 0x7fa349840090>"
      ]
     },
     "execution_count": 12,
     "metadata": {},
     "output_type": "execute_result"
    }
   ],
   "source": [
    "circuit.assign_parameters(values)"
   ]
  },
  {
   "cell_type": "markdown",
   "metadata": {
    "slideshow": {
     "slide_type": "slide"
    }
   },
   "source": [
    "#### A less standard example\n",
    "\n",
    "Imagine a user playing with their own circuit or a researcher plugging circuits together!"
   ]
  },
  {
   "cell_type": "code",
   "execution_count": 13,
   "metadata": {
    "slideshow": {
     "slide_type": "fragment"
    }
   },
   "outputs": [
    {
     "data": {
      "image/png": "[encoded data removed]",
      "text/plain": [
       "<Figure size 1531.4x204.68 with 1 Axes>"
      ]
     },
     "execution_count": 13,
     "metadata": {},
     "output_type": "execute_result"
    }
   ],
   "source": [
    "from qiskit.circuit.library import ZZFeatureMap, EfficientSU2\n",
    "\n",
    "phase = Parameter('phase')\n",
    "ansatz = ZZFeatureMap(3, reps=1)\n",
    "ansatz.p(phase, 0)\n",
    "ansatz.compose(EfficientSU2(3, reps=1), inplace=True)\n",
    "ansatz.draw(output='mpl', style='iqx')"
   ]
  },
  {
   "cell_type": "markdown",
   "metadata": {
    "slideshow": {
     "slide_type": "slide"
    }
   },
   "source": [
    "### Optimization\n",
    "\n",
    "This direct assignment of arrays is especially valuable in optimization, since classical subroutines always handle parameters as arrays of values."
   ]
  },
  {
   "cell_type": "code",
   "execution_count": 14,
   "metadata": {
    "slideshow": {
     "slide_type": "slide"
    }
   },
   "outputs": [
    {
     "data": {
      "image/png": "[encoded data removed]",
      "text/plain": [
       "<Figure size 387.597x204.68 with 1 Axes>"
      ]
     },
     "execution_count": 14,
     "metadata": {},
     "output_type": "execute_result"
    }
   ],
   "source": [
    "from qiskit.circuit.library import PauliTwoDesign\n",
    "from qiskit.opflow import Z, I, CircuitSampler, StateFn\n",
    "\n",
    "observable = Z ^ Z ^ I\n",
    "ansatz = PauliTwoDesign(3, reps=1)\n",
    "ansatz.draw(output='mpl', style='iqx')"
   ]
  },
  {
   "cell_type": "code",
   "execution_count": 15,
   "metadata": {},
   "outputs": [],
   "source": [
    "def cost_function(values):\n",
    "    bound = ansatz.assign_parameters(values)\n",
    "    expectation_value = ~StateFn(observable) @ StateFn(bound)\n",
    "    return expectation_value.eval().real"
   ]
  },
  {
   "cell_type": "code",
   "execution_count": 16,
   "metadata": {},
   "outputs": [
    {
     "data": {
      "text/plain": [
       "0.0"
      ]
     },
     "execution_count": 16,
     "metadata": {},
     "output_type": "execute_result"
    }
   ],
   "source": [
    "cost_function(np.zeros(6))"
   ]
  },
  {
   "cell_type": "code",
   "execution_count": 17,
   "metadata": {},
   "outputs": [],
   "source": [
    "from scipy.optimize import minimize\n",
    "\n",
    "initial_guess = np.random.random(ansatz.num_parameters)\n",
    "maxiter = 100\n",
    "\n",
    "# runs too long for this tutorial ;)\n",
    "# minimize(cost_function, initial_guess, method='bfgs', options={'maxiter': maxiter})  "
   ]
  },
  {
   "cell_type": "markdown",
   "metadata": {},
   "source": [
    "Our built-in optimization algorithms (VQE, QAOA) can now also use this order instead of sort parameters by name and stay consistent with the users input."
   ]
  },
  {
   "cell_type": "markdown",
   "metadata": {},
   "source": [
    "### Composing\n",
    "\n",
    "When composing circuits, the parameters are composed in the same order as the circuit."
   ]
  },
  {
   "cell_type": "code",
   "execution_count": 18,
   "metadata": {},
   "outputs": [
    {
     "data": {
      "text/html": [
       "<pre style=\"word-wrap: normal;white-space: pre;background: #fff0;line-height: 1.1;font-family: &quot;Courier New&quot;,Courier,monospace\">        ┌───┐                                                        ┌───┐»\n",
       "q_0: ───┤ H ├─────■───────────────■───────────────■───────────────■──┤ H ├»\n",
       "     ┌──┴───┴──┐┌─┴─┐┌─────────┐┌─┴─┐┌─────────┐┌─┴─┐┌─────────┐┌─┴─┐└───┘»\n",
       "q_1: ┤ P(p[0]) ├┤ X ├┤ P(p[1]) ├┤ X ├┤ P(p[2]) ├┤ X ├┤ P(p[3]) ├┤ X ├─────»\n",
       "     └─────────┘└───┘└─────────┘└───┘└─────────┘└───┘└─────────┘└───┘     »\n",
       "«     ┌─────────┐┌─────────┐\n",
       "«q_0: ┤0        ├┤0        ├\n",
       "«     │  RXX(x) ││  RYY(y) │\n",
       "«q_1: ┤1        ├┤1        ├\n",
       "«     └─────────┘└─────────┘</pre>"
      ],
      "text/plain": [
       "        ┌───┐                                                        ┌───┐»\n",
       "q_0: ───┤ H ├─────■───────────────■───────────────■───────────────■──┤ H ├»\n",
       "     ┌──┴───┴──┐┌─┴─┐┌─────────┐┌─┴─┐┌─────────┐┌─┴─┐┌─────────┐┌─┴─┐└───┘»\n",
       "q_1: ┤ P(p[0]) ├┤ X ├┤ P(p[1]) ├┤ X ├┤ P(p[2]) ├┤ X ├┤ P(p[3]) ├┤ X ├─────»\n",
       "     └─────────┘└───┘└─────────┘└───┘└─────────┘└───┘└─────────┘└───┘     »\n",
       "«     ┌─────────┐┌─────────┐\n",
       "«q_0: ┤0        ├┤0        ├\n",
       "«     │  RXX(x) ││  RYY(y) │\n",
       "«q_1: ┤1        ├┤1        ├\n",
       "«     └─────────┘└─────────┘"
      ]
     },
     "execution_count": 18,
     "metadata": {},
     "output_type": "execute_result"
    }
   ],
   "source": [
    "x, y = Parameter('x'), Parameter('y')\n",
    "\n",
    "other = QuantumCircuit(2)\n",
    "other.rxx(x, 0, 1)\n",
    "other.ryy(y, 0, 1)\n",
    "\n",
    "composed = circuit.compose(other)\n",
    "composed.draw()"
   ]
  },
  {
   "cell_type": "markdown",
   "metadata": {},
   "source": [
    "Circuit + Other returns ```[a b c] [x y]```"
   ]
  },
  {
   "cell_type": "code",
   "execution_count": 19,
   "metadata": {},
   "outputs": [
    {
     "data": {
      "text/plain": [
       "ParameterView([Parameter(p[0]), Parameter(p[1]), Parameter(p[2]), Parameter(p[3]), Parameter(x), Parameter(y)])"
      ]
     },
     "execution_count": 19,
     "metadata": {},
     "output_type": "execute_result"
    }
   ],
   "source": [
    "composed.parameters"
   ]
  },
  {
   "cell_type": "markdown",
   "metadata": {},
   "source": [
    "Other + Circuit returns ``[x y] [a b c]`` (using the ``front`` keyword here)"
   ]
  },
  {
   "cell_type": "code",
   "execution_count": 20,
   "metadata": {},
   "outputs": [
    {
     "data": {
      "text/plain": [
       "ParameterView([Parameter(x), Parameter(y), Parameter(p[0]), Parameter(p[1]), Parameter(p[2]), Parameter(p[3])])"
      ]
     },
     "execution_count": 20,
     "metadata": {},
     "output_type": "execute_result"
    }
   ],
   "source": [
    "circuit.compose(other, front=True).parameters"
   ]
  },
  {
   "cell_type": "markdown",
   "metadata": {},
   "source": [
    "### Appending"
   ]
  },
  {
   "cell_type": "code",
   "execution_count": 21,
   "metadata": {},
   "outputs": [
    {
     "name": "stdout",
     "output_type": "stream",
     "text": [
      "ParameterView([Parameter(x), Parameter(y)])\n"
     ]
    }
   ],
   "source": [
    "first = QuantumCircuit(1)\n",
    "first.p(x, 0)\n",
    "\n",
    "second = QuantumCircuit(1)\n",
    "second.rz(y, 0)\n",
    "\n",
    "first.append(second, [0])\n",
    "print(first.parameters)"
   ]
  },
  {
   "cell_type": "markdown",
   "metadata": {},
   "source": [
    "### Tensoring\n",
    "\n",
    "TODO could argue for both orders.\n",
    "\n",
    "When tensoring, the parameters of the top circuit are coming first. (status quo)\n",
    "\n",
    "When tensoring, the parameters of the leftmost object in the tensorproduct are coming first."
   ]
  },
  {
   "cell_type": "code",
   "execution_count": 22,
   "metadata": {},
   "outputs": [
    {
     "data": {
      "text/plain": [
       "ParameterView([Parameter(x), Parameter(y), Parameter(p[0]), Parameter(p[1]), Parameter(p[2]), Parameter(p[3])])"
      ]
     },
     "execution_count": 22,
     "metadata": {},
     "output_type": "execute_result"
    }
   ],
   "source": [
    "circuit.tensor(other).parameters"
   ]
  },
  {
   "cell_type": "markdown",
   "metadata": {},
   "source": [
    "### Conversion to DAG and back"
   ]
  },
  {
   "cell_type": "code",
   "execution_count": 35,
   "metadata": {},
   "outputs": [
    {
     "name": "stdout",
     "output_type": "stream",
     "text": [
      "ParameterView([Parameter(x), Parameter(y)])\n",
      "     ┌──────┐\n",
      "q_0: ┤ P(y) ├\n",
      "     ├──────┤\n",
      "q_1: ┤ P(x) ├\n",
      "     └──────┘\n"
     ]
    }
   ],
   "source": [
    "x, y = Parameter('x'), Parameter('y')\n",
    "circuit = QuantumCircuit(2)\n",
    "circuit.p(x, 1)\n",
    "circuit.p(y, 0)\n",
    "print(circuit.parameters)\n",
    "print(circuit.draw())"
   ]
  },
  {
   "cell_type": "code",
   "execution_count": 36,
   "metadata": {},
   "outputs": [
    {
     "data": {
      "text/html": [
       "<pre style=\"word-wrap: normal;white-space: pre;background: #fff0;line-height: 1.1;font-family: &quot;Courier New&quot;,Courier,monospace\">     ┌──────┐\n",
       "q_0: ┤ P(y) ├\n",
       "     ├──────┤\n",
       "q_1: ┤ P(x) ├\n",
       "     └──────┘</pre>"
      ],
      "text/plain": [
       "     ┌──────┐\n",
       "q_0: ┤ P(y) ├\n",
       "     ├──────┤\n",
       "q_1: ┤ P(x) ├\n",
       "     └──────┘"
      ]
     },
     "execution_count": 36,
     "metadata": {},
     "output_type": "execute_result"
    }
   ],
   "source": [
    "from qiskit.converters import circuit_to_dag, dag_to_circuit\n",
    "\n",
    "dag = circuit_to_dag(circuit)\n",
    "circuit2 = dag_to_circuit(dag)\n",
    "\n",
    "circuit2.draw()"
   ]
  },
  {
   "cell_type": "code",
   "execution_count": 37,
   "metadata": {},
   "outputs": [
    {
     "data": {
      "text/plain": [
       "ParameterView([Parameter(y), Parameter(x)])"
      ]
     },
     "execution_count": 37,
     "metadata": {},
     "output_type": "execute_result"
    }
   ],
   "source": [
    "circuit2.parameters"
   ]
  },
  {
   "cell_type": "markdown",
   "metadata": {},
   "source": [
    "### Transpiling"
   ]
  },
  {
   "cell_type": "code",
   "execution_count": 25,
   "metadata": {},
   "outputs": [],
   "source": [
    "from qiskit import transpile"
   ]
  },
  {
   "cell_type": "code",
   "execution_count": 26,
   "metadata": {},
   "outputs": [
    {
     "data": {
      "text/plain": [
       "ParameterView([Parameter(p[0]), Parameter(p[1]), Parameter(p[2]), Parameter(p[3]), Parameter(x), Parameter(y)])"
      ]
     },
     "execution_count": 26,
     "metadata": {},
     "output_type": "execute_result"
    }
   ],
   "source": [
    "transpiled = transpile(composed, basis_gates=['u', 'cx'], optimization_level=0)\n",
    "transpiled.parameters"
   ]
  },
  {
   "cell_type": "code",
   "execution_count": 27,
   "metadata": {},
   "outputs": [
    {
     "data": {
      "text/plain": [
       "ParameterView([Parameter(p[0]), Parameter(p[1]), Parameter(p[2]), Parameter(p[3]), Parameter(x), Parameter(y)])"
      ]
     },
     "execution_count": 27,
     "metadata": {},
     "output_type": "execute_result"
    }
   ],
   "source": [
    "transpiled = transpile(composed, basis_gates=['u', 'cx'], optimization_level=3)\n",
    "transpiled.parameters"
   ]
  },
  {
   "cell_type": "code",
   "execution_count": 30,
   "metadata": {},
   "outputs": [
    {
     "name": "stdout",
     "output_type": "stream",
     "text": [
      "     ┌──────┐┌───────────┐\n",
      "q_0: ┤ P(x) ├┤ P(-1.0*x) ├\n",
      "     └──────┘└───────────┘\n",
      "ParameterView([Parameter(x)])\n"
     ]
    }
   ],
   "source": [
    "x = Parameter('x')\n",
    "circuit = QuantumCircuit(1)\n",
    "circuit.p(x, 0)\n",
    "circuit.p(-x, 0)\n",
    "\n",
    "transpiled = transpile(circuit, basis_gates=['p', 'cx'], optimization_level=3)\n",
    "print(transpiled)\n",
    "print(transpiled.parameters)"
   ]
  },
  {
   "cell_type": "code",
   "execution_count": null,
   "metadata": {},
   "outputs": [],
   "source": []
  }
 ],
 "metadata": {
  "kernelspec": {
   "display_name": "Python 3",
   "language": "python",
   "name": "python3"
  },
  "language_info": {
   "codemirror_mode": {
    "name": "ipython",
    "version": 3
   },
   "file_extension": ".py",
   "mimetype": "text/x-python",
   "name": "python",
   "nbconvert_exporter": "python",
   "pygments_lexer": "ipython3",
   "version": "3.7.9"
  }
 },
 "nbformat": 4,
 "nbformat_minor": 4
}
