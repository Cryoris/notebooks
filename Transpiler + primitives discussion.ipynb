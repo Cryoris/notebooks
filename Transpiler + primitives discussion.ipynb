{
 "cells": [
  {
   "cell_type": "markdown",
   "id": "bdf0041d",
   "metadata": {},
   "source": [
    "Structure of algorithms:"
   ]
  },
  {
   "cell_type": "code",
   "execution_count": null,
   "id": "8a8d3f21",
   "metadata": {
    "code_folding": []
   },
   "outputs": [],
   "source": [
    "class Algorithm:\n",
    "    \n",
    "    def __init__(self, estimator, setting1, setting2):\n",
    "        self.estimator = estimator\n",
    "        ...\n",
    "        \n",
    "    def run(self, problem):\n",
    "        # construct circuits and observables\n",
    "        # send to the estimator\n",
    "        job = self.estimator.run(circuits, observables)\n",
    "        ..."
   ]
  },
  {
   "cell_type": "markdown",
   "id": "f8a93d83",
   "metadata": {},
   "source": [
    "Question: How can I specify the transpiler steps?"
   ]
  },
  {
   "cell_type": "markdown",
   "id": "0f4f5806",
   "metadata": {},
   "source": [
    "High level:"
   ]
  },
  {
   "cell_type": "code",
   "execution_count": null,
   "id": "5fab1650",
   "metadata": {},
   "outputs": [],
   "source": [
    "from qiskit_ibm_runtime import Estimator\n",
    "from qiskit_ibm_runtime.options import Options\n",
    "\n",
    "options = Options(optimization_level=1)\n",
    "estimator = Estimator(options=options)\n",
    "\n",
    "algo = Algorithm(estimator)"
   ]
  },
  {
   "cell_type": "markdown",
   "id": "99ad8e83",
   "metadata": {},
   "source": [
    "But:"
   ]
  },
  {
   "cell_type": "code",
   "execution_count": null,
   "id": "847ab146",
   "metadata": {},
   "outputs": [],
   "source": [
    "my_pm = PassManager([...])\n",
    "\n",
    "estimator = ?"
   ]
  },
  {
   "cell_type": "markdown",
   "id": "6024cce7",
   "metadata": {},
   "source": [
    "Difficulty level 2:\n",
    "* Pass manager for unbound circuits: apply once, cache result\n",
    "* ... and bound circuits: apply after parameter binding"
   ]
  },
  {
   "cell_type": "code",
   "execution_count": null,
   "id": "48ab9161",
   "metadata": {},
   "outputs": [],
   "source": [
    "unbound_pm = PassManager([\n",
    "    # routing, basis decomposition, gate cancellations, ...\n",
    "])\n",
    "\n",
    "bound_pm = PassManager([\n",
    "    # decompose RZX & co to efficient pulse sequence\n",
    "])"
   ]
  },
  {
   "cell_type": "markdown",
   "id": "0862adae",
   "metadata": {},
   "source": [
    "### Old, `QuantumInstance` solution"
   ]
  },
  {
   "cell_type": "code",
   "execution_count": null,
   "id": "837823ec",
   "metadata": {},
   "outputs": [],
   "source": [
    "class Algorithm:\n",
    "    def __init__(self, quantum_instance, setting1, setting2):\n",
    "        self.quantum_instance = quantum_instance \n",
    "        ...\n",
    "        \n",
    "    def run(self, problem):\n",
    "        self.quantum_instance.transpile(...)"
   ]
  },
  {
   "cell_type": "code",
   "execution_count": null,
   "id": "65a5c592",
   "metadata": {},
   "outputs": [],
   "source": [
    "quantum_instance = QuantumInstance(\n",
    "    pass_manager=unbound_pm,\n",
    "    bound_pass_manager=bound_pm\n",
    ")\n",
    "\n",
    "algo = Algorithm(quantum_instance)"
   ]
  },
  {
   "cell_type": "markdown",
   "id": "6c04d93a",
   "metadata": {},
   "source": [
    "### Solution 1 -- si!\n",
    "\n",
    "Make `PassManager` serializable and attach to the primitive:"
   ]
  },
  {
   "cell_type": "code",
   "execution_count": null,
   "id": "30584aed",
   "metadata": {},
   "outputs": [],
   "source": [
    "options = Options(\n",
    "    pass_manager=unbound_pm,\n",
    "    bound_pass_manager=bound_pm\n",
    ")\n",
    "estimator = Estimator(options=options)\n",
    "\n",
    "algo = Algorithm(estimator)"
   ]
  },
  {
   "cell_type": "markdown",
   "id": "216d2706",
   "metadata": {},
   "source": [
    "* compilation remains job of the primitives (allows offloading heavy tasks too)\n",
    "* keep algorithm interfaces separated from compiling\n",
    "* (no QI replacement)"
   ]
  },
  {
   "cell_type": "markdown",
   "id": "fe09da67",
   "metadata": {},
   "source": [
    "Problem: what about custom passes? \n",
    "* Not safely serializable\n",
    "* Can they maybe run locally \n",
    "    * What about preprocessing? Does everything happen locally up until the point where we can offload to the server? --> Yes!"
   ]
  },
  {
   "cell_type": "markdown",
   "id": "d005895c",
   "metadata": {},
   "source": [
    "### Solution 2 -- no nos gusta!\n",
    "\n",
    "Attach the pass managers to the algorithm and skip transpilation on the primitives."
   ]
  },
  {
   "cell_type": "code",
   "execution_count": null,
   "id": "5cbac9f7",
   "metadata": {},
   "outputs": [],
   "source": [
    "class EveryAlgorithm:\n",
    "    def __init__(self, estimator, setting1, setting2, unbound_pm=None, bound_pm=None):\n",
    "        self.estimator = estimator\n",
    "        ...\n",
    "        \n",
    "    def run(self, problem):\n",
    "        if self.bound_pm is not None and self.unbound_pm is not None:\n",
    "            skip_transpilation = True\n",
    "        \n",
    "        # transpile circuits\n",
    "        self.estimator.run(circuit, observable, skip_transpilation=skip_transpilation)"
   ]
  },
  {
   "cell_type": "markdown",
   "id": "0b537203",
   "metadata": {},
   "source": [
    "* Couples algorithms and compiling\n",
    "* Need to do this for all algorithms --> wrapping primitives convenient --> new \"QI\"?"
   ]
  },
  {
   "cell_type": "code",
   "execution_count": 10,
   "id": "3eb66f7c",
   "metadata": {},
   "outputs": [
    {
     "name": "stdout",
     "output_type": "stream",
     "text": [
      "|██████████████████████████████████████████████████| 100/100 [00:00:00:00]\n"
     ]
    }
   ],
   "source": [
    "import numpy as np\n",
    "from qiskit.tools.events import TextProgressBar\n",
    "\n",
    "iterations = 100\n",
    "t = TextProgressBar()\n",
    "t.start(iterations=iterations)\n",
    "\n",
    "for i in range(iterations):\n",
    "    # step i of heavy calculation ...\n",
    "    t.update(i + 1)  # update progress bar"
   ]
  },
  {
   "cell_type": "code",
   "execution_count": 5,
   "id": "6467c9c8",
   "metadata": {},
   "outputs": [
    {
     "name": "stdout",
     "output_type": "stream",
     "text": [
      "\r",
      "|█████---------------------------------------------| 10/100 [00:00:03:28]"
     ]
    }
   ],
   "source": [
    "t.update(10)"
   ]
  },
  {
   "cell_type": "code",
   "execution_count": null,
   "id": "d7f62fb4",
   "metadata": {},
   "outputs": [],
   "source": []
  },
  {
   "cell_type": "code",
   "execution_count": 3,
   "id": "6ae014e3",
   "metadata": {},
   "outputs": [],
   "source": [
    "%qiskit_progress_bar -t text\n",
    "_ = [np.sin(x) for x in np.linspace(0,10,100)];"
   ]
  },
  {
   "cell_type": "code",
   "execution_count": null,
   "id": "86c15651",
   "metadata": {},
   "outputs": [],
   "source": []
  }
 ],
 "metadata": {
  "kernelspec": {
   "display_name": "Python 3",
   "language": "python",
   "name": "python3"
  },
  "language_info": {
   "codemirror_mode": {
    "name": "ipython",
    "version": 3
   },
   "file_extension": ".py",
   "mimetype": "text/x-python",
   "name": "python",
   "nbconvert_exporter": "python",
   "pygments_lexer": "ipython3",
   "version": "3.10.4"
  }
 },
 "nbformat": 4,
 "nbformat_minor": 5
}
