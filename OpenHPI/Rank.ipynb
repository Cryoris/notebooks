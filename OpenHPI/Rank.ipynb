{
 "cells": [
  {
   "cell_type": "code",
   "execution_count": 3,
   "metadata": {},
   "outputs": [],
   "source": []
  },
  {
   "cell_type": "code",
   "execution_count": 12,
   "metadata": {},
   "outputs": [],
   "source": [
    "from typing import Union, Optional, Callable\n",
    "import numpy as np\n",
    "import scipy as sc\n",
    "\n",
    "from qiskit.circuit import QuantumCircuit\n",
    "from qiskit.opflow import (\n",
    "    OperatorBase,\n",
    "    PauliSumOp,\n",
    ")\n",
    "from qiskit.providers import Backend\n",
    "from qiskit.quantum_info import Statevector\n",
    "\n",
    "from surfer.qfi import ReverseQFI\n",
    "from surfer.gradient import ReverseGradient\n",
    "\n",
    "\n",
    "class VarQITE:\n",
    "    \"\"\"Exact imaginary time evolution based on matrix exponentiation.\"\"\"\n",
    "\n",
    "    def __init__(\n",
    "        self,\n",
    "        ansatz: QuantumCircuit,\n",
    "        initial_parameters: np.ndarray,\n",
    "        regularization: float = 0.01,\n",
    "        lse_solver: Optional[Callable[[np.ndarray, np.ndarray], np.ndarray]] = None,\n",
    "    ) -> None:\n",
    "        \"\"\"\n",
    "        Args:\n",
    "            ansatz: The parameterized circuit used for the variational time evolution.\n",
    "            initial_parameters: The initial parameters for the circuit.\n",
    "            backend: The backend to run the circuits on.\n",
    "            perturbation: The small perturbation to estimate the gradients at the current parameters.\n",
    "        \"\"\"\n",
    "        self.ansatz = ansatz\n",
    "        self.initial_parameters = initial_parameters\n",
    "        self.regularization = regularization\n",
    "\n",
    "        if lse_solver is None:\n",
    "            lse_solver = np.linalg.solve\n",
    "\n",
    "        self.lse_solver = lse_solver\n",
    "\n",
    "    def evolve(\n",
    "        self, hamiltonian: OperatorBase, final_time: float, timestep: float\n",
    "    ) -> dict:\n",
    "        if not isinstance(hamiltonian, PauliSumOp):\n",
    "            raise ValueError(\"Hamiltonian must be a PauliSumOp.\")\n",
    "        hamiltonian = hamiltonian.primitive.to_matrix(sparse=True)\n",
    "\n",
    "        energy = self._get_energy_evaluation(hamiltonian)\n",
    "        qgt = self._get_qgt_evaluation()\n",
    "        b = self._get_b_evaluation(hamiltonian)\n",
    "\n",
    "        times = [0]\n",
    "        energies = [energy(self.initial_parameters)]\n",
    "        x = [self.initial_parameters]\n",
    "        qgts = []\n",
    "        bs = []\n",
    "\n",
    "        while times[-1] < final_time:\n",
    "            qgts.append(qgt(x[-1]))\n",
    "            bs.append(b(x[-1]))\n",
    "            update = self.lse_solver(\n",
    "                qgts[-1] + self.regularization * np.identity(x[-1].size), bs[-1]\n",
    "            ).real\n",
    "            x.append(x[-1] + timestep * update)\n",
    "            energies.append(energy(x[-1]))\n",
    "            times.append(times[-1] + timestep)\n",
    "\n",
    "        # build the final result object\n",
    "        result = {\"times\": times, \"energies\": energies, \"x\": x, \"qgt\": qgts, \"b\": b}\n",
    "        return result\n",
    "\n",
    "    def _get_energy_evaluation(self, hamiltonian):\n",
    "        def evaluate_energy(parameters):\n",
    "            state = Statevector(self.ansatz.bind_parameters(parameters)).data\n",
    "            energy = np.conj(state.T).dot(hamiltonian.dot(state))\n",
    "            if np.abs(np.imag(energy)) > 1e-10:\n",
    "                raise RuntimeError(f\"Energy is not real: {energy}\")\n",
    "            return np.real(energy)\n",
    "\n",
    "        return evaluate_energy\n",
    "\n",
    "    def _get_qgt_evaluation(self):\n",
    "        qfi = ReverseQFI(do_checks=False)\n",
    "\n",
    "        def evaluate_qgt(parameters):\n",
    "            return qfi.compute(self.ansatz, parameters) / 4\n",
    "\n",
    "    \n",
    "        return evaluate_qgt\n",
    "\n",
    "    def _get_b_evaluation(self, hamiltonian):\n",
    "        gradient = ReverseGradient(do_checks=False)\n",
    "\n",
    "        def evaluate_b(parameters):\n",
    "            return -np.real(gradient.compute(hamiltonian, self.ansatz, parameters)) / 2\n",
    "\n",
    "        return evaluate_b"
   ]
  },
  {
   "cell_type": "code",
   "execution_count": 64,
   "metadata": {},
   "outputs": [],
   "source": [
    "from qiskit.circuit.library import EfficientSU2\n",
    "from qiskit.opflow import PauliSumOp\n",
    "\n",
    "circuit = EfficientSU2(num_qubits=2, reps=1)\n",
    "x0 = np.zeros(circuit.num_parameters)\n",
    "hamiltonian = PauliSumOp.from_list([(\"XI\", -1), (\"IX\", -1), (\"ZZ\", 0.1)])"
   ]
  },
  {
   "cell_type": "code",
   "execution_count": 65,
   "metadata": {},
   "outputs": [],
   "source": [
    "varqite = VarQITE(circuit, x0)\n",
    "result = varqite.evolve(hamiltonian, final_time=1, timestep=0.01)"
   ]
  },
  {
   "cell_type": "code",
   "execution_count": 60,
   "metadata": {},
   "outputs": [
    {
     "data": {
      "text/plain": [
       "<function numpy.linalg.matrix_rank(M, tol=None, hermitian=False)>"
      ]
     },
     "execution_count": 60,
     "metadata": {},
     "output_type": "execute_result"
    }
   ],
   "source": [
    "np.linalg.matrix_rank"
   ]
  },
  {
   "cell_type": "code",
   "execution_count": 61,
   "metadata": {},
   "outputs": [],
   "source": [
    "times = result[\"times\"][1:]\n",
    "qgts = result[\"qgt\"]\n"
   ]
  },
  {
   "cell_type": "code",
   "execution_count": 62,
   "metadata": {},
   "outputs": [
    {
     "name": "stdout",
     "output_type": "stream",
     "text": [
      "24\n"
     ]
    }
   ],
   "source": [
    "print(circuit.num_parameters)"
   ]
  },
  {
   "cell_type": "code",
   "execution_count": 63,
   "metadata": {},
   "outputs": [
    {
     "data": {
      "text/plain": [
       "<matplotlib.legend.Legend at 0x7fefe153f4d0>"
      ]
     },
     "execution_count": 63,
     "metadata": {},
     "output_type": "execute_result"
    },
    {
     "data": {
      "image/png": "[encoded data removed]",
      "text/plain": [
       "<Figure size 432x288 with 1 Axes>"
      ]
     },
     "metadata": {
      "needs_background": "light"
     },
     "output_type": "display_data"
    }
   ],
   "source": [
    "import matplotlib.pyplot as plt\n",
    "\n",
    "for tol in [0.1, 0.01, 0.001, 1e-6]:\n",
    "    ranks = [np.linalg.matrix_rank(qgt, tol=tol, hermitian=True) for qgt in qgts]\n",
    "    plt.plot(times, ranks, label=tol)\n",
    "plt.legend()"
   ]
  },
  {
   "cell_type": "code",
   "execution_count": 68,
   "metadata": {},
   "outputs": [],
   "source": [
    "def get_ranks(reps, tol=1e-6):\n",
    "    circuit = EfficientSU2(num_qubits=2, reps=reps)\n",
    "    x0 = np.zeros(circuit.num_parameters)\n",
    "    varqite = VarQITE(circuit, x0)\n",
    "    result = varqite.evolve(hamiltonian, final_time=1, timestep=0.01)\n",
    "    ranks = [np.linalg.matrix_rank(qgt, tol=tol, hermitian=True) for qgt in result[\"qgt\"]]\n",
    "    return result[\"times\"], ranks"
   ]
  },
  {
   "cell_type": "code",
   "execution_count": 69,
   "metadata": {},
   "outputs": [
    {
     "name": "stdout",
     "output_type": "stream",
     "text": [
      "rep 1\n",
      "rep 2\n",
      "rep 3\n",
      "rep 4\n",
      "rep 5\n"
     ]
    }
   ],
   "source": [
    "times = []\n",
    "repranks = {}\n",
    "for reps in [1, 2, 3, 4, 5]:\n",
    "    print(\"rep\", reps)\n",
    "    times, ranks = get_ranks(reps)\n",
    "    repranks[reps] = ranks"
   ]
  },
  {
   "cell_type": "code",
   "execution_count": 73,
   "metadata": {},
   "outputs": [],
   "source": [
    "num_qubits = 2\n",
    "partial_ranks = {reps: np.array(ranks) / (2 * num_qubits * (reps + 1)) for reps, ranks in repranks.items()}"
   ]
  },
  {
   "cell_type": "code",
   "execution_count": 75,
   "metadata": {},
   "outputs": [
    {
     "data": {
      "text/plain": [
       "<matplotlib.legend.Legend at 0x7fefa106a1d0>"
      ]
     },
     "execution_count": 75,
     "metadata": {},
     "output_type": "execute_result"
    },
    {
     "data": {
      "image/png": "[encoded data removed]",
      "text/plain": [
       "<Figure size 432x288 with 1 Axes>"
      ]
     },
     "metadata": {
      "needs_background": "light"
     },
     "output_type": "display_data"
    }
   ],
   "source": [
    "for rep, partial_rank in partial_ranks.items():\n",
    "    plt.plot(times[1:], partial_rank, label=f\"r = {rep}\")\n",
    "    \n",
    "plt.title(\"QGT rank per timestep / full rank\")\n",
    "plt.xlabel(\"time\")\n",
    "plt.ylabel(\"rank fraction\")\n",
    "plt.legend()"
   ]
  },
  {
   "cell_type": "code",
   "execution_count": null,
   "metadata": {},
   "outputs": [],
   "source": []
  }
 ],
 "metadata": {
  "kernelspec": {
   "display_name": "Python 3",
   "language": "python",
   "name": "python3"
  },
  "language_info": {
   "codemirror_mode": {
    "name": "ipython",
    "version": 3
   },
   "file_extension": ".py",
   "mimetype": "text/x-python",
   "name": "python",
   "nbconvert_exporter": "python",
   "pygments_lexer": "ipython3",
   "version": "3.7.9"
  }
 },
 "nbformat": 4,
 "nbformat_minor": 4
}
