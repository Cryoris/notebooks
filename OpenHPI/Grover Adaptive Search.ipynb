{
 "cells": [
  {
   "cell_type": "markdown",
   "id": "a06ce7d1",
   "metadata": {},
   "source": [
    "# Portfolio Optimization with Grover Adaptive Search\n",
    "\n",
    "Let's consider a portfolio optimization where we want to find the optimal combination of three possible assets. The optimization problem is given by\n",
    "\n",
    "$$\n",
    "\\min_x x^T Q x + \\mu^T x\n",
    "$$\n",
    "\n",
    "with\n",
    "\n",
    "$$\n",
    "Q \n",
    "=\n",
    "\\begin{pmatrix}\n",
    "1 & 0 & -2 \\\\\n",
    "0 & 2 & -1 \\\\\n",
    "-2 & -1 & 5\n",
    "\\end{pmatrix},~~\n",
    "\\mu = \n",
    "\\begin{pmatrix}\n",
    "-1 \\\\ 2 \\\\ -3\n",
    "\\end{pmatrix}\n",
    "$$"
   ]
  },
  {
   "cell_type": "code",
   "execution_count": 1,
   "id": "432f0197",
   "metadata": {},
   "outputs": [],
   "source": [
    "import numpy as np\n",
    "\n",
    "Q = np.array([\n",
    "    [1, 0, -2],\n",
    "    [0, 2, -1],\n",
    "    [-2, -1, 5]\n",
    "]) \n",
    "mu = np.array([-1, 2, -3])"
   ]
  },
  {
   "cell_type": "markdown",
   "id": "fb6aee57",
   "metadata": {},
   "source": [
    "We define a `QuadraticProgram` based on the above"
   ]
  },
  {
   "cell_type": "code",
   "execution_count": 2,
   "id": "67bedda1",
   "metadata": {},
   "outputs": [
    {
     "name": "stdout",
     "output_type": "stream",
     "text": [
      "minimize x0^2 - 4*x0*x2 + 2*x1^2 - 2*x1*x2 + 5*x2^2 - x0 + 2*x1 - 3*x2 (3 variables, 0 constraints, '')\n"
     ]
    }
   ],
   "source": [
    "from qiskit_optimization import QuadraticProgram\n",
    "\n",
    "qp = QuadraticProgram()\n",
    "_ = [qp.binary_var() for _ in range(3)]\n",
    "qp.minimize(linear=mu, quadratic=Q)\n",
    "print(qp)"
   ]
  },
  {
   "cell_type": "markdown",
   "id": "387d1f6c",
   "metadata": {},
   "source": [
    "and then use Qiskit Optimization's `GroverOptimizer` to optimize!"
   ]
  },
  {
   "cell_type": "code",
   "execution_count": 3,
   "id": "40082a3b",
   "metadata": {},
   "outputs": [],
   "source": [
    "from qiskit.primitives import Sampler\n",
    "from qiskit_optimization.algorithms import GroverOptimizer\n",
    "\n",
    "num_value_qubits = 6  # number of qubits to represent the threshold and cost\n",
    "num_iterations = 10  # number of times the solution has to stay the same\n",
    "opt = GroverOptimizer(num_value_qubits, num_iterations=num_iterations, sampler=Sampler())"
   ]
  },
  {
   "cell_type": "code",
   "execution_count": 4,
   "id": "0ae7478a",
   "metadata": {},
   "outputs": [],
   "source": [
    "result = opt.solve(qp)"
   ]
  },
  {
   "cell_type": "code",
   "execution_count": 5,
   "id": "1b9390d1",
   "metadata": {},
   "outputs": [
    {
     "name": "stdout",
     "output_type": "stream",
     "text": [
      "fval=-2.0, x0=1.0, x1=0.0, x2=1.0, status=SUCCESS\n"
     ]
    }
   ],
   "source": [
    "print(result)"
   ]
  },
  {
   "cell_type": "markdown",
   "id": "4adaec92",
   "metadata": {},
   "source": [
    "Since this is a small instance we can manually verify the solution."
   ]
  },
  {
   "cell_type": "code",
   "execution_count": 6,
   "id": "d1df38ca",
   "metadata": {},
   "outputs": [],
   "source": [
    "possible_states = [np.array([x1, x2, x3]) for x1 in range(2) for x2 in range(2) for x3 in range(2)]\n",
    "values = [x.dot(Q.dot(x)) + mu.dot(x) for x in possible_states]"
   ]
  },
  {
   "cell_type": "code",
   "execution_count": 7,
   "id": "5c06e660",
   "metadata": {},
   "outputs": [
    {
     "data": {
      "image/png": "[encoded data removed]",
      "text/plain": [
       "<Figure size 432x288 with 1 Axes>"
      ]
     },
     "metadata": {
      "needs_background": "light"
     },
     "output_type": "display_data"
    }
   ],
   "source": [
    "import matplotlib.pyplot as plt\n",
    "\n",
    "labels = [\"\".join(map(str, x)) for x in possible_states]\n",
    "plt.bar(np.arange(len(values)), values)\n",
    "plt.xticks(np.arange(len(values)), labels, rotation=90)\n",
    "plt.axhline(0, color=\"k\")\n",
    "\n",
    "plt.xlabel(\"combinations\")\n",
    "plt.ylabel(\"values\")\n",
    "plt.show()"
   ]
  },
  {
   "cell_type": "markdown",
   "id": "6cb48386",
   "metadata": {},
   "source": [
    "Indeed, `101` is the combination with the minimal cost: the optimal portfolio combines assets 1 and 3!"
   ]
  },
  {
   "cell_type": "code",
   "execution_count": null,
   "id": "67920a56",
   "metadata": {},
   "outputs": [],
   "source": []
  }
 ],
 "metadata": {
  "kernelspec": {
   "display_name": "Python 3",
   "language": "python",
   "name": "python3"
  },
  "language_info": {
   "codemirror_mode": {
    "name": "ipython",
    "version": 3
   },
   "file_extension": ".py",
   "mimetype": "text/x-python",
   "name": "python",
   "nbconvert_exporter": "python",
   "pygments_lexer": "ipython3",
   "version": "3.10.4"
  }
 },
 "nbformat": 4,
 "nbformat_minor": 5
}
