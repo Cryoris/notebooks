{
 "cells": [
  {
   "cell_type": "code",
   "execution_count": 168,
   "metadata": {},
   "outputs": [],
   "source": [
    "import numpy as np\n",
    "import matplotlib.pyplot as plt\n",
    "\n",
    "from qiskit import Aer\n",
    "from qiskit.algorithms.optimizers import COBYLA\n",
    "from qiskit.circuit.library import ZZFeatureMap, RealAmplitudes\n",
    "from qiskit.opflow import Gradient, NaturalGradient\n",
    "from qiskit.utils import QuantumInstance\n",
    "\n",
    "\n",
    "from qiskit_machine_learning.neural_networks import TwoLayerQNN, OpflowQNN\n",
    "from qiskit_machine_learning.algorithms import VQC, NeuralNetworkClassifier\n",
    "from qiskit_machine_learning.datasets import ad_hoc_data"
   ]
  },
  {
   "cell_type": "code",
   "execution_count": 167,
   "metadata": {},
   "outputs": [],
   "source": [
    "\"\"\"A standard gradient descent optimizer.\"\"\"\n",
    "\n",
    "from typing import Iterator, Optional, Union, Callable\n",
    "from functools import partial\n",
    "\n",
    "import numpy as np\n",
    "\n",
    "from qiskit.algorithms.optimizers import Optimizer, OptimizerSupportLevel\n",
    "\n",
    "CALLBACK = Callable[[int, np.ndarray, float], None]\n",
    "\n",
    "\n",
    "class GradientDescent(Optimizer):\n",
    "\n",
    "    def __init__(\n",
    "        self,\n",
    "        maxiter: int = 100,\n",
    "        learning_rate: Union[float, Callable[[], Iterator]] = 0.01,\n",
    "        tol: float = 1e-7,\n",
    "        callback: Optional[CALLBACK] = None,\n",
    "        perturbation: Optional[float] = None,\n",
    "    ) -> None:\n",
    "        super().__init__()\n",
    "\n",
    "        self.maxiter = maxiter\n",
    "        self.learning_rate = learning_rate\n",
    "        self.perturbation = perturbation\n",
    "        self.tol = tol\n",
    "        self.callback = callback\n",
    "\n",
    "    def _minimize(self, loss, grad, initial_point):\n",
    "        # set learning rate\n",
    "        if isinstance(self.learning_rate, float):\n",
    "            eta = constant(self.learning_rate)\n",
    "        else:\n",
    "            eta = self.learning_rate()\n",
    "\n",
    "        if grad is None:\n",
    "            eps = 0.01 if self.perturbation is None else self.perturbation\n",
    "            grad = partial(\n",
    "                Optimizer.gradient_num_diff,\n",
    "                f=loss,\n",
    "                epsilon=eps,\n",
    "                max_evals_grouped=self._max_evals_grouped,\n",
    "            )\n",
    "\n",
    "        # prepare some initials\n",
    "        x = np.asarray(initial_point)\n",
    "        nfevs = 0\n",
    "\n",
    "        for _ in range(1, self.maxiter + 1):\n",
    "            # compute update -- gradient evaluation counts as one function evaluation\n",
    "            update = grad(x)\n",
    "            nfevs += 1\n",
    "\n",
    "            # compute next parameter value\n",
    "            x_next = x - next(eta) * update\n",
    "\n",
    "            # send information to callback\n",
    "            if self.callback is not None:\n",
    "                self.callback(nfevs, x_next, loss(x_next), np.linalg.norm(update))\n",
    "\n",
    "            # update parameters\n",
    "            x = x_next\n",
    "\n",
    "            # check termination\n",
    "            if np.linalg.norm(update) < self.tol:\n",
    "                break\n",
    "\n",
    "        return x, loss(x), nfevs\n",
    "\n",
    "    def get_support_level(self):\n",
    "        \"\"\"Get the support level dictionary.\"\"\"\n",
    "        return {\n",
    "            \"gradient\": OptimizerSupportLevel.supported,\n",
    "            \"bounds\": OptimizerSupportLevel.ignored,\n",
    "            \"initial_point\": OptimizerSupportLevel.required,\n",
    "        }\n",
    "\n",
    "    # pylint: disable=unused-argument\n",
    "    def optimize(\n",
    "        self,\n",
    "        num_vars,\n",
    "        objective_function,\n",
    "        gradient_function=None,\n",
    "        variable_bounds=None,\n",
    "        initial_point=None,\n",
    "    ):\n",
    "        return self._minimize(objective_function, gradient_function, initial_point)\n",
    "\n",
    "\n",
    "def constant(eta=0.01):\n",
    "    \"\"\"Yield a constant.\"\"\"\n",
    "\n",
    "    while True:\n",
    "        yield eta\n"
   ]
  },
  {
   "cell_type": "code",
   "execution_count": 16,
   "metadata": {},
   "outputs": [],
   "source": [
    "q_instance = QuantumInstance(Aer.get_backend('qasm_simulator'), shots=8192)"
   ]
  },
  {
   "cell_type": "code",
   "execution_count": 130,
   "metadata": {},
   "outputs": [],
   "source": [
    "training_features, training_labels, test_features, test_labels = ad_hoc_data(\n",
    "    training_size=20, test_size=10, n=2, gap=0.5\n",
    ")\n",
    "binary_training_labels = np.array([-1. if label[0] == 0 else 1. for label in training_labels])\n",
    "binary_test_labels = np.array([-1. if label[0] == 0 else 1. for label in test_labels])"
   ]
  },
  {
   "cell_type": "code",
   "execution_count": 131,
   "metadata": {},
   "outputs": [
    {
     "data": {
      "image/png": "[encoded data removed]",
      "text/plain": [
       "<Figure size 864x432 with 1 Axes>"
      ]
     },
     "metadata": {
      "needs_background": "light"
     },
     "output_type": "display_data"
    }
   ],
   "source": [
    "plt.figure(figsize=(12,6))\n",
    "\n",
    "# training features\n",
    "\n",
    "\n",
    "# test features\n",
    "# color_a, color_b = [], []\n",
    "# for predicted, correct in zip(predicted_labels, test_labels):\n",
    "#     if correct[0] == 0:\n",
    "#         color_a.append('tab:green' if predicted[0] == correct[0] else 'tab:red')\n",
    "#     else:\n",
    "#         color_b.append('tab:green' if predicted[0] == correct[0] else 'tab:red')\n",
    "\n",
    "for feature, label in zip(training_features, training_labels):\n",
    "    marker = 'o' if label[0] == 1 else '^'\n",
    "    plt.scatter(feature[0], feature[1], marker=marker, s=100, color='tab:blue')\n",
    "    \n",
    "for feature, label in zip(test_features, test_labels):\n",
    "    marker = 'o' if label[0] == 1 else '^'\n",
    "    plt.scatter(feature[0], feature[1], marker=marker, s=100, facecolor='none', edgecolor='tab:blue')\n",
    "    \n",
    "plt.title('Training & test data')\n",
    "plt.xlabel('$x$')\n",
    "plt.ylabel('$y$');\n",
    "# plt.legend(bbox_to_anchor=(1.2, 0.5));"
   ]
  },
  {
   "cell_type": "code",
   "execution_count": null,
   "metadata": {},
   "outputs": [],
   "source": [
    "np.random.seed(4)\n",
    "initial_point = np.random.random(ansatz.num_parameters)"
   ]
  },
  {
   "cell_type": "markdown",
   "metadata": {},
   "source": [
    "## With ``VQC``"
   ]
  },
  {
   "cell_type": "code",
   "execution_count": 95,
   "metadata": {},
   "outputs": [],
   "source": [
    "ansatz = RealAmplitudes(2)\n",
    "feature_map = ZZFeatureMap(2)\n",
    "\n",
    "vqc = VQC(ansatz=ansatz,\n",
    "          feature_map=feature_map,\n",
    "          loss='cross_entropy',\n",
    "          optimizer=COBYLA(),\n",
    "          quantum_instance=q_instance)"
   ]
  },
  {
   "cell_type": "code",
   "execution_count": 96,
   "metadata": {},
   "outputs": [
    {
     "data": {
      "text/plain": [
       "<qiskit_machine_learning.algorithms.classifiers.vqc.VQC at 0x7ff5f82fffd0>"
      ]
     },
     "execution_count": 96,
     "metadata": {},
     "output_type": "execute_result"
    }
   ],
   "source": [
    "vqc.fit(training_features, training_labels)"
   ]
  },
  {
   "cell_type": "code",
   "execution_count": 97,
   "metadata": {},
   "outputs": [],
   "source": [
    "predicted_labels = vqc.predict(test_features)"
   ]
  },
  {
   "cell_type": "code",
   "execution_count": 98,
   "metadata": {},
   "outputs": [
    {
     "data": {
      "image/png": "[encoded data removed]",
      "text/plain": [
       "<Figure size 864x432 with 1 Axes>"
      ]
     },
     "metadata": {
      "needs_background": "light"
     },
     "output_type": "display_data"
    }
   ],
   "source": [
    "plt.figure(figsize=(12,6))\n",
    "\n",
    "for feature, label in zip(training_features, training_labels):\n",
    "    marker = 'o' if label[0] == 1 else '^'\n",
    "    plt.scatter(feature[0], feature[1], marker=marker, s=100, color='tab:blue')\n",
    "    \n",
    "for feature, label, predicted in zip(test_features, test_labels, predicted_labels):\n",
    "    marker = 'o' if label[0] == 1 else '^'\n",
    "    color = 'tab:green' if label[0] == predicted[0] else 'tab:red'\n",
    "    plt.scatter(feature[0], feature[1], marker=marker, s=100, color=color)\n",
    "    \n",
    "plt.title('Training & test data')\n",
    "plt.xlabel('$x$')\n",
    "plt.ylabel('$y$');"
   ]
  },
  {
   "cell_type": "markdown",
   "metadata": {},
   "source": [
    "## With ``TwoLayerQNN``"
   ]
  },
  {
   "cell_type": "code",
   "execution_count": 162,
   "metadata": {},
   "outputs": [],
   "source": [
    "twolayer_qnn = TwoLayerQNN(num_qubits=2, ansatz=ansatz, feature_map=feature_map, quantum_instance=q_instance)\n",
    "twolayer_classifier = NeuralNetworkClassifier(twolayer_qnn, loss='l2', optimizer=COBYLA())"
   ]
  },
  {
   "cell_type": "code",
   "execution_count": 163,
   "metadata": {},
   "outputs": [
    {
     "data": {
      "text/plain": [
       "<qiskit_machine_learning.algorithms.classifiers.neural_network_classifier.NeuralNetworkClassifier at 0x7ff6197d6c50>"
      ]
     },
     "execution_count": 163,
     "metadata": {},
     "output_type": "execute_result"
    }
   ],
   "source": [
    "twolayer_classifier.fit(training_features, binary_training_labels)"
   ]
  },
  {
   "cell_type": "code",
   "execution_count": 164,
   "metadata": {},
   "outputs": [
    {
     "data": {
      "text/plain": [
       "1.0"
      ]
     },
     "execution_count": 164,
     "metadata": {},
     "output_type": "execute_result"
    }
   ],
   "source": [
    "twolayer_classifier.score(training_features, binary_training_labels)"
   ]
  },
  {
   "cell_type": "code",
   "execution_count": 165,
   "metadata": {},
   "outputs": [],
   "source": [
    "twolayer_predicted = twolayer_classifier.predict(test_features)"
   ]
  },
  {
   "cell_type": "code",
   "execution_count": 166,
   "metadata": {},
   "outputs": [
    {
     "data": {
      "image/png": "[encoded data removed]",
      "text/plain": [
       "<Figure size 864x432 with 1 Axes>"
      ]
     },
     "metadata": {
      "needs_background": "light"
     },
     "output_type": "display_data"
    }
   ],
   "source": [
    "plt.figure(figsize=(12,6))\n",
    "\n",
    "for feature, label in zip(training_features, training_labels):\n",
    "    marker = 'o' if label[0] == 1 else '^'\n",
    "    plt.scatter(feature[0], feature[1], marker=marker, s=100, color='tab:blue')\n",
    "    \n",
    "for feature, label, predicted in zip(test_features, binary_test_labels, twolayer_predicted):\n",
    "    marker = 'o' if label == 1 else '^'\n",
    "    color = 'tab:green' if label == predicted else 'tab:red'\n",
    "    plt.scatter(feature[0], feature[1], marker=marker, s=100, color=color)\n",
    "    \n",
    "plt.title('Training & test data')\n",
    "plt.xlabel('$x$')\n",
    "plt.ylabel('$y$');"
   ]
  },
  {
   "cell_type": "markdown",
   "metadata": {},
   "source": [
    "## With ``OpflowQNN``"
   ]
  },
  {
   "cell_type": "code",
   "execution_count": 143,
   "metadata": {},
   "outputs": [],
   "source": [
    "from qiskit.opflow import PauliSumOp"
   ]
  },
  {
   "cell_type": "code",
   "execution_count": 152,
   "metadata": {},
   "outputs": [],
   "source": [
    "circuit = feature_map.compose(ansatz)\n",
    "operator = PauliSumOp.from_list([(\"Z\" * 2, 1)])\n",
    "expectation = StateFn(operator, is_measurement=True) @ StateFn(circuit)"
   ]
  },
  {
   "cell_type": "code",
   "execution_count": 153,
   "metadata": {},
   "outputs": [
    {
     "data": {
      "text/plain": [
       "PauliOp(Pauli('ZZ'), coeff=1.0)"
      ]
     },
     "execution_count": 153,
     "metadata": {},
     "output_type": "execute_result"
    }
   ],
   "source": [
    "operator.to_pauli_op()"
   ]
  },
  {
   "cell_type": "code",
   "execution_count": 157,
   "metadata": {},
   "outputs": [],
   "source": [
    "opflow_qnn = OpflowQNN(expectation, \n",
    "                       input_params=list(feature_map.parameters), \n",
    "                       weight_params=list(ansatz.parameters),\n",
    "                       quantum_instance=q_instance)\n",
    "opflow_classifier = NeuralNetworkClassifier(opflow_qnn, loss='l2', optimizer=COBYLA())"
   ]
  },
  {
   "cell_type": "code",
   "execution_count": 158,
   "metadata": {},
   "outputs": [
    {
     "data": {
      "text/plain": [
       "<qiskit_machine_learning.algorithms.classifiers.neural_network_classifier.NeuralNetworkClassifier at 0x7ff659106350>"
      ]
     },
     "execution_count": 158,
     "metadata": {},
     "output_type": "execute_result"
    }
   ],
   "source": [
    "opflow_classifier.fit(training_features, binary_training_labels)"
   ]
  },
  {
   "cell_type": "code",
   "execution_count": 159,
   "metadata": {},
   "outputs": [
    {
     "data": {
      "text/plain": [
       "1.0"
      ]
     },
     "execution_count": 159,
     "metadata": {},
     "output_type": "execute_result"
    }
   ],
   "source": [
    "opflow_classifier.score(training_features, binary_training_labels)"
   ]
  },
  {
   "cell_type": "code",
   "execution_count": 160,
   "metadata": {},
   "outputs": [],
   "source": [
    "opflow_predicted = opflow_classifier.predict(test_features)"
   ]
  },
  {
   "cell_type": "code",
   "execution_count": 161,
   "metadata": {},
   "outputs": [
    {
     "data": {
      "image/png": "[encoded data removed]",
      "text/plain": [
       "<Figure size 864x432 with 1 Axes>"
      ]
     },
     "metadata": {
      "needs_background": "light"
     },
     "output_type": "display_data"
    }
   ],
   "source": [
    "plt.figure(figsize=(12,6))\n",
    "\n",
    "for feature, label in zip(training_features, training_labels):\n",
    "    marker = 'o' if label[0] == 1 else '^'\n",
    "    plt.scatter(feature[0], feature[1], marker=marker, s=100, color='tab:blue')\n",
    "    \n",
    "for feature, label, predicted in zip(test_features, binary_test_labels, opflow_predicted):\n",
    "    marker = 'o' if label == 1 else '^'\n",
    "    color = 'tab:green' if label == predicted else 'tab:red'\n",
    "    plt.scatter(feature[0], feature[1], marker=marker, s=100, color=color)\n",
    "    \n",
    "plt.title('Training & test data')\n",
    "plt.xlabel('$x$')\n",
    "plt.ylabel('$y$');"
   ]
  },
  {
   "cell_type": "markdown",
   "metadata": {},
   "source": [
    "## ``OpflowQNN`` and gradients"
   ]
  },
  {
   "cell_type": "code",
   "execution_count": 169,
   "metadata": {},
   "outputs": [],
   "source": [
    "opflow_qnn = OpflowQNN(expectation, \n",
    "                       input_params=list(feature_map.parameters), \n",
    "                       weight_params=list(ansatz.parameters),\n",
    "                       quantum_instance=q_instance)\n",
    "opflow_classifier = NeuralNetworkClassifier(opflow_qnn, loss='l2', optimizer=GradientDescent(maxiter=100))"
   ]
  },
  {
   "cell_type": "code",
   "execution_count": null,
   "metadata": {},
   "outputs": [],
   "source": [
    "opflow_classifier.fit(training_features, binary_training_labels)"
   ]
  },
  {
   "cell_type": "code",
   "execution_count": null,
   "metadata": {},
   "outputs": [],
   "source": [
    "opflow_classifier.score(training_features, binary_training_labels)"
   ]
  },
  {
   "cell_type": "code",
   "execution_count": null,
   "metadata": {},
   "outputs": [],
   "source": [
    "opflow_predicted = opflow_classifier.predict(test_features)"
   ]
  },
  {
   "cell_type": "code",
   "execution_count": null,
   "metadata": {},
   "outputs": [],
   "source": [
    "plt.figure(figsize=(12,6))\n",
    "\n",
    "for feature, label in zip(training_features, training_labels):\n",
    "    marker = 'o' if label[0] == 1 else '^'\n",
    "    plt.scatter(feature[0], feature[1], marker=marker, s=100, color='tab:blue')\n",
    "    \n",
    "for feature, label, predicted in zip(test_features, binary_test_labels, opflow_predicted):\n",
    "    marker = 'o' if label == 1 else '^'\n",
    "    color = 'tab:green' if label == predicted else 'tab:red'\n",
    "    plt.scatter(feature[0], feature[1], marker=marker, s=100, color=color)\n",
    "    \n",
    "plt.title('Training & test data')\n",
    "plt.xlabel('$x$')\n",
    "plt.ylabel('$y$');"
   ]
  },
  {
   "cell_type": "code",
   "execution_count": 23,
   "metadata": {},
   "outputs": [],
   "source": [
    "from qiskit.opflow import Z, StateFn, CircuitSampler\n",
    "\n",
    "x_params = list(feature_map.parameters)\n",
    "theta_params = list(ansatz.parameters)\n",
    "\n",
    "operator = Z ^ Z\n",
    "expectation = StateFn(operator, is_measurement=True).compose(StateFn(ansatz))\n",
    "sampler = CircuitSampler(q_instance)\n",
    "\n",
    "def predict(x, theta, return_probability=True):\n",
    "    x_dict = dict(zip(x_params, x))\n",
    "    theta_dict = dict(zip(theta_params, theta))\n",
    "    sampled = sampler.convert(expectation, {**x_dict, **theta_dict})\n",
    "    probability = 0.5 * (1 - np.real(sampled.eval()))\n",
    "    if return_probability:\n",
    "        return probability\n",
    "    # else return label\n",
    "    return int(probability > 0.5)"
   ]
  },
  {
   "cell_type": "code",
   "execution_count": 25,
   "metadata": {},
   "outputs": [],
   "source": [
    "def single_loss(x, y, theta):\n",
    "    probability = predict(x, theta)\n",
    "    return -y * np.log(probability) - (1 - y) * np.log(1 - probability)"
   ]
  },
  {
   "cell_type": "code",
   "execution_count": 33,
   "metadata": {},
   "outputs": [],
   "source": [
    "def loss(features, labels, theta, callback=None):\n",
    "    value = np.sum([single_loss(x_i, y_i, theta) for x_i, y_i in zip(features, labels)])\n",
    "    if callback is not None:\n",
    "        callback(value)\n",
    "    return value"
   ]
  },
  {
   "cell_type": "code",
   "execution_count": 40,
   "metadata": {},
   "outputs": [],
   "source": [
    "initial_point = np.random.random(ansatz.num_parameters)\n",
    "optimizer = COBYLA()"
   ]
  },
  {
   "cell_type": "code",
   "execution_count": 42,
   "metadata": {},
   "outputs": [],
   "source": [
    "training_loss = lambda theta: loss(training_features, binary_training_labels, theta)"
   ]
  },
  {
   "cell_type": "code",
   "execution_count": 43,
   "metadata": {},
   "outputs": [],
   "source": [
    "theta_opt, loss_opt, nfevs = optimizer.optimize(ansatz.num_parameters, training_loss, initial_point=initial_point)"
   ]
  },
  {
   "cell_type": "code",
   "execution_count": 49,
   "metadata": {},
   "outputs": [
    {
     "data": {
      "text/plain": [
       "(27.73896639925905, 80)"
      ]
     },
     "execution_count": 49,
     "metadata": {},
     "output_type": "execute_result"
    }
   ],
   "source": [
    "loss_opt, nfevs"
   ]
  },
  {
   "cell_type": "code",
   "execution_count": 44,
   "metadata": {},
   "outputs": [],
   "source": [
    "my_predicted_labels = [predict(feature, theta_opt, False) for feature in test_features]"
   ]
  },
  {
   "cell_type": "code",
   "execution_count": 47,
   "metadata": {},
   "outputs": [
    {
     "data": {
      "image/png": "[encoded data removed]",
      "text/plain": [
       "<Figure size 864x432 with 1 Axes>"
      ]
     },
     "metadata": {
      "needs_background": "light"
     },
     "output_type": "display_data"
    }
   ],
   "source": [
    "plt.figure(figsize=(12,6))\n",
    "\n",
    "for feature, label in zip(training_features, training_labels):\n",
    "    marker = 'o' if label[0] == 1 else '^'\n",
    "    plt.scatter(feature[0], feature[1], marker=marker, s=100, color='tab:blue')\n",
    "    \n",
    "for feature, label, predicted in zip(test_features, test_labels, my_predicted_labels):\n",
    "    marker = 'o' if label[0] == 1 else '^'\n",
    "    color = 'tab:green' if label[0] == predicted else 'tab:red'\n",
    "    plt.scatter(feature[0], feature[1], marker=marker, s=100, color=color)\n",
    "    \n",
    "plt.title('Training & test data')\n",
    "plt.xlabel('$x$')\n",
    "plt.ylabel('$y$');"
   ]
  },
  {
   "cell_type": "code",
   "execution_count": null,
   "metadata": {},
   "outputs": [],
   "source": []
  }
 ],
 "metadata": {
  "kernelspec": {
   "display_name": "Python 3",
   "language": "python",
   "name": "python3"
  },
  "language_info": {
   "codemirror_mode": {
    "name": "ipython",
    "version": 3
   },
   "file_extension": ".py",
   "mimetype": "text/x-python",
   "name": "python",
   "nbconvert_exporter": "python",
   "pygments_lexer": "ipython3",
   "version": "3.7.9"
  }
 },
 "nbformat": 4,
 "nbformat_minor": 4
}
