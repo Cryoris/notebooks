{
 "cells": [
  {
   "cell_type": "markdown",
   "id": "cdded928",
   "metadata": {},
   "source": [
    "# Sampler and Estimator algorithm variants"
   ]
  },
  {
   "cell_type": "markdown",
   "id": "70ef7064",
   "metadata": {},
   "source": [
    "Some of our algorithms could work with either an `Estimator` or a `Sampler` as primitive to execute circuits."
   ]
  },
  {
   "cell_type": "markdown",
   "id": "f7330afa",
   "metadata": {},
   "source": [
    "**Grover**\n",
    "\n",
    "**Amplitude Estimation**\n",
    "\n",
    "**Iterative / ML Amplitude Estimation**\n",
    "\n",
    "**Trotter**\n",
    "\n",
    "**Variational Time Evolution**\n",
    "\n",
    "**p-VQD**"
   ]
  },
  {
   "cell_type": "code",
   "execution_count": null,
   "id": "2b216d30",
   "metadata": {},
   "outputs": [],
   "source": []
  }
 ],
 "metadata": {
  "kernelspec": {
   "display_name": "Python 3",
   "language": "python",
   "name": "python3"
  },
  "language_info": {
   "codemirror_mode": {
    "name": "ipython",
    "version": 3
   },
   "file_extension": ".py",
   "mimetype": "text/x-python",
   "name": "python",
   "nbconvert_exporter": "python",
   "pygments_lexer": "ipython3",
   "version": "3.10.4"
  }
 },
 "nbformat": 4,
 "nbformat_minor": 5
}
