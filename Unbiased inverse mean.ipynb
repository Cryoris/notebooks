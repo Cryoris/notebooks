{
 "cells": [
  {
   "cell_type": "code",
   "execution_count": 442,
   "metadata": {},
   "outputs": [],
   "source": [
    "import numpy as np\n",
    "import math\n",
    "from scipy.linalg import sqrtm\n",
    "import matplotlib.pyplot as plt"
   ]
  },
  {
   "cell_type": "code",
   "execution_count": 443,
   "metadata": {},
   "outputs": [],
   "source": [
    "def u():\n",
    "    a = 1\n",
    "    b = 3\n",
    "    return np.random.uniform(a, b, 1)[0]\n",
    "\n",
    "eps = 0.01"
   ]
  },
  {
   "cell_type": "code",
   "execution_count": 444,
   "metadata": {},
   "outputs": [],
   "source": [
    "def u():\n",
    "    return np.random.normal(2, 5, 1)[0]\n",
    "\n",
    "eps = 0.01"
   ]
  },
  {
   "cell_type": "code",
   "execution_count": 107,
   "metadata": {},
   "outputs": [],
   "source": [
    "mean = np.array([1, 2])\n",
    "cov = np.array([[1, 1], [1, 1]])\n",
    "\n",
    "def u():\n",
    "    return np.random.multivariate_normal(mean, cov, 1)"
   ]
  },
  {
   "cell_type": "code",
   "execution_count": 254,
   "metadata": {},
   "outputs": [],
   "source": [
    "base = np.array([[10, 1], [3, 4]])\n",
    "\n",
    "def u():\n",
    "    return base + 2 * np.random.normal(np.array([0, 0]), np.ones((2, 2)), size=(1, 2, 2))[0]"
   ]
  },
  {
   "cell_type": "code",
   "execution_count": 255,
   "metadata": {},
   "outputs": [
    {
     "data": {
      "text/plain": [
       "array([[10.45909839,  5.04959902],\n",
       "       [ 7.49204888,  5.56011157]])"
      ]
     },
     "execution_count": 255,
     "metadata": {},
     "output_type": "execute_result"
    }
   ],
   "source": [
    "u()"
   ]
  },
  {
   "cell_type": "code",
   "execution_count": 256,
   "metadata": {},
   "outputs": [
    {
     "data": {
      "text/plain": [
       "array([[ 0.10810811, -0.02702703],\n",
       "       [-0.08108108,  0.27027027]])"
      ]
     },
     "execution_count": 256,
     "metadata": {},
     "output_type": "execute_result"
    }
   ],
   "source": [
    "np.linalg.inv(base)"
   ]
  },
  {
   "cell_type": "code",
   "execution_count": 445,
   "metadata": {},
   "outputs": [],
   "source": [
    "def m1(k):\n",
    "    return sum(u() for _ in range(k)) / k\n",
    "\n",
    "def m2(k):\n",
    "    return sum(u()**2 for _ in range(k)) / k\n",
    "\n",
    "def w(k):\n",
    "    m1k = m1(k)\n",
    "    return np.min([1 / k * m1k, m1k / m2(k), eps])\n",
    "\n",
    "\n",
    "def p(k):\n",
    "    wk = w(k)\n",
    "    return 1 - np.sqrt(1 / k * sum((1 - wk * u())**2 for _ in range(k)))\n",
    "\n",
    "def q(n, k):\n",
    "    pk = p(k)\n",
    "    return pk * (1 - pk) ** n\n",
    "\n",
    "def beta(k, N):\n",
    "    wk = w(k)\n",
    "    qN = q(N, k)\n",
    "    return wk / qN * np.prod([1 - wk * u() for _ in range(N)])\n",
    "\n",
    "def naive(N):\n",
    "    return 1 / np.mean([u() for _ in range(N)])\n",
    "\n",
    "def naive2(N):\n",
    "    return np.mean([1 / u() for _ in range(N)])"
   ]
  },
  {
   "cell_type": "code",
   "execution_count": 258,
   "metadata": {},
   "outputs": [],
   "source": [
    "def m1(k):\n",
    "    samples = [u() for _ in range()]\n",
    "    return np.sum(samples, axis=0) / k\n",
    "\n",
    "def m2(k):\n",
    "    samples = [u() for _ in range(k)]\n",
    "    summed = np.zeros((2, 2))\n",
    "    for sample in samples:\n",
    "        summed += sample.dot(sample)\n",
    "    return summed / k\n",
    "\n",
    "def w(k):\n",
    "    return eps\n",
    "    m1k = m1(k)\n",
    "    return np.min([1 / k * m1k, m1k / m2(k), eps])\n",
    "\n",
    "\n",
    "def p(k):\n",
    "    wk = w(k)\n",
    "    samples = [np.eye(2) - wk * u() for _ in range(k)]\n",
    "    summed = np.zeros((2, 2))\n",
    "    for sample in samples:\n",
    "        summed += sample.dot(sample)\n",
    "    \n",
    "    return np.eye(2) - sqrtm(1 / k * summed)\n",
    "\n",
    "def q(n, k):\n",
    "    pk = p(k)\n",
    "    qn = pk\n",
    "    for _ in range(n):\n",
    "        qn = qn.dot(np.eye(2) - pk)\n",
    "    return qn\n",
    "\n",
    "def beta(k, N):\n",
    "    wk = w(k)\n",
    "    qN = q(N, k)\n",
    "    samples = [np.eye(2) - wk * u() for _ in range(N)]\n",
    "    prod = samples[0]\n",
    "    for sample in samples[1:]:\n",
    "        prod = prod.dot(sample)\n",
    "    return wk * np.linalg.inv(qN).dot(prod)\n",
    "\n",
    "def naive(N):\n",
    "    return np.linalg.inv(np.mean([u() for _ in range(N)], axis=0))"
   ]
  },
  {
   "cell_type": "code",
   "execution_count": 447,
   "metadata": {},
   "outputs": [
    {
     "data": {
      "text/plain": [
       "<matplotlib.legend.Legend at 0x7fb0f1346bd0>"
      ]
     },
     "execution_count": 447,
     "metadata": {},
     "output_type": "execute_result"
    },
    {
     "data": {
      "image/png": "[encoded data removed]",
      "text/plain": [
       "<Figure size 432x288 with 1 Axes>"
      ]
     },
     "metadata": {
      "needs_background": "light"
     },
     "output_type": "display_data"
    }
   ],
   "source": [
    "exact = np.linalg.inv(base)\n",
    "exact = 1/2\n",
    "\n",
    "for n in 2 ** np.arange(4, 10):\n",
    "    beta_sample = np.mean([beta(n, n) for _ in range(1000)])\n",
    "    naive_sample = np.mean([naive(n) for _ in range(1000)])\n",
    "    \n",
    "    if n == 2 ** 4:\n",
    "        plt.plot(n, beta_sample, marker='o', color='tab:green', label='unbiased')\n",
    "        plt.plot(n, naive_sample, marker='o', color='tab:orange', label='biased')\n",
    "    else:\n",
    "        plt.plot(n, beta_sample, marker='o', color='tab:green')\n",
    "        plt.plot(n, naive_sample, marker='o', color='tab:orange')\n",
    "    \n",
    "plt.axhline(exact, label='exact')\n",
    "plt.legend(loc='best')\n",
    "    \n",
    "#     plt.errorbar(n, np.mean(beta_errs), yerr=np.std(beta_errs), marker='o', color='tab:green')\n",
    "#     plt.errorbar(n, np.mean(naive_errs), yerr=np.std(naive_errs), marker='o', color='tab:blue')"
   ]
  },
  {
   "cell_type": "code",
   "execution_count": 276,
   "metadata": {},
   "outputs": [
    {
     "data": {
      "text/plain": [
       "array([[ 0.10779232, -0.02863408],\n",
       "       [-0.08016343,  0.26781071]])"
      ]
     },
     "execution_count": 276,
     "metadata": {},
     "output_type": "execute_result"
    }
   ],
   "source": [
    "beta(1000, 1)"
   ]
  },
  {
   "cell_type": "code",
   "execution_count": 275,
   "metadata": {},
   "outputs": [
    {
     "data": {
      "text/plain": [
       "array([[ 0.10826602, -0.02592476],\n",
       "       [-0.08116969,  0.26595243]])"
      ]
     },
     "execution_count": 275,
     "metadata": {},
     "output_type": "execute_result"
    }
   ],
   "source": [
    "naive(1000)"
   ]
  },
  {
   "cell_type": "code",
   "execution_count": 179,
   "metadata": {},
   "outputs": [
    {
     "data": {
      "text/plain": [
       "array([[ 7,  6],\n",
       "       [18, 19]])"
      ]
     },
     "execution_count": 179,
     "metadata": {},
     "output_type": "execute_result"
    }
   ],
   "source": [
    "a.dot(a)"
   ]
  },
  {
   "cell_type": "code",
   "execution_count": 177,
   "metadata": {},
   "outputs": [
    {
     "data": {
      "text/plain": [
       "array([[ 4,  1],\n",
       "       [ 9, 16]])"
      ]
     },
     "execution_count": 177,
     "metadata": {},
     "output_type": "execute_result"
    }
   ],
   "source": [
    "np.prod([a, a], axis=0)"
   ]
  },
  {
   "cell_type": "code",
   "execution_count": 456,
   "metadata": {},
   "outputs": [],
   "source": [
    "mu = 3\n",
    "var = 2\n",
    "\n",
    "def g(x):\n",
    "    return x ** 2\n",
    "\n",
    "def estimate(n):\n",
    "    samples = np.random.normal(mu, var, n)\n",
    "    return np.mean(samples)\n",
    "\n",
    "def bestimate(n):\n",
    "    samples = np.random.normal(mu, var, n)\n",
    "    return np.mean(samples) + 1 / n \n"
   ]
  },
  {
   "cell_type": "code",
   "execution_count": 460,
   "metadata": {},
   "outputs": [
    {
     "data": {
      "text/plain": [
       "<matplotlib.lines.Line2D at 0x7fb0d946a790>"
      ]
     },
     "execution_count": 460,
     "metadata": {},
     "output_type": "execute_result"
    },
    {
     "data": {
      "image/png": "[encoded data removed]",
      "text/plain": [
       "<Figure size 432x288 with 1 Axes>"
      ]
     },
     "metadata": {
      "needs_background": "light"
     },
     "output_type": "display_data"
    }
   ],
   "source": [
    "for n in 2 ** np.arange(2, 10):\n",
    "    meang = np.mean([estimate(n) for _ in range(1000)])\n",
    "    meanb = np.mean([bestimate(n) for _ in range(1000)])\n",
    "\n",
    "    plt.loglog(n, meang, 'o', color='tab:blue')\n",
    "    plt.loglog(n, meanb, 'o', color='tab:orange')\n",
    "\n",
    "    \n",
    "plt.axhline(mu)\n"
   ]
  },
  {
   "cell_type": "code",
   "execution_count": 466,
   "metadata": {},
   "outputs": [
    {
     "data": {
      "image/png": "[encoded data removed]",
      "text/plain": [
       "<Figure size 432x288 with 1 Axes>"
      ]
     },
     "metadata": {
      "needs_background": "light"
     },
     "output_type": "display_data"
    }
   ],
   "source": [
    "for n in 2 ** np.arange(2, 12):\n",
    "    meang = np.mean([estimate(n) for _ in range(1000)])\n",
    "    meanb = np.mean([bestimate(n) for _ in range(1000)])\n",
    "\n",
    "    plt.loglog(n, np.abs(mu - meang), 'o', color='tab:blue')\n",
    "    plt.loglog(n, np.abs(mu - meanb), 'o', color='tab:orange')\n",
    "\n",
    "    "
   ]
  },
  {
   "cell_type": "code",
   "execution_count": 328,
   "metadata": {},
   "outputs": [
    {
     "data": {
      "text/plain": [
       "<matplotlib.lines.Line2D at 0x7fb0f0b71990>"
      ]
     },
     "execution_count": 328,
     "metadata": {},
     "output_type": "execute_result"
    },
    {
     "data": {
      "image/png": "[encoded data removed]",
      "text/plain": [
       "<Figure size 432x288 with 1 Axes>"
      ]
     },
     "metadata": {
      "needs_background": "light"
     },
     "output_type": "display_data"
    }
   ],
   "source": [
    "for n in 2 ** np.arange(2, 10):\n",
    "    meang = np.mean([g(estimate(n)) for _ in range(10000)])\n",
    "    plt.loglog(n, meang, 'o', color='tab:blue')\n",
    "    plt.loglog(n, mu ** 2 + var / n, 'o', color='tab:green')\n",
    "#     plt.loglog(n, mu ** 2 + 2 * mu * var / n, 'o', color='tab:orange')\n",
    "\n",
    "    \n",
    "plt.axhline(g(mu))\n",
    "    "
   ]
  },
  {
   "cell_type": "code",
   "execution_count": 324,
   "metadata": {},
   "outputs": [
    {
     "data": {
      "image/png": "[encoded data removed]",
      "text/plain": [
       "<Figure size 432x288 with 1 Axes>"
      ]
     },
     "metadata": {
      "needs_background": "light"
     },
     "output_type": "display_data"
    }
   ],
   "source": [
    "for n in 2 ** np.arange(2, 10):\n",
    "    meang = np.mean([g(estimate(n)) for _ in range(10000)])\n",
    "    plt.loglog(n, np.abs(meang - mu ** 2 + 2 * mu * var / n), 'o', color='tab:blue')\n"
   ]
  },
  {
   "cell_type": "code",
   "execution_count": 329,
   "metadata": {},
   "outputs": [
    {
     "data": {
      "text/plain": [
       "<matplotlib.lines.Line2D at 0x7fb138d7e090>"
      ]
     },
     "execution_count": 329,
     "metadata": {},
     "output_type": "execute_result"
    },
    {
     "data": {
      "image/png": "[encoded data removed]",
      "text/plain": [
       "<Figure size 432x288 with 1 Axes>"
      ]
     },
     "metadata": {
      "needs_background": "light"
     },
     "output_type": "display_data"
    }
   ],
   "source": [
    "for n in 2 ** np.arange(2, 10):\n",
    "    meang = np.mean([1 / estimate(n) for _ in range(10000)])\n",
    "    plt.loglog(n, meang, 'o', color='tab:blue')\n",
    "    plt.loglog(n, 1 / mu + var / (n * mu ** 3), 'o', color='tab:green')\n",
    "\n",
    "    \n",
    "plt.axhline(1 / mu)"
   ]
  },
  {
   "cell_type": "code",
   "execution_count": null,
   "metadata": {},
   "outputs": [],
   "source": [
    "def u():\n",
    "    return"
   ]
  },
  {
   "cell_type": "code",
   "execution_count": 435,
   "metadata": {},
   "outputs": [],
   "source": [
    "def N():\n",
    "    return np.random.randint(1, 5, 1)[0]\n",
    "\n",
    "def p(n):\n",
    "    return 1 / 5\n",
    "\n",
    "# def g(x, n):\n",
    "#     if n == 0:\n",
    "#         return 1 / x\n",
    "    \n",
    "#     return n * (-1) ** n / (x ** (n + 1))\n",
    "\n",
    "def g(x, n):\n",
    "    if n == 0:\n",
    "        return x ** 2\n",
    "    elif n == 1:\n",
    "        return 2 * x\n",
    "    elif n == 2:\n",
    "        return 2\n",
    "    return 0\n",
    "\n",
    "def V(x, n):\n",
    "    samples = np.random.normal(mu, var, n)\n",
    "    pn = p(n)\n",
    "    nfac = math.factorial(n)\n",
    "#     print(n, nfac)\n",
    "    return g(x, n) / nfac * np.prod(samples - x) / pn"
   ]
  },
  {
   "cell_type": "code",
   "execution_count": null,
   "metadata": {},
   "outputs": [],
   "source": []
  },
  {
   "cell_type": "code",
   "execution_count": 439,
   "metadata": {},
   "outputs": [
    {
     "data": {
      "text/plain": [
       "-91.32752217673789"
      ]
     },
     "execution_count": 439,
     "metadata": {},
     "output_type": "execute_result"
    }
   ],
   "source": [
    "x = np.mean(np.random.normal(mu, var, n)) ** 2\n",
    "Ns = [N() for _  in range(100)]\n",
    "np.mean([V(x, int(Ns_i)) for Ns_i in Ns])"
   ]
  },
  {
   "cell_type": "code",
   "execution_count": null,
   "metadata": {},
   "outputs": [],
   "source": []
  }
 ],
 "metadata": {
  "kernelspec": {
   "display_name": "Python 3",
   "language": "python",
   "name": "python3"
  },
  "language_info": {
   "codemirror_mode": {
    "name": "ipython",
    "version": 3
   },
   "file_extension": ".py",
   "mimetype": "text/x-python",
   "name": "python",
   "nbconvert_exporter": "python",
   "pygments_lexer": "ipython3",
   "version": "3.7.9"
  }
 },
 "nbformat": 4,
 "nbformat_minor": 4
}
