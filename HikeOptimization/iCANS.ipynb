{
 "cells": [
  {
   "cell_type": "code",
   "execution_count": 1,
   "metadata": {},
   "outputs": [],
   "source": [
    "import numpy as np\n",
    "\n",
    "from qiskit import Aer\n",
    "from qiskit.circuit import QuantumCircuit, Parameter, ParameterVector\n",
    "from qiskit.opflow import *\n",
    "from qiskit.utils import QuantumInstance"
   ]
  },
  {
   "cell_type": "code",
   "execution_count": 2,
   "metadata": {},
   "outputs": [],
   "source": [
    "backend = Aer.get_backend(\"qasm_simulator\")\n",
    "shots = 10\n",
    "quantum_instance = QuantumInstance(backend, shots=shots)"
   ]
  },
  {
   "cell_type": "markdown",
   "metadata": {},
   "source": [
    "### Parameterized circuits"
   ]
  },
  {
   "cell_type": "code",
   "execution_count": 3,
   "metadata": {},
   "outputs": [
    {
     "data": {
      "image/png": "[encoded data removed]",
      "text/plain": [
       "<Figure size 133.526x84.28 with 1 Axes>"
      ]
     },
     "execution_count": 3,
     "metadata": {},
     "output_type": "execute_result"
    }
   ],
   "source": [
    "x = Parameter(\"x\")\n",
    "\n",
    "circuit = QuantumCircuit(1)\n",
    "circuit.rx(x, 0)\n",
    "\n",
    "circuit.draw(\"mpl\")"
   ]
  },
  {
   "cell_type": "code",
   "execution_count": 4,
   "metadata": {},
   "outputs": [
    {
     "data": {
      "text/plain": [
       "ParameterView([Parameter(x)])"
      ]
     },
     "execution_count": 4,
     "metadata": {},
     "output_type": "execute_result"
    }
   ],
   "source": [
    "circuit.parameters"
   ]
  },
  {
   "cell_type": "code",
   "execution_count": 5,
   "metadata": {},
   "outputs": [
    {
     "data": {
      "image/png": "[encoded data removed]",
      "text/plain": [
       "<Figure size 133.526x84.28 with 1 Axes>"
      ]
     },
     "execution_count": 5,
     "metadata": {},
     "output_type": "execute_result"
    }
   ],
   "source": [
    "bound = circuit.bind_parameters([1])\n",
    "bound.draw(\"mpl\")"
   ]
  },
  {
   "cell_type": "code",
   "execution_count": 6,
   "metadata": {},
   "outputs": [
    {
     "data": {
      "image/png": "[encoded data removed]",
      "text/plain": [
       "<Figure size 206.852x144.48 with 1 Axes>"
      ]
     },
     "execution_count": 6,
     "metadata": {},
     "output_type": "execute_result"
    }
   ],
   "source": [
    "p = ParameterVector(\"p\", 3)\n",
    "\n",
    "circuit = QuantumCircuit(2)\n",
    "circuit.rx(p[0], 0)\n",
    "circuit.ry(p[1], 1)\n",
    "circuit.crz(p[2], 0, 1)\n",
    "\n",
    "circuit.draw(\"mpl\")"
   ]
  },
  {
   "cell_type": "code",
   "execution_count": 7,
   "metadata": {},
   "outputs": [
    {
     "data": {
      "text/plain": [
       "ParameterView([ParameterVectorElement(p[0]), ParameterVectorElement(p[1]), ParameterVectorElement(p[2])])"
      ]
     },
     "execution_count": 7,
     "metadata": {},
     "output_type": "execute_result"
    }
   ],
   "source": [
    "circuit.parameters"
   ]
  },
  {
   "cell_type": "markdown",
   "metadata": {},
   "source": [
    "### Executing circuits with Opflow"
   ]
  },
  {
   "cell_type": "code",
   "execution_count": 8,
   "metadata": {},
   "outputs": [],
   "source": [
    "hamiltonian = (Z ^ Z) + (X ^ X)"
   ]
  },
  {
   "cell_type": "code",
   "execution_count": 9,
   "metadata": {},
   "outputs": [],
   "source": [
    "sampler = CircuitSampler(quantum_instance)"
   ]
  },
  {
   "cell_type": "code",
   "execution_count": 10,
   "metadata": {},
   "outputs": [
    {
     "name": "stdout",
     "output_type": "stream",
     "text": [
      "ComposedOp([\n",
      "  OperatorMeasurement(1.0 * ZZ\n",
      "  + 1.0 * XX),\n",
      "  CircuitStateFn(\n",
      "       ┌───────┐         \n",
      "  q_0: ┤ Rx(1) ├────■────\n",
      "       ├───────┤┌───┴───┐\n",
      "  q_1: ┤ Ry(2) ├┤ Rz(3) ├\n",
      "       └───────┘└───────┘\n",
      "  )\n",
      "])\n"
     ]
    }
   ],
   "source": [
    "bound = circuit.bind_parameters([1, 2, 3])\n",
    "expectation = StateFn(hamiltonian, is_measurement=True).compose(StateFn(bound))\n",
    "\n",
    "print(expectation)"
   ]
  },
  {
   "cell_type": "code",
   "execution_count": 11,
   "metadata": {},
   "outputs": [
    {
     "name": "stdout",
     "output_type": "stream",
     "text": [
      "SummedOp([\n",
      "  ComposedOp([\n",
      "    OperatorMeasurement(1.0 * ZZ),\n",
      "    CircuitStateFn(\n",
      "         ┌───────┐         \n",
      "    q_0: ┤ Rx(1) ├────■────\n",
      "         ├───────┤┌───┴───┐\n",
      "    q_1: ┤ Ry(2) ├┤ Rz(3) ├\n",
      "         └───────┘└───────┘\n",
      "    )\n",
      "  ]),\n",
      "  ComposedOp([\n",
      "    OperatorMeasurement(1.0 * ZZ),\n",
      "    CircuitStateFn(\n",
      "         ┌───────┐         ┌───┐\n",
      "    q_0: ┤ Rx(1) ├────■────┤ H ├\n",
      "         ├───────┤┌───┴───┐├───┤\n",
      "    q_1: ┤ Ry(2) ├┤ Rz(3) ├┤ H ├\n",
      "         └───────┘└───────┘└───┘\n",
      "    )\n",
      "  ])\n",
      "])\n"
     ]
    }
   ],
   "source": [
    "transformed = PauliExpectation().convert(expectation)\n",
    "print(transformed)"
   ]
  },
  {
   "cell_type": "code",
   "execution_count": 12,
   "metadata": {},
   "outputs": [
    {
     "name": "stdout",
     "output_type": "stream",
     "text": [
      "SummedOp([\n",
      "  ComposedOp([\n",
      "    OperatorMeasurement(1.0 * ZZ),\n",
      "    DictStateFn({'00': 0.6324555320336759, '11': 0.31622776601683794, '10': 0.5477225575051661, '01': 0.4472135954999579})\n",
      "  ]),\n",
      "  ComposedOp([\n",
      "    OperatorMeasurement(1.0 * ZZ),\n",
      "    DictStateFn({'10': 0.6324555320336759, '00': 0.6324555320336759, '01': 0.4472135954999579})\n",
      "  ])\n",
      "])\n"
     ]
    }
   ],
   "source": [
    "sampled = sampler.convert(transformed)\n",
    "print(sampled)"
   ]
  },
  {
   "cell_type": "code",
   "execution_count": 13,
   "metadata": {},
   "outputs": [
    {
     "name": "stdout",
     "output_type": "stream",
     "text": [
      "ComposedOp([\n",
      "  OperatorMeasurement(1.0 * ZZ),\n",
      "  DictStateFn({'00': 0.6324555320336759, '11': 0.31622776601683794, '10': 0.5477225575051661, '01': 0.4472135954999579})\n",
      "])\n"
     ]
    }
   ],
   "source": [
    "term = sampled.oplist[0]\n",
    "print(term)"
   ]
  },
  {
   "cell_type": "code",
   "execution_count": 14,
   "metadata": {},
   "outputs": [
    {
     "name": "stdout",
     "output_type": "stream",
     "text": [
      "OperatorMeasurement(1.0 * ZZ)\n",
      "DictStateFn({'00': 0.6324555320336759, '11': 0.31622776601683794, '10': 0.5477225575051661, '01': 0.4472135954999579})\n"
     ]
    }
   ],
   "source": [
    "meas = term.oplist[0]\n",
    "samples = term.oplist[1]\n",
    "\n",
    "print(meas)\n",
    "print(samples)"
   ]
  },
  {
   "cell_type": "code",
   "execution_count": 15,
   "metadata": {},
   "outputs": [
    {
     "data": {
      "text/plain": [
       "10"
      ]
     },
     "execution_count": 15,
     "metadata": {},
     "output_type": "execute_result"
    }
   ],
   "source": [
    "shots"
   ]
  },
  {
   "cell_type": "code",
   "execution_count": 16,
   "metadata": {},
   "outputs": [
    {
     "name": "stdout",
     "output_type": "stream",
     "text": [
      "['00', '00', '00', '00', '11', '10', '10', '01']\n",
      "00 (1+0j)\n",
      "00 (1+0j)\n",
      "00 (1+0j)\n",
      "00 (1+0j)\n",
      "11 (1+0j)\n",
      "10 (-1+0j)\n",
      "10 (-1+0j)\n",
      "01 (-1+0j)\n",
      "(0.25+0j) 0.9375\n"
     ]
    }
   ],
   "source": [
    "measurements = []\n",
    "for bitstr, amplitude in samples.primitive.items():\n",
    "    prob = np.abs(amplitude) ** 2\n",
    "    num_sampled = int(shots * prob)\n",
    "    measurements += [bitstr] * num_sampled\n",
    "    \n",
    "print(measurements)\n",
    "\n",
    "for bitstr in measurements:\n",
    "    h = meas.eval(bitstr)\n",
    "    print(bitstr, h)\n",
    "    \n",
    "average = np.mean([meas.eval(bitstr) for bitstr in measurements])\n",
    "var = np.var([meas.eval(bitstr) for bitstr in measurements])\n",
    "\n",
    "print(average, var)"
   ]
  },
  {
   "cell_type": "code",
   "execution_count": 17,
   "metadata": {},
   "outputs": [
    {
     "data": {
      "text/plain": [
       "(-0.19999999999999987+0j)"
      ]
     },
     "execution_count": 17,
     "metadata": {},
     "output_type": "execute_result"
    }
   ],
   "source": [
    "sampled.eval()"
   ]
  },
  {
   "cell_type": "markdown",
   "metadata": {},
   "source": [
    "### Calculating gradient and it's variance"
   ]
  },
  {
   "cell_type": "code",
   "execution_count": 18,
   "metadata": {},
   "outputs": [],
   "source": [
    "hamiltonian = (X ^ Z) + (Z ^ I)"
   ]
  },
  {
   "cell_type": "code",
   "execution_count": 19,
   "metadata": {},
   "outputs": [
    {
     "data": {
      "text/plain": [
       "<qiskit.circuit.instructionset.InstructionSet at 0x7fc07978b460>"
      ]
     },
     "execution_count": 19,
     "metadata": {},
     "output_type": "execute_result"
    }
   ],
   "source": [
    "x = Parameter(\"x\")\n",
    "\n",
    "circuit = QuantumCircuit(2)\n",
    "circuit.ry(x, 0)\n",
    "circuit.cx(0, 1)"
   ]
  },
  {
   "cell_type": "code",
   "execution_count": 20,
   "metadata": {},
   "outputs": [],
   "source": [
    "theta = 0.5\n",
    "value = circuit.bind_parameters([theta])\n",
    "plus = circuit.bind_parameters([theta + np.pi / 2])\n",
    "minus = circuit.bind_parameters([theta - np.pi / 2])"
   ]
  },
  {
   "cell_type": "code",
   "execution_count": 21,
   "metadata": {},
   "outputs": [],
   "source": [
    "exp = StateFn(hamiltonian, is_measurement=True).compose(StateFn(value))\n",
    "\n",
    "gradient = (\n",
    "    StateFn(hamiltonian, is_measurement=True).compose(StateFn(plus)) -\n",
    "    StateFn(hamiltonian, is_measurement=True).compose(StateFn(minus))\n",
    ") / 2"
   ]
  },
  {
   "cell_type": "code",
   "execution_count": 22,
   "metadata": {},
   "outputs": [],
   "source": [
    "exp = PauliExpectation().convert(exp)\n",
    "gradient = PauliExpectation().convert(gradient)"
   ]
  },
  {
   "cell_type": "code",
   "execution_count": 23,
   "metadata": {},
   "outputs": [],
   "source": [
    "backend = Aer.get_backend(\"qasm_simulator\")\n",
    "shots = 100\n",
    "quantum_instance = QuantumInstance(backend, shots=shots)\n",
    "\n",
    "sampler = CircuitSampler(quantum_instance)"
   ]
  },
  {
   "cell_type": "code",
   "execution_count": 24,
   "metadata": {},
   "outputs": [
    {
     "name": "stdout",
     "output_type": "stream",
     "text": [
      "Mean (or expectation): (0.7999999999999998+0j)\n",
      "Variance: (0.012192000000000001+0j)\n"
     ]
    }
   ],
   "source": [
    "sampled = sampler.convert(exp)\n",
    "print(\"Mean (or expectation):\", sampled.eval())\n",
    "print(\"Variance:\", PauliExpectation().compute_variance(sampled) / shots)"
   ]
  },
  {
   "cell_type": "code",
   "execution_count": 25,
   "metadata": {},
   "outputs": [
    {
     "name": "stdout",
     "output_type": "stream",
     "text": [
      "Mean (or expectation): (-0.4899999999999999+0j)\n",
      "Variance: (5.4000000000000716e-05+0j)\n"
     ]
    }
   ],
   "source": [
    "sampled = sampler.convert(gradient)\n",
    "print(\"Mean (or expectation):\", sampled.eval())\n",
    "print(\"Variance:\", PauliExpectation().compute_variance(sampled) / shots)"
   ]
  },
  {
   "cell_type": "code",
   "execution_count": 26,
   "metadata": {},
   "outputs": [
    {
     "name": "stdout",
     "output_type": "stream",
     "text": [
      "SummedOp([\n",
      "  0.5 * ComposedOp([\n",
      "    OperatorMeasurement(1.0 * ZZ),\n",
      "    DictStateFn({'10': 0.4242640687119285, '11': 0.6, '00': 0.282842712474619, '01': 0.6164414002968976})\n",
      "  ]),\n",
      "  0.5 * ComposedOp([\n",
      "    OperatorMeasurement(1.0 * ZI),\n",
      "    DictStateFn({'00': 0.5196152422706632, '11': 0.8544003745317531})\n",
      "  ]),\n",
      "  -0.5 * ComposedOp([\n",
      "    OperatorMeasurement(1.0 * ZZ),\n",
      "    DictStateFn({'01': 0.4, '10': 0.6164414002968976, '11': 0.4, '00': 0.5477225575051661})\n",
      "  ]),\n",
      "  -0.5 * ComposedOp([\n",
      "    OperatorMeasurement(1.0 * ZI),\n",
      "    DictStateFn({'11': 0.5099019513592785, '00': 0.8602325267042626})\n",
      "  ])\n",
      "])\n"
     ]
    }
   ],
   "source": [
    "print(sampled)"
   ]
  },
  {
   "cell_type": "code",
   "execution_count": 27,
   "metadata": {},
   "outputs": [],
   "source": [
    "term = sampled.oplist[1]\n",
    "meas = term.oplist[0]\n",
    "samples = term.oplist[1]"
   ]
  },
  {
   "cell_type": "code",
   "execution_count": 28,
   "metadata": {},
   "outputs": [],
   "source": [
    "def prob_to_shots(prob):\n",
    "    return int(prob * shots)"
   ]
  },
  {
   "cell_type": "code",
   "execution_count": 29,
   "metadata": {},
   "outputs": [
    {
     "name": "stdout",
     "output_type": "stream",
     "text": [
      "00 (1+0j) 51\n",
      "11 (-1+0j) 85\n"
     ]
    }
   ],
   "source": [
    "for state, prob in samples.primitive.items():\n",
    "    print(state, meas.eval(state), prob_to_shots(prob))"
   ]
  },
  {
   "cell_type": "code",
   "execution_count": 30,
   "metadata": {},
   "outputs": [
    {
     "ename": "SyntaxError",
     "evalue": "invalid syntax (<ipython-input-30-61843166ef3e>, line 11)",
     "output_type": "error",
     "traceback": [
      "\u001b[0;36m  File \u001b[0;32m\"<ipython-input-30-61843166ef3e>\"\u001b[0;36m, line \u001b[0;32m11\u001b[0m\n\u001b[0;31m    grad +=\u001b[0m\n\u001b[0m            ^\u001b[0m\n\u001b[0;31mSyntaxError\u001b[0m\u001b[0;31m:\u001b[0m invalid syntax\n"
     ]
    }
   ],
   "source": [
    "def evaluate_gradient_var(expectation):\n",
    "    sampled = sampler.convert(expectation)\n",
    "\n",
    "    grad = 0\n",
    "    var = 0\n",
    "    for term in sampled.oplist:\n",
    "        meas = term.oplist[0]\n",
    "        sampled = term.oplist[1]\n",
    "        \n",
    "        for state, prob in samples.primitive.items():\n",
    "            grad += "
   ]
  },
  {
   "cell_type": "code",
   "execution_count": 150,
   "metadata": {},
   "outputs": [],
   "source": [
    "shots_backend = Aer.get_backend(\"qasm_simulator\")\n",
    "\n",
    "def single_shots(pauli, circuit, num_shots):\n",
    "    expectation = StateFn(pauli, is_measurement=True).compose(StateFn(circuit))\n",
    "    expectation = PauliExpectation().convert(expectation)\n",
    "    \n",
    "    qinstance = QuantumInstance(shots_backend, shots=num_shots)\n",
    "    sampler = CircuitSampler(qinstance)\n",
    "    sampled = sampler.convert(expectation)\n",
    "    \n",
    "    meas = sampled.oplist[0]\n",
    "    samples = sampled.oplist[1]\n",
    "    \n",
    "    readouts = []\n",
    "    for state, amplitude in samples.primitive.items():\n",
    "        occurence = int(np.round(num_shots * np.abs(amplitude) ** 2))\n",
    "        value = np.real(meas.eval(state))\n",
    "        readouts += occurence * [value]\n",
    "        \n",
    "    if len(readouts) != num_shots:\n",
    "        raise RuntimeError(\"Something went wrong, I have a mismatching number of readouts!\")\n",
    "        \n",
    "    return np.array(readouts)"
   ]
  },
  {
   "cell_type": "code",
   "execution_count": 169,
   "metadata": {},
   "outputs": [],
   "source": [
    "from scipy.stats import multinomial\n",
    "from qiskit.opflow import PauliOp\n",
    "\n",
    "class Rosalin:\n",
    "    def __init__(self, circuit, pauli_sum_op, min_shots, mu=0.99, b=1e-6, lr=0.07):\n",
    "        self.circuit = circuit\n",
    "        self.op = pauli_sum_op\n",
    "        self.coeffs = pauli_sum_op.coeffs\n",
    "\n",
    "        self.lipschitz = np.sum(np.abs(self.coeffs))\n",
    "\n",
    "        if lr > 2 / self.lipschitz:\n",
    "            raise ValueError(\"The learning rate must be less than \", 2 / self.lipschitz)\n",
    "\n",
    "        # hyperparameters\n",
    "        self.min_shots = min_shots\n",
    "        self.mu = mu  # running average constant\n",
    "        self.b = b    # regularization bias\n",
    "        self.lr = lr  # learning rate\n",
    "\n",
    "        # keep track of the total number of shots used\n",
    "        self.shots_used = 0\n",
    "        # total number of iterations\n",
    "        self.k = 0\n",
    "        # Number of shots per parameter\n",
    "        self.s = np.zeros(circuit.num_parameters, dtype=np.float64) + min_shots\n",
    "\n",
    "        # Running average of the parameter gradients\n",
    "        self.chi = None\n",
    "        # Running average of the variance of the parameter gradients\n",
    "        self.xi = None\n",
    "\n",
    "    def estimate_hamiltonian(self, params, shots):\n",
    "        \"\"\"Returns an array containing length ``shots`` single-shot estimates\n",
    "        of the Hamiltonian. The shots are distributed randomly over\n",
    "        the terms in the Hamiltonian, as per a Multinomial distribution.\n",
    "\n",
    "        Since we are performing single-shot estimates, the QNodes must be\n",
    "        set to 'sample' mode.\n",
    "        \"\"\"\n",
    "\n",
    "        # determine the shot probability per term\n",
    "        prob_shots = np.abs(self.coeffs) / np.sum(np.abs(self.coeffs))\n",
    "\n",
    "        # construct the multinomial distribution, and sample\n",
    "        # from it to determine how many shots to apply per term\n",
    "        si = multinomial(n=shots, p=prob_shots)\n",
    "        shots_per_term = si.rvs()[0]\n",
    "        \n",
    "        bound_circuit = circuit.bind_parameters(params)\n",
    "\n",
    "        results = []\n",
    "        paulis = [PauliOp(pauli) for pauli in self.op.primitive.paulis]\n",
    "        for pauli, c, p, s in zip(paulis, np.real(self.coeffs), prob_shots, shots_per_term):\n",
    "\n",
    "            # if the number of shots is 0, do nothing\n",
    "            if s == 0:\n",
    "                continue\n",
    "\n",
    "            # evaluate the QNode corresponding to\n",
    "            # the Hamiltonian term\n",
    "            res = single_shots(pauli, bound_circuit, int(s))\n",
    "\n",
    "            # Note that, unlike above, we divide each term by the\n",
    "            # probability per shot. This is because we are sampling one at a time.\n",
    "#             results.append(c * res / p)\n",
    "            results.append(res)\n",
    "\n",
    "        return np.concatenate(results)\n",
    "\n",
    "    def evaluate_grad_var(self, i, params, shots):\n",
    "        \"\"\"Evaluate the gradient, as well as the variance in the gradient,\n",
    "        for the ith parameter in params, using the parameter-shift rule.\n",
    "        \"\"\"\n",
    "        shift = np.zeros_like(params)\n",
    "        shift[i] = np.pi / 2\n",
    "\n",
    "        shift_forward = self.estimate_hamiltonian(params + shift, shots)\n",
    "        shift_backward = self.estimate_hamiltonian(params - shift, shots)\n",
    "\n",
    "        g = np.mean(shift_forward - shift_backward) / 2\n",
    "        s = np.var((shift_forward - shift_backward) / 2, ddof=1)\n",
    "\n",
    "        return g, s\n",
    "\n",
    "    def step(self, params):\n",
    "        \"\"\"Perform a single step of the Rosalin optimizer.\"\"\"\n",
    "        # keep track of the number of shots run\n",
    "        self.shots_used += int(2 * np.sum(self.s))\n",
    "\n",
    "        # compute the gradient, as well as the variance in the gradient,\n",
    "        # using the number of shots determined by the array s.\n",
    "        grad = []\n",
    "        S = []\n",
    "\n",
    "        p_ind = list(np.ndindex(*params.shape))\n",
    "\n",
    "        for l in p_ind:\n",
    "            # loop through each parameter, performing\n",
    "            # the parameter-shift rule\n",
    "            g_, s_ = self.evaluate_grad_var(l, params, self.s[l])\n",
    "            grad.append(g_)\n",
    "            S.append(s_)\n",
    "\n",
    "        grad = np.reshape(np.stack(grad), params.shape)\n",
    "        S = np.reshape(np.stack(S), params.shape)\n",
    "\n",
    "        # gradient descent update\n",
    "        params = params - self.lr * grad\n",
    "\n",
    "        if self.xi is None:\n",
    "            self.chi = np.zeros_like(params, dtype=np.float64)\n",
    "            self.xi = np.zeros_like(params, dtype=np.float64)\n",
    "\n",
    "        # running average of the gradient variance\n",
    "        self.xi = self.mu * self.xi + (1 - self.mu) * S\n",
    "        xi = self.xi / (1 - self.mu ** (self.k + 1))\n",
    "\n",
    "        # running average of the gradient\n",
    "        self.chi = self.mu * self.chi + (1 - self.mu) * grad\n",
    "        chi = self.chi / (1 - self.mu ** (self.k + 1))\n",
    "\n",
    "        # determine the new optimum shots distribution for the next\n",
    "        # iteration of the optimizer\n",
    "#         s = np.ceil(\n",
    "        s = (\n",
    "            (2 * self.lipschitz * self.lr * xi)\n",
    "            / ((2 - self.lipschitz * self.lr) * (chi ** 2 + self.b * (self.mu ** self.k)))\n",
    "        )\n",
    "        s = np.ceil(s)\n",
    "\n",
    "        # apply an upper and lower bound on the new shot distributions,\n",
    "        # to avoid the number of shots reducing below min(2, min_shots),\n",
    "        # or growing too significantly.\n",
    "        gamma = (\n",
    "            (self.lr - self.lipschitz * self.lr ** 2 / 2) * chi ** 2\n",
    "            - xi * self.lipschitz * self.lr ** 2 / (2 * s)\n",
    "        ) / s\n",
    "\n",
    "        argmax_gamma = np.unravel_index(np.argmax(gamma), gamma.shape)\n",
    "        smax = s[argmax_gamma]\n",
    "        self.s = np.clip(s, min(2, self.min_shots), smax)\n",
    "\n",
    "        self.k += 1\n",
    "        return params"
   ]
  },
  {
   "cell_type": "code",
   "execution_count": 174,
   "metadata": {},
   "outputs": [],
   "source": [
    "from qiskit.circuit.library import RealAmplitudes\n",
    "from qiskit.opflow import PauliSumOp\n",
    "from qiskit.quantum_info import Statevector\n",
    "\n",
    "op = PauliSumOp.from_list([\n",
    "    (\"IX\", 2),\n",
    "    (\"IZ\", 4),\n",
    "    (\"XX\", -1),\n",
    "    (\"YY\", 5),\n",
    "    (\"ZZ\", 2)\n",
    "])\n",
    "\n",
    "circuit = RealAmplitudes(2, reps=1)\n",
    "\n",
    "def evaluate(params):\n",
    "    return Statevector(circuit.bind_parameters(params)).expectation_value(op.primitive)\n",
    "\n",
    "opt = Rosalin(circuit, op, 10)\n"
   ]
  },
  {
   "cell_type": "code",
   "execution_count": 171,
   "metadata": {},
   "outputs": [],
   "source": [
    "np.random.seed(4)\n",
    "x0 = np.random.uniform(low=0.0, high=2*np.pi, size=circuit.num_parameters)"
   ]
  },
  {
   "cell_type": "code",
   "execution_count": 175,
   "metadata": {
    "scrolled": false
   },
   "outputs": [
    {
     "name": "stdout",
     "output_type": "stream",
     "text": [
      "Energy: (2.347533854469437+0j) Shots used: 80\n",
      "Energy: (2.1270405922495383+0j) Shots used: 96\n",
      "Energy: (2.0334071729980736+0j) Shots used: 120\n",
      "Energy: (1.7987208117117957+0j) Shots used: 152\n",
      "Energy: (1.51387035782668+0j) Shots used: 192\n",
      "Energy: (1.4009733273967233+0j) Shots used: 232\n",
      "Energy: (1.4445814263063692+0j) Shots used: 280\n",
      "Energy: (1.205497987922549+0j) Shots used: 360\n",
      "Energy: (0.9304477835961975+0j) Shots used: 424\n",
      "Energy: (0.7797898751630117+0j) Shots used: 472\n",
      "Energy: (0.6192572040138589+0j) Shots used: 528\n",
      "Energy: (0.3669751803422787+0j) Shots used: 584\n",
      "Energy: (-0.043947608091540635+0j) Shots used: 640\n",
      "Energy: (-0.2723216199791012+0j) Shots used: 680\n",
      "Energy: (-0.5945267494637382+0j) Shots used: 728\n",
      "Energy: (-0.8208961340547851+0j) Shots used: 768\n",
      "Energy: (-1.145763400986344+0j) Shots used: 808\n",
      "Energy: (-1.3307176654970003+0j) Shots used: 848\n",
      "Energy: (-1.6262399774529652+0j) Shots used: 880\n",
      "Energy: (-1.9627804214709033+0j) Shots used: 912\n",
      "Energy: (-1.8831349885278184+0j) Shots used: 944\n",
      "Energy: (-2.176437457667264+0j) Shots used: 984\n",
      "Energy: (-2.4623663698013374+0j) Shots used: 1024\n",
      "Energy: (-2.5024070863230805+0j) Shots used: 1064\n",
      "Energy: (-2.679231356283379+0j) Shots used: 1104\n",
      "Energy: (-2.783002135701837+0j) Shots used: 1144\n",
      "Energy: (-2.9541717000958516+0j) Shots used: 1176\n",
      "Energy: (-3.1947064508519403+0j) Shots used: 1208\n",
      "Energy: (-3.32279503450975+0j) Shots used: 1240\n",
      "Energy: (-3.36818058406119+0j) Shots used: 1280\n",
      "Energy: (-3.788198062395604+0j) Shots used: 1320\n",
      "Energy: (-3.7527363676618175+0j) Shots used: 1360\n",
      "Energy: (-4.189817956718527+0j) Shots used: 1400\n",
      "Energy: (-4.537914671503426+0j) Shots used: 1440\n",
      "Energy: (-4.589262837682798+0j) Shots used: 1480\n",
      "Energy: (-4.687116245581453+0j) Shots used: 1520\n",
      "Energy: (-4.753429089023059+0j) Shots used: 1560\n",
      "Energy: (-4.78749443066438+0j) Shots used: 1608\n",
      "Energy: (-4.963891783764697+0j) Shots used: 1656\n",
      "Energy: (-5.009363883418296+0j) Shots used: 1704\n",
      "Energy: (-5.339353250928998+0j) Shots used: 1760\n",
      "Energy: (-5.546827319151616+0j) Shots used: 1808\n",
      "Energy: (-5.677796768813552+0j) Shots used: 1864\n",
      "Energy: (-5.851827800102059+0j) Shots used: 1920\n",
      "Energy: (-5.975885667504343+0j) Shots used: 1976\n",
      "Energy: (-6.179407247881911+0j) Shots used: 2032\n",
      "Energy: (-6.344127382287969+0j) Shots used: 2088\n",
      "Energy: (-6.436331744418052+0j) Shots used: 2144\n",
      "Energy: (-6.513449432999815+0j) Shots used: 2200\n",
      "Energy: (-6.548823049017096+0j) Shots used: 2264\n",
      "Energy: (-6.5660426933318+0j) Shots used: 2328\n",
      "Energy: (-6.649584581204599+0j) Shots used: 2400\n",
      "Energy: (-6.726928727547948+0j) Shots used: 2480\n",
      "Energy: (-6.782317929097132+0j) Shots used: 2560\n",
      "Energy: (-6.895004805966018+0j) Shots used: 2640\n",
      "Energy: (-6.985071786696871+0j) Shots used: 2720\n",
      "Energy: (-6.990374884484375+0j) Shots used: 2800\n",
      "Energy: (-7.036521339893419+0j) Shots used: 2888\n",
      "Energy: (-7.049448143104728+0j) Shots used: 2976\n",
      "Energy: (-7.131828313942965+0j) Shots used: 3072\n",
      "Energy: (-7.202546057073392+0j) Shots used: 3168\n",
      "Energy: (-7.227768630620582+0j) Shots used: 3272\n",
      "Energy: (-7.220891967233366+0j) Shots used: 3376\n",
      "Energy: (-7.27126062779761+0j) Shots used: 3488\n",
      "Energy: (-7.316930812050276+0j) Shots used: 3600\n",
      "Energy: (-7.3412524840668105+0j) Shots used: 3712\n",
      "Energy: (-7.41954723185754+0j) Shots used: 3824\n",
      "Energy: (-7.479861155078584+0j) Shots used: 3944\n",
      "Energy: (-7.504545168172736+0j) Shots used: 4064\n",
      "Energy: (-7.527838095815878+0j) Shots used: 4184\n",
      "Energy: (-7.547221807718847+0j) Shots used: 4312\n",
      "Energy: (-7.600672816410373+0j) Shots used: 4448\n",
      "Energy: (-7.58398487590718+0j) Shots used: 4584\n",
      "Energy: (-7.612329837174968+0j) Shots used: 4728\n",
      "Energy: (-7.642954316818042+0j) Shots used: 4880\n",
      "Energy: (-7.682054004792374+0j) Shots used: 5032\n",
      "Energy: (-7.709549643767982+0j) Shots used: 5192\n",
      "Energy: (-7.717576582236544+0j) Shots used: 5360\n",
      "Energy: (-7.747620416673289+0j) Shots used: 5536\n",
      "Energy: (-7.733178293373537+0j) Shots used: 5712\n",
      "Energy: (-7.731220404677133+0j) Shots used: 5880\n",
      "Energy: (-7.726174948457161+0j) Shots used: 6056\n",
      "Energy: (-7.73011665892473+0j) Shots used: 6240\n",
      "Energy: (-7.735729116921161+0j) Shots used: 6424\n",
      "Energy: (-7.717291532229532+0j) Shots used: 6608\n",
      "Energy: (-7.743697285021669+0j) Shots used: 6800\n",
      "Energy: (-7.730669742115704+0j) Shots used: 7000\n",
      "Energy: (-7.743360253484787+0j) Shots used: 7208\n",
      "Energy: (-7.7645588557721865+0j) Shots used: 7424\n",
      "Energy: (-7.7534428995236535+0j) Shots used: 7648\n",
      "Energy: (-7.772840958431498+0j) Shots used: 7872\n",
      "Energy: (-7.779723060131177+0j) Shots used: 8096\n",
      "Energy: (-7.779294061373448+0j) Shots used: 8320\n",
      "Energy: (-7.775634786587692+0j) Shots used: 8568\n",
      "Energy: (-7.783029607970393+0j) Shots used: 8832\n",
      "Energy: (-7.782138271858317+0j) Shots used: 9104\n",
      "Energy: (-7.772438389178715+0j) Shots used: 9376\n",
      "Energy: (-7.753541742563888+0j) Shots used: 9664\n",
      "Energy: (-7.7543456334439185+0j) Shots used: 9960\n",
      "Energy: (-7.749986173953661+0j) Shots used: 10248\n",
      "Energy: (-7.774179486647913+0j) Shots used: 10552\n",
      "Energy: (-7.753420063076053+0j) Shots used: 10856\n",
      "Energy: (-7.745786258442331+0j) Shots used: 11184\n",
      "Energy: (-7.7725008530714605+0j) Shots used: 11520\n",
      "Energy: (-7.774769616572186+0j) Shots used: 11872\n",
      "Energy: (-7.767789793291257+0j) Shots used: 12240\n",
      "Energy: (-7.765755624580962+0j) Shots used: 12608\n",
      "Energy: (-7.770546212648213+0j) Shots used: 13000\n",
      "Energy: (-7.767858776094049+0j) Shots used: 13408\n",
      "Energy: (-7.7571308970175235+0j) Shots used: 13840\n",
      "Energy: (-7.761154804407357+0j) Shots used: 14272\n",
      "Energy: (-7.766242762235471+0j) Shots used: 14728\n",
      "Energy: (-7.76885305659689+0j) Shots used: 15200\n",
      "Energy: (-7.769261352435246+0j) Shots used: 15696\n",
      "Energy: (-7.761750668954411+0j) Shots used: 16192\n",
      "Energy: (-7.752343595661563+0j) Shots used: 16688\n",
      "Energy: (-7.748382056870369+0j) Shots used: 17216\n",
      "Energy: (-7.738585500951507+0j) Shots used: 17768\n",
      "Energy: (-7.750080807612894+0j) Shots used: 18344\n",
      "Energy: (-7.751488361533336+0j) Shots used: 18936\n",
      "Energy: (-7.757274772810143+0j) Shots used: 19544\n",
      "Energy: (-7.759112227761049+0j) Shots used: 20176\n",
      "Energy: (-7.765754293595571+0j) Shots used: 20840\n",
      "Energy: (-7.754995705337336+0j) Shots used: 21528\n",
      "Energy: (-7.755570353498442+0j) Shots used: 22280\n",
      "Energy: (-7.759074225499802+0j) Shots used: 23072\n",
      "Energy: (-7.763118811218656+0j) Shots used: 23896\n",
      "Energy: (-7.7657387585364654+0j) Shots used: 24736\n",
      "Energy: (-7.761689326639572+0j) Shots used: 25584\n",
      "Energy: (-7.766985479868522+0j) Shots used: 26456\n",
      "Energy: (-7.765014895565249+0j) Shots used: 27344\n",
      "Energy: (-7.767417452131099+0j) Shots used: 28248\n",
      "Energy: (-7.774028326742153+0j) Shots used: 29152\n",
      "Energy: (-7.76779532537784+0j) Shots used: 30072\n",
      "Energy: (-7.771905176088552+0j) Shots used: 30992\n",
      "Energy: (-7.774313709789379+0j) Shots used: 31920\n",
      "Energy: (-7.770985534270924+0j) Shots used: 32864\n",
      "Energy: (-7.777178707705268+0j) Shots used: 33824\n",
      "Energy: (-7.781944924937503+0j) Shots used: 34792\n",
      "Energy: (-7.781549404897549+0j) Shots used: 35800\n",
      "Energy: (-7.777667870048299+0j) Shots used: 36848\n",
      "Energy: (-7.7754441567713+0j) Shots used: 37944\n",
      "Energy: (-7.775487479335521+0j) Shots used: 39080\n",
      "Energy: (-7.768575706196301+0j) Shots used: 40272\n",
      "Energy: (-7.771000695055382+0j) Shots used: 41504\n",
      "Energy: (-7.775141750977987+0j) Shots used: 42792\n",
      "Energy: (-7.771211581724+0j) Shots used: 44088\n",
      "Energy: (-7.7795104901466345+0j) Shots used: 45408\n",
      "Energy: (-7.786681726656959+0j) Shots used: 46736\n",
      "Energy: (-7.7893527317022055+0j) Shots used: 48080\n"
     ]
    }
   ],
   "source": [
    "x = x0\n",
    "for _ in range(150):\n",
    "    x = opt.step(x)\n",
    "    print(\"Energy:\", evaluate(x), \"Shots used:\", opt.shots_used)"
   ]
  },
  {
   "cell_type": "code",
   "execution_count": 168,
   "metadata": {},
   "outputs": [
    {
     "name": "stdout",
     "output_type": "stream",
     "text": [
      "Energy: (-0.9457389525970261+0j) Shots used: 104\n",
      "Energy: (-3.985287295589592+0j) Shots used: 136\n",
      "Energy: (-4.6772177646767625+0j) Shots used: 168\n",
      "Energy: (-5.230492718588949+0j) Shots used: 216\n",
      "Energy: (-2.878590100286454+0j) Shots used: 272\n",
      "Energy: (-4.596471891824652+0j) Shots used: 376\n",
      "Energy: (-5.2567905152876335+0j) Shots used: 528\n",
      "Energy: (-5.620462953382866+0j) Shots used: 696\n",
      "Energy: (-6.53887263610392+0j) Shots used: 912\n",
      "Energy: (-6.517607055542372+0j) Shots used: 1200\n",
      "Energy: (-7.249412958845222+0j) Shots used: 1616\n",
      "Energy: (-7.716555952513259+0j) Shots used: 2176\n",
      "Energy: (-7.769445386157543+0j) Shots used: 2784\n",
      "Energy: (-7.819224014742676+0j) Shots used: 3464\n",
      "Energy: (-7.813536536623411+0j) Shots used: 4216\n",
      "Energy: (-7.810864003634302+0j) Shots used: 5056\n",
      "Energy: (-7.796288410181042+0j) Shots used: 6126\n",
      "Energy: (-7.766147002377237+0j) Shots used: 7182\n",
      "Energy: (-7.845128966748208+0j) Shots used: 8190\n",
      "Energy: (-7.872625526325486+0j) Shots used: 9486\n",
      "Energy: (-7.854848913247037+0j) Shots used: 11022\n",
      "Energy: (-7.879268852747374+0j) Shots used: 13002\n",
      "Energy: (-7.882728287719939+0j) Shots used: 15126\n",
      "Energy: (-7.9010979455500685+0j) Shots used: 17334\n",
      "Energy: (-7.875201296151403+0j) Shots used: 19534\n",
      "Energy: (-7.889535775446274+0j) Shots used: 21726\n",
      "Energy: (-7.849920932875359+0j) Shots used: 24134\n",
      "Energy: (-7.887295117584339+0j) Shots used: 26526\n",
      "Energy: (-7.8963876914602915+0j) Shots used: 29478\n",
      "Energy: (-7.877824583092498+0j) Shots used: 32638\n",
      "Energy: (-7.894889338313113+0j) Shots used: 36334\n",
      "Energy: (-7.899794161966021+0j) Shots used: 40102\n",
      "Energy: (-7.8913108864188795+0j) Shots used: 44302\n",
      "Energy: (-7.887323903946277+0j) Shots used: 48798\n",
      "Energy: (-7.894289465122109+0j) Shots used: 53342\n",
      "Energy: (-7.896148815183504+0j) Shots used: 58262\n",
      "Energy: (-7.8961215526243755+0j) Shots used: 63598\n",
      "Energy: (-7.903088093230552+0j) Shots used: 69278\n",
      "Energy: (-7.903320890427976+0j) Shots used: 75862\n",
      "Energy: (-7.894983824943118+0j) Shots used: 82902\n",
      "Energy: (-7.903357383616079+0j) Shots used: 90210\n",
      "Energy: (-7.902969185218826+0j) Shots used: 97794\n",
      "Energy: (-7.90231121154108+0j) Shots used: 106366\n",
      "Energy: (-7.901507274442671+0j) Shots used: 115296\n",
      "Energy: (-7.900895326281011+0j) Shots used: 124280\n",
      "Energy: (-7.90339327735788+0j) Shots used: 133752\n",
      "Energy: (-7.901004362722248+0j) Shots used: 144484\n",
      "Energy: (-7.9017049958224455+0j) Shots used: 154804\n",
      "Energy: (-7.90104935771776+0j) Shots used: 165676\n",
      "Energy: (-7.9038980280424+0j) Shots used: 177316\n",
      "Energy: (-7.902727885567147+0j) Shots used: 189276\n",
      "Energy: (-7.899256070647727+0j) Shots used: 201916\n",
      "Energy: (-7.886748256986111+0j) Shots used: 215116\n",
      "Energy: (-7.903368349925839+0j) Shots used: 227908\n",
      "Energy: (-7.9037676378547825+0j) Shots used: 241660\n",
      "Energy: (-7.896293576822024+0j) Shots used: 256444\n",
      "Energy: (-7.902892506663539+0j) Shots used: 272740\n",
      "Energy: (-7.900198272652845+0j) Shots used: 288996\n",
      "Energy: (-7.902978441698073+0j) Shots used: 306716\n",
      "Energy: (-7.900656246331546+0j) Shots used: 325252\n"
     ]
    }
   ],
   "source": [
    "x = x0\n",
    "for _ in range(60):\n",
    "    x = opt.step(x)\n",
    "    print(\"Energy:\", evaluate(x), \"Shots used:\", opt.shots_used)"
   ]
  },
  {
   "cell_type": "code",
   "execution_count": 158,
   "metadata": {
    "scrolled": false
   },
   "outputs": [],
   "source": [
    "x = opt.step(x0)"
   ]
  },
  {
   "cell_type": "code",
   "execution_count": null,
   "metadata": {},
   "outputs": [],
   "source": []
  }
 ],
 "metadata": {
  "kernelspec": {
   "display_name": "Python 3",
   "language": "python",
   "name": "python3"
  },
  "language_info": {
   "codemirror_mode": {
    "name": "ipython",
    "version": 3
   },
   "file_extension": ".py",
   "mimetype": "text/x-python",
   "name": "python",
   "nbconvert_exporter": "python",
   "pygments_lexer": "ipython3",
   "version": "3.7.9"
  }
 },
 "nbformat": 4,
 "nbformat_minor": 4
}
