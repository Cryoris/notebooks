{
 "cells": [
  {
   "cell_type": "code",
   "execution_count": null,
   "metadata": {},
   "outputs": [],
   "source": [
    "%matplotlib inline\n",
    "import numpy as np\n",
    "import matplotlib.pyplot as plt\n",
    "from qiskit.tools.visualization import plot_bloch_vector\n",
    "from qiskit import BasicAer\n",
    "from qiskit.aqua.algorithms import AmplitudeEstimation, MaximumLikelihoodAmplitudeEstimation\n",
    "from qiskit.aqua.algorithms.single_sample.amplitude_estimation.q_factory import QFactory\n",
    "from qiskit.aqua.components.uncertainty_problems import UncertaintyProblem"
   ]
  },
  {
   "cell_type": "code",
   "execution_count": null,
   "metadata": {},
   "outputs": [],
   "source": [
    "class SineIntegralAFactory(UncertaintyProblem):\n",
    "    def __init__(self, num_qubits):\n",
    "        super().__init__(num_qubits + 1)\n",
    "        self._i_objective = num_qubits\n",
    "\n",
    "    def build(self, qc, q, q_ancillas=None):\n",
    "        n = self.num_target_qubits - 1\n",
    "        q_state = [q[i] for i in range(self.num_target_qubits) if i != self._i_objective]\n",
    "        q_objective = q[self._i_objective]\n",
    "\n",
    "        # prepare 1/sqrt{2^n} sum_x |x>_n\n",
    "        for q_i in q_state:\n",
    "            qc.h(q_i)\n",
    "\n",
    "        # apply the sine/cosine term\n",
    "        qc.ry(2 * 1 / 2 / 2**n, q_objective)\n",
    "\n",
    "        for i, q_i in enumerate(q_state):\n",
    "            qc.cry(2 * 2**i / 2**n, q_i, q_objective)\n"
   ]
  },
  {
   "cell_type": "code",
   "execution_count": null,
   "metadata": {},
   "outputs": [],
   "source": [
    "class BernoulliAFactory(UncertaintyProblem):\n",
    "    \"\"\"\n",
    "    Circuit Factory representing the operator A.\n",
    "    A is used to initialize the state as well as to construct Q.\n",
    "    \"\"\"\n",
    "    \n",
    "    def __init__(self, probability=0.5):\n",
    "        super().__init__(1)\n",
    "        self._probability = probability\n",
    "        self.i_state = 0\n",
    "        self._theta_p = 2 * np.arcsin(np.sqrt(probability))\n",
    "    \n",
    "    def build(self, qc, q, q_ancillas=None):\n",
    "        # A is a rotation of angle theta_p around the Y-axis\n",
    "        qc.ry(self._theta_p, q[self.i_state])\n",
    "\n",
    "\n",
    "class BernoulliQFactory(QFactory):\n",
    "    \"\"\"\n",
    "    Circuit Factory representing the operator Q.\n",
    "    This implementation exploits the fact that powers of Q can be implemented efficiently by just multiplying the angle.\n",
    "    (amplitude estimation only requires controlled powers of Q, thus, only this method is overridden.)\n",
    "    \"\"\"\n",
    "    \n",
    "    def __init__(self, bernoulli_expected_value):\n",
    "        super().__init__(bernoulli_expected_value, i_objective=0)\n",
    "    \n",
    "    def build(self, qc, q, q_ancillas=None):\n",
    "        i_state = self.a_factory.i_state\n",
    "        theta_p = self.a_factory._theta_p\n",
    "        # Q is a rotation of angle 2*theta_p around the Y-axis\n",
    "        qc.ry(2 * theta_p, q[i_state])\n",
    "        \n",
    "    def build_power(self, qc, q, power, q_ancillas=None):\n",
    "        i_state = self.a_factory.i_state\n",
    "        theta_p = self.a_factory._theta_p\n",
    "        qc.ry(2 * power * theta_p, q[i_state])\n",
    "    \n",
    "    def build_controlled_power(self, qc, q, q_control, power, q_ancillas=None, use_basis_gates=True):\n",
    "        i_state = self.a_factory.i_state\n",
    "        theta_p = self.a_factory._theta_p\n",
    "        qc.cry(2 * power * theta_p, q_control, q[i_state])"
   ]
  },
  {
   "cell_type": "code",
   "execution_count": null,
   "metadata": {},
   "outputs": [],
   "source": [
    "def get_bernoullis(p):\n",
    "    a_factory = BernoulliAFactory(p)\n",
    "    q_factory = BernoulliQFactory(a_factory)\n",
    "    return a_factory, q_factory\n",
    "\n",
    "backend = BasicAer.get_backend('qasm_simulator')"
   ]
  },
  {
   "cell_type": "code",
   "execution_count": null,
   "metadata": {},
   "outputs": [],
   "source": [
    "ae = MaximumLikelihoodAmplitudeEstimation(3, *get_bernoullis(0.0))\n",
    "result = ae.run(backend)\n",
    "print(result['estimation'])\n",
    "print(ae.confidence_interval(0.05, kind='lr'))"
   ]
  },
  {
   "cell_type": "code",
   "execution_count": null,
   "metadata": {},
   "outputs": [],
   "source": [
    "integral = SineIntegralAFactory(3)\n",
    "backend = BasicAer.get_backend('statevector_simulator')\n",
    "ae = MaximumLikelihoodAmplitudeEstimation(3, a_factory=integral)"
   ]
  },
  {
   "cell_type": "code",
   "execution_count": null,
   "metadata": {},
   "outputs": [],
   "source": [
    "q = QFactory(integral, 3)\n",
    "print(q.required_ancillas_controlled())"
   ]
  },
  {
   "cell_type": "code",
   "execution_count": null,
   "metadata": {},
   "outputs": [],
   "source": [
    "circs = ae.construct_circuits()"
   ]
  },
  {
   "cell_type": "code",
   "execution_count": null,
   "metadata": {},
   "outputs": [],
   "source": [
    "circs[2].draw()"
   ]
  },
  {
   "cell_type": "code",
   "execution_count": null,
   "metadata": {},
   "outputs": [],
   "source": [
    "result = ae.run(backend)\n",
    "print(result['estimation'])\n",
    "print(ae.confidence_interval(0.05, kind='lr'))"
   ]
  },
  {
   "cell_type": "code",
   "execution_count": 1,
   "metadata": {},
   "outputs": [],
   "source": [
    "from qiskit import QuantumCircuit, Aer, execute"
   ]
  },
  {
   "cell_type": "code",
   "execution_count": 2,
   "metadata": {},
   "outputs": [
    {
     "name": "stderr",
     "output_type": "stream",
     "text": [
      "/Users/jul/Work/Qiskit/qiskit-terra/qiskit/circuit/measure.py:81: DeprecationWarning: The module qiskit.extensions.standard is deprecated as of 0.14.0 and will be removed no earlier than 3 months after the release. You should import the standard gates from qiskit.circuit.library.standard_gates instead.\n",
      "  from qiskit.extensions.standard.h import HGate\n"
     ]
    },
    {
     "data": {
      "text/plain": [
       "<qiskit.circuit.instructionset.InstructionSet at 0x121c98c10>"
      ]
     },
     "execution_count": 2,
     "metadata": {},
     "output_type": "execute_result"
    }
   ],
   "source": [
    "qc = QuantumCircuit(3, 3)\n",
    "qc.measure([0, 1, 2], [0, 1, 2])\n",
    "qc.measure_pauli('y', [0, 1, 2], [0, 1, 2])"
   ]
  },
  {
   "cell_type": "code",
   "execution_count": 3,
   "metadata": {},
   "outputs": [
    {
     "data": {
      "text/plain": [
       "{'000': 126,\n",
       " '001': 148,\n",
       " '010': 107,\n",
       " '011': 124,\n",
       " '100': 124,\n",
       " '101': 132,\n",
       " '110': 118,\n",
       " '111': 145}"
      ]
     },
     "execution_count": 3,
     "metadata": {},
     "output_type": "execute_result"
    }
   ],
   "source": [
    "execute(qc, Aer.get_backend('qasm_simulator')).result().get_counts()"
   ]
  },
  {
   "cell_type": "code",
   "execution_count": 4,
   "metadata": {},
   "outputs": [
    {
     "data": {
      "text/html": [
       "<pre style=\"word-wrap: normal;white-space: pre;background: #fff0;line-height: 1.1;font-family: &quot;Courier New&quot;,Courier,monospace\">     ┌─┐      ┌──────────────┐\n",
       "q_0: ┤M├──────┤0             ├\n",
       "     └╥┘┌─┐   │              │\n",
       "q_1: ─╫─┤M├───┤1             ├\n",
       "      ║ └╥┘┌─┐│              │\n",
       "q_2: ─╫──╫─┤M├┤2             ├\n",
       "      ║  ║ └╥┘│  MEASURE_YYY │\n",
       "c_0: ═╩══╬══╬═╡0             ╞\n",
       "         ║  ║ │              │\n",
       "c_1: ════╩══╬═╡1             ╞\n",
       "            ║ │              │\n",
       "c_2: ═══════╩═╡2             ╞\n",
       "              └──────────────┘</pre>"
      ],
      "text/plain": [
       "     ┌─┐      ┌──────────────┐\n",
       "q_0: ┤M├──────┤0             ├\n",
       "     └╥┘┌─┐   │              │\n",
       "q_1: ─╫─┤M├───┤1             ├\n",
       "      ║ └╥┘┌─┐│              │\n",
       "q_2: ─╫──╫─┤M├┤2             ├\n",
       "      ║  ║ └╥┘│  MEASURE_YYY │\n",
       "c_0: ═╩══╬══╬═╡0             ╞\n",
       "         ║  ║ │              │\n",
       "c_1: ════╩══╬═╡1             ╞\n",
       "            ║ │              │\n",
       "c_2: ═══════╩═╡2             ╞\n",
       "              └──────────────┘"
      ]
     },
     "execution_count": 4,
     "metadata": {},
     "output_type": "execute_result"
    }
   ],
   "source": [
    "qc.draw()"
   ]
  },
  {
   "cell_type": "code",
   "execution_count": 5,
   "metadata": {},
   "outputs": [
    {
     "data": {
      "text/html": [
       "<pre style=\"word-wrap: normal;white-space: pre;background: #fff0;line-height: 1.1;font-family: &quot;Courier New&quot;,Courier,monospace\">     ┌─┐┌─────┐ ┌───┐             ┌─┐┌───┐┌───┐          \n",
       "q_0: ┤M├┤ SDG ├─┤ H ├─────────────┤M├┤ H ├┤ S ├──────────\n",
       "     └╥┘└─┬─┬─┘┌┴───┴┐ ┌───┐      └╥┘└┬─┬┘├───┤┌───┐     \n",
       "q_1: ─╫───┤M├──┤ SDG ├─┤ H ├───────╫──┤M├─┤ H ├┤ S ├─────\n",
       "      ║   └╥┘  └─┬─┬─┘┌┴───┴┐┌───┐ ║  └╥┘ └┬─┬┘├───┤┌───┐\n",
       "q_2: ─╫────╫─────┤M├──┤ SDG ├┤ H ├─╫───╫───┤M├─┤ H ├┤ S ├\n",
       "      ║    ║     └╥┘  └─────┘└───┘ ║   ║   └╥┘ └───┘└───┘\n",
       "c_0: ═╩════╬══════╬════════════════╩═══╬════╬════════════\n",
       "           ║      ║                    ║    ║            \n",
       "c_1: ══════╩══════╬════════════════════╩════╬════════════\n",
       "                  ║                         ║            \n",
       "c_2: ═════════════╩═════════════════════════╩════════════\n",
       "                                                         </pre>"
      ],
      "text/plain": [
       "     ┌─┐┌─────┐ ┌───┐             ┌─┐┌───┐┌───┐          \n",
       "q_0: ┤M├┤ SDG ├─┤ H ├─────────────┤M├┤ H ├┤ S ├──────────\n",
       "     └╥┘└─┬─┬─┘┌┴───┴┐ ┌───┐      └╥┘└┬─┬┘├───┤┌───┐     \n",
       "q_1: ─╫───┤M├──┤ SDG ├─┤ H ├───────╫──┤M├─┤ H ├┤ S ├─────\n",
       "      ║   └╥┘  └─┬─┬─┘┌┴───┴┐┌───┐ ║  └╥┘ └┬─┬┘├───┤┌───┐\n",
       "q_2: ─╫────╫─────┤M├──┤ SDG ├┤ H ├─╫───╫───┤M├─┤ H ├┤ S ├\n",
       "      ║    ║     └╥┘  └─────┘└───┘ ║   ║   └╥┘ └───┘└───┘\n",
       "c_0: ═╩════╬══════╬════════════════╩═══╬════╬════════════\n",
       "           ║      ║                    ║    ║            \n",
       "c_1: ══════╩══════╬════════════════════╩════╬════════════\n",
       "                  ║                         ║            \n",
       "c_2: ═════════════╩═════════════════════════╩════════════\n",
       "                                                         "
      ]
     },
     "execution_count": 5,
     "metadata": {},
     "output_type": "execute_result"
    }
   ],
   "source": [
    "qc.decompose().draw()"
   ]
  },
  {
   "cell_type": "code",
   "execution_count": 6,
   "metadata": {},
   "outputs": [
    {
     "data": {
      "text/html": [
       "<pre style=\"word-wrap: normal;white-space: pre;background: #fff0;line-height: 1.1;font-family: &quot;Courier New&quot;,Courier,monospace\">     ┌───┐\n",
       "q_0: ┤M_Y├\n",
       "     └─╥─┘\n",
       "q_1: ──╫──\n",
       "       ║  \n",
       "q_2: ──╫──\n",
       "       ║  \n",
       "c_0: ══╩══\n",
       "          \n",
       "c_1: ═════\n",
       "          \n",
       "c_2: ═════\n",
       "          </pre>"
      ],
      "text/plain": [
       "     ┌───┐\n",
       "q_0: ┤M_Y├\n",
       "     └─╥─┘\n",
       "q_1: ──╫──\n",
       "       ║  \n",
       "q_2: ──╫──\n",
       "       ║  \n",
       "c_0: ══╩══\n",
       "          \n",
       "c_1: ═════\n",
       "          \n",
       "c_2: ═════\n",
       "          "
      ]
     },
     "execution_count": 6,
     "metadata": {},
     "output_type": "execute_result"
    }
   ],
   "source": [
    "qc = QuantumCircuit(3, 3)\n",
    "qc.measure_pauli('y', 0, 0)\n",
    "qc.draw()"
   ]
  },
  {
   "cell_type": "code",
   "execution_count": null,
   "metadata": {},
   "outputs": [],
   "source": []
  },
  {
   "cell_type": "code",
   "execution_count": null,
   "metadata": {},
   "outputs": [],
   "source": []
  }
 ],
 "metadata": {
  "kernelspec": {
   "display_name": "Python 3",
   "language": "python",
   "name": "python3"
  },
  "language_info": {
   "codemirror_mode": {
    "name": "ipython",
    "version": 3
   },
   "file_extension": ".py",
   "mimetype": "text/x-python",
   "name": "python",
   "nbconvert_exporter": "python",
   "pygments_lexer": "ipython3",
   "version": "3.7.9"
  }
 },
 "nbformat": 4,
 "nbformat_minor": 2
}
