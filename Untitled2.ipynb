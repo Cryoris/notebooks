{
 "cells": [
  {
   "cell_type": "code",
   "execution_count": 1,
   "id": "1b08391f",
   "metadata": {},
   "outputs": [],
   "source": [
    "from qiskit.providers.fake_provider import FakeManila\n",
    "\n",
    "from qiskit import QuantumCircuit\n",
    "from pec_runtime.experiment.lindblad_estimation import LindbladEstimation\n",
    "from pec_runtime.utils.stratify import stratify_circuit_into_layers, native_coupling_map\n",
    "\n",
    "# %%\n",
    "\"\"\"Config\"\"\"\n",
    "backend = FakeManila()\n",
    "num_qubits = backend.configuration().num_qubits\n",
    "physical_qubits = list(range(num_qubits))\n",
    "\n",
    "circuit = QuantumCircuit(num_qubits)\n",
    "circuit.cx(0, 1)\n",
    "circuit.cx(1, 2)\n",
    "circuit.cx(2, 3)\n",
    "\n",
    "# native_dir_coupling_map = native_coupling_map(backend)\n",
    "# layers = stratify_circuit_into_layers(\n",
    "#     circuit,\n",
    "#     twirled_qubits=physical_qubits,\n",
    "#     coupling_map=native_dir_coupling_map,\n",
    "#     convert_gate_directions=True,\n",
    "# )\n",
    "layer1 = QuantumCircuit(num_qubits)\n",
    "layer1.cx(0, 1)\n",
    "\n",
    "layer2 = QuantumCircuit(num_qubits)\n",
    "layer2.cx(1, 2)\n",
    "\n",
    "layers = [layer1, layer2]"
   ]
  },
  {
   "cell_type": "code",
   "execution_count": 32,
   "id": "0933acbf",
   "metadata": {},
   "outputs": [],
   "source": [
    "# layer = layers[0]"
   ]
  },
  {
   "cell_type": "code",
   "execution_count": 4,
   "id": "35f2552e",
   "metadata": {},
   "outputs": [
    {
     "name": "stdout",
     "output_type": "stream",
     "text": [
      "Starting to send jobs...\n"
     ]
    },
    {
     "name": "stderr",
     "output_type": "stream",
     "text": [
      "Adding a job from a backend (aer_simulator) that is different than the current backend (fake_manila). The new backend will be used, but service is not changed if one already exists.\n"
     ]
    },
    {
     "name": "stdout",
     "output_type": "stream",
     "text": [
      "done in 22.227247953414917\n"
     ]
    }
   ],
   "source": [
    "experiment = LindbladEstimation(\n",
    "    layers[0],\n",
    "    physical_qubits,\n",
    "    backend,\n",
    "    num_samples=16,\n",
    "    randomize_preparation=False,\n",
    "    randomize_measurement=False,\n",
    ")\n",
    "\n",
    "experiment.analysis.set_options(plot=True)\n",
    "experiment_data = experiment.run().block_for_results()\n",
    "analysis_results = experiment_data.analysis_results()"
   ]
  },
  {
   "cell_type": "code",
   "execution_count": 3,
   "id": "d0c48c0a",
   "metadata": {},
   "outputs": [
    {
     "name": "stdout",
     "output_type": "stream",
     "text": [
      "Starting to send jobs...\n"
     ]
    },
    {
     "name": "stderr",
     "output_type": "stream",
     "text": [
      "Adding a job from a backend (aer_simulator) that is different than the current backend (fake_manila). The new backend will be used, but service is not changed if one already exists.\n"
     ]
    },
    {
     "name": "stdout",
     "output_type": "stream",
     "text": [
      "done in 8.245851993560791\n"
     ]
    },
    {
     "name": "stderr",
     "output_type": "stream",
     "text": [
      "Analysis callback failed [Experiment ID: 52c29ad9-dc5b-4169-8dd9-2fcb8a97fd91][Analysis Callback ID: 23828b18ae3f41488e45da453fbc3db8]:\n",
      "Traceback (most recent call last):\n",
      "  File \"/Users/jul/Qiskit/qiskit-experiments/qiskit_experiments/framework/experiment_data.py\", line 897, in _run_analysis_callback\n",
      "    callback(self, **kwargs)\n",
      "  File \"/Users/jul/Qiskit/qiskit-experiments/qiskit_experiments/framework/base_analysis.py\", line 169, in run_analysis\n",
      "    results, figures = analysis._run_analysis(expdata)\n",
      "  File \"/Users/jul/IBM/pec-runtime/pec_runtime/experiment/lindblad_estimation/lindblad_estimation_analysis.py\", line 407, in _run_analysis\n",
      "    twirled_indices = mapped_indices(physical_qubits, twirled_qubits)\n",
      "TypeError: unhashable type: 'list'\n",
      "\n"
     ]
    },
    {
     "data": {
      "text/plain": [
       "ExperimentData(LindbladEstimation, 52c29ad9-dc5b-4169-8dd9-2fcb8a97fd91, job_ids=['ea236aaf-51e1-4c81-b2f2-985bd71c35cd'], metadata=<7 items>, figure_names=['LindbladEstimation_Fig-0_Exp-227457d6.svg', 'LindbladEstimation_Fig-1_Exp-227457d6.svg', 'LindbladEstimation_Fig-0_Exp-52c29ad9.svg', 'LindbladEstimation_Fig-1_Exp-52c29ad9.svg'])"
      ]
     },
     "execution_count": 3,
     "metadata": {},
     "output_type": "execute_result"
    }
   ],
   "source": [
    "experiment = LindbladEstimation(\n",
    "    layers[0],\n",
    "    physical_qubits,\n",
    "    backend,\n",
    "    num_samples=2,\n",
    "    randomize_preparation=False,\n",
    "    randomize_measurement=False,\n",
    ")\n",
    "\n",
    "experiment.analysis.set_options(plot=True)\n",
    "experiment_data = experiment.run().block_for_results()\n",
    "experiment.analysis.run(experiment_data)"
   ]
  },
  {
   "cell_type": "code",
   "execution_count": 15,
   "id": "f1a84afd",
   "metadata": {},
   "outputs": [
    {
     "name": "stdout",
     "output_type": "stream",
     "text": [
      "Starting to send jobs...\n"
     ]
    },
    {
     "name": "stderr",
     "output_type": "stream",
     "text": [
      "Adding a job from a backend (aer_simulator) that is different than the current backend (fake_manila). The new backend will be used, but service is not changed if one already exists.\n"
     ]
    },
    {
     "name": "stdout",
     "output_type": "stream",
     "text": [
      "done in 7.537054061889648\n",
      "Starting to send jobs...\n"
     ]
    },
    {
     "name": "stderr",
     "output_type": "stream",
     "text": [
      "Adding a job from a backend (aer_simulator) that is different than the current backend (fake_manila). The new backend will be used, but service is not changed if one already exists.\n"
     ]
    },
    {
     "name": "stdout",
     "output_type": "stream",
     "text": [
      "done in 7.361664056777954\n"
     ]
    },
    {
     "data": {
      "text/plain": [
       "'Display Pauli Fidelity Figure'"
      ]
     },
     "execution_count": 15,
     "metadata": {},
     "output_type": "execute_result"
    }
   ],
   "source": [
    "# %%\n",
    "expdata = []\n",
    "for layer in layers:\n",
    "    \"\"\"Run Experiment, Analysis\"\"\"\n",
    "    experiment = LindbladEstimation(\n",
    "        layer,\n",
    "        physical_qubits,\n",
    "        backend,\n",
    "        num_samples=2,\n",
    "        randomize_preparation=False,\n",
    "        randomize_measurement=False,\n",
    "    )\n",
    "\n",
    "    experiment.analysis.set_options(plot=True)\n",
    "    expdata.append(experiment.run(shots=100))\n",
    "    \n",
    "#     analysis_results.append(experiment.analysis.run(experiment_data).block_for_results())\n",
    "# \n",
    "# error_generators = []\n",
    "# for res in analysis_results:\n",
    "#     gen = res.block_for_results().analysis_results(\"error_generators\")\n",
    "#     print(gen)\n",
    "\n",
    "#     error_gen = analyzed.analysis_results(\"error_generators\")\n",
    "\n",
    "# %%\n",
    "\"\"\"Display Cycle Fidelity Figure\"\"\"\n",
    "# experiment_data.figure(0)\n",
    "\n",
    "# %%\n",
    "\"\"\"Display Pauli Fidelity Figure\"\"\"\n",
    "# experiment_data.figure(1)"
   ]
  },
  {
   "cell_type": "code",
   "execution_count": 16,
   "id": "f08a7f13",
   "metadata": {},
   "outputs": [
    {
     "name": "stdout",
     "output_type": "stream",
     "text": [
      "[AnalysisResult(name=error_generators, value=SparsePauliOp(['IIIIZ', 'IIIXI', 'IIIIY', 'IIIZY', 'IIIYX', 'IIIXX', 'ZIIII', 'IIYZI', 'IIZZI', 'IIIXY', 'YIIII', 'IIIZI', 'IIIYI', 'IIXYI', 'XIIII', 'IIXXI', 'IYIII', 'IZIII', 'IZYII', 'IXIII', 'IXYII', 'IIZXI', 'IIXZI', 'ZZIII'],\n",
      "              coeffs=[2.18e-02+0.j, 2.69e-03+0.j, 2.41e-03+0.j, 1.82e-03+0.j, 1.47e-03+0.j,\n",
      " 9.10e-04+0.j, 8.90e-04+0.j, 8.60e-04+0.j, 7.00e-04+0.j, 6.30e-04+0.j,\n",
      " 6.30e-04+0.j, 4.30e-04+0.j, 2.70e-04+0.j, 2.10e-04+0.j, 2.00e-04+0.j,\n",
      " 1.70e-04+0.j, 1.40e-04+0.j, 1.30e-04+0.j, 1.30e-04+0.j, 1.10e-04+0.j,\n",
      " 1.10e-04+0.j, 4.00e-05+0.j, 3.00e-05+0.j, 2.00e-05+0.j]), device_components=[<Qubit(Q0)>, <Qubit(Q1)>, <Qubit(Q2)>, <Qubit(Q3)>, <Qubit(Q4)>], experiment_id=c20d2b5e-096e-4436-ac9e-bd1325add9c1, result_id=160ff774-990d-4158-b7f3-a4e1b0222174, chisq=None, quality=None, verified=False, extra={'twirled_qubits': (0, 1, 2, 3, 4), 'learning_qubits': (0, 1, 2, 3, 4), 'model': 'symmetrized_cycle', 'layer': <pec_runtime.circuit.twirled_layer.TwirledLayer object at 0x7fc23a1234c0>, 'gamma': 1.076376168907081}, tags=[], experiment id='c20d2b5e-096e-4436-ac9e-bd1325add9c1'), AnalysisResult(name=layer_fidelities, value=SparsePauliOp(['IIIZX', 'IIIYY', 'IIIXX', 'IIIYX', 'IIIXY', 'IIIIX', 'IIIZY', 'IIIIY', 'IIXZI', 'IIXZZ', 'IIIXZ', 'IIZZI', 'IIZZZ', 'IIZYZ', 'IIZYI', 'IIXYZ', 'IIXYI', 'IIYYZ', 'IIYYI', 'IIIZZ', 'IIIYI', 'IIIYZ', 'IIIZI', 'IIYZI', 'IIYZZ', 'IIIIZ', 'IIXXI', 'IIZXI', 'IIYXI', 'IIIXI', 'XYIII', 'XZIII', 'IZXII', 'IYXII', 'IXZII', 'XXIII', 'IXYII', 'YYIII', 'IXXII', 'YZIII', 'YXIII', 'IYYII', 'ZXIII', 'IZZII', 'IIXII', 'ZYIII', 'XIIII', 'IYZII', 'ZZIII', 'IZYII', 'YIIII', 'IIZII', 'IIYII', 'ZIIII', 'IYIII', 'IXIII', 'IZIII'],\n",
      "              coeffs=[0.92523866+0.j, 0.92960093+0.j, 0.94013078+0.j, 0.94258676+0.j,\n",
      " 0.94742162+0.j, 0.95207664+0.j, 0.96078129+0.j, 0.96537701+0.j,\n",
      " 0.98146402+0.j, 0.98146402+0.j, 0.9829284 +0.j, 0.98453784+0.j,\n",
      " 0.98453784+0.j, 0.98454725+0.j, 0.98454725+0.j, 0.98574042+0.j,\n",
      " 0.98574042+0.j, 0.98602015+0.j, 0.98602015+0.j, 0.98622773+0.j,\n",
      " 0.98657435+0.j, 0.98659616+0.j, 0.98710323+0.j, 0.98739475+0.j,\n",
      " 0.98739475+0.j, 0.98973309+0.j, 0.99002679+0.j, 0.99101791+0.j,\n",
      " 0.99240771+0.j, 0.99411861+0.j, 0.9954789 +0.j, 0.99552258+0.j,\n",
      " 0.99576929+0.j, 0.99608894+0.j, 0.99622804+0.j, 0.99674262+0.j,\n",
      " 0.99679861+0.j, 0.99682232+0.j, 0.99682733+0.j, 0.99691804+0.j,\n",
      " 0.99702354+0.j, 0.99712512+0.j, 0.99720217+0.j, 0.99734083+0.j,\n",
      " 0.99738742+0.j, 0.99738994+0.j, 0.99756714+0.j, 0.99760094+0.j,\n",
      " 0.99767887+0.j, 0.99784163+0.j, 0.99796902+0.j, 0.99811403+0.j,\n",
      " 0.99828064+0.j, 0.99859185+0.j, 0.99864437+0.j, 0.99866019+0.j,\n",
      " 0.99891075+0.j]), device_components=[<Qubit(Q0)>, <Qubit(Q1)>, <Qubit(Q2)>, <Qubit(Q3)>, <Qubit(Q4)>], experiment_id=c20d2b5e-096e-4436-ac9e-bd1325add9c1, result_id=171919ca-3be8-4c2d-96f7-992d0d65de97, chisq=None, quality=None, verified=False, extra={'twirled_qubits': (0, 1, 2, 3, 4), 'learning_qubits': (0, 1, 2, 3, 4), 'model': 'symmetrized_cycle', 'layer': <pec_runtime.circuit.twirled_layer.TwirledLayer object at 0x7fc1d8827ac0>}, tags=[], experiment id='c20d2b5e-096e-4436-ac9e-bd1325add9c1'), AnalysisResult(name=spam_fidelities, value=SparsePauliOp(['IIIZY', 'IIIZX', 'IIIIY', 'IIIIX', 'IIIXX', 'IIIXZ', 'IIIZZ', 'IIIYY', 'IIIXY', 'IIIYX', 'IIIYZ', 'IIIIZ', 'IIYZI', 'IZYII', 'IYZII', 'IYYII', 'IXXII', 'IIYYI', 'IIZYI', 'IIZXI', 'IZZII', 'ZXIII', 'IIZZI', 'YZIII', 'XXIII', 'IIXYI', 'IIXXI', 'ZYIII', 'IIYXI', 'YXIII', 'ZZIII', 'IXZII', 'IIYII', 'IXYII', 'IZXII', 'IIZII', 'IYXII', 'XYIII', 'IIIZI', 'IIXZI', 'IZIII', 'IIIXI', 'IXIII', 'XZIII', 'IIXII', 'YYIII', 'IYIII', 'ZIIII', 'XIIII', 'IIIYI', 'YIIII'],\n",
      "              coeffs=[0.78901771+0.j, 0.81553863+0.j, 0.82927089+0.j, 0.83023911+0.j,\n",
      " 0.83343793+0.j, 0.8378474 +0.j, 0.84096673+0.j, 0.84601043+0.j,\n",
      " 0.84652972+0.j, 0.85073452+0.j, 0.86723308+0.j, 0.8719495 +0.j,\n",
      " 0.91950443+0.j, 0.92943949+0.j, 0.92977826+0.j, 0.93448721+0.j,\n",
      " 0.93557996+0.j, 0.93815306+0.j, 0.94324031+0.j, 0.94338032+0.j,\n",
      " 0.94609965+0.j, 0.95471487+0.j, 0.95487634+0.j, 0.95561613+0.j,\n",
      " 0.95573271+0.j, 0.95667545+0.j, 0.9579704 +0.j, 0.95885156+0.j,\n",
      " 0.95944635+0.j, 0.96098143+0.j, 0.96145346+0.j, 0.96411126+0.j,\n",
      " 0.96504058+0.j, 0.96539611+0.j, 0.96648543+0.j, 0.96704368+0.j,\n",
      " 0.9698866 +0.j, 0.97313861+0.j, 0.97409763+0.j, 0.97474827+0.j,\n",
      " 0.97553362+0.j, 0.97622611+0.j, 0.97683543+0.j, 0.97776588+0.j,\n",
      " 0.97901586+0.j, 0.97905932+0.j, 0.98044585+0.j, 0.98185164+0.j,\n",
      " 0.98234979+0.j, 0.98286307+0.j, 0.98364745+0.j]), device_components=[<Qubit(Q0)>, <Qubit(Q1)>, <Qubit(Q2)>, <Qubit(Q3)>, <Qubit(Q4)>], experiment_id=c20d2b5e-096e-4436-ac9e-bd1325add9c1, result_id=f531cf7a-da73-46c0-876d-233fe171ec13, chisq=None, quality=None, verified=False, extra={'twirled_qubits': (0, 1, 2, 3, 4), 'learning_qubits': (0, 1, 2, 3, 4)}, tags=[], experiment id='c20d2b5e-096e-4436-ac9e-bd1325add9c1'), AnalysisResult(name=cycle_fidelities, value=SparsePauliOp(['IIIZX', 'IIIYY', 'IIIXX', 'IIIYX', 'IIIXY', 'IIIIX', 'IIIZY', 'IIIIY', 'IIXZI', 'IIIXZ', 'IIZZI', 'IIZYI', 'IIXYI', 'IIYYI', 'IIIZZ', 'IIIYI', 'IIIYZ', 'IIIZI', 'IIYZI', 'IIIIZ', 'IIXXI', 'IIZXI', 'IIYXI', 'IIIXI', 'XYIII', 'XZIII', 'IZXII', 'IYXII', 'IXZII', 'XXIII', 'IXYII', 'YYIII', 'IXXII', 'YZIII', 'YXIII', 'IYYII', 'ZXIII', 'IZZII', 'IIXII', 'ZYIII', 'XIIII', 'IYZII', 'ZZIII', 'IZYII', 'YIIII', 'IIZII', 'IIYII', 'ZIIII', 'IYIII', 'IXIII', 'IZIII'],\n",
      "              coeffs=[0.85606658+0.j, 0.86415788+0.j, 0.88384588+0.j, 0.8884698 +0.j,\n",
      " 0.89760772+0.j, 0.90644993+0.j, 0.92310069+0.j, 0.93195278+0.j,\n",
      " 0.96327163+0.j, 0.96614825+0.j, 0.96931477+0.j, 0.96933329+0.j,\n",
      " 0.97168418+0.j, 0.97223573+0.j, 0.97264514+0.j, 0.97332896+0.j,\n",
      " 0.97337198+0.j, 0.97437279+0.j, 0.9749484 +0.j, 0.9795716 +0.j,\n",
      " 0.98015305+0.j, 0.98211651+0.j, 0.98487307+0.j, 0.98827181+0.j,\n",
      " 0.99097824+0.j, 0.99106521+0.j, 0.99155649+0.j, 0.99219317+0.j,\n",
      " 0.99247031+0.j, 0.99349585+0.j, 0.99360747+0.j, 0.99365473+0.j,\n",
      " 0.99366473+0.j, 0.99384557+0.j, 0.99405595+0.j, 0.99425851+0.j,\n",
      " 0.99441217+0.j, 0.99468873+0.j, 0.99478166+0.j, 0.99478669+0.j,\n",
      " 0.99514019+0.j, 0.99520763+0.j, 0.99536312+0.j, 0.99568792+0.j,\n",
      " 0.99594217+0.j, 0.99623161+0.j, 0.99656423+0.j, 0.99718568+0.j,\n",
      " 0.99729059+0.j, 0.99732217+0.j, 0.99782268+0.j]), device_components=[<Qubit(Q0)>, <Qubit(Q1)>, <Qubit(Q2)>, <Qubit(Q3)>, <Qubit(Q4)>], experiment_id=c20d2b5e-096e-4436-ac9e-bd1325add9c1, result_id=2eaa7453-ad32-4d43-9d3c-23ec00953eef, chisq=None, quality=None, verified=False, extra={'twirled_qubits': (0, 1, 2, 3, 4), 'learning_qubits': (0, 1, 2, 3, 4)}, tags=[], experiment id='c20d2b5e-096e-4436-ac9e-bd1325add9c1')]\n",
      "[AnalysisResult(name=error_generators, value=SparsePauliOp(['IIZII', 'IIZZI', 'IIIIZ', 'IIIIY', 'IIIZI', 'IIXXI', 'IIZYI', 'IIYXI', 'YIIII', 'IIYZI', 'IIXZI', 'IIIXI', 'IIIIX', 'ZIIII', 'IIIYX', 'IXYII', 'IIXII', 'IIIZX', 'IYXII', 'IIIYI', 'IIXYI', 'IZZII', 'IYIII', 'XZIII', 'ZZIII', 'XYIII', 'ZXIII', 'XXIII', 'IIIYY', 'IIYYI', 'IZXII', 'XIIII'],\n",
      "              coeffs=[4.83e-03+0.j, 4.37e-03+0.j, 4.10e-03+0.j, 2.95e-03+0.j, 1.66e-03+0.j,\n",
      " 1.20e-03+0.j, 1.09e-03+0.j, 9.50e-04+0.j, 7.20e-04+0.j, 6.90e-04+0.j,\n",
      " 6.80e-04+0.j, 5.60e-04+0.j, 4.90e-04+0.j, 4.50e-04+0.j, 4.40e-04+0.j,\n",
      " 4.10e-04+0.j, 3.50e-04+0.j, 2.60e-04+0.j, 2.60e-04+0.j, 2.10e-04+0.j,\n",
      " 2.00e-04+0.j, 1.80e-04+0.j, 1.70e-04+0.j, 1.20e-04+0.j, 9.00e-05+0.j,\n",
      " 9.00e-05+0.j, 8.00e-05+0.j, 7.00e-05+0.j, 4.00e-05+0.j, 3.00e-05+0.j,\n",
      " 2.00e-05+0.j, 1.00e-05+0.j]), device_components=[<Qubit(Q0)>, <Qubit(Q1)>, <Qubit(Q2)>, <Qubit(Q3)>, <Qubit(Q4)>], experiment_id=73ff46ce-2fea-4678-81ad-35189e066f11, result_id=38a12c44-08fc-42ce-b78d-847042e2fd74, chisq=None, quality=None, verified=False, extra={'twirled_qubits': (0, 1, 2, 3, 4), 'learning_qubits': (0, 1, 2, 3, 4), 'model': 'symmetrized_cycle', 'layer': <pec_runtime.circuit.twirled_layer.TwirledLayer object at 0x7fc22c188430>, 'gamma': 1.0571113006787722}, tags=[], experiment id='73ff46ce-2fea-4678-81ad-35189e066f11'), AnalysisResult(name=layer_fidelities, value=SparsePauliOp(['IIXYX', 'IIIYX', 'IIIXX', 'IIXXX', 'IIIYY', 'IIXYY', 'IIXYZ', 'IIIYZ', 'IXXII', 'IZYZI', 'IZYII', 'IYYZI', 'IYYII', 'IIIXY', 'IIXXY', 'IIYII', 'IIXZI', 'IIYZI', 'IXYII', 'IXYZI', 'IZXII', 'IYXII', 'IIIXZ', 'IIXXZ', 'IIXII', 'IIYYI', 'IIZXI', 'IIXYI', 'IIIZX', 'IIYXI', 'IIXXI', 'IIIXI', 'IIIZY', 'IIIYI', 'IIIZZ', 'IIZYI', 'IIIIX', 'IXZZI', 'IXZII', 'IYZZI', 'IYZII', 'IIIZI', 'IIZII', 'IIIIY', 'IIIIZ', 'IZZII', 'IZZZI', 'IIZZI', 'XZIII', 'XXIII', 'XYIII', 'ZZIII', 'ZYIII', 'YXIII', 'ZXIII', 'YZIII', 'XIIII', 'YIIII', 'ZIIII', 'YYIII', 'IXIII', 'IZIII', 'IYIII'],\n",
      "              coeffs=[0.96482944+0.j, 0.96482944+0.j, 0.96623137+0.j, 0.96623137+0.j,\n",
      " 0.96903045+0.j, 0.96903045+0.j, 0.9718716 +0.j, 0.9718716 +0.j,\n",
      " 0.97213675+0.j, 0.9722522 +0.j, 0.9722522 +0.j, 0.97261719+0.j,\n",
      " 0.97261719+0.j, 0.97298782+0.j, 0.97298782+0.j, 0.97352921+0.j,\n",
      " 0.97383595+0.j, 0.97453948+0.j, 0.97557014+0.j, 0.97557014+0.j,\n",
      " 0.97580401+0.j, 0.97588949+0.j, 0.97603325+0.j, 0.97603325+0.j,\n",
      " 0.97660235+0.j, 0.9774437 +0.j, 0.97749415+0.j, 0.97757868+0.j,\n",
      " 0.97811518+0.j, 0.98011507+0.j, 0.98080263+0.j, 0.98089802+0.j,\n",
      " 0.981778  +0.j, 0.98224324+0.j, 0.98322777+0.j, 0.98465693+0.j,\n",
      " 0.98690942+0.j, 0.98898723+0.j, 0.98898723+0.j, 0.99015648+0.j,\n",
      " 0.99015648+0.j, 0.99072271+0.j, 0.9907705 +0.j, 0.99102877+0.j,\n",
      " 0.99130773+0.j, 0.99132533+0.j, 0.99132533+0.j, 0.99194086+0.j,\n",
      " 0.99513058+0.j, 0.99559649+0.j, 0.9963159 +0.j, 0.99652329+0.j,\n",
      " 0.99663156+0.j, 0.99696858+0.j, 0.99718005+0.j, 0.99727789+0.j,\n",
      " 0.99770141+0.j, 0.99788824+0.j, 0.99793116+0.j, 0.99825278+0.j,\n",
      " 0.99876172+0.j, 0.99879141+0.j, 0.99920043+0.j]), device_components=[<Qubit(Q0)>, <Qubit(Q1)>, <Qubit(Q2)>, <Qubit(Q3)>, <Qubit(Q4)>], experiment_id=73ff46ce-2fea-4678-81ad-35189e066f11, result_id=58fbf438-9c71-421f-af06-6e6dadb5c946, chisq=None, quality=None, verified=False, extra={'twirled_qubits': (0, 1, 2, 3, 4), 'learning_qubits': (0, 1, 2, 3, 4), 'model': 'symmetrized_cycle', 'layer': <pec_runtime.circuit.twirled_layer.TwirledLayer object at 0x7fc21aeffd60>}, tags=[], experiment id='73ff46ce-2fea-4678-81ad-35189e066f11'), AnalysisResult(name=spam_fidelities, value=SparsePauliOp(['IIIZX', 'IIIYX', 'IIIZZ', 'IIIXZ', 'IIIIX', 'IIIYZ', 'IIIZY', 'IIIXY', 'IIIYY', 'IIIIY', 'IIIIZ', 'IIIXX', 'IIXZI', 'IIZYI', 'IYZII', 'IXYII', 'IZZII', 'IIYXI', 'IYXII', 'IYYII', 'IXZII', 'IIXYI', 'IIZZI', 'YYIII', 'XYIII', 'IZXII', 'YZIII', 'ZXIII', 'YXIII', 'ZZIII', 'IXXII', 'IIXXI', 'IIYYI', 'IZYII', 'IIZXI', 'IIIZI', 'IIZII', 'IZIII', 'IIXII', 'IYIII', 'IIYII', 'IXIII', 'IIYZI', 'IIIYI', 'XZIII', 'ZYIII', 'IIIXI', 'ZIIII', 'XIIII', 'XXIII', 'YIIII'],\n",
      "              coeffs=[0.79961569+0.j, 0.81730785+0.j, 0.83065612+0.j, 0.84222079+0.j,\n",
      " 0.84582097+0.j, 0.8481534 +0.j, 0.84890452+0.j, 0.85413172+0.j,\n",
      " 0.85616961+0.j, 0.85932084+0.j, 0.85965085+0.j, 0.87434077+0.j,\n",
      " 0.9033848 +0.j, 0.91879497+0.j, 0.92511305+0.j, 0.92737434+0.j,\n",
      " 0.93058447+0.j, 0.93328974+0.j, 0.9382615 +0.j, 0.9440793 +0.j,\n",
      " 0.94463139+0.j, 0.94512481+0.j, 0.94537346+0.j, 0.94798307+0.j,\n",
      " 0.95218412+0.j, 0.95303765+0.j, 0.95390941+0.j, 0.9560248 +0.j,\n",
      " 0.95654963+0.j, 0.95940388+0.j, 0.9604947 +0.j, 0.96102015+0.j,\n",
      " 0.96110662+0.j, 0.9624254 +0.j, 0.96399833+0.j, 0.96425855+0.j,\n",
      " 0.96473856+0.j, 0.96929092+0.j, 0.96958996+0.j, 0.97077863+0.j,\n",
      " 0.97341618+0.j, 0.97355783+0.j, 0.97368968+0.j, 0.97746971+0.j,\n",
      " 0.97902759+0.j, 0.98021467+0.j, 0.98413938+0.j, 0.98539807+0.j,\n",
      " 0.9867976 +0.j, 0.98903197+0.j, 0.99204248+0.j]), device_components=[<Qubit(Q0)>, <Qubit(Q1)>, <Qubit(Q2)>, <Qubit(Q3)>, <Qubit(Q4)>], experiment_id=73ff46ce-2fea-4678-81ad-35189e066f11, result_id=c6fb18e8-2dbf-4d9f-b364-decfab6e64b6, chisq=None, quality=None, verified=False, extra={'twirled_qubits': (0, 1, 2, 3, 4), 'learning_qubits': (0, 1, 2, 3, 4)}, tags=[], experiment id='73ff46ce-2fea-4678-81ad-35189e066f11'), AnalysisResult(name=cycle_fidelities, value=SparsePauliOp(['IIIYX', 'IIIXX', 'IIIYY', 'IIIYZ', 'IXXII', 'IZYII', 'IYYII', 'IIIXY', 'IIYII', 'IIXZI', 'IIYZI', 'IXYII', 'IZXII', 'IYXII', 'IIIXZ', 'IIXII', 'IIYYI', 'IIZXI', 'IIXYI', 'IIIZX', 'IIYXI', 'IIXXI', 'IIIXI', 'IIIZY', 'IIIYI', 'IIIZZ', 'IIZYI', 'IIIIX', 'IXZII', 'IYZII', 'IIIZI', 'IIZII', 'IIIIY', 'IIIIZ', 'IZZII', 'IIZZI', 'XZIII', 'XXIII', 'XYIII', 'ZZIII', 'ZYIII', 'YXIII', 'ZXIII', 'YZIII', 'XIIII', 'YIIII', 'ZIIII', 'YYIII', 'IXIII', 'IZIII', 'IYIII'],\n",
      "              coeffs=[0.93089584+0.j, 0.93360306+0.j, 0.93902002+0.j, 0.94453441+0.j,\n",
      " 0.94504986+0.j, 0.94527434+0.j, 0.9459842 +0.j, 0.94670531+0.j,\n",
      " 0.94775911+0.j, 0.94835647+0.j, 0.9497272 +0.j, 0.95173709+0.j,\n",
      " 0.95219346+0.j, 0.9523603 +0.j, 0.9526409 +0.j, 0.95375214+0.j,\n",
      " 0.95539618+0.j, 0.95549482+0.j, 0.95566007+0.j, 0.95670931+0.j,\n",
      " 0.96062555+0.j, 0.96197379+0.j, 0.96216093+0.j, 0.96388804+0.j,\n",
      " 0.96480178+0.j, 0.96673686+0.j, 0.96954927+0.j, 0.97399021+0.j,\n",
      " 0.97809574+0.j, 0.98040986+0.j, 0.98153149+0.j, 0.98162619+0.j,\n",
      " 0.98213802+0.j, 0.98269101+0.j, 0.9827259 +0.j, 0.98394666+0.j,\n",
      " 0.99028488+0.j, 0.99121238+0.j, 0.99264536+0.j, 0.99305867+0.j,\n",
      " 0.99327448+0.j, 0.99394635+0.j, 0.99436805+0.j, 0.99456319+0.j,\n",
      " 0.99540809+0.j, 0.99578094+0.j, 0.99586661+0.j, 0.99650861+0.j,\n",
      " 0.99752498+0.j, 0.99758429+0.j, 0.9984015 +0.j]), device_components=[<Qubit(Q0)>, <Qubit(Q1)>, <Qubit(Q2)>, <Qubit(Q3)>, <Qubit(Q4)>], experiment_id=73ff46ce-2fea-4678-81ad-35189e066f11, result_id=db147691-3a98-4757-8eff-bb5c1f13d5df, chisq=None, quality=None, verified=False, extra={'twirled_qubits': (0, 1, 2, 3, 4), 'learning_qubits': (0, 1, 2, 3, 4)}, tags=[], experiment id='73ff46ce-2fea-4678-81ad-35189e066f11')]\n"
     ]
    }
   ],
   "source": [
    "for exp in expdata:\n",
    "    print(exp.block_for_results().analysis_results())"
   ]
  },
  {
   "cell_type": "code",
   "execution_count": 22,
   "id": "c24bfddd",
   "metadata": {},
   "outputs": [
    {
     "data": {
      "text/plain": [
       "AnalysisResult(name=error_generators, value=SparsePauliOp(['IIIIZ', 'IIIXI', 'IIIIY', 'IIIZY', 'IIIYX', 'IIIXX', 'ZIIII', 'IIYZI', 'IIZZI', 'IIIXY', 'YIIII', 'IIIZI', 'IIIYI', 'IIXYI', 'XIIII', 'IIXXI', 'IYIII', 'IZIII', 'IZYII', 'IXIII', 'IXYII', 'IIZXI', 'IIXZI', 'ZZIII'],\n",
       "              coeffs=[2.18e-02+0.j, 2.69e-03+0.j, 2.41e-03+0.j, 1.82e-03+0.j, 1.47e-03+0.j,\n",
       " 9.10e-04+0.j, 8.90e-04+0.j, 8.60e-04+0.j, 7.00e-04+0.j, 6.30e-04+0.j,\n",
       " 6.30e-04+0.j, 4.30e-04+0.j, 2.70e-04+0.j, 2.10e-04+0.j, 2.00e-04+0.j,\n",
       " 1.70e-04+0.j, 1.40e-04+0.j, 1.30e-04+0.j, 1.30e-04+0.j, 1.10e-04+0.j,\n",
       " 1.10e-04+0.j, 4.00e-05+0.j, 3.00e-05+0.j, 2.00e-05+0.j]), device_components=[<Qubit(Q0)>, <Qubit(Q1)>, <Qubit(Q2)>, <Qubit(Q3)>, <Qubit(Q4)>], experiment_id=c20d2b5e-096e-4436-ac9e-bd1325add9c1, result_id=160ff774-990d-4158-b7f3-a4e1b0222174, chisq=None, quality=None, verified=False, extra={'twirled_qubits': (0, 1, 2, 3, 4), 'learning_qubits': (0, 1, 2, 3, 4), 'model': 'symmetrized_cycle', 'layer': <pec_runtime.circuit.twirled_layer.TwirledLayer object at 0x7fc23a1234c0>, 'gamma': 1.076376168907081}, tags=[], experiment id='c20d2b5e-096e-4436-ac9e-bd1325add9c1')"
      ]
     },
     "execution_count": 22,
     "metadata": {},
     "output_type": "execute_result"
    }
   ],
   "source": [
    "expdata[0].block_for_results().analysis_results(\"error_generators\")"
   ]
  },
  {
   "cell_type": "code",
   "execution_count": 11,
   "id": "3c6fc056",
   "metadata": {},
   "outputs": [
    {
     "data": {
      "text/plain": [
       "AnalysisResult(name=error_generators, value=SparsePauliOp(['IIIIZ', 'IZZII', 'IIZII', 'IIIXI', 'IZIII', 'IIIIX', 'IIIXX', 'IIIYI', 'IIIZI', 'IIIXY', 'ZIIII', 'IZYII', 'IYXII', 'IIZXI', 'IXXII', 'IIIIY', 'IIXXI', 'IYIII', 'IXIII', 'IIYXI', 'YIIII', 'XIIII', 'ZXIII', 'IIYYI', 'IIYII', 'IIIZZ', 'IZXII', 'IIXII', 'IIZZI', 'IIIZX', 'XZIII', 'IIIYZ', 'IXYII', 'YYIII', 'YZIII', 'IYYII'],\n",
       "              coeffs=[1.877e-02+0.j, 3.790e-03+0.j, 3.250e-03+0.j, 3.100e-03+0.j, 2.640e-03+0.j,\n",
       " 1.920e-03+0.j, 1.300e-03+0.j, 1.060e-03+0.j, 1.040e-03+0.j, 1.010e-03+0.j,\n",
       " 7.900e-04+0.j, 6.800e-04+0.j, 6.100e-04+0.j, 5.900e-04+0.j, 5.400e-04+0.j,\n",
       " 5.100e-04+0.j, 5.100e-04+0.j, 4.900e-04+0.j, 4.800e-04+0.j, 3.300e-04+0.j,\n",
       " 2.800e-04+0.j, 1.500e-04+0.j, 1.500e-04+0.j, 1.400e-04+0.j, 1.300e-04+0.j,\n",
       " 1.200e-04+0.j, 1.100e-04+0.j, 1.000e-04+0.j, 7.000e-05+0.j, 6.000e-05+0.j,\n",
       " 6.000e-05+0.j, 4.000e-05+0.j, 4.000e-05+0.j, 4.000e-05+0.j, 3.000e-05+0.j,\n",
       " 2.000e-05+0.j]), device_components=[<Qubit(Q0)>, <Qubit(Q1)>, <Qubit(Q2)>, <Qubit(Q3)>, <Qubit(Q4)>], experiment_id=30c9e2c4-a01f-498f-a5df-9e33962260d1, result_id=cd3518a1-e767-4e06-abec-1bff2ff396d5, chisq=None, quality=None, verified=False, extra={'twirled_qubits': (0, 1, 2, 3, 4), 'learning_qubits': (0, 1, 2, 3, 4), 'model': 'symmetrized_cycle', 'layer': <pec_runtime.circuit.twirled_layer.TwirledLayer object at 0x7f7abd18d060>, 'gamma': 1.094064871747529}, tags=[], experiment id='30c9e2c4-a01f-498f-a5df-9e33962260d1')"
      ]
     },
     "execution_count": 11,
     "metadata": {},
     "output_type": "execute_result"
    }
   ],
   "source": [
    "analyzed = experiment.analysis.run(experiment_data).block_for_results()\n",
    "analyzed.analysis_results(\"error_generators\")"
   ]
  },
  {
   "cell_type": "code",
   "execution_count": null,
   "id": "e704c4c3",
   "metadata": {},
   "outputs": [],
   "source": []
  }
 ],
 "metadata": {
  "kernelspec": {
   "display_name": "Python 3",
   "language": "python",
   "name": "python3"
  },
  "language_info": {
   "codemirror_mode": {
    "name": "ipython",
    "version": 3
   },
   "file_extension": ".py",
   "mimetype": "text/x-python",
   "name": "python",
   "nbconvert_exporter": "python",
   "pygments_lexer": "ipython3",
   "version": "3.10.4"
  }
 },
 "nbformat": 4,
 "nbformat_minor": 5
}
