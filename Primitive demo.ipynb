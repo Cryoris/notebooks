{
 "cells": [
  {
   "cell_type": "code",
   "execution_count": 25,
   "metadata": {},
   "outputs": [],
   "source": [
    "import numpy as np\n",
    "import matplotlib.pyplot as plt\n",
    "from qiskit import QuantumCircuit\n",
    "from qiskit.circuit.library import RealAmplitudes, EfficientSU2\n",
    "from qiskit.quantum_info import SparsePauliOp"
   ]
  },
  {
   "cell_type": "markdown",
   "metadata": {},
   "source": [
    "### Sampler"
   ]
  },
  {
   "cell_type": "code",
   "execution_count": 84,
   "metadata": {},
   "outputs": [],
   "source": [
    "circuit = QuantumCircuit(2)\n",
    "circuit.h(0)\n",
    "circuit.x(1)\n",
    "circuit.cx(0, 1)\n",
    "circuit.measure_all()"
   ]
  },
  {
   "cell_type": "code",
   "execution_count": 85,
   "metadata": {},
   "outputs": [
    {
     "data": {
      "image/png": "[encoded data removed]",
      "text/plain": [
       "<Figure size 417.879x204.68 with 1 Axes>"
      ]
     },
     "execution_count": 85,
     "metadata": {},
     "output_type": "execute_result"
    }
   ],
   "source": [
    "circuit.draw(\"mpl\", style=\"iqx\", filename=\"circ_meas.pdf\")"
   ]
  },
  {
   "cell_type": "code",
   "execution_count": 86,
   "metadata": {},
   "outputs": [],
   "source": [
    "from qiskit.primitives import Sampler\n",
    "\n",
    "sampler = Sampler(options={\"shots\": 100})\n",
    "job = sampler.run(circuit)\n",
    "result = job.result()"
   ]
  },
  {
   "cell_type": "code",
   "execution_count": 87,
   "metadata": {},
   "outputs": [
    {
     "name": "stdout",
     "output_type": "stream",
     "text": [
      "SamplerResult(quasi_dists=[{0: 0.0, 1: 0.63, 2: 0.37, 3: 0.0}], metadata=[{'shots': 100}])\n"
     ]
    }
   ],
   "source": [
    "print(result)"
   ]
  },
  {
   "cell_type": "code",
   "execution_count": 99,
   "metadata": {},
   "outputs": [
    {
     "data": {
      "image/png": "[encoded data removed]",
      "text/plain": [
       "<Figure size 288x216 with 1 Axes>"
      ]
     },
     "metadata": {
      "needs_background": "light"
     },
     "output_type": "display_data"
    }
   ],
   "source": [
    "plt.figure(figsize=(4, 3))\n",
    "plt.bar(range(4), result.quasi_dists[0].values(), color=\"royalblue\")\n",
    "plt.xticks(range(4), [\"00\", \"01\", \"10\", \"11\"])\n",
    "plt.xlabel(\"state\")\n",
    "plt.ylabel(\"(quasi) probability\")\n",
    "plt.tight_layout()\n",
    "plt.savefig(\"quasis.pdf\")"
   ]
  },
  {
   "cell_type": "code",
   "execution_count": 56,
   "metadata": {},
   "outputs": [
    {
     "name": "stdout",
     "output_type": "stream",
     "text": [
      "SamplerResult(quasi_dists=[{0: 0.0, 1: 0.51, 2: 0.49, 3: 0.0}], \n",
      "\tmetadata=[{'shots': 100}])\n"
     ]
    }
   ],
   "source": [
    "print(result.__repr__()[:64])\n",
    "print(\"\\t\" + result.__repr__()[64:])"
   ]
  },
  {
   "cell_type": "markdown",
   "metadata": {},
   "source": [
    "## Estimator"
   ]
  },
  {
   "cell_type": "code",
   "execution_count": 26,
   "metadata": {},
   "outputs": [],
   "source": []
  },
  {
   "cell_type": "code",
   "execution_count": 57,
   "metadata": {},
   "outputs": [
    {
     "data": {
      "image/png": "[encoded data removed]",
      "text/plain": [
       "<Figure size 387.452x144.48 with 1 Axes>"
      ]
     },
     "execution_count": 57,
     "metadata": {},
     "output_type": "execute_result"
    }
   ],
   "source": [
    "observable = SparsePauliOp([\"ZZ\"])\n",
    "ansatz = EfficientSU2(2, reps=1).decompose()\n",
    "values = np.random.random(ansatz.num_parameters)\n",
    "ansatz.draw(\"mpl\", style=\"iqx\")"
   ]
  },
  {
   "cell_type": "code",
   "execution_count": 58,
   "metadata": {},
   "outputs": [],
   "source": [
    "from qiskit.primitives import Estimator\n",
    "\n",
    "estimator = Estimator()\n",
    "job = estimator.run(ansatz, observable, values)\n",
    "result = job.result()"
   ]
  },
  {
   "cell_type": "code",
   "execution_count": 59,
   "metadata": {},
   "outputs": [
    {
     "data": {
      "text/plain": [
       "EstimatorResult(values=array([0.81675783]), metadata=[{}])"
      ]
     },
     "execution_count": 59,
     "metadata": {},
     "output_type": "execute_result"
    }
   ],
   "source": [
    "result"
   ]
  },
  {
   "cell_type": "code",
   "execution_count": 60,
   "metadata": {},
   "outputs": [],
   "source": [
    "from qiskit.primitives import Estimator\n",
    "\n",
    "estimator = Estimator()\n",
    "job = estimator.run(3*[ansatz], 3*[observable], 3*[values])\n",
    "result = job.result()"
   ]
  },
  {
   "cell_type": "code",
   "execution_count": 61,
   "metadata": {},
   "outputs": [
    {
     "name": "stdout",
     "output_type": "stream",
     "text": [
      "EstimatorResult(values=array([0.81675783, 0.81675783, 0.81675783]), metadata=[{}, {}, {}])\n"
     ]
    }
   ],
   "source": [
    "print(result)"
   ]
  },
  {
   "cell_type": "code",
   "execution_count": 66,
   "metadata": {},
   "outputs": [
    {
     "name": "stdout",
     "output_type": "stream",
     "text": [
      "EstimatorResult(\n",
      "\tvalues=array([0.81675783, 0.81675783, 0.81675783]), \n",
      "\tmetadata=[{}, {}, {}])\n"
     ]
    }
   ],
   "source": [
    "print(result.__repr__()[:16])\n",
    "print(\"\\t\" + result.__repr__()[16:68])\n",
    "print(\"\\t\" + result.__repr__()[68:])"
   ]
  },
  {
   "cell_type": "code",
   "execution_count": 40,
   "metadata": {},
   "outputs": [
    {
     "name": "stdout",
     "output_type": "stream",
     "text": [
      "Help on built-in function print in module builtins:\n",
      "\n",
      "print(...)\n",
      "    print(value, ..., sep=' ', end='\\n', file=sys.stdout, flush=False)\n",
      "    \n",
      "    Prints the values to a stream, or to sys.stdout by default.\n",
      "    Optional keyword arguments:\n",
      "    file:  a file-like object (stream); defaults to the current sys.stdout.\n",
      "    sep:   string inserted between values, default a space.\n",
      "    end:   string appended after the last value, default a newline.\n",
      "    flush: whether to forcibly flush the stream.\n",
      "\n"
     ]
    }
   ],
   "source": [
    "help(print)"
   ]
  },
  {
   "cell_type": "markdown",
   "metadata": {},
   "source": [
    "### Different backends"
   ]
  },
  {
   "cell_type": "code",
   "execution_count": 68,
   "metadata": {},
   "outputs": [],
   "source": [
    "from qiskit.primitives import Sampler"
   ]
  },
  {
   "cell_type": "code",
   "execution_count": null,
   "metadata": {},
   "outputs": [],
   "source": [
    "from qiskit_aer.primitives import Sampler"
   ]
  },
  {
   "cell_type": "code",
   "execution_count": null,
   "metadata": {},
   "outputs": [],
   "source": [
    "from qiskit_ibm_runtime import Sampler"
   ]
  },
  {
   "cell_type": "code",
   "execution_count": null,
   "metadata": {},
   "outputs": [],
   "source": [
    "from qiskit_ibm_runtime import Sampler\n",
    "from qiskit_ibm_runtime import QiskitRuntimeService, Session\n",
    "\n",
    "service = QiskitRuntimeService(...)\n",
    "\n",
    "with Session(service, backend_name) as session:\n",
    "    sampler = Sampler(session=session)"
   ]
  },
  {
   "cell_type": "code",
   "execution_count": null,
   "metadata": {},
   "outputs": [],
   "source": [
    "from qiskit.primitives import Sampler\n",
    "\n",
    "sampler = Sampler(options={\"shots\": 100})\n",
    "job = sampler.run(circuit)\n",
    "result = job.result()"
   ]
  },
  {
   "cell_type": "code",
   "execution_count": null,
   "metadata": {},
   "outputs": [],
   "source": [
    "from qiskit_aer.primitives import Sampler\n",
    "\n",
    "sampler = Sampler(options={\"shots\": 100})\n",
    "job = sampler.run(circuit)\n",
    "result = job.result()"
   ]
  },
  {
   "cell_type": "code",
   "execution_count": null,
   "metadata": {},
   "outputs": [],
   "source": [
    "from qiskit_ibm_runtime import Sampler\n",
    "\n",
    "sampler = Sampler(execution={\"shots\": 100})\n",
    "job = sampler.run(circuit)\n",
    "result = job.result()"
   ]
  },
  {
   "cell_type": "code",
   "execution_count": null,
   "metadata": {},
   "outputs": [],
   "source": [
    "from qiskit_ibm_runtime import Sampler\n",
    "from qiskit_ibm_runtime import QiskitRuntimeService, Session\n",
    "\n",
    "service = QiskitRuntimeService(...)\n",
    "\n",
    "with Session(service, backend_name) as session:\n",
    "    sampler = Sampler(session=session, execution={\"shots\": 100})\n",
    "    job = sampler.run(circuit)\n",
    "    result = job.result()"
   ]
  },
  {
   "cell_type": "code",
   "execution_count": null,
   "metadata": {},
   "outputs": [],
   "source": [
    "from your_package import SpecialSampler\n",
    "\n",
    "sampler = SpecialSampler(options={\"shots\": 100})\n",
    "job = sampler.run(circuit)\n",
    "result = job.result()"
   ]
  },
  {
   "cell_type": "markdown",
   "metadata": {},
   "source": [
    "### VQE"
   ]
  },
  {
   "cell_type": "code",
   "execution_count": null,
   "metadata": {},
   "outputs": [],
   "source": [
    "estimator = Estimator(options=...)\n",
    "\n",
    "def energy(theta):\n",
    "    job = estimator.run(ansatz, hamiltonian, theta)\n",
    "    return np.real(job.result()[\"values\"])\n",
    "\n",
    "optimizer.minimize(energy, x0=theta0)"
   ]
  },
  {
   "cell_type": "markdown",
   "metadata": {},
   "source": [
    "With sessions and HW access"
   ]
  },
  {
   "cell_type": "code",
   "execution_count": null,
   "metadata": {},
   "outputs": [],
   "source": [
    "from qiskit_ibm_runtime import QiskitRuntimeService, Session\n",
    "from qiskit_ibm_runtime import Estimator"
   ]
  },
  {
   "cell_type": "code",
   "execution_count": 67,
   "metadata": {},
   "outputs": [
    {
     "ename": "SyntaxError",
     "evalue": "invalid syntax (<ipython-input-67-9e698d7a5ea7>, line 3)",
     "output_type": "error",
     "traceback": [
      "\u001b[0;36m  File \u001b[0;32m\"<ipython-input-67-9e698d7a5ea7>\"\u001b[0;36m, line \u001b[0;32m3\u001b[0m\n\u001b[0;31m    with Se\u001b[0m\n\u001b[0m           ^\u001b[0m\n\u001b[0;31mSyntaxError\u001b[0m\u001b[0;31m:\u001b[0m invalid syntax\n"
     ]
    }
   ],
   "source": [
    "service = QiskitRuntimeService(...)\n",
    "\n",
    "with Session(service=service) as session:\n",
    "    estimator = Estimator(service=service)\n",
    "    \n",
    "    def energy(theta):\n",
    "        job = estimator.run(ansatz, hamiltonian, theta)\n",
    "        return np.real(job.result()[\"values\"])\n",
    "\n",
    "    result = optimizer.minimize(energy, x0=theta0)"
   ]
  },
  {
   "cell_type": "code",
   "execution_count": null,
   "metadata": {},
   "outputs": [],
   "source": [
    "from qiskit.algorithms import VQE\n",
    "from qiskit_ibm_runtime import QiskitRuntimeService, Session\n",
    "from qiskit_ibm_runtime import Estimator"
   ]
  },
  {
   "cell_type": "code",
   "execution_count": null,
   "metadata": {},
   "outputs": [],
   "source": [
    "service = QiskitRuntimeService(...)\n",
    "\n",
    "with Session(service=service) as session:\n",
    "    estimator = Estimator(service=service)\n",
    "    \n",
    "    vqe = VQE(estimator, ansatz, optimizer)\n",
    "    result = vqe.compute_minimum_eigenvalue(hamiltonian)"
   ]
  },
  {
   "cell_type": "markdown",
   "metadata": {},
   "source": [
    "### PVQD"
   ]
  },
  {
   "cell_type": "code",
   "execution_count": null,
   "metadata": {},
   "outputs": [],
   "source": [
    "from "
   ]
  },
  {
   "cell_type": "code",
   "execution_count": 74,
   "metadata": {},
   "outputs": [],
   "source": [
    "hamiltonian = SparsePauliOp([\"ZZ\"])\n",
    "initial_values = np.zeros(ansatz.num_parameters)"
   ]
  },
  {
   "cell_type": "code",
   "execution_count": 80,
   "metadata": {},
   "outputs": [],
   "source": [
    "from qiskit.algorithms import PVQD\n",
    "from qiskit.algorithms.state_fidelities import ComputeUncompute"
   ]
  },
  {
   "cell_type": "code",
   "execution_count": 75,
   "metadata": {},
   "outputs": [
    {
     "name": "stdout",
     "output_type": "stream",
     "text": [
      "Help on class PVQD in module qiskit.algorithms.time_evolvers.pvqd.pvqd:\n",
      "\n",
      "class PVQD(qiskit.algorithms.time_evolvers.real_time_evolver.RealTimeEvolver)\n",
      " |  PVQD(fidelity: 'BaseStateFidelity', ansatz: 'QuantumCircuit', initial_parameters: 'np.ndarray', estimator: 'BaseEstimator | None' = None, optimizer: 'Optimizer | Minimizer | None' = None, num_timesteps: 'int | None' = None, evolution: 'EvolutionSynthesis | None' = None, use_parameter_shift: 'bool' = True, initial_guess: 'np.ndarray | None' = None) -> 'None'\n",
      " |  \n",
      " |  The projected Variational Quantum Dynamics (p-VQD) Algorithm.\n",
      " |  \n",
      " |  In each timestep, this algorithm computes the next state with a Trotter formula\n",
      " |  (specified by the ``evolution`` argument) and projects the timestep onto a variational form\n",
      " |  (``ansatz``). The projection is determined by maximizing the fidelity of the Trotter-evolved\n",
      " |  state and the ansatz, using a classical optimization routine. See Ref. [1] for details.\n",
      " |  \n",
      " |  The following attributes can be set via the initializer but can also be read and\n",
      " |  updated once the PVQD object has been constructed.\n",
      " |  \n",
      " |  Attributes:\n",
      " |  \n",
      " |      ansatz (QuantumCircuit): The parameterized circuit representing the time-evolved state.\n",
      " |      initial_parameters (np.ndarray): The parameters of the ansatz at time 0.\n",
      " |      optimizer (Optional[Union[Optimizer, Minimizer]]): The classical optimization routine\n",
      " |          used to maximize the fidelity of the Trotter step and ansatz.\n",
      " |      num_timesteps (Optional[int]): The number of timesteps to take. If None, it is automatically\n",
      " |          selected to achieve a timestep of approximately 0.01.\n",
      " |      evolution (Optional[EvolutionSynthesis]): The method to perform the Trotter step.\n",
      " |          Defaults to first-order Lie-Trotter evolution.\n",
      " |      use_parameter_shift (bool): If True, use the parameter shift rule for loss function\n",
      " |          gradients (if the ansatz supports).\n",
      " |      initial_guess (Optional[np.ndarray]): The starting point for the first classical optimization\n",
      " |          run, at time 0. Defaults to random values in :math:`[-0.01, 0.01]`.\n",
      " |  \n",
      " |  Example:\n",
      " |  \n",
      " |      This snippet computes the real time evolution of a quantum Ising model on two\n",
      " |      neighboring sites and keeps track of the magnetization.\n",
      " |  \n",
      " |      .. code-block:: python\n",
      " |  \n",
      " |          import numpy as np\n",
      " |  \n",
      " |          from qiskit.algorithms.state_fidelities import ComputeUncompute\n",
      " |          from qiskit.algorithms.time_evolvers.pvqd import PVQD\n",
      " |          from qiskit.primitives import Estimator\n",
      " |          from qiskit import BasicAer\n",
      " |          from qiskit.circuit.library import EfficientSU2\n",
      " |          from qiskit.quantum_info import Pauli, SparsePauliOp\n",
      " |          from qiskit.algorithms.optimizers import L_BFGS_B\n",
      " |  \n",
      " |          sampler = Sampler()\n",
      " |          fidelity = ComputeUncompute(sampler)\n",
      " |          estimator = Estimator()\n",
      " |          hamiltonian = 0.1 * SparsePauliOp([Pauli(\"ZZ\"), Pauli(\"IX\"), Pauli(\"XI\")])\n",
      " |          observable = Pauli(\"ZZ\")\n",
      " |          ansatz = EfficientSU2(2, reps=1)\n",
      " |          initial_parameters = np.zeros(ansatz.num_parameters)\n",
      " |  \n",
      " |          time = 1\n",
      " |          optimizer = L_BFGS_B()\n",
      " |  \n",
      " |          # setup the algorithm\n",
      " |          pvqd = PVQD(\n",
      " |              fidelity,\n",
      " |              ansatz,\n",
      " |              estimator,\n",
      " |              initial_parameters,\n",
      " |              num_timesteps=100,\n",
      " |              optimizer=optimizer,\n",
      " |          )\n",
      " |  \n",
      " |          # specify the evolution problem\n",
      " |          problem = EvolutionProblem(\n",
      " |              hamiltonian, time, aux_operators=[hamiltonian, observable]\n",
      " |          )\n",
      " |  \n",
      " |          # and evolve!\n",
      " |          result = pvqd.evolve(problem)\n",
      " |  \n",
      " |  References:\n",
      " |  \n",
      " |      [1] Stefano Barison, Filippo Vicentini, and Giuseppe Carleo (2021), An efficient\n",
      " |          quantum algorithm for the time evolution of parameterized circuits,\n",
      " |          `Quantum 5, 512 <https://quantum-journal.org/papers/q-2021-07-28-512/>`_.\n",
      " |  \n",
      " |  Method resolution order:\n",
      " |      PVQD\n",
      " |      qiskit.algorithms.time_evolvers.real_time_evolver.RealTimeEvolver\n",
      " |      abc.ABC\n",
      " |      builtins.object\n",
      " |  \n",
      " |  Methods defined here:\n",
      " |  \n",
      " |  __init__(self, fidelity: 'BaseStateFidelity', ansatz: 'QuantumCircuit', initial_parameters: 'np.ndarray', estimator: 'BaseEstimator | None' = None, optimizer: 'Optimizer | Minimizer | None' = None, num_timesteps: 'int | None' = None, evolution: 'EvolutionSynthesis | None' = None, use_parameter_shift: 'bool' = True, initial_guess: 'np.ndarray | None' = None) -> 'None'\n",
      " |      Args:\n",
      " |          fidelity: A fidelity primitive used by the algorithm.\n",
      " |          ansatz: A parameterized circuit preparing the variational ansatz to model the\n",
      " |              time evolved quantum state.\n",
      " |          initial_parameters: The initial parameters for the ansatz. Together with the ansatz,\n",
      " |              these define the initial state of the time evolution.\n",
      " |          estimator: An estimator primitive used for calculating expected values of auxiliary\n",
      " |              operators (if provided via the problem).\n",
      " |          optimizer: The classical optimizers used to minimize the overlap between\n",
      " |              Trotterization and ansatz. Can be either a :class:`.Optimizer` or a callable\n",
      " |              using the :class:`.Minimizer` protocol. This argument is optional since it is\n",
      " |              not required for :meth:`get_loss`, but it has to be set before :meth:`evolve`\n",
      " |              is called.\n",
      " |          num_timesteps: The number of time steps. If ``None`` it will be set such that the\n",
      " |              timestep is close to 0.01.\n",
      " |          evolution: The evolution synthesis to use for the construction of the Trotter step.\n",
      " |              Defaults to first-order Lie-Trotter decomposition, see also\n",
      " |              :mod:`~qiskit.synthesis.evolution` for different options.\n",
      " |          use_parameter_shift: If True, use the parameter shift rule to compute gradients.\n",
      " |              If False, the optimizer will not be passed a gradient callable. In that case,\n",
      " |              Qiskit optimizers will use a finite difference rule to approximate the gradients.\n",
      " |          initial_guess: The initial guess for the first VQE optimization. Afterwards the\n",
      " |              previous iteration result is used as initial guess. If None, this is set to\n",
      " |              a random vector with elements in the interval :math:`[-0.01, 0.01]`.\n",
      " |  \n",
      " |  evolve(self, evolution_problem: 'TimeEvolutionProblem') -> 'TimeEvolutionResult'\n",
      " |      Perform real time evolution :math:`\\exp(-i t H)|\\Psi\\rangle`.\n",
      " |      \n",
      " |      Evolves an initial state :math:`|\\Psi\\rangle` for a time :math:`t`\n",
      " |      under a Hamiltonian  :math:`H`, as provided in the ``evolution_problem``.\n",
      " |      \n",
      " |      Args:\n",
      " |          evolution_problem: The evolution problem containing the hamiltonian, total evolution\n",
      " |              time and observables to evaluate.\n",
      " |      \n",
      " |      Returns:\n",
      " |          A result object containing the evolution information and evaluated observables.\n",
      " |      \n",
      " |      Raises:\n",
      " |          ValueError: If ``aux_operators`` provided in the time evolution problem but no estimator\n",
      " |              provided to the algorithm.\n",
      " |          NotImplementedError: If the evolution problem contains an initial state.\n",
      " |  \n",
      " |  get_loss(self, hamiltonian: 'BaseOperator | PauliSumOp', ansatz: 'QuantumCircuit', dt: 'float', current_parameters: 'np.ndarray') -> 'tuple[Callable[[np.ndarray], float], Callable[[np.ndarray], np.ndarray]] | None'\n",
      " |      Get a function to evaluate the infidelity between Trotter step and ansatz.\n",
      " |      \n",
      " |      Args:\n",
      " |          hamiltonian: The Hamiltonian under which to evolve.\n",
      " |          ansatz: The parameterized quantum circuit which attempts to approximate the\n",
      " |              time-evolved state.\n",
      " |          dt: The time step.\n",
      " |          current_parameters: The current parameters.\n",
      " |      \n",
      " |      Returns:\n",
      " |          A callable to evaluate the infidelity and, if gradients are supported and required,\n",
      " |              a second callable to evaluate the gradient of the infidelity.\n",
      " |  \n",
      " |  step(self, hamiltonian: 'BaseOperator | PauliSumOp', ansatz: 'QuantumCircuit', theta: 'np.ndarray', dt: 'float', initial_guess: 'np.ndarray') -> 'tuple[np.ndarray, float]'\n",
      " |      Perform a single time step.\n",
      " |      \n",
      " |      Args:\n",
      " |          hamiltonian: The Hamiltonian under which to evolve.\n",
      " |          ansatz: The parameterized quantum circuit which attempts to approximate the\n",
      " |              time-evolved state.\n",
      " |          theta: The current parameters.\n",
      " |          dt: The time step.\n",
      " |          initial_guess: The initial guess for the classical optimization of the\n",
      " |              fidelity between the next variational state and the Trotter-evolved last state.\n",
      " |              If None, this is set to a random vector with elements in the interval\n",
      " |              :math:`[-0.01, 0.01]`.\n",
      " |      \n",
      " |      Returns:\n",
      " |          A tuple consisting of the next parameters and the fidelity of the optimization.\n",
      " |  \n",
      " |  ----------------------------------------------------------------------\n",
      " |  Data and other attributes defined here:\n",
      " |  \n",
      " |  __abstractmethods__ = frozenset()\n",
      " |  \n",
      " |  ----------------------------------------------------------------------\n",
      " |  Data descriptors inherited from qiskit.algorithms.time_evolvers.real_time_evolver.RealTimeEvolver:\n",
      " |  \n",
      " |  __dict__\n",
      " |      dictionary for instance variables (if defined)\n",
      " |  \n",
      " |  __weakref__\n",
      " |      list of weak references to the object (if defined)\n",
      "\n"
     ]
    }
   ],
   "source": [
    "help(PVQD)"
   ]
  },
  {
   "cell_type": "markdown",
   "metadata": {},
   "source": [
    "### Nature of tomorrow"
   ]
  },
  {
   "cell_type": "code",
   "execution_count": null,
   "metadata": {},
   "outputs": [],
   "source": [
    "from pyscf import gto, scf, mcscf\n",
    "from qiskit_nature_pyscf import QuantumSolver\n",
    "\n",
    "mol = gto.M(atom=\"O 0.0 0.0 0.115; H 0.0 0.754 -0.459; H 0.0 -0.754 -0.459\", basis=\"sto-3g\")\n",
    "mf = scf.RHF(mol).run()\n",
    "\n",
    "norb = 2\n",
    "nelec = 2\n",
    "mc = mcscf.CASSCF(mf, norb, nelec)\n",
    "\n",
    "solver = # Qiskit's GroundStateSolver with e.g. VQE + UCCSD ansatz\n",
    "mc.fcisolver = QuantumSolver(solver)\n",
    "\n",
    "mc.mc2step()"
   ]
  }
 ],
 "metadata": {
  "kernelspec": {
   "display_name": "Python 3",
   "language": "python",
   "name": "python3"
  },
  "language_info": {
   "codemirror_mode": {
    "name": "ipython",
    "version": 3
   },
   "file_extension": ".py",
   "mimetype": "text/x-python",
   "name": "python",
   "nbconvert_exporter": "python",
   "pygments_lexer": "ipython3",
   "version": "3.7.9"
  }
 },
 "nbformat": 4,
 "nbformat_minor": 4
}
