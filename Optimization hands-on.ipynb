{
 "cells": [
  {
   "cell_type": "code",
   "execution_count": 32,
   "id": "d328b158",
   "metadata": {},
   "outputs": [],
   "source": [
    "import networkx as nx\n",
    "from qiskit_optimization.applications import Maxcut"
   ]
  },
  {
   "cell_type": "code",
   "execution_count": 41,
   "id": "9e06b154",
   "metadata": {},
   "outputs": [],
   "source": [
    "graph = nx.gnm_random_graph(10, 12, seed=3)\n",
    "maxcut = Maxcut(graph)\n",
    "hamiltonian, offset = maxcut.to_quadratic_program().to_ising()"
   ]
  },
  {
   "cell_type": "code",
   "execution_count": 42,
   "id": "9f0a4a06",
   "metadata": {},
   "outputs": [
    {
     "data": {
      "image/png": "[encoded data removed]",
      "text/plain": [
       "<Figure size 432x288 with 1 Axes>"
      ]
     },
     "metadata": {},
     "output_type": "display_data"
    }
   ],
   "source": [
    "nx.draw(graph)"
   ]
  },
  {
   "cell_type": "code",
   "execution_count": 38,
   "id": "8ae1c8ad",
   "metadata": {},
   "outputs": [],
   "source": [
    "from qiskit.primitives import Sampler\n",
    "from qiskit.algorithms.minimum_eigensolvers import SamplingVQE"
   ]
  },
  {
   "cell_type": "code",
   "execution_count": 39,
   "id": "2cb45152",
   "metadata": {},
   "outputs": [],
   "source": [
    "from qiskit.primitives import Estimator"
   ]
  },
  {
   "cell_type": "code",
   "execution_count": 40,
   "id": "f239c63a",
   "metadata": {},
   "outputs": [],
   "source": [
    "from qiskit.algorithms.state_fidelities import ComputeUncompute"
   ]
  },
  {
   "cell_type": "code",
   "execution_count": 44,
   "id": "f9ba4f07",
   "metadata": {},
   "outputs": [
    {
     "name": "stdout",
     "output_type": "stream",
     "text": [
      "DensityMatrix([[0.125+0.j, 0.125+0.j, 0.125+0.j, 0.125+0.j, 0.125+0.j,\n",
      "                0.125+0.j, 0.125+0.j, 0.125+0.j],\n",
      "               [0.125+0.j, 0.125+0.j, 0.125+0.j, 0.125+0.j, 0.125+0.j,\n",
      "                0.125+0.j, 0.125+0.j, 0.125+0.j],\n",
      "               [0.125+0.j, 0.125+0.j, 0.125+0.j, 0.125+0.j, 0.125+0.j,\n",
      "                0.125+0.j, 0.125+0.j, 0.125+0.j],\n",
      "               [0.125+0.j, 0.125+0.j, 0.125+0.j, 0.125+0.j, 0.125+0.j,\n",
      "                0.125+0.j, 0.125+0.j, 0.125+0.j],\n",
      "               [0.125+0.j, 0.125+0.j, 0.125+0.j, 0.125+0.j, 0.125+0.j,\n",
      "                0.125+0.j, 0.125+0.j, 0.125+0.j],\n",
      "               [0.125+0.j, 0.125+0.j, 0.125+0.j, 0.125+0.j, 0.125+0.j,\n",
      "                0.125+0.j, 0.125+0.j, 0.125+0.j],\n",
      "               [0.125+0.j, 0.125+0.j, 0.125+0.j, 0.125+0.j, 0.125+0.j,\n",
      "                0.125+0.j, 0.125+0.j, 0.125+0.j],\n",
      "               [0.125+0.j, 0.125+0.j, 0.125+0.j, 0.125+0.j, 0.125+0.j,\n",
      "                0.125+0.j, 0.125+0.j, 0.125+0.j]],\n",
      "              dims=(2, 2, 2))\n"
     ]
    }
   ],
   "source": [
    "from qiskit.circuit.library import QFT\n",
    "from qiskit.quantum_info import Statevector, partial_trace\n",
    "\n",
    "circuit = QFT(6)\n",
    "statevector = Statevector(circuit)\n",
    "indices = range(3, 6)\n",
    "sub_rho = partial_trace(statevector, indices)"
   ]
  },
  {
   "cell_type": "code",
   "execution_count": null,
   "id": "0114dd53",
   "metadata": {},
   "outputs": [],
   "source": []
  }
 ],
 "metadata": {
  "kernelspec": {
   "display_name": "Python 3",
   "language": "python",
   "name": "python3"
  },
  "language_info": {
   "codemirror_mode": {
    "name": "ipython",
    "version": 3
   },
   "file_extension": ".py",
   "mimetype": "text/x-python",
   "name": "python",
   "nbconvert_exporter": "python",
   "pygments_lexer": "ipython3",
   "version": "3.10.4"
  }
 },
 "nbformat": 4,
 "nbformat_minor": 5
}
