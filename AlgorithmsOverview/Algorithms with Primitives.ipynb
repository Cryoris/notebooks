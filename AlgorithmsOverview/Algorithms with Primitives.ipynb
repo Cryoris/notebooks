{
 "cells": [
  {
   "cell_type": "code",
   "execution_count": 2,
   "id": "bf81ae4c",
   "metadata": {},
   "outputs": [],
   "source": [
    "from qiskit_ibm_runtime import Sampler"
   ]
  },
  {
   "cell_type": "code",
   "execution_count": 3,
   "id": "17c117ef",
   "metadata": {},
   "outputs": [],
   "source": [
    "sampler = Sampler()"
   ]
  },
  {
   "cell_type": "code",
   "execution_count": 5,
   "id": "a914b65b",
   "metadata": {},
   "outputs": [
    {
     "name": "stderr",
     "output_type": "stream",
     "text": [
      "ibmqfactory.load_account:WARNING:2022-10-13 15:41:42,998: Credentials are already in use. The existing account in the session will be replaced.\n"
     ]
    }
   ],
   "source": [
    "import numpy as np\n",
    "from qiskit_ibm_runtime import Sampler, Session\n",
    "from qiskit.circuit import QuantumCircuit, Parameter\n",
    "from qiskit import IBMQ\n",
    "IBMQ.load_account()\n",
    "\n",
    "ansatz = QuantumCircuit(8)\n",
    "ansatz.h(range(8))\n",
    "ansatz.measure_all()\n",
    "\n",
    "with Session(backend='ibmq_qasm_simulator') as session:\n",
    "    primitive = Sampler(session=session)\n",
    "    for i in range(10):\n",
    "        job = primitive.run([ansatz], [])\n",
    "        samples = job.result().quasi_dists[0]"
   ]
  },
  {
   "cell_type": "code",
   "execution_count": null,
   "id": "e6877476",
   "metadata": {},
   "outputs": [],
   "source": []
  }
 ],
 "metadata": {
  "kernelspec": {
   "display_name": "Python 3",
   "language": "python",
   "name": "python3"
  },
  "language_info": {
   "codemirror_mode": {
    "name": "ipython",
    "version": 3
   },
   "file_extension": ".py",
   "mimetype": "text/x-python",
   "name": "python",
   "nbconvert_exporter": "python",
   "pygments_lexer": "ipython3",
   "version": "3.10.4"
  }
 },
 "nbformat": 4,
 "nbformat_minor": 5
}
