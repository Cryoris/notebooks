{
 "cells": [
  {
   "cell_type": "code",
   "execution_count": 2,
   "metadata": {},
   "outputs": [],
   "source": [
    "from qiskit.opflow import *"
   ]
  },
  {
   "cell_type": "markdown",
   "metadata": {},
   "source": [
    "# Opflow constituents\n",
    "\n",
    "Put some kind of graph with Operators, ListOps, StateFn"
   ]
  },
  {
   "cell_type": "markdown",
   "metadata": {},
   "source": [
    "## 1. Operators and states\n",
    "\n",
    "The two fundamental objects in Opflow are states, which are of type `StateFn`, and operators, which are of type `OperatorBase`.\n",
    "\n",
    "States...\n",
    "* can be both bra and ket\n",
    "* need not be normalized\n",
    "* can be based on circuits, vectors or dictionaries (or Operators, see later)\n",
    "* can be summed"
   ]
  },
  {
   "cell_type": "code",
   "execution_count": 96,
   "metadata": {},
   "outputs": [
    {
     "name": "stdout",
     "output_type": "stream",
     "text": [
      "Singleton: DictStateFn({'1': 1})\n",
      "Circuit: CircuitStateFn(\n",
      "     ┌───┐\n",
      "q_0: ┤ X ├\n",
      "     └───┘\n",
      ")\n",
      "Dict: DictStateFn({'1': 1})\n",
      "Vector: VectorStateFn(Statevector([0.+0.j, 1.+0.j],\n",
      "            dims=(2,)))\n",
      "DictStateFn({'0': 1.0, '1': 1.0})\n"
     ]
    }
   ],
   "source": [
    "state = One  # some frequently used states are predefined in opflow: One Zero Plus Minus\n",
    "print('Singleton:', state)\n",
    "\n",
    "from qiskit.circuit import QuantumCircuit\n",
    "circuit = QuantumCircuit(1)\n",
    "circuit.x(0)\n",
    "\n",
    "state = StateFn(circuit)  # this will be of type CircuitStateFn \n",
    "print('Circuit:', state)\n",
    "\n",
    "dictionary = {'1': 1}  # probability for measuring '1' is 1\n",
    "state = StateFn(dictionary)  # type: DictStateFn\n",
    "print('Dict:', state)\n",
    "\n",
    "vector = [0, 1]  # probability for state |1> is 1\n",
    "state = StateFn(vector)  # type: VectorStateFn\n",
    "print('Vector:', state)\n",
    "\n",
    "state = Zero + One\n",
    "print(state)  # caution: state is not normalized"
   ]
  },
  {
   "cell_type": "markdown",
   "metadata": {},
   "source": [
    "Operators...\n",
    "* can be summed, tensored, composed and inverted\n",
    "* don't have to be unitary\n",
    "* can be based on circuits, matrices or Pauli strings"
   ]
  },
  {
   "cell_type": "code",
   "execution_count": 94,
   "metadata": {},
   "outputs": [
    {
     "name": "stdout",
     "output_type": "stream",
     "text": [
      "Predefined: X \n",
      "\n",
      "Circuit:\n",
      "     ┌─────────┐     \n",
      "q_0: ┤ RY(0.2) ├──■──\n",
      "     └─────────┘┌─┴─┐\n",
      "q_1: ───────────┤ X ├\n",
      "                └───┘ \n",
      "\n",
      "Matrix:\n",
      "Operator([[1.+0.j, 0.+0.j],\n",
      "          [0.+0.j, 0.+0.j]],\n",
      "         input_dims=(2,), output_dims=(2,))\n"
     ]
    }
   ],
   "source": [
    "operator = X  # the Pauli operators and Hadamard are predefined: I, X, Y, Z, H\n",
    "print('Predefined:', operator, '\\n')\n",
    "\n",
    "circuit = QuantumCircuit(2)\n",
    "circuit.ry(0.2, 0)\n",
    "circuit.cx(0, 1)\n",
    "operator = CircuitOp(circuit)\n",
    "print('Circuit:')\n",
    "print(operator, '\\n')\n",
    "\n",
    "matrix = [[1, 0], [0, 0]]\n",
    "operator = MatrixOp(matrix)\n",
    "print('Matrix:')\n",
    "print(operator)"
   ]
  },
  {
   "cell_type": "code",
   "execution_count": 88,
   "metadata": {},
   "outputs": [
    {
     "name": "stdout",
     "output_type": "stream",
     "text": [
      "Tensored: XYZ\n",
      "Summed: 1.0 * X\n",
      "+ 1.0 * Y\n",
      "+ 1.0 * Z\n",
      "Composed: -iX\n",
      "All together: 1.0 * XII\n",
      "+ 1.0 * YII\n",
      "+ 1.0 * III\n"
     ]
    }
   ],
   "source": [
    "operator = X.tensor(Y).tensor(Z)  # = X ^ Y ^ Z\n",
    "print('Tensored:', operator)\n",
    "\n",
    "operator = X + Y + Z\n",
    "print('Summed:', operator)\n",
    "\n",
    "operator = Z.compose(Y)  # = Z @ Y = -iX\n",
    "print('Composed:', operator)\n",
    "\n",
    "operator = (X ^ I ^ I) + (Y ^ I ^ I) + ((Z @ Z) ^ I ^ I)\n",
    "print('All together:', operator)"
   ]
  },
  {
   "cell_type": "markdown",
   "metadata": {},
   "source": [
    "### Measurements\n",
    "\n",
    "On paper, we usually write an expectation value as\n",
    "\n",
    "$$\n",
    "\\langle\\psi|\\hat O|\\psi\\rangle.\n",
    "$$\n",
    "\n",
    "We can write the same in Opflow"
   ]
  },
  {
   "cell_type": "code",
   "execution_count": 4,
   "metadata": {},
   "outputs": [
    {
     "name": "stdout",
     "output_type": "stream",
     "text": [
      "(-0.7071067811865475+0j)\n"
     ]
    }
   ],
   "source": [
    "state = One\n",
    "operator = H\n",
    "\n",
    "expectation = One.adjoint().compose(H).compose(One)\n",
    "print(expectation.eval())"
   ]
  },
  {
   "cell_type": "markdown",
   "metadata": {},
   "source": [
    "With Opflow's syntactic sugar we can compress the above, since `~` can be used for adjoint and `@` for composition"
   ]
  },
  {
   "cell_type": "code",
   "execution_count": 6,
   "metadata": {},
   "outputs": [
    {
     "name": "stdout",
     "output_type": "stream",
     "text": [
      "(-0.7071067811865475+0j)\n"
     ]
    }
   ],
   "source": [
    "expecation = ~One @ H @ One  # this looks a lot like what we have on paper!\n",
    "print(expectation.eval())"
   ]
  },
  {
   "cell_type": "markdown",
   "metadata": {},
   "source": [
    "If we measure an expectation value on quantum hardware, however, the mathematical expression does not reflect what really happens. We don't apply the state, then the operator, and then the adjoint of the state. Rather, we prepare the state and then apply a basis transformation such that the operator becomes diagonal in the computational basis before we measure.\n",
    "\n",
    "So the operations are\n",
    "\n",
    "$$\n",
    "\\mathrm{Measure}~ \\hat T_O |\\psi\\rangle\n",
    "$$\n",
    "where $\\hat T_O$ is a basis transformation from the basis of $\\hat O$ to the computational basis.\n",
    "\n",
    "Opflow allows to write expectation values in this fashion as well. "
   ]
  },
  {
   "cell_type": "code",
   "execution_count": 10,
   "metadata": {},
   "outputs": [
    {
     "name": "stdout",
     "output_type": "stream",
     "text": [
      "(-0.7071067811865475+0j)\n"
     ]
    }
   ],
   "source": [
    "measurement = StateFn(H, is_measurement=True)\n",
    "expectation = measurement @ One\n",
    "print(expectation.eval())"
   ]
  },
  {
   "cell_type": "markdown",
   "metadata": {},
   "source": [
    "or more concisely"
   ]
  },
  {
   "cell_type": "code",
   "execution_count": 11,
   "metadata": {},
   "outputs": [
    {
     "name": "stdout",
     "output_type": "stream",
     "text": [
      "(-0.7071067811865475+0j)\n"
     ]
    }
   ],
   "source": [
    "expectation = ~StateFn(H) @ One\n",
    "print(expectation.eval())"
   ]
  },
  {
   "cell_type": "markdown",
   "metadata": {},
   "source": [
    "**Note** This is a very important representation and is used for all more complex computations in the Opflow framework."
   ]
  },
  {
   "cell_type": "markdown",
   "metadata": {},
   "source": [
    "## 2. Conversions "
   ]
  },
  {
   "cell_type": "markdown",
   "metadata": {},
   "source": [
    "### Expectation values\n",
    "\n",
    "Opflow allows several methods to evaluate expectation values. Above, we used plain numpy matrix multiplication by simply calling `.eval` on the operator expression. This would not work on real hardware, since there we need to evaluate the expectation via basis transformation.\n",
    "\n",
    "But how do we convert any expectation value to this representation?\n",
    "\n",
    "The proper way of evaluating expectation values is to go via an `ExpectationBase` converter. This takes an expectation operator as input and returns a new Opflow object ready for evaluation. To prepare the operator for real hardware, we would e.g. use the `PauliExpectation`."
   ]
  },
  {
   "cell_type": "code",
   "execution_count": 46,
   "metadata": {},
   "outputs": [
    {
     "name": "stdout",
     "output_type": "stream",
     "text": [
      "ComposedOp([\n",
      "  OperatorMeasurement(1.0 * XXI\n",
      "  + 1.0 * ZZI),\n",
      "  CircuitStateFn(\n",
      "       ┌───┐\n",
      "  q_0: ┤ H ├\n",
      "       ├───┤\n",
      "  q_1: ┤ H ├\n",
      "       ├───┤\n",
      "  q_2: ┤ H ├\n",
      "       └───┘\n",
      "  )\n",
      "])\n",
      "Reference value: (1+3.06e-16j)\n"
     ]
    }
   ],
   "source": [
    "from qiskit.opflow import PauliExpectation\n",
    "\n",
    "operator = (X ^ X ^ I) + (Z ^ Z ^ I)\n",
    "state = Plus ^ 3\n",
    "\n",
    "expectation = ~StateFn(operator) @ state\n",
    "print(expectation)\n",
    "print('Reference value:', expectation.eval())"
   ]
  },
  {
   "cell_type": "markdown",
   "metadata": {},
   "source": [
    "Let's convert this using the `PauliExpectation`. We see that all measurements are in the Z basis now."
   ]
  },
  {
   "cell_type": "code",
   "execution_count": 47,
   "metadata": {},
   "outputs": [
    {
     "name": "stdout",
     "output_type": "stream",
     "text": [
      "SummedOp([\n",
      "  ComposedOp([\n",
      "    OperatorMeasurement(AbelianSummedOp([\n",
      "      ZZI\n",
      "    ])),\n",
      "    CircuitStateFn(\n",
      "         ┌───┐     \n",
      "    q_0: ┤ H ├─────\n",
      "         ├───┤┌───┐\n",
      "    q_1: ┤ H ├┤ H ├\n",
      "         ├───┤├───┤\n",
      "    q_2: ┤ H ├┤ H ├\n",
      "         └───┘└───┘\n",
      "    )\n",
      "  ]),\n",
      "  ComposedOp([\n",
      "    OperatorMeasurement(AbelianSummedOp([\n",
      "      ZZI\n",
      "    ])),\n",
      "    CircuitStateFn(\n",
      "         ┌───┐\n",
      "    q_0: ┤ H ├\n",
      "         ├───┤\n",
      "    q_1: ┤ H ├\n",
      "         ├───┤\n",
      "    q_2: ┤ H ├\n",
      "         └───┘\n",
      "    )\n",
      "  ])\n",
      "])\n",
      "(1+3.06e-16j)\n"
     ]
    }
   ],
   "source": [
    "pauli_expectation = PauliExpectation()\n",
    "converted = pauli_expectation.convert(expectation)\n",
    "print(converted)\n",
    "print(converted.eval())"
   ]
  },
  {
   "cell_type": "markdown",
   "metadata": {},
   "source": [
    "Alternatively, we can use\n",
    "* the `AerPauliExpectation`, which uses Aer's snapshot expectation value and is a very fast, statevector-based operation\n",
    "* or the `MatrixExpecation`, which is simply a matrix-multiplication evaluation (and not very fast)"
   ]
  },
  {
   "cell_type": "markdown",
   "metadata": {},
   "source": [
    "### Evolutions"
   ]
  },
  {
   "cell_type": "markdown",
   "metadata": {},
   "source": [
    "See [Donny's notebook](https://github.com/dongreenberg/aqua_talks/blob/master/Understanding%20Aqua%27s%20Operator%20Flow.ipynb) for more info."
   ]
  },
  {
   "cell_type": "code",
   "execution_count": 68,
   "metadata": {},
   "outputs": [
    {
     "name": "stdout",
     "output_type": "stream",
     "text": [
      "ComposedOp([\n",
      "  e^(-i*0.5 * ZZI),\n",
      "  e^(-i*0.5 * XXI),\n",
      "  e^(-i*0.5 * XXI),\n",
      "  e^(-i*0.5 * ZZI)\n",
      "])\n"
     ]
    }
   ],
   "source": [
    "from qiskit.opflow import Suzuki\n",
    "\n",
    "operator = (X ^ X ^ I) + (Z ^ Z ^ I)\n",
    "\n",
    "evo = Suzuki()\n",
    "evolution = evo.convert(operator.to_pauli_op())  # bug... should work without `to_pauli_op` :)\n",
    "print(evolution)"
   ]
  },
  {
   "cell_type": "markdown",
   "metadata": {},
   "source": [
    "### Gradients\n",
    "\n",
    "See later."
   ]
  },
  {
   "cell_type": "markdown",
   "metadata": {},
   "source": [
    "## 3. Simulation and evaluation\n",
    "\n",
    "To simply evaluate an operator expression with plain matrix multiplication we have seen that we can use the `eval` method. To use Aer's simulator or a real backend we can use another object: the `CircuitSampler`.\n",
    "\n",
    "The `CircuitSampler`, which contains a backend, takes as input an operator expression and returns an object where all circuits have been evaluated with the backend."
   ]
  },
  {
   "cell_type": "code",
   "execution_count": 107,
   "metadata": {},
   "outputs": [
    {
     "name": "stdout",
     "output_type": "stream",
     "text": [
      "(0.8643269972402581+0j)\n"
     ]
    }
   ],
   "source": [
    "from qiskit.opflow import CircuitSampler\n",
    "from qiskit.providers.aer import Aer\n",
    "\n",
    "backend = Aer.get_backend('qasm_simulator')\n",
    "sampler = CircuitSampler(backend)\n",
    "\n",
    "circuit = QuantumCircuit(1)\n",
    "circuit.ry(0.25, 0)\n",
    "state = StateFn(circuit)\n",
    "\n",
    "expectation = ~StateFn(H) @ state\n",
    "sampled = sampler.convert(expectation)\n",
    "\n",
    "print(sampled.eval())"
   ]
  },
  {
   "cell_type": "code",
   "execution_count": 108,
   "metadata": {},
   "outputs": [
    {
     "name": "stdout",
     "output_type": "stream",
     "text": [
      "before CircuitSampler:\n",
      "ComposedOp([\n",
      "  OperatorMeasurement(     ┌───┐\n",
      "  q_0: ┤ H ├\n",
      "       └───┘),\n",
      "  CircuitStateFn(\n",
      "       ┌──────────┐\n",
      "  q_0: ┤ RY(0.25) ├\n",
      "       └──────────┘\n",
      "  )\n",
      "])\n",
      "after CircuitSampler:\n",
      "ComposedOp([\n",
      "  OperatorMeasurement(     ┌───┐\n",
      "  q_0: ┤ H ├\n",
      "       └───┘),\n",
      "  DictStateFn({'0': 0.9877175393299442, '1': 0.15625})\n",
      "])\n"
     ]
    }
   ],
   "source": [
    "print('before CircuitSampler:')\n",
    "print(expectation)\n",
    "\n",
    "sampled = sampler.convert(expectation)\n",
    "print('after CircuitSampler:')\n",
    "print(sampled)"
   ]
  },
  {
   "cell_type": "markdown",
   "metadata": {},
   "source": [
    "## All together \n",
    "\n",
    "Let's put all this knowledge together to compute the energy for the `EfficientSU2` ansatz for the H2 molecule."
   ]
  },
  {
   "cell_type": "code",
   "execution_count": 113,
   "metadata": {},
   "outputs": [
    {
     "name": "stderr",
     "output_type": "stream",
     "text": [
      "Measured Observable is not composed of only Paulis, converting to Pauli representation, which can be expensive.\n"
     ]
    },
    {
     "name": "stdout",
     "output_type": "stream",
     "text": [
      "Energy: (0.8769781368231595+0j)\n"
     ]
    }
   ],
   "source": [
    "import numpy as np\n",
    "from qiskit.circuit.library import EfficientSU2\n",
    "\n",
    "# ansatz\n",
    "circuit = EfficientSU2(2, reps=3)\n",
    "params = circuit.ordered_parameters\n",
    "state = StateFn(circuit)\n",
    "\n",
    "# h2 operator in parity mapping and two qubit reductions\n",
    "h2_op = -1.052373245772859 * (I ^ I) + 0.39793742484318045 * (I ^ Z) \\\n",
    "        - 0.39793742484318045 * (Z ^ I) - 0.01128010425623538 * (Z ^ Z) \\\n",
    "        + 0.18093119978423156 * (X ^ X)\n",
    "\n",
    "# expecation value\n",
    "expecation = ~StateFn(h2_op) @ state\n",
    "\n",
    "# expectation computation like on real hardware\n",
    "pauli = PauliExpectation()\n",
    "pauli_expectation = pauli.convert(expectation)\n",
    "\n",
    "# circuit sampler for executing\n",
    "backend = Aer.get_backend('qasm_simulator')\n",
    "sampler = CircuitSampler(backend)\n",
    "\n",
    "# some parameter values\n",
    "values = np.random.random(circuit.num_parameters)\n",
    "bound_expecation = expectation.bind_parameters(dict(zip(params, values)))\n",
    "\n",
    "# evaluate\n",
    "sampled = sampler.convert(pauli_expectation)\n",
    "energy = sampled.eval()\n",
    "print('Energy:', energy)\n"
   ]
  },
  {
   "cell_type": "markdown",
   "metadata": {},
   "source": [
    "## ListOp gymnastics\n",
    "\n",
    "The `ListOp` is an extreme versatile tool. It allows to store any kind of operator objects, to perform the same set of operations on them, and to combine them with an arbitrary accumulation function upon evaluation."
   ]
  },
  {
   "cell_type": "markdown",
   "metadata": {},
   "source": [
    "1. Evaluation of multiple operators "
   ]
  },
  {
   "cell_type": "code",
   "execution_count": 125,
   "metadata": {},
   "outputs": [
    {
     "name": "stdout",
     "output_type": "stream",
     "text": [
      "Vector:\n",
      " [(1+0j), 0.0, 0.0, (1+0j)]\n",
      "Matrix:\n",
      " [[1.  +0.j 0.98+0.j]\n",
      " [0.98+0.j 0.92+0.j]]\n"
     ]
    }
   ],
   "source": [
    "from qiskit.opflow import ListOp\n",
    "\n",
    "np.set_printoptions(2)\n",
    "\n",
    "vector_op = ListOp([I, X, Y, Z])\n",
    "expectations = ~StateFn(vector_op) @ Zero\n",
    "print('Vector:\\n', expectations.eval())\n",
    "\n",
    "matrix = []\n",
    "for i in range(2):\n",
    "    row = []\n",
    "    for j in range(2):\n",
    "        circuit = QuantumCircuit(1)\n",
    "        circuit.ry(0.2 * 2 ** (i + j), 0)\n",
    "        row.append(CircuitOp(circuit))\n",
    "    matrix.append(ListOp(row))\n",
    "matrix_op = ListOp(matrix)\n",
    "expectations = ~StateFn(matrix_op) @ One\n",
    "print('Matrix:\\n', np.array(expectations.eval()))"
   ]
  },
  {
   "cell_type": "markdown",
   "metadata": {},
   "source": [
    "2. Using combo functions"
   ]
  },
  {
   "cell_type": "code",
   "execution_count": 132,
   "metadata": {},
   "outputs": [
    {
     "name": "stdout",
     "output_type": "stream",
     "text": [
      "SummedOp:\n",
      " (2+0j)\n",
      "MultOp:\n",
      " 0j\n",
      "MaxOp:\n",
      " 1.0\n"
     ]
    }
   ],
   "source": [
    "# simple summed op\n",
    "summed_op = ListOp([I, X, Y, Z], combo_fn=lambda x: sum(x))\n",
    "expectations = ~StateFn(summed_op) @ Zero\n",
    "print('SummedOp:\\n', expectations.eval())\n",
    "\n",
    "# multiplied op\n",
    "mult_op = ListOp([I, X, Y, Z], combo_fn=lambda x: np.prod(x))\n",
    "expectations = ~StateFn(mult_op) @ Zero\n",
    "print('MultOp:\\n', expectations.eval())\n",
    "\n",
    "# max op\n",
    "max_op = ListOp([I, X, Y, Z], combo_fn=lambda x: np.max(np.abs(x)))\n",
    "expectations = ~StateFn(max_op) @ Zero\n",
    "print('MaxOp:\\n', expectations.eval())\n",
    "\n",
    "# quadratic sum\n",
    "def quadsum(x):\n",
    "    return sum(x_i ** 2 for x_i in x)\n",
    "\n",
    "quad_op = ListOp([I, X, Y, Z], combo_fn=quad)"
   ]
  },
  {
   "cell_type": "code",
   "execution_count": null,
   "metadata": {},
   "outputs": [],
   "source": []
  }
 ],
 "metadata": {
  "kernelspec": {
   "display_name": "Python 3",
   "language": "python",
   "name": "python3"
  },
  "language_info": {
   "codemirror_mode": {
    "name": "ipython",
    "version": 3
   },
   "file_extension": ".py",
   "mimetype": "text/x-python",
   "name": "python",
   "nbconvert_exporter": "python",
   "pygments_lexer": "ipython3",
   "version": "3.7.9"
  }
 },
 "nbformat": 4,
 "nbformat_minor": 4
}
