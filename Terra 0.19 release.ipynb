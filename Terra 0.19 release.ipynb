{
 "cells": [
  {
   "cell_type": "markdown",
   "metadata": {},
   "source": [
    "# What's new in Qiskit 0.33 (Terra 0.19)?"
   ]
  },
  {
   "cell_type": "markdown",
   "metadata": {},
   "source": [
    "**Note** This is a *tiny excerpt* of all the changes that might be particularly interesting for the application modules. All changes with detailed explanations can be found here: https://qiskit.org/documentation/release_notes.html#terra-0-19-0."
   ]
  },
  {
   "cell_type": "markdown",
   "metadata": {},
   "source": [
    "## Removal of Qiskit Aqua\n",
    "\n",
    "Aqua is no longer included in the metapackage. That means `pip install qiskit` will not install Aqua (but not remove any exisiting installations)."
   ]
  },
  {
   "cell_type": "markdown",
   "metadata": {},
   "source": [
    "## Optimizer signature\n",
    "\n",
    "The Qiskit optimizers changed from\n",
    "```\n",
    "Optimizer.optimize(num_vars, objective_function, gradient_function, variable_bounds, initial_point) -> Tuple\n",
    "```\n",
    "to \n",
    "```\n",
    "Optimizer.minimize(fun, x0, jac, bounds) -> OptimizerResult\n",
    "```"
   ]
  },
  {
   "cell_type": "code",
   "execution_count": 27,
   "metadata": {},
   "outputs": [],
   "source": [
    "import numpy as np\n",
    "from qiskit.algorithms.optimizers import COBYLA\n",
    "\n",
    "def f(x):\n",
    "    return (np.linalg.norm(x) - 1) ** 2\n",
    "\n",
    "initial_point = np.array([0.2, 1.5])\n",
    "optimizer = COBYLA()"
   ]
  },
  {
   "cell_type": "markdown",
   "metadata": {},
   "source": [
    "Before:"
   ]
  },
  {
   "cell_type": "code",
   "execution_count": 28,
   "metadata": {},
   "outputs": [
    {
     "name": "stdout",
     "output_type": "stream",
     "text": [
      "<class 'tuple'>\n",
      "(array([-0.73409049,  0.67888771]), 1.2391749693729586e-08, 35)\n"
     ]
    }
   ],
   "source": [
    "result = optimizer.optimize(len(initial_point), f, initial_point=initial_point)\n",
    "\n",
    "print(type(result))\n",
    "print(result)"
   ]
  },
  {
   "cell_type": "markdown",
   "metadata": {},
   "source": [
    "Now:"
   ]
  },
  {
   "cell_type": "code",
   "execution_count": 29,
   "metadata": {},
   "outputs": [
    {
     "name": "stdout",
     "output_type": "stream",
     "text": [
      "<class 'qiskit.algorithms.optimizers.optimizer.OptimizerResult'>\n",
      "{   'fun': 1.2391749693729586e-08,\n",
      "    'jac': None,\n",
      "    'nfev': 35,\n",
      "    'nit': None,\n",
      "    'njev': None,\n",
      "    'x': array([-0.73409049,  0.67888771])}\n"
     ]
    }
   ],
   "source": [
    "result = optimizer.minimize(f, initial_point)\n",
    "\n",
    "print(type(result))\n",
    "print(result)"
   ]
  },
  {
   "cell_type": "markdown",
   "metadata": {},
   "source": [
    "## Dynamic circuits\n",
    "\n",
    "We can now build circuits with classical control flow, such as for-loops and if-statements. They can be exported to OpenQASM3, but not yet executed within Qiskit."
   ]
  },
  {
   "cell_type": "code",
   "execution_count": 2,
   "metadata": {},
   "outputs": [],
   "source": [
    "from qiskit import QuantumCircuit\n",
    "\n",
    "qc = QuantumCircuit(2, 1)\n",
    "\n",
    "with qc.for_loop(range(5)) as i:\n",
    "    qc.h(0)\n",
    "    qc.cx(0, 1)\n",
    "    qc.measure(0, 0)\n",
    "    qc.break_loop().c_if(0, val=1)"
   ]
  },
  {
   "cell_type": "code",
   "execution_count": 4,
   "metadata": {},
   "outputs": [
    {
     "name": "stderr",
     "output_type": "stream",
     "text": [
      "/Users/jul/Qiskit/qiskit-terra/qiskit/visualization/text.py:665: RuntimeWarning: The parameter \"cregbundle\" was disabled, since an instruction needs to refer to individual classical wires\n",
      "  return \"\\n\".join(self.lines()).encode(self.encoding).decode(self.encoding)\n"
     ]
    },
    {
     "data": {
      "text/html": [
       "<pre style=\"word-wrap: normal;white-space: pre;background: #fff0;line-height: 1.1;font-family: &quot;Courier New&quot;,Courier,monospace\">     ┌───────────┐\n",
       "q_0: ┤0          ├\n",
       "     │           │\n",
       "q_1: ┤1 For_loop ├\n",
       "     │           │\n",
       "  c: ╡0          ╞\n",
       "     └───────────┘</pre>"
      ],
      "text/plain": [
       "     ┌───────────┐\n",
       "q_0: ┤0          ├\n",
       "     │           │\n",
       "q_1: ┤1 For_loop ├\n",
       "     │           │\n",
       "  c: ╡0          ╞\n",
       "     └───────────┘"
      ]
     },
     "execution_count": 4,
     "metadata": {},
     "output_type": "execute_result"
    }
   ],
   "source": [
    "qc.draw()"
   ]
  },
  {
   "cell_type": "code",
   "execution_count": 14,
   "metadata": {},
   "outputs": [
    {
     "name": "stdout",
     "output_type": "stream",
     "text": [
      "OPENQASM 3;\n",
      "include \"stdgates.inc\";\n",
      "bit[1] c;\n",
      "qubit[2] _all_qubits;\n",
      "let q = _all_qubits[0:1];\n",
      "for _ in [0:4] {\n",
      "  h q[0];\n",
      "  cx q[0], q[1];\n",
      "  c[0] = measure q[0];\n",
      "  break;\n",
      "}\n",
      "\n"
     ]
    }
   ],
   "source": [
    "from qiskit.qasm3 import dumps\n",
    "\n",
    "openqasm3 = dumps(qc)\n",
    "print(openqasm3)"
   ]
  },
  {
   "cell_type": "markdown",
   "metadata": {},
   "source": [
    "### Two step transpilation\n",
    "\n",
    "In variational algorithms: Transpile the parameterized circuit once *and* the bound circuit in each iteration."
   ]
  },
  {
   "cell_type": "markdown",
   "metadata": {},
   "source": [
    "```python\n",
    "from qiskit.utils import QuantumInstance\n",
    "\n",
    "unbound_pass_manager = # some general optimizations: gate commutativites, reduce 1q gates, ...\n",
    "bound_pass_manager = # parameter-specific optimization: efficient pulse decompositions\n",
    "\n",
    "quantum_instance = QuantumInstance(\n",
    "    pass_manager=unbound_pass_manager,\n",
    "    bound_pass_manager=bound_pass_manager,\n",
    "    ...\n",
    ")   \n",
    "```"
   ]
  },
  {
   "cell_type": "markdown",
   "metadata": {},
   "source": [
    "Example:"
   ]
  },
  {
   "cell_type": "code",
   "execution_count": 57,
   "metadata": {},
   "outputs": [],
   "source": [
    "from qiskit.test.mock import FakeBelem\n",
    "from qiskit.transpiler import PassManagerConfig\n",
    "from qiskit.transpiler.preset_passmanagers import level_1_pass_manager\n",
    "\n",
    "backend = FakeBelem()\n",
    "\n",
    "unbound_pm = level_1_pass_manager(PassManagerConfig.from_backend(FakeBelem()))"
   ]
  },
  {
   "cell_type": "code",
   "execution_count": 61,
   "metadata": {},
   "outputs": [],
   "source": [
    "from qiskit.circuit.library.standard_gates.equivalence_library import StandardEquivalenceLibrary as std_eqlib\n",
    "from qiskit.transpiler import PassManager\n",
    "from qiskit.transpiler.passes import (\n",
    "  Collect2qBlocks, ConsolidateBlocks, Optimize1qGatesDecomposition,\n",
    "  RZXCalibrationBuilderNoEcho, UnrollCustomDefinitions, BasisTranslator\n",
    ")\n",
    "from qiskit.transpiler.passes.optimization.echo_rzx_weyl_decomposition import EchoRZXWeylDecomposition\n",
    "\n",
    "# Build the pass manager for the parameterized circuit\n",
    "rzx_basis = ['rzx', 'rz', 'x', 'sx']\n",
    "\n",
    "# Build a pass manager for the CX decomposition (works only on bound circuits)\n",
    "bound_pm = PassManager([\n",
    "  # Consolidate consecutive two-qubit operations.\n",
    "  Collect2qBlocks(),\n",
    "  ConsolidateBlocks(basis_gates=['rz', 'sx', 'x', 'rxx']),\n",
    "\n",
    "  # Rewrite circuit in terms of Weyl-decomposed echoed RZX gates.\n",
    "  EchoRZXWeylDecomposition(backend.defaults().instruction_schedule_map),\n",
    "\n",
    "  # Attach scaled CR pulse schedules to the RZX gates.\n",
    "  RZXCalibrationBuilderNoEcho(backend),\n",
    "\n",
    "  # Simplify single-qubit gates.\n",
    "  UnrollCustomDefinitions(std_eqlib, rzx_basis),\n",
    "  BasisTranslator(std_eqlib, rzx_basis),\n",
    "  Optimize1qGatesDecomposition(rzx_basis),\n",
    "])"
   ]
  },
  {
   "cell_type": "code",
   "execution_count": 63,
   "metadata": {
    "scrolled": false
   },
   "outputs": [],
   "source": [
    "from qiskit.algorithms import VQE\n",
    "from qiskit.opflow import Z\n",
    "from qiskit.utils import QuantumInstance\n",
    "\n",
    "quantum_instance = QuantumInstance(\n",
    "    backend, pass_manager=unbound_pm, bound_pass_manager=bound_pm\n",
    ")\n",
    "\n",
    "vqe = VQE(quantum_instance=quantum_instance)\n",
    "result = vqe.compute_minimum_eigenvalue(Z ^ Z)"
   ]
  },
  {
   "cell_type": "markdown",
   "metadata": {},
   "source": [
    "### Pauli evolutions\n",
    "\n",
    "The `PauliEvolutionGate` is a new gate for the time evolution (sums of) Paulis."
   ]
  },
  {
   "cell_type": "code",
   "execution_count": 45,
   "metadata": {},
   "outputs": [],
   "source": [
    "from qiskit.circuit.library import PauliEvolutionGate\n",
    "from qiskit.opflow import X, Z, I\n",
    "\n",
    "op = 0.2 * (Z ^ Z) + (I ^ X) + (X ^ I)\n",
    "time = 2\n",
    "\n",
    "evo = PauliEvolutionGate(op, time)"
   ]
  },
  {
   "cell_type": "code",
   "execution_count": 46,
   "metadata": {},
   "outputs": [
    {
     "data": {
      "image/png": "[encoded data removed]",
      "text/plain": [
       "<Figure size 327.252x144.48 with 1 Axes>"
      ]
     },
     "execution_count": 46,
     "metadata": {},
     "output_type": "execute_result"
    }
   ],
   "source": [
    "from qiskit import QuantumCircuit\n",
    "\n",
    "circuit = QuantumCircuit(2)\n",
    "circuit.append(evo, circuit.qubits)\n",
    "circuit.draw('mpl')"
   ]
  },
  {
   "cell_type": "markdown",
   "metadata": {},
   "source": [
    "Per default, a Lie-Trotter decomposition is used"
   ]
  },
  {
   "cell_type": "code",
   "execution_count": 47,
   "metadata": {},
   "outputs": [
    {
     "data": {
      "image/png": "[encoded data removed]",
      "text/plain": [
       "<Figure size 447.652x144.48 with 1 Axes>"
      ]
     },
     "execution_count": 47,
     "metadata": {},
     "output_type": "execute_result"
    }
   ],
   "source": [
    "circuit.decompose().draw('mpl')"
   ]
  },
  {
   "cell_type": "markdown",
   "metadata": {},
   "source": [
    "but by specifying the `synthesis` argument we can select the decomposition. For instance, we can use 4-th order Trotter decomposition with 2 repetitions."
   ]
  },
  {
   "cell_type": "code",
   "execution_count": 48,
   "metadata": {},
   "outputs": [],
   "source": [
    "from qiskit.synthesis import SuzukiTrotter\n",
    "\n",
    "evo = PauliEvolutionGate(op, time, synthesis=SuzukiTrotter(order=4, reps=2))"
   ]
  },
  {
   "cell_type": "code",
   "execution_count": 51,
   "metadata": {},
   "outputs": [
    {
     "data": {
      "image/png": "[encoded data removed]",
      "text/plain": [
       "<Figure size 1591.45x866.88 with 1 Axes>"
      ]
     },
     "execution_count": 51,
     "metadata": {},
     "output_type": "execute_result"
    }
   ],
   "source": [
    "circuit = QuantumCircuit(2)\n",
    "circuit.append(evo, circuit.qubits)\n",
    "circuit.decompose().draw('mpl')"
   ]
  },
  {
   "cell_type": "code",
   "execution_count": 40,
   "metadata": {},
   "outputs": [
    {
     "data": {
      "image/png": "[encoded data removed]",
      "text/plain": [
       "<Figure size 1591.45x505.68 with 1 Axes>"
      ]
     },
     "execution_count": 40,
     "metadata": {},
     "output_type": "execute_result"
    }
   ],
   "source": [
    "circuit.decompose().decompose().draw('mpl')"
   ]
  },
  {
   "cell_type": "code",
   "execution_count": null,
   "metadata": {},
   "outputs": [],
   "source": []
  }
 ],
 "metadata": {
  "kernelspec": {
   "display_name": "Python 3",
   "language": "python",
   "name": "python3"
  },
  "language_info": {
   "codemirror_mode": {
    "name": "ipython",
    "version": 3
   },
   "file_extension": ".py",
   "mimetype": "text/x-python",
   "name": "python",
   "nbconvert_exporter": "python",
   "pygments_lexer": "ipython3",
   "version": "3.7.9"
  }
 },
 "nbformat": 4,
 "nbformat_minor": 4
}
