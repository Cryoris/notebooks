{
 "cells": [
  {
   "cell_type": "code",
   "execution_count": 3,
   "id": "0340ea91",
   "metadata": {},
   "outputs": [
    {
     "ename": "ImportError",
     "evalue": "cannot import name '_param_shift_preprocessing' from 'qiskit.algorithms.gradients.utils' (/Users/jul/Qiskit/qiskit-terra/qiskit/algorithms/gradients/utils.py)",
     "output_type": "error",
     "traceback": [
      "\u001b[0;31m---------------------------------------------------------------------------\u001b[0m",
      "\u001b[0;31mImportError\u001b[0m                               Traceback (most recent call last)",
      "\u001b[0;32m<ipython-input-3-05568ac7deb1>\u001b[0m in \u001b[0;36m<module>\u001b[0;34m\u001b[0m\n\u001b[1;32m      1\u001b[0m \u001b[0;32mfrom\u001b[0m \u001b[0mqiskit\u001b[0m\u001b[0;34m.\u001b[0m\u001b[0mcircuit\u001b[0m \u001b[0;32mimport\u001b[0m \u001b[0mParameterVector\u001b[0m\u001b[0;34m,\u001b[0m \u001b[0mQuantumCircuit\u001b[0m\u001b[0;34m\u001b[0m\u001b[0;34m\u001b[0m\u001b[0m\n\u001b[0;32m----> 2\u001b[0;31m \u001b[0;32mfrom\u001b[0m \u001b[0mqiskit\u001b[0m\u001b[0;34m.\u001b[0m\u001b[0malgorithms\u001b[0m\u001b[0;34m.\u001b[0m\u001b[0mgradients\u001b[0m \u001b[0;32mimport\u001b[0m \u001b[0mParamShiftEstimatorGradient\u001b[0m\u001b[0;34m\u001b[0m\u001b[0;34m\u001b[0m\u001b[0m\n\u001b[0m",
      "\u001b[0;32m~/Qiskit/qiskit-terra/qiskit/algorithms/gradients/__init__.py\u001b[0m in \u001b[0;36m<module>\u001b[0;34m\u001b[0m\n\u001b[1;32m     73\u001b[0m \u001b[0;32mfrom\u001b[0m \u001b[0;34m.\u001b[0m\u001b[0mlin_comb_sampler_gradient\u001b[0m \u001b[0;32mimport\u001b[0m \u001b[0mLinCombSamplerGradient\u001b[0m\u001b[0;34m\u001b[0m\u001b[0;34m\u001b[0m\u001b[0m\n\u001b[1;32m     74\u001b[0m \u001b[0;32mfrom\u001b[0m \u001b[0;34m.\u001b[0m\u001b[0mparam_shift_estimator_gradient\u001b[0m \u001b[0;32mimport\u001b[0m \u001b[0mParamShiftEstimatorGradient\u001b[0m\u001b[0;34m\u001b[0m\u001b[0;34m\u001b[0m\u001b[0m\n\u001b[0;32m---> 75\u001b[0;31m \u001b[0;32mfrom\u001b[0m \u001b[0;34m.\u001b[0m\u001b[0mparam_shift_sampler_gradient\u001b[0m \u001b[0;32mimport\u001b[0m \u001b[0mParamShiftSamplerGradient\u001b[0m\u001b[0;34m\u001b[0m\u001b[0;34m\u001b[0m\u001b[0m\n\u001b[0m\u001b[1;32m     76\u001b[0m \u001b[0;32mfrom\u001b[0m \u001b[0;34m.\u001b[0m\u001b[0mqfi_result\u001b[0m \u001b[0;32mimport\u001b[0m \u001b[0mQFIResult\u001b[0m\u001b[0;34m\u001b[0m\u001b[0;34m\u001b[0m\u001b[0m\n\u001b[1;32m     77\u001b[0m \u001b[0;32mfrom\u001b[0m \u001b[0;34m.\u001b[0m\u001b[0msampler_gradient_result\u001b[0m \u001b[0;32mimport\u001b[0m \u001b[0mSamplerGradientResult\u001b[0m\u001b[0;34m\u001b[0m\u001b[0;34m\u001b[0m\u001b[0m\n",
      "\u001b[0;32m~/Qiskit/qiskit-terra/qiskit/algorithms/gradients/param_shift_sampler_gradient.py\u001b[0m in \u001b[0;36m<module>\u001b[0;34m\u001b[0m\n\u001b[1;32m     27\u001b[0m \u001b[0;32mfrom\u001b[0m \u001b[0;34m.\u001b[0m\u001b[0mbase_sampler_gradient\u001b[0m \u001b[0;32mimport\u001b[0m \u001b[0mBaseSamplerGradient\u001b[0m\u001b[0;34m\u001b[0m\u001b[0;34m\u001b[0m\u001b[0m\n\u001b[1;32m     28\u001b[0m \u001b[0;32mfrom\u001b[0m \u001b[0;34m.\u001b[0m\u001b[0msampler_gradient_result\u001b[0m \u001b[0;32mimport\u001b[0m \u001b[0mSamplerGradientResult\u001b[0m\u001b[0;34m\u001b[0m\u001b[0;34m\u001b[0m\u001b[0m\n\u001b[0;32m---> 29\u001b[0;31m \u001b[0;32mfrom\u001b[0m \u001b[0;34m.\u001b[0m\u001b[0mutils\u001b[0m \u001b[0;32mimport\u001b[0m \u001b[0m_param_shift_preprocessing\u001b[0m\u001b[0;34m,\u001b[0m \u001b[0m_make_param_shift_parameter_values\u001b[0m\u001b[0;34m\u001b[0m\u001b[0;34m\u001b[0m\u001b[0m\n\u001b[0m\u001b[1;32m     30\u001b[0m \u001b[0;34m\u001b[0m\u001b[0m\n\u001b[1;32m     31\u001b[0m \u001b[0;34m\u001b[0m\u001b[0m\n",
      "\u001b[0;31mImportError\u001b[0m: cannot import name '_param_shift_preprocessing' from 'qiskit.algorithms.gradients.utils' (/Users/jul/Qiskit/qiskit-terra/qiskit/algorithms/gradients/utils.py)"
     ]
    }
   ],
   "source": [
    "from qiskit.circuit import ParameterVector, QuantumCircuit\n",
    "from qiskit.algorithms.gradients import ParamShiftEstimatorGradient"
   ]
  },
  {
   "cell_type": "code",
   "execution_count": 9,
   "id": "c2cc9f24",
   "metadata": {},
   "outputs": [],
   "source": [
    "from collections import defaultdict\n",
    "from qiskit import transpile\n",
    "from qiskit.circuit import ParameterExpression, Parameter"
   ]
  },
  {
   "cell_type": "code",
   "execution_count": 10,
   "id": "215bceab",
   "metadata": {},
   "outputs": [],
   "source": [
    "p = ParameterVector(\"x\", 3)\n",
    "circuit = QuantumCircuit(1)\n",
    "circuit.rx(p[0], 0)\n",
    "circuit.ry(p[1] * p[1], 0)\n",
    "circuit.rx(p[0] + 2 * p[1], 0)\n",
    "supported_gates = [\"rx\", \"ry\"]"
   ]
  },
  {
   "cell_type": "code",
   "execution_count": 11,
   "id": "3f4ed914",
   "metadata": {},
   "outputs": [],
   "source": [
    "circuit2 = transpile(circuit, basis_gates=supported_gates, optimization_level=0)\n",
    "gradient_circuit = circuit2.copy_empty_like(f\"{circuit.name}_gradient\")\n",
    "parameter_map = defaultdict(list)\n",
    "gradient_parameter_map = {}\n",
    "num_gradient_parameters = 0\n",
    "for instruction, qargs, cargs in circuit2.data:\n",
    "    if instruction.is_parameterized():\n",
    "        new_inst_params = []\n",
    "        for angle in instruction.params:\n",
    "            new_parameter = Parameter(f\"gθ{num_gradient_parameters}\")\n",
    "            new_inst_params.append(new_parameter)\n",
    "            num_gradient_parameters += 1\n",
    "            for parameter in angle.parameters:\n",
    "                parameter_map[parameter].append((new_parameter, angle.gradient(parameter)))\n",
    "            gradient_parameter_map[new_parameter] = angle\n",
    "        instruction.params = new_inst_params\n",
    "    gradient_circuit.append(instruction, qargs, cargs)\n",
    "# For the global phase\n",
    "gradient_circuit.global_phase = circuit2.global_phase\n",
    "if isinstance(gradient_circuit.global_phase, ParameterExpression):\n",
    "    substitution_map = {}\n",
    "    for parameter in gradient_circuit.global_phase.parameters:\n",
    "        if parameter in parameter_map:\n",
    "            substitution_map[parameter] = parameter_map[parameter][0][0]\n",
    "        else:\n",
    "            new_parameter = Parameter(f\"gθ{num_gradient_parameters}\")\n",
    "            substitution_map[parameter] = new_parameter\n",
    "            parameter_map[parameter].append(new_parameter, 1)\n",
    "            num_gradient_parameters += 1\n",
    "    gradient_circuit.global_phase = gradient_circuit.global_phase.subs(substitution_map)"
   ]
  },
  {
   "cell_type": "code",
   "execution_count": 13,
   "id": "86862b0d",
   "metadata": {},
   "outputs": [
    {
     "data": {
      "text/html": [
       "<pre style=\"word-wrap: normal;white-space: pre;background: #fff0;line-height: 1.1;font-family: &quot;Courier New&quot;,Courier,monospace\">   ┌─────────┐┌─────────┐┌─────────┐\n",
       "q: ┤ Rx(gθ0) ├┤ Ry(gθ1) ├┤ Rx(gθ2) ├\n",
       "   └─────────┘└─────────┘└─────────┘</pre>"
      ],
      "text/plain": [
       "   ┌─────────┐┌─────────┐┌─────────┐\n",
       "q: ┤ Rx(gθ0) ├┤ Ry(gθ1) ├┤ Rx(gθ2) ├\n",
       "   └─────────┘└─────────┘└─────────┘"
      ]
     },
     "execution_count": 13,
     "metadata": {},
     "output_type": "execute_result"
    }
   ],
   "source": [
    "gradient_circuit.draw()"
   ]
  },
  {
   "cell_type": "code",
   "execution_count": 14,
   "id": "67abc766",
   "metadata": {},
   "outputs": [
    {
     "data": {
      "text/plain": [
       "defaultdict(list,\n",
       "            {ParameterVectorElement(x[0]): [(Parameter(gθ0), 1.0),\n",
       "              (Parameter(gθ2), 1.0)],\n",
       "             ParameterVectorElement(x[1]): [(Parameter(gθ1),\n",
       "               ParameterExpression(2*x[1])),\n",
       "              (Parameter(gθ2), 2.0)]})"
      ]
     },
     "execution_count": 14,
     "metadata": {},
     "output_type": "execute_result"
    }
   ],
   "source": [
    "parameter_map"
   ]
  },
  {
   "cell_type": "code",
   "execution_count": 15,
   "id": "144ea9c5",
   "metadata": {},
   "outputs": [
    {
     "data": {
      "text/plain": [
       "{Parameter(gθ0): ParameterVectorElement(x[0]),\n",
       " Parameter(gθ1): ParameterExpression(x[1]**2),\n",
       " Parameter(gθ2): ParameterExpression(x[0] + 2*x[1])}"
      ]
     },
     "execution_count": 15,
     "metadata": {},
     "output_type": "execute_result"
    }
   ],
   "source": [
    "gradient_parameter_map"
   ]
  },
  {
   "cell_type": "code",
   "execution_count": null,
   "id": "85cf1d99",
   "metadata": {},
   "outputs": [],
   "source": []
  }
 ],
 "metadata": {
  "kernelspec": {
   "display_name": "Python 3",
   "language": "python",
   "name": "python3"
  },
  "language_info": {
   "codemirror_mode": {
    "name": "ipython",
    "version": 3
   },
   "file_extension": ".py",
   "mimetype": "text/x-python",
   "name": "python",
   "nbconvert_exporter": "python",
   "pygments_lexer": "ipython3",
   "version": "3.10.4"
  }
 },
 "nbformat": 4,
 "nbformat_minor": 5
}
