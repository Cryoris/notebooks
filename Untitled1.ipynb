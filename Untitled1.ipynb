{
 "cells": [
  {
   "cell_type": "code",
   "execution_count": 116,
   "id": "cd1c7077",
   "metadata": {},
   "outputs": [],
   "source": [
    "from qiskit.quantum_info import SparsePauliOp, Statevector\n",
    "from qiskit.opflow import StateFn, PauliSumOp\n",
    "\n",
    "J = 1/4\n",
    "g = -1\n",
    "n = 20\n",
    "\n",
    "H = PauliSumOp(SparsePauliOp.from_sparse_list([\n",
    "    (interaction, [i, i + 1], J) for i in range(n - 1) for interaction in [\"XX\", \"YY\", \"ZZ\"]\n",
    "] + [\n",
    "    (\"Z\", [i], g) for i in range(n)\n",
    "], num_qubits=n))\n",
    "\n",
    "initial = StateFn(Statevector.from_label(\"+\" * n))"
   ]
  },
  {
   "cell_type": "code",
   "execution_count": 117,
   "id": "c0490723",
   "metadata": {},
   "outputs": [],
   "source": [
    "from qiskit.algorithms import SciPyRealEvolver, TimeEvolutionProblem"
   ]
  },
  {
   "cell_type": "code",
   "execution_count": 118,
   "id": "1653b1ce",
   "metadata": {},
   "outputs": [],
   "source": [
    "problem = TimeEvolutionProblem(H, time=2, initial_state=initial, aux_operators={\"energy\": H})"
   ]
  },
  {
   "cell_type": "code",
   "execution_count": 119,
   "id": "5e8790b9",
   "metadata": {},
   "outputs": [],
   "source": [
    "evolver = SciPyImaginaryEvolver(steps=100)"
   ]
  },
  {
   "cell_type": "code",
   "execution_count": 120,
   "id": "aa703fcd",
   "metadata": {},
   "outputs": [],
   "source": [
    "result = evolver.evolve(problem)"
   ]
  },
  {
   "cell_type": "code",
   "execution_count": 121,
   "id": "5b071b14",
   "metadata": {},
   "outputs": [],
   "source": [
    "import matplotlib.pyplot as plt"
   ]
  },
  {
   "cell_type": "code",
   "execution_count": 122,
   "id": "500eca35",
   "metadata": {},
   "outputs": [
    {
     "data": {
      "text/plain": [
       "[<matplotlib.lines.Line2D at 0x7fc662391c00>]"
      ]
     },
     "execution_count": 122,
     "metadata": {},
     "output_type": "execute_result"
    },
    {
     "data": {
      "image/png": "[encoded data removed]",
      "text/plain": [
       "<Figure size 432x288 with 1 Axes>"
      ]
     },
     "metadata": {
      "needs_background": "light"
     },
     "output_type": "display_data"
    }
   ],
   "source": [
    "times = result.observables[\"time\"]\n",
    "plt.plot(times, result.observables[\"energy\"][0])"
   ]
  },
  {
   "cell_type": "code",
   "execution_count": null,
   "id": "96596871",
   "metadata": {},
   "outputs": [],
   "source": []
  }
 ],
 "metadata": {
  "kernelspec": {
   "display_name": "Python 3",
   "language": "python",
   "name": "python3"
  },
  "language_info": {
   "codemirror_mode": {
    "name": "ipython",
    "version": 3
   },
   "file_extension": ".py",
   "mimetype": "text/x-python",
   "name": "python",
   "nbconvert_exporter": "python",
   "pygments_lexer": "ipython3",
   "version": "3.10.4"
  }
 },
 "nbformat": 4,
 "nbformat_minor": 5
}
